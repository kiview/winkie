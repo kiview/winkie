{
 "cells": [
  {
   "cell_type": "code",
   "execution_count": null,
   "metadata": {},
   "outputs": [],
   "source": [
    "#hide\n",
    "%load_ext autoreload\n",
    "%autoreload 2\n",
    "\n",
    "import winkie\n",
    "from winkie.dlc_importer import *\n",
    "from winkie.pigeon_animator import PigeonAnimatorFactory"
   ]
  },
  {
   "cell_type": "markdown",
   "metadata": {},
   "source": [
    "# Winkie\n",
    "\n",
    "> AI/ML based behaviour classification of pigeon cooridnate data."
   ]
  },
  {
   "cell_type": "markdown",
   "metadata": {},
   "source": [
    "This file will become your README and also the index of your documentation."
   ]
  },
  {
   "cell_type": "markdown",
   "metadata": {},
   "source": [
    "## Install"
   ]
  },
  {
   "cell_type": "markdown",
   "metadata": {},
   "source": [
    "`pip install winkie`"
   ]
  },
  {
   "cell_type": "markdown",
   "metadata": {},
   "source": [
    "## How to use"
   ]
  },
  {
   "cell_type": "markdown",
   "metadata": {},
   "source": [
    "You can import stuff and transform it!"
   ]
  },
  {
   "cell_type": "code",
   "execution_count": null,
   "metadata": {},
   "outputs": [
    {
     "data": {
      "text/html": "<div>\n<style scoped>\n    .dataframe tbody tr th:only-of-type {\n        vertical-align: middle;\n    }\n\n    .dataframe tbody tr th {\n        vertical-align: top;\n    }\n\n    .dataframe thead tr th {\n        text-align: left;\n    }\n</style>\n<table border=\"1\" class=\"dataframe\">\n  <thead>\n    <tr>\n      <th>bodyparts</th>\n      <th colspan=\"3\" halign=\"left\">head</th>\n      <th colspan=\"3\" halign=\"left\">beak</th>\n      <th colspan=\"3\" halign=\"left\">left_neck</th>\n      <th>right_neck</th>\n      <th>...</th>\n      <th>right_middle_wing</th>\n      <th colspan=\"3\" halign=\"left\">right_down_wing</th>\n      <th colspan=\"3\" halign=\"left\">body</th>\n      <th colspan=\"3\" halign=\"left\">tail</th>\n    </tr>\n    <tr>\n      <th>coords</th>\n      <th>x</th>\n      <th>y</th>\n      <th>likelihood</th>\n      <th>x</th>\n      <th>y</th>\n      <th>likelihood</th>\n      <th>x</th>\n      <th>y</th>\n      <th>likelihood</th>\n      <th>x</th>\n      <th>...</th>\n      <th>likelihood</th>\n      <th>x</th>\n      <th>y</th>\n      <th>likelihood</th>\n      <th>x</th>\n      <th>y</th>\n      <th>likelihood</th>\n      <th>x</th>\n      <th>y</th>\n      <th>likelihood</th>\n    </tr>\n  </thead>\n  <tbody>\n    <tr>\n      <th>0</th>\n      <td>773.376465</td>\n      <td>231.518768</td>\n      <td>0.999999</td>\n      <td>726.495178</td>\n      <td>235.638046</td>\n      <td>0.999981</td>\n      <td>726.502014</td>\n      <td>277.634125</td>\n      <td>0.999998</td>\n      <td>803.271179</td>\n      <td>...</td>\n      <td>0.999998</td>\n      <td>866.702393</td>\n      <td>446.583923</td>\n      <td>0.999997</td>\n      <td>804.008545</td>\n      <td>350.669586</td>\n      <td>0.999992</td>\n      <td>874.878601</td>\n      <td>485.749908</td>\n      <td>0.999999</td>\n    </tr>\n    <tr>\n      <th>1</th>\n      <td>773.129822</td>\n      <td>231.487213</td>\n      <td>0.999999</td>\n      <td>725.662231</td>\n      <td>235.242844</td>\n      <td>0.999951</td>\n      <td>725.964478</td>\n      <td>278.003082</td>\n      <td>0.999999</td>\n      <td>803.197144</td>\n      <td>...</td>\n      <td>0.999997</td>\n      <td>866.877441</td>\n      <td>446.645325</td>\n      <td>0.999989</td>\n      <td>802.684265</td>\n      <td>345.021454</td>\n      <td>0.999873</td>\n      <td>875.375854</td>\n      <td>487.185547</td>\n      <td>0.999997</td>\n    </tr>\n    <tr>\n      <th>2</th>\n      <td>773.009827</td>\n      <td>231.793518</td>\n      <td>0.999999</td>\n      <td>726.025696</td>\n      <td>235.272522</td>\n      <td>0.999978</td>\n      <td>725.764893</td>\n      <td>278.884918</td>\n      <td>0.999998</td>\n      <td>802.567810</td>\n      <td>...</td>\n      <td>0.999997</td>\n      <td>867.120056</td>\n      <td>447.921356</td>\n      <td>0.999995</td>\n      <td>801.531067</td>\n      <td>349.937347</td>\n      <td>0.999946</td>\n      <td>876.269714</td>\n      <td>485.816010</td>\n      <td>0.999999</td>\n    </tr>\n    <tr>\n      <th>3</th>\n      <td>773.748779</td>\n      <td>231.791260</td>\n      <td>0.999999</td>\n      <td>726.288940</td>\n      <td>235.864319</td>\n      <td>0.999985</td>\n      <td>725.889465</td>\n      <td>279.045715</td>\n      <td>0.999998</td>\n      <td>803.356934</td>\n      <td>...</td>\n      <td>0.999992</td>\n      <td>866.839966</td>\n      <td>448.009460</td>\n      <td>0.999994</td>\n      <td>802.792908</td>\n      <td>350.675842</td>\n      <td>0.999970</td>\n      <td>875.973022</td>\n      <td>485.560150</td>\n      <td>0.999998</td>\n    </tr>\n    <tr>\n      <th>4</th>\n      <td>774.934326</td>\n      <td>231.623734</td>\n      <td>0.999999</td>\n      <td>726.298279</td>\n      <td>235.749908</td>\n      <td>0.999990</td>\n      <td>726.302551</td>\n      <td>278.388367</td>\n      <td>0.999999</td>\n      <td>802.530273</td>\n      <td>...</td>\n      <td>0.999995</td>\n      <td>866.429382</td>\n      <td>446.349670</td>\n      <td>0.999998</td>\n      <td>803.659973</td>\n      <td>351.269745</td>\n      <td>0.999938</td>\n      <td>876.481873</td>\n      <td>485.140839</td>\n      <td>0.999998</td>\n    </tr>\n    <tr>\n      <th>...</th>\n      <td>...</td>\n      <td>...</td>\n      <td>...</td>\n      <td>...</td>\n      <td>...</td>\n      <td>...</td>\n      <td>...</td>\n      <td>...</td>\n      <td>...</td>\n      <td>...</td>\n      <td>...</td>\n      <td>...</td>\n      <td>...</td>\n      <td>...</td>\n      <td>...</td>\n      <td>...</td>\n      <td>...</td>\n      <td>...</td>\n      <td>...</td>\n      <td>...</td>\n      <td>...</td>\n    </tr>\n    <tr>\n      <th>95</th>\n      <td>691.788513</td>\n      <td>232.490265</td>\n      <td>1.000000</td>\n      <td>673.796082</td>\n      <td>238.801743</td>\n      <td>0.018886</td>\n      <td>697.399841</td>\n      <td>282.134796</td>\n      <td>0.999998</td>\n      <td>737.725342</td>\n      <td>...</td>\n      <td>0.999993</td>\n      <td>866.965027</td>\n      <td>433.505768</td>\n      <td>0.999980</td>\n      <td>788.017456</td>\n      <td>337.912994</td>\n      <td>0.999999</td>\n      <td>882.997253</td>\n      <td>483.786896</td>\n      <td>1.000000</td>\n    </tr>\n    <tr>\n      <th>96</th>\n      <td>691.545410</td>\n      <td>232.707413</td>\n      <td>1.000000</td>\n      <td>673.634888</td>\n      <td>238.658234</td>\n      <td>0.016135</td>\n      <td>697.256165</td>\n      <td>283.058899</td>\n      <td>0.999999</td>\n      <td>736.505920</td>\n      <td>...</td>\n      <td>0.999995</td>\n      <td>868.164307</td>\n      <td>432.291901</td>\n      <td>0.999943</td>\n      <td>788.334045</td>\n      <td>339.911743</td>\n      <td>0.999999</td>\n      <td>884.470215</td>\n      <td>483.485382</td>\n      <td>1.000000</td>\n    </tr>\n    <tr>\n      <th>97</th>\n      <td>691.117371</td>\n      <td>232.242767</td>\n      <td>1.000000</td>\n      <td>673.748840</td>\n      <td>239.055954</td>\n      <td>0.007289</td>\n      <td>696.269043</td>\n      <td>282.351929</td>\n      <td>0.999999</td>\n      <td>735.976685</td>\n      <td>...</td>\n      <td>0.999984</td>\n      <td>868.530457</td>\n      <td>434.697205</td>\n      <td>0.999916</td>\n      <td>785.626465</td>\n      <td>338.561829</td>\n      <td>0.999997</td>\n      <td>885.270691</td>\n      <td>485.053131</td>\n      <td>0.999999</td>\n    </tr>\n    <tr>\n      <th>98</th>\n      <td>691.294067</td>\n      <td>232.225220</td>\n      <td>1.000000</td>\n      <td>673.927002</td>\n      <td>239.141891</td>\n      <td>0.004682</td>\n      <td>695.629456</td>\n      <td>282.407013</td>\n      <td>1.000000</td>\n      <td>735.639404</td>\n      <td>...</td>\n      <td>0.999977</td>\n      <td>868.368958</td>\n      <td>434.125732</td>\n      <td>0.999876</td>\n      <td>786.011963</td>\n      <td>338.520691</td>\n      <td>0.999997</td>\n      <td>885.585388</td>\n      <td>484.755859</td>\n      <td>0.999999</td>\n    </tr>\n    <tr>\n      <th>99</th>\n      <td>691.483643</td>\n      <td>232.269226</td>\n      <td>1.000000</td>\n      <td>673.797241</td>\n      <td>239.390625</td>\n      <td>0.010126</td>\n      <td>695.367371</td>\n      <td>281.720947</td>\n      <td>0.999999</td>\n      <td>735.199585</td>\n      <td>...</td>\n      <td>0.999970</td>\n      <td>868.662292</td>\n      <td>434.387238</td>\n      <td>0.999786</td>\n      <td>785.282776</td>\n      <td>338.077087</td>\n      <td>0.999992</td>\n      <td>885.361023</td>\n      <td>483.480896</td>\n      <td>1.000000</td>\n    </tr>\n  </tbody>\n</table>\n<p>100 rows × 36 columns</p>\n</div>",
      "text/plain": "bodyparts        head                               beak              \\\ncoords              x           y likelihood           x           y   \n0          773.376465  231.518768   0.999999  726.495178  235.638046   \n1          773.129822  231.487213   0.999999  725.662231  235.242844   \n2          773.009827  231.793518   0.999999  726.025696  235.272522   \n3          773.748779  231.791260   0.999999  726.288940  235.864319   \n4          774.934326  231.623734   0.999999  726.298279  235.749908   \n..                ...         ...        ...         ...         ...   \n95         691.788513  232.490265   1.000000  673.796082  238.801743   \n96         691.545410  232.707413   1.000000  673.634888  238.658234   \n97         691.117371  232.242767   1.000000  673.748840  239.055954   \n98         691.294067  232.225220   1.000000  673.927002  239.141891   \n99         691.483643  232.269226   1.000000  673.797241  239.390625   \n\nbodyparts              left_neck                         right_neck  ...  \\\ncoords    likelihood           x           y likelihood           x  ...   \n0           0.999981  726.502014  277.634125   0.999998  803.271179  ...   \n1           0.999951  725.964478  278.003082   0.999999  803.197144  ...   \n2           0.999978  725.764893  278.884918   0.999998  802.567810  ...   \n3           0.999985  725.889465  279.045715   0.999998  803.356934  ...   \n4           0.999990  726.302551  278.388367   0.999999  802.530273  ...   \n..               ...         ...         ...        ...         ...  ...   \n95          0.018886  697.399841  282.134796   0.999998  737.725342  ...   \n96          0.016135  697.256165  283.058899   0.999999  736.505920  ...   \n97          0.007289  696.269043  282.351929   0.999999  735.976685  ...   \n98          0.004682  695.629456  282.407013   1.000000  735.639404  ...   \n99          0.010126  695.367371  281.720947   0.999999  735.199585  ...   \n\nbodyparts right_middle_wing right_down_wing                         \\\ncoords           likelihood               x           y likelihood   \n0                  0.999998      866.702393  446.583923   0.999997   \n1                  0.999997      866.877441  446.645325   0.999989   \n2                  0.999997      867.120056  447.921356   0.999995   \n3                  0.999992      866.839966  448.009460   0.999994   \n4                  0.999995      866.429382  446.349670   0.999998   \n..                      ...             ...         ...        ...   \n95                 0.999993      866.965027  433.505768   0.999980   \n96                 0.999995      868.164307  432.291901   0.999943   \n97                 0.999984      868.530457  434.697205   0.999916   \n98                 0.999977      868.368958  434.125732   0.999876   \n99                 0.999970      868.662292  434.387238   0.999786   \n\nbodyparts        body                               tail              \\\ncoords              x           y likelihood           x           y   \n0          804.008545  350.669586   0.999992  874.878601  485.749908   \n1          802.684265  345.021454   0.999873  875.375854  487.185547   \n2          801.531067  349.937347   0.999946  876.269714  485.816010   \n3          802.792908  350.675842   0.999970  875.973022  485.560150   \n4          803.659973  351.269745   0.999938  876.481873  485.140839   \n..                ...         ...        ...         ...         ...   \n95         788.017456  337.912994   0.999999  882.997253  483.786896   \n96         788.334045  339.911743   0.999999  884.470215  483.485382   \n97         785.626465  338.561829   0.999997  885.270691  485.053131   \n98         786.011963  338.520691   0.999997  885.585388  484.755859   \n99         785.282776  338.077087   0.999992  885.361023  483.480896   \n\nbodyparts             \ncoords    likelihood  \n0           0.999999  \n1           0.999997  \n2           0.999999  \n3           0.999998  \n4           0.999998  \n..               ...  \n95          1.000000  \n96          1.000000  \n97          0.999999  \n98          0.999999  \n99          1.000000  \n\n[100 rows x 36 columns]"
     },
     "metadata": {},
     "output_type": "display_data"
    }
   ],
   "source": [
    "imp = DLCImporter()\n",
    "df = imp.import_hdf('example_data/coordinates.h5')\n",
    "display(df)"
   ]
  },
  {
   "cell_type": "markdown",
   "metadata": {},
   "source": [
    "To prepare the data for the further machine learning steps, we will change the coordinates to be relative to the body and rotate the coordinates, so that the vector between the body and the middle of the neck is orthogonal to the y-axis."
   ]
  },
  {
   "cell_type": "code",
   "execution_count": null,
   "metadata": {},
   "outputs": [
    {
     "data": {
      "text/html": "<div>\n<style scoped>\n    .dataframe tbody tr th:only-of-type {\n        vertical-align: middle;\n    }\n\n    .dataframe tbody tr th {\n        vertical-align: top;\n    }\n\n    .dataframe thead tr th {\n        text-align: left;\n    }\n</style>\n<table border=\"1\" class=\"dataframe\">\n  <thead>\n    <tr>\n      <th>bodyparts</th>\n      <th colspan=\"3\" halign=\"left\">head</th>\n      <th colspan=\"3\" halign=\"left\">beak</th>\n      <th colspan=\"3\" halign=\"left\">left_neck</th>\n      <th>right_neck</th>\n      <th>...</th>\n      <th>right_down_wing</th>\n      <th colspan=\"3\" halign=\"left\">body</th>\n      <th colspan=\"3\" halign=\"left\">tail</th>\n      <th colspan=\"2\" halign=\"left\">middle_neck</th>\n      <th>rotation_angle</th>\n    </tr>\n    <tr>\n      <th>coords</th>\n      <th>x</th>\n      <th>y</th>\n      <th>likelihood</th>\n      <th>x</th>\n      <th>y</th>\n      <th>likelihood</th>\n      <th>x</th>\n      <th>y</th>\n      <th>likelihood</th>\n      <th>x</th>\n      <th>...</th>\n      <th>likelihood</th>\n      <th>x</th>\n      <th>y</th>\n      <th>likelihood</th>\n      <th>x</th>\n      <th>y</th>\n      <th>likelihood</th>\n      <th>x</th>\n      <th>y</th>\n      <th></th>\n    </tr>\n  </thead>\n  <tbody>\n    <tr>\n      <th>0</th>\n      <td>-24.756667</td>\n      <td>120.508710</td>\n      <td>0.999999</td>\n      <td>19.177848</td>\n      <td>137.378264</td>\n      <td>0.999981</td>\n      <td>37.599212</td>\n      <td>99.638046</td>\n      <td>0.999998</td>\n      <td>-37.599212</td>\n      <td>...</td>\n      <td>0.999997</td>\n      <td>0.0</td>\n      <td>0.0</td>\n      <td>0.999992</td>\n      <td>-4.411014</td>\n      <td>-152.478855</td>\n      <td>0.999999</td>\n      <td>-1.421085e-14</td>\n      <td>89.158479</td>\n      <td>-116.026775</td>\n    </tr>\n    <tr>\n      <th>1</th>\n      <td>-25.508326</td>\n      <td>114.511197</td>\n      <td>0.999999</td>\n      <td>18.443110</td>\n      <td>132.829171</td>\n      <td>0.999951</td>\n      <td>37.685982</td>\n      <td>94.642246</td>\n      <td>0.999999</td>\n      <td>-37.685982</td>\n      <td>...</td>\n      <td>0.999989</td>\n      <td>0.0</td>\n      <td>0.0</td>\n      <td>0.999873</td>\n      <td>0.187954</td>\n      <td>-159.670477</td>\n      <td>0.999997</td>\n      <td>0.000000e+00</td>\n      <td>83.503899</td>\n      <td>-117.149092</td>\n    </tr>\n    <tr>\n      <th>2</th>\n      <td>-24.669384</td>\n      <td>119.007761</td>\n      <td>0.999999</td>\n      <td>19.299872</td>\n      <td>135.928651</td>\n      <td>0.999978</td>\n      <td>38.162277</td>\n      <td>96.605391</td>\n      <td>0.999998</td>\n      <td>-38.162277</td>\n      <td>...</td>\n      <td>0.999995</td>\n      <td>0.0</td>\n      <td>0.0</td>\n      <td>0.999946</td>\n      <td>-9.546297</td>\n      <td>-154.782895</td>\n      <td>0.999999</td>\n      <td>7.105427e-15</td>\n      <td>87.485969</td>\n      <td>-115.283267</td>\n    </tr>\n    <tr>\n      <th>3</th>\n      <td>-25.269855</td>\n      <td>119.743642</td>\n      <td>0.999999</td>\n      <td>19.277590</td>\n      <td>136.612289</td>\n      <td>0.999985</td>\n      <td>38.326491</td>\n      <td>97.857522</td>\n      <td>0.999998</td>\n      <td>-38.326491</td>\n      <td>...</td>\n      <td>0.999994</td>\n      <td>0.0</td>\n      <td>0.0</td>\n      <td>0.999970</td>\n      <td>-7.593725</td>\n      <td>-153.269178</td>\n      <td>0.999998</td>\n      <td>-3.552714e-14</td>\n      <td>88.193103</td>\n      <td>-115.645195</td>\n    </tr>\n    <tr>\n      <th>4</th>\n      <td>-26.205736</td>\n      <td>120.223085</td>\n      <td>0.999999</td>\n      <td>19.378876</td>\n      <td>137.673975</td>\n      <td>0.999990</td>\n      <td>37.930796</td>\n      <td>99.283034</td>\n      <td>0.999999</td>\n      <td>-37.930796</td>\n      <td>...</td>\n      <td>0.999998</td>\n      <td>0.0</td>\n      <td>0.0</td>\n      <td>0.999938</td>\n      <td>-7.305264</td>\n      <td>-152.220668</td>\n      <td>0.999998</td>\n      <td>-2.842171e-14</td>\n      <td>90.176009</td>\n      <td>-115.797288</td>\n    </tr>\n    <tr>\n      <th>...</th>\n      <td>...</td>\n      <td>...</td>\n      <td>...</td>\n      <td>...</td>\n      <td>...</td>\n      <td>...</td>\n      <td>...</td>\n      <td>...</td>\n      <td>...</td>\n      <td>...</td>\n      <td>...</td>\n      <td>...</td>\n      <td>...</td>\n      <td>...</td>\n      <td>...</td>\n      <td>...</td>\n      <td>...</td>\n      <td>...</td>\n      <td>...</td>\n      <td>...</td>\n      <td>...</td>\n    </tr>\n    <tr>\n      <th>95</th>\n      <td>-5.439143</td>\n      <td>142.633716</td>\n      <td>1.000000</td>\n      <td>11.807338</td>\n      <td>150.765213</td>\n      <td>0.018886</td>\n      <td>25.405257</td>\n      <td>103.331178</td>\n      <td>0.999998</td>\n      <td>-25.405257</td>\n      <td>...</td>\n      <td>0.999980</td>\n      <td>0.0</td>\n      <td>0.0</td>\n      <td>0.999999</td>\n      <td>34.718510</td>\n      <td>-170.572513</td>\n      <td>1.000000</td>\n      <td>1.421085e-14</td>\n      <td>100.388462</td>\n      <td>-134.573393</td>\n    </tr>\n    <tr>\n      <th>96</th>\n      <td>-5.111411</td>\n      <td>144.342239</td>\n      <td>1.000000</td>\n      <td>11.891120</td>\n      <td>152.534492</td>\n      <td>0.016135</td>\n      <td>25.831407</td>\n      <td>104.212114</td>\n      <td>0.999999</td>\n      <td>-25.831407</td>\n      <td>...</td>\n      <td>0.999943</td>\n      <td>0.0</td>\n      <td>0.0</td>\n      <td>0.999999</td>\n      <td>30.892145</td>\n      <td>-170.003613</td>\n      <td>1.000000</td>\n      <td>-7.105427e-15</td>\n      <td>102.665676</td>\n      <td>-134.105164</td>\n    </tr>\n    <tr>\n      <th>97</th>\n      <td>-4.902319</td>\n      <td>142.167785</td>\n      <td>1.000000</td>\n      <td>12.372827</td>\n      <td>149.214393</td>\n      <td>0.007289</td>\n      <td>25.929811</td>\n      <td>102.332530</td>\n      <td>0.999999</td>\n      <td>-25.929811</td>\n      <td>...</td>\n      <td>0.999916</td>\n      <td>0.0</td>\n      <td>0.0</td>\n      <td>0.999997</td>\n      <td>28.892545</td>\n      <td>-174.796723</td>\n      <td>0.999999</td>\n      <td>-1.421085e-14</td>\n      <td>100.767981</td>\n      <td>-133.609448</td>\n    </tr>\n    <tr>\n      <th>98</th>\n      <td>-5.977148</td>\n      <td>142.247955</td>\n      <td>1.000000</td>\n      <td>11.306788</td>\n      <td>149.369812</td>\n      <td>0.004682</td>\n      <td>25.838286</td>\n      <td>103.199445</td>\n      <td>1.000000</td>\n      <td>-25.838286</td>\n      <td>...</td>\n      <td>0.999876</td>\n      <td>0.0</td>\n      <td>0.0</td>\n      <td>0.999997</td>\n      <td>30.290261</td>\n      <td>-174.304594</td>\n      <td>0.999999</td>\n      <td>-2.131628e-14</td>\n      <td>101.112080</td>\n      <td>-134.109740</td>\n    </tr>\n    <tr>\n      <th>99</th>\n      <td>-6.258121</td>\n      <td>141.260104</td>\n      <td>1.000000</td>\n      <td>11.399601</td>\n      <td>148.452320</td>\n      <td>0.010126</td>\n      <td>25.362818</td>\n      <td>103.041361</td>\n      <td>0.999999</td>\n      <td>-25.362818</td>\n      <td>...</td>\n      <td>0.999786</td>\n      <td>0.0</td>\n      <td>0.0</td>\n      <td>0.999992</td>\n      <td>29.300697</td>\n      <td>-174.067206</td>\n      <td>1.000000</td>\n      <td>-3.552714e-14</td>\n      <td>100.597551</td>\n      <td>-134.093794</td>\n    </tr>\n  </tbody>\n</table>\n<p>100 rows × 39 columns</p>\n</div>",
      "text/plain": "bodyparts       head                              beak                         \\\ncoords             x           y likelihood          x           y likelihood   \n0         -24.756667  120.508710   0.999999  19.177848  137.378264   0.999981   \n1         -25.508326  114.511197   0.999999  18.443110  132.829171   0.999951   \n2         -24.669384  119.007761   0.999999  19.299872  135.928651   0.999978   \n3         -25.269855  119.743642   0.999999  19.277590  136.612289   0.999985   \n4         -26.205736  120.223085   0.999999  19.378876  137.673975   0.999990   \n..               ...         ...        ...        ...         ...        ...   \n95         -5.439143  142.633716   1.000000  11.807338  150.765213   0.018886   \n96         -5.111411  144.342239   1.000000  11.891120  152.534492   0.016135   \n97         -4.902319  142.167785   1.000000  12.372827  149.214393   0.007289   \n98         -5.977148  142.247955   1.000000  11.306788  149.369812   0.004682   \n99         -6.258121  141.260104   1.000000  11.399601  148.452320   0.010126   \n\nbodyparts  left_neck                        right_neck  ... right_down_wing  \\\ncoords             x           y likelihood          x  ...      likelihood   \n0          37.599212   99.638046   0.999998 -37.599212  ...        0.999997   \n1          37.685982   94.642246   0.999999 -37.685982  ...        0.999989   \n2          38.162277   96.605391   0.999998 -38.162277  ...        0.999995   \n3          38.326491   97.857522   0.999998 -38.326491  ...        0.999994   \n4          37.930796   99.283034   0.999999 -37.930796  ...        0.999998   \n..               ...         ...        ...        ...  ...             ...   \n95         25.405257  103.331178   0.999998 -25.405257  ...        0.999980   \n96         25.831407  104.212114   0.999999 -25.831407  ...        0.999943   \n97         25.929811  102.332530   0.999999 -25.929811  ...        0.999916   \n98         25.838286  103.199445   1.000000 -25.838286  ...        0.999876   \n99         25.362818  103.041361   0.999999 -25.362818  ...        0.999786   \n\nbodyparts body                       tail                         \\\ncoords       x    y likelihood          x           y likelihood   \n0          0.0  0.0   0.999992  -4.411014 -152.478855   0.999999   \n1          0.0  0.0   0.999873   0.187954 -159.670477   0.999997   \n2          0.0  0.0   0.999946  -9.546297 -154.782895   0.999999   \n3          0.0  0.0   0.999970  -7.593725 -153.269178   0.999998   \n4          0.0  0.0   0.999938  -7.305264 -152.220668   0.999998   \n..         ...  ...        ...        ...         ...        ...   \n95         0.0  0.0   0.999999  34.718510 -170.572513   1.000000   \n96         0.0  0.0   0.999999  30.892145 -170.003613   1.000000   \n97         0.0  0.0   0.999997  28.892545 -174.796723   0.999999   \n98         0.0  0.0   0.999997  30.290261 -174.304594   0.999999   \n99         0.0  0.0   0.999992  29.300697 -174.067206   1.000000   \n\nbodyparts   middle_neck             rotation_angle  \ncoords                x           y                 \n0         -1.421085e-14   89.158479    -116.026775  \n1          0.000000e+00   83.503899    -117.149092  \n2          7.105427e-15   87.485969    -115.283267  \n3         -3.552714e-14   88.193103    -115.645195  \n4         -2.842171e-14   90.176009    -115.797288  \n..                  ...         ...            ...  \n95         1.421085e-14  100.388462    -134.573393  \n96        -7.105427e-15  102.665676    -134.105164  \n97        -1.421085e-14  100.767981    -133.609448  \n98        -2.131628e-14  101.112080    -134.109740  \n99        -3.552714e-14  100.597551    -134.093794  \n\n[100 rows x 39 columns]"
     },
     "metadata": {},
     "output_type": "display_data"
    }
   ],
   "source": [
    "df = winkie.dlc_importer.transform_to_relative(df, 'body')\n",
    "df = winkie.dlc_importer.add_middle_neck(df)\n",
    "df = winkie.dlc_importer.add_rotation(df)\n",
    "df = winkie.dlc_importer.apply_rotation(df)\n",
    "display(df)"
   ]
  },
  {
   "cell_type": "markdown",
   "metadata": {},
   "source": [
    "In order to check if the transformations were applied correctly, let's verify them using the `PigeonAnimator`."
   ]
  },
  {
   "cell_type": "code",
   "execution_count": null,
   "metadata": {},
   "outputs": [],
   "source": [
    "#PigeonAnimatorFactory.DEFAULT.visualize(df, 0, 90)"
   ]
  },
  {
   "cell_type": "markdown",
   "metadata": {},
   "source": [
    "## Development\n",
    "\n",
    "\n",
    "This project uses [nbdev](https://github.com/fastai/nbdev) for development.\n",
    "A regular workflow involves running the following commands in order:\n",
    "\n",
    "```bash\n",
    "nbdev_build_lib\n",
    "nbdev_test_nbs\n",
    "nbdev_build_docs\n",
    "```\n",
    "\n",
    "We also provide a convenient wrapper script:\n",
    "```\n",
    "./nbdev_build.sh\n",
    "```\n",
    "\n",
    "### Development Environment\n",
    "\n",
    "The development environment can be created using [pipenv](https://pypi.org/project/pipenv/).\n",
    "A corresponding `Pipfile` is provided, check the *Pipenv* documentation on how to use it.\n",
    "\n",
    "There are a couple of tools pre-installed, such as Jupyter, etc..\n",
    "\n",
    "Besides installing the development environment, the actual dependencies are managed by `nbdev` through Python's `setuptools` and defined in the `settings.ini` file, under the `requirements` key. \n",
    "In order to install them into your environment (ideally the environment created by *Pipenv*), just use the regular `setuptools` facilities:\n",
    "```\n",
    "pip install -e .\n",
    "```"
   ]
  },
  {
   "cell_type": "code",
   "execution_count": null,
   "metadata": {},
   "outputs": [],
   "source": []
  }
 ],
 "metadata": {
  "kernelspec": {
   "display_name": "Python 3",
   "language": "python",
   "name": "python3"
  }
 },
 "nbformat": 4,
 "nbformat_minor": 4
}
