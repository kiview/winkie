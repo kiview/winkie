{
 "cells": [
  {
   "cell_type": "markdown",
   "id": "demanding-design",
   "metadata": {},
   "source": [
    "# 5-Fold Cross-Validation for InceptionTime\n",
    "\n",
    "While there is a [tendency in the AI community](https://www.fast.ai/2017/11/13/validation-sets/), to dismiss cross-validation as overkill for deep learning models, we have the feeling it is a valueable metric for our case, especially since we can't shuffle the training/validation set (to ensure clearn speration).\n",
    "\n",
    "So we perform a 5-fold cross validation and check for precision, recall and f1-score."
   ]
  },
  {
   "cell_type": "code",
   "execution_count": 2,
   "id": "fifty-significance",
   "metadata": {},
   "outputs": [],
   "source": [
    "import tsai\n",
    "from tsai.all import *\n",
    "import pandas as pd\n",
    "import scipy\n",
    "from sklearn.metrics import roc_auc_score, classification_report\n",
    "\n",
    "from winkie import ts_prep"
   ]
  },
  {
   "cell_type": "markdown",
   "id": "regional-ribbon",
   "metadata": {},
   "source": [
    "# Load and perpare data"
   ]
  },
  {
   "cell_type": "code",
   "execution_count": 4,
   "id": "advisory-sweden",
   "metadata": {},
   "outputs": [],
   "source": [
    "df = pd.read_hdf(\"merged_20210405.h5\")\n",
    "df.loc[(df['behavior'] == \"back_preening\") | (df['behavior'] == \"front_preening\"), 'behavior'] = \"preening\"\n",
    "df.loc[(df['behavior'] == \"standing_shaking\") | (df['behavior'] == \"scratch_with_feet\"), 'behavior'] = \"standing\"\n",
    "df.loc[(df['behavior'] == \"body_pump\") | (df['behavior'] == \"feather_clapping\"), 'behavior'] = \"fluffing\"\n",
    "df = df[(df['behavior'] != \"not_defined\")]\n"
   ]
  },
  {
   "cell_type": "markdown",
   "id": "bulgarian-season",
   "metadata": {},
   "source": [
    "# 16 frames sliding window"
   ]
  },
  {
   "cell_type": "code",
   "execution_count": 5,
   "id": "hundred-photographer",
   "metadata": {},
   "outputs": [],
   "source": [
    "features = [('head', 'x'), ('head', 'y'), \n",
    "            ('tail', 'x'), ('tail', 'y'),  \n",
    "            \n",
    "            ('left_neck', 'x'), ('left_neck', 'y'), \n",
    "            ('right_neck', 'x'), ('right_neck', 'y'), \n",
    "            \n",
    "            ('left_up_wing', 'x'), ('left_up_wing', 'y'),\n",
    "            ('left_middle_wing', 'x'), ('left_middle_wing', 'y'),\n",
    "            ('left_down_wing', 'x'), ('left_down_wing', 'y'),\n",
    "            \n",
    "            ('right_up_wing', 'x'), ('right_up_wing', 'y'),\n",
    "            ('right_middle_wing', 'x'), ('right_middle_wing', 'y'),\n",
    "            ('right_down_wing', 'x'), ('right_down_wing', 'y'),\n",
    "]\n",
    "def y_func(o): \n",
    "    return scipy.stats.mode(o, axis=1).mode.ravel()\n",
    "\n",
    "X, y = SlidingWindow(16, get_x=features, get_y='behavior', y_func=y_func)(df)"
   ]
  },
  {
   "cell_type": "code",
   "execution_count": 15,
   "id": "designed-reggae",
   "metadata": {},
   "outputs": [
    {
     "data": {
      "image/png": "[encoded data removed]",
      "text/plain": [
       "<Figure size 1152x180 with 1 Axes>"
      ]
     },
     "metadata": {
      "needs_background": "light"
     },
     "output_type": "display_data"
    }
   ],
   "source": [
    "splits = get_splits(y, n_splits=5, shuffle=False, stratify=True, check_splits=True)\n",
    "tfms  = [None, [Categorize()]]"
   ]
  },
  {
   "cell_type": "code",
   "execution_count": 85,
   "id": "advanced-webmaster",
   "metadata": {},
   "outputs": [],
   "source": [
    "def train_and_evaluate_it(X, y, splits, bs, lr, epochs):\n",
    "    tfms  = [None, [Categorize()]]\n",
    "    dsets = TSDatasets(X, y, tfms=tfms, splits=splits, inplace=True)\n",
    "    dls = TSDataLoaders.from_dsets(dsets.train, dsets.valid, bs=bs, batch_tfms=[TSStandardize()], num_workers=0)\n",
    "    \n",
    "    model = InceptionTime(dls.vars, dls.c)\n",
    "    learn = Learner(dls, model, metrics=accuracy)\n",
    "    #lr_min,lr_steep = learn.lr_find(suggestions=True)\n",
    "    #print(f\"Minimum/10: {lr_min}, steepest point: {lr_steep}\")\n",
    "    #print(f\"Using LR: {lr}\")\n",
    "    learn.fit_one_cycle(epochs, lr_max=lr)\n",
    "    learn.recorder.plot_metrics()\n",
    "    \n",
    "    dls = learn.dls\n",
    "    valid_dl = dls.valid\n",
    "    valid_probas, valid_targets, valid_preds = learn.get_preds(dl=valid_dl, with_decoded=True)\n",
    "    cat_ac = (valid_targets == valid_preds).float().mean()\n",
    "    print(cat_ac)\n",
    "    print(roc_auc_score(valid_targets, valid_probas, multi_class='ovo', average='macro'))\n",
    "    print(classification_report(valid_preds, valid_targets))\n",
    "    interp = ClassificationInterpretation.from_learner(learn)\n",
    "    interp.plot_confusion_matrix(normalize=True, figsize=(10, 10))\n",
    "    interp.plot_confusion_matrix(figsize=(10, 10))"
   ]
  },
  {
   "cell_type": "code",
   "execution_count": 62,
   "id": "broad-vacation",
   "metadata": {},
   "outputs": [
    {
     "name": "stdout",
     "output_type": "stream",
     "text": [
      "===================== Fold 0 ============================\n"
     ]
    },
    {
     "data": {
      "text/html": [
       "<table border=\"1\" class=\"dataframe\">\n",
       "  <thead>\n",
       "    <tr style=\"text-align: left;\">\n",
       "      <th>epoch</th>\n",
       "      <th>train_loss</th>\n",
       "      <th>valid_loss</th>\n",
       "      <th>accuracy</th>\n",
       "      <th>time</th>\n",
       "    </tr>\n",
       "  </thead>\n",
       "  <tbody>\n",
       "    <tr>\n",
       "      <td>0</td>\n",
       "      <td>0.083362</td>\n",
       "      <td>0.598614</td>\n",
       "      <td>0.835905</td>\n",
       "      <td>01:06</td>\n",
       "    </tr>\n",
       "  </tbody>\n",
       "</table>"
      ],
      "text/plain": [
       "<IPython.core.display.HTML object>"
      ]
     },
     "metadata": {},
     "output_type": "display_data"
    },
    {
     "data": {
      "text/html": [],
      "text/plain": [
       "<IPython.core.display.HTML object>"
      ]
     },
     "metadata": {},
     "output_type": "display_data"
    },
    {
     "name": "stdout",
     "output_type": "stream",
     "text": [
      "TensorCategory(0.8359)\n",
      "0.8798415186416432\n",
      "              precision    recall  f1-score   support\n",
      "\n",
      "           0       0.94      0.96      0.95     92519\n",
      "           1       0.57      0.14      0.22      1184\n",
      "           2       0.33      0.27      0.30       833\n",
      "           3       0.52      0.49      0.50      4281\n",
      "           4       0.75      0.89      0.81     58160\n",
      "           5       0.60      0.41      0.49       231\n",
      "           6       0.41      0.10      0.16     15899\n",
      "\n",
      "    accuracy                           0.84    173107\n",
      "   macro avg       0.59      0.46      0.49    173107\n",
      "weighted avg       0.81      0.84      0.81    173107\n",
      "\n",
      "===================== Fold 1 ============================\n"
     ]
    },
    {
     "data": {
      "text/html": [
       "<table border=\"1\" class=\"dataframe\">\n",
       "  <thead>\n",
       "    <tr style=\"text-align: left;\">\n",
       "      <th>epoch</th>\n",
       "      <th>train_loss</th>\n",
       "      <th>valid_loss</th>\n",
       "      <th>accuracy</th>\n",
       "      <th>time</th>\n",
       "    </tr>\n",
       "  </thead>\n",
       "  <tbody>\n",
       "    <tr>\n",
       "      <td>0</td>\n",
       "      <td>0.075768</td>\n",
       "      <td>0.613193</td>\n",
       "      <td>0.811238</td>\n",
       "      <td>01:05</td>\n",
       "    </tr>\n",
       "  </tbody>\n",
       "</table>"
      ],
      "text/plain": [
       "<IPython.core.display.HTML object>"
      ]
     },
     "metadata": {},
     "output_type": "display_data"
    },
    {
     "data": {
      "text/html": [],
      "text/plain": [
       "<IPython.core.display.HTML object>"
      ]
     },
     "metadata": {},
     "output_type": "display_data"
    },
    {
     "name": "stdout",
     "output_type": "stream",
     "text": [
      "TensorCategory(0.8112)\n",
      "0.9146840183396536\n",
      "              precision    recall  f1-score   support\n",
      "\n",
      "           0       0.86      0.98      0.92     68657\n",
      "           1       0.82      0.18      0.29     14466\n",
      "           2       0.30      0.25      0.28      2106\n",
      "           3       0.78      0.74      0.76     22198\n",
      "           4       0.81      0.90      0.85     57047\n",
      "           5       0.55      0.64      0.59      1108\n",
      "           6       0.37      0.19      0.25      7525\n",
      "\n",
      "    accuracy                           0.81    173107\n",
      "   macro avg       0.64      0.55      0.56    173107\n",
      "weighted avg       0.80      0.81      0.78    173107\n",
      "\n",
      "===================== Fold 2 ============================\n"
     ]
    },
    {
     "data": {
      "text/html": [
       "<table border=\"1\" class=\"dataframe\">\n",
       "  <thead>\n",
       "    <tr style=\"text-align: left;\">\n",
       "      <th>epoch</th>\n",
       "      <th>train_loss</th>\n",
       "      <th>valid_loss</th>\n",
       "      <th>accuracy</th>\n",
       "      <th>time</th>\n",
       "    </tr>\n",
       "  </thead>\n",
       "  <tbody>\n",
       "    <tr>\n",
       "      <td>0</td>\n",
       "      <td>0.078540</td>\n",
       "      <td>1.183794</td>\n",
       "      <td>0.666748</td>\n",
       "      <td>01:06</td>\n",
       "    </tr>\n",
       "  </tbody>\n",
       "</table>"
      ],
      "text/plain": [
       "<IPython.core.display.HTML object>"
      ]
     },
     "metadata": {},
     "output_type": "display_data"
    },
    {
     "data": {
      "text/html": [],
      "text/plain": [
       "<IPython.core.display.HTML object>"
      ]
     },
     "metadata": {},
     "output_type": "display_data"
    },
    {
     "name": "stdout",
     "output_type": "stream",
     "text": [
      "TensorCategory(0.6667)\n",
      "0.8647206202193035\n",
      "              precision    recall  f1-score   support\n",
      "\n",
      "           0       0.98      0.99      0.98     64219\n",
      "           1       0.72      0.62      0.67      8259\n",
      "           2       0.19      0.16      0.17      3695\n",
      "           3       0.79      0.34      0.47     50666\n",
      "           4       0.37      0.82      0.51     30906\n",
      "           5       0.60      0.63      0.61      2591\n",
      "           6       0.52      0.17      0.25     12770\n",
      "\n",
      "    accuracy                           0.67    173106\n",
      "   macro avg       0.59      0.53      0.52    173106\n",
      "weighted avg       0.74      0.67      0.66    173106\n",
      "\n",
      "===================== Fold 3 ============================\n"
     ]
    },
    {
     "data": {
      "text/html": [
       "<table border=\"1\" class=\"dataframe\">\n",
       "  <thead>\n",
       "    <tr style=\"text-align: left;\">\n",
       "      <th>epoch</th>\n",
       "      <th>train_loss</th>\n",
       "      <th>valid_loss</th>\n",
       "      <th>accuracy</th>\n",
       "      <th>time</th>\n",
       "    </tr>\n",
       "  </thead>\n",
       "  <tbody>\n",
       "    <tr>\n",
       "      <td>0</td>\n",
       "      <td>0.075500</td>\n",
       "      <td>0.400697</td>\n",
       "      <td>0.884718</td>\n",
       "      <td>01:06</td>\n",
       "    </tr>\n",
       "  </tbody>\n",
       "</table>"
      ],
      "text/plain": [
       "<IPython.core.display.HTML object>"
      ]
     },
     "metadata": {},
     "output_type": "display_data"
    },
    {
     "data": {
      "text/html": [],
      "text/plain": [
       "<IPython.core.display.HTML object>"
      ]
     },
     "metadata": {},
     "output_type": "display_data"
    },
    {
     "name": "stdout",
     "output_type": "stream",
     "text": [
      "TensorCategory(0.8847)\n",
      "0.9157669459214794\n",
      "              precision    recall  f1-score   support\n",
      "\n",
      "           0       0.99      0.98      0.99     53088\n",
      "           1       0.71      0.80      0.75      4775\n",
      "           2       0.45      0.25      0.33      2951\n",
      "           3       0.49      0.57      0.53      8092\n",
      "           4       0.93      0.91      0.92     94353\n",
      "           5       0.50      0.58      0.54       597\n",
      "           6       0.51      0.56      0.54      9250\n",
      "\n",
      "    accuracy                           0.88    173106\n",
      "   macro avg       0.66      0.67      0.66    173106\n",
      "weighted avg       0.89      0.88      0.89    173106\n",
      "\n",
      "===================== Fold 4 ============================\n"
     ]
    },
    {
     "data": {
      "text/html": [
       "<table border=\"1\" class=\"dataframe\">\n",
       "  <thead>\n",
       "    <tr style=\"text-align: left;\">\n",
       "      <th>epoch</th>\n",
       "      <th>train_loss</th>\n",
       "      <th>valid_loss</th>\n",
       "      <th>accuracy</th>\n",
       "      <th>time</th>\n",
       "    </tr>\n",
       "  </thead>\n",
       "  <tbody>\n",
       "    <tr>\n",
       "      <td>0</td>\n",
       "      <td>0.083286</td>\n",
       "      <td>0.330508</td>\n",
       "      <td>0.908680</td>\n",
       "      <td>01:06</td>\n",
       "    </tr>\n",
       "  </tbody>\n",
       "</table>"
      ],
      "text/plain": [
       "<IPython.core.display.HTML object>"
      ]
     },
     "metadata": {},
     "output_type": "display_data"
    },
    {
     "data": {
      "text/html": [],
      "text/plain": [
       "<IPython.core.display.HTML object>"
      ]
     },
     "metadata": {},
     "output_type": "display_data"
    },
    {
     "name": "stdout",
     "output_type": "stream",
     "text": [
      "TensorCategory(0.9087)\n",
      "0.9373981747631687\n",
      "              precision    recall  f1-score   support\n",
      "\n",
      "           0       0.97      0.99      0.98     65251\n",
      "           1       0.74      0.87      0.80     10062\n",
      "           2       0.49      0.45      0.47      1755\n",
      "           3       0.77      0.74      0.75      9153\n",
      "           4       0.95      0.91      0.93     79614\n",
      "           5       0.57      0.62      0.59      1590\n",
      "           6       0.47      0.53      0.50      5681\n",
      "\n",
      "    accuracy                           0.91    173106\n",
      "   macro avg       0.71      0.73      0.72    173106\n",
      "weighted avg       0.91      0.91      0.91    173106\n",
      "\n"
     ]
    }
   ],
   "source": [
    "for i, s in enumerate(splits):\n",
    "    print(f'===================== Fold {i} ============================')\n",
    "    train_and_evaluate_it(X, y, s, 512, 0.001, 1)"
   ]
  },
  {
   "cell_type": "code",
   "execution_count": 63,
   "id": "british-fortune",
   "metadata": {},
   "outputs": [
    {
     "name": "stdout",
     "output_type": "stream",
     "text": [
      "===================== Fold 0 ============================\n"
     ]
    },
    {
     "data": {
      "text/html": [
       "<table border=\"1\" class=\"dataframe\">\n",
       "  <thead>\n",
       "    <tr style=\"text-align: left;\">\n",
       "      <th>epoch</th>\n",
       "      <th>train_loss</th>\n",
       "      <th>valid_loss</th>\n",
       "      <th>accuracy</th>\n",
       "      <th>time</th>\n",
       "    </tr>\n",
       "  </thead>\n",
       "  <tbody>\n",
       "    <tr>\n",
       "      <td>0</td>\n",
       "      <td>0.153711</td>\n",
       "      <td>0.512022</td>\n",
       "      <td>0.901055</td>\n",
       "      <td>01:06</td>\n",
       "    </tr>\n",
       "    <tr>\n",
       "      <td>1</td>\n",
       "      <td>0.081928</td>\n",
       "      <td>0.736346</td>\n",
       "      <td>0.843351</td>\n",
       "      <td>01:06</td>\n",
       "    </tr>\n",
       "    <tr>\n",
       "      <td>2</td>\n",
       "      <td>0.042729</td>\n",
       "      <td>0.806173</td>\n",
       "      <td>0.866152</td>\n",
       "      <td>01:06</td>\n",
       "    </tr>\n",
       "    <tr>\n",
       "      <td>3</td>\n",
       "      <td>0.020116</td>\n",
       "      <td>0.806822</td>\n",
       "      <td>0.889080</td>\n",
       "      <td>01:06</td>\n",
       "    </tr>\n",
       "    <tr>\n",
       "      <td>4</td>\n",
       "      <td>0.011205</td>\n",
       "      <td>0.941020</td>\n",
       "      <td>0.862484</td>\n",
       "      <td>01:06</td>\n",
       "    </tr>\n",
       "  </tbody>\n",
       "</table>"
      ],
      "text/plain": [
       "<IPython.core.display.HTML object>"
      ]
     },
     "metadata": {},
     "output_type": "display_data"
    },
    {
     "data": {
      "text/html": [],
      "text/plain": [
       "<IPython.core.display.HTML object>"
      ]
     },
     "metadata": {},
     "output_type": "display_data"
    },
    {
     "name": "stdout",
     "output_type": "stream",
     "text": [
      "TensorCategory(0.8625)\n",
      "0.8752962957923319\n",
      "              precision    recall  f1-score   support\n",
      "\n",
      "           0       0.93      0.98      0.95     90415\n",
      "           1       0.64      0.30      0.41       607\n",
      "           2       0.23      0.48      0.32       335\n",
      "           3       0.54      0.38      0.45      5617\n",
      "           4       0.82      0.88      0.85     64726\n",
      "           5       0.72      0.49      0.58       231\n",
      "           6       0.36      0.12      0.18     11176\n",
      "\n",
      "    accuracy                           0.86    173107\n",
      "   macro avg       0.61      0.52      0.53    173107\n",
      "weighted avg       0.84      0.86      0.85    173107\n",
      "\n",
      "===================== Fold 1 ============================\n"
     ]
    },
    {
     "data": {
      "text/html": [
       "<table border=\"1\" class=\"dataframe\">\n",
       "  <thead>\n",
       "    <tr style=\"text-align: left;\">\n",
       "      <th>epoch</th>\n",
       "      <th>train_loss</th>\n",
       "      <th>valid_loss</th>\n",
       "      <th>accuracy</th>\n",
       "      <th>time</th>\n",
       "    </tr>\n",
       "  </thead>\n",
       "  <tbody>\n",
       "    <tr>\n",
       "      <td>0</td>\n",
       "      <td>0.146147</td>\n",
       "      <td>0.777451</td>\n",
       "      <td>0.760922</td>\n",
       "      <td>01:06</td>\n",
       "    </tr>\n",
       "    <tr>\n",
       "      <td>1</td>\n",
       "      <td>0.078187</td>\n",
       "      <td>0.578491</td>\n",
       "      <td>0.827350</td>\n",
       "      <td>01:06</td>\n",
       "    </tr>\n",
       "    <tr>\n",
       "      <td>2</td>\n",
       "      <td>0.045386</td>\n",
       "      <td>0.711025</td>\n",
       "      <td>0.818026</td>\n",
       "      <td>01:06</td>\n",
       "    </tr>\n",
       "    <tr>\n",
       "      <td>3</td>\n",
       "      <td>0.020801</td>\n",
       "      <td>0.943002</td>\n",
       "      <td>0.792845</td>\n",
       "      <td>01:06</td>\n",
       "    </tr>\n",
       "    <tr>\n",
       "      <td>4</td>\n",
       "      <td>0.012628</td>\n",
       "      <td>1.014106</td>\n",
       "      <td>0.787166</td>\n",
       "      <td>01:07</td>\n",
       "    </tr>\n",
       "  </tbody>\n",
       "</table>"
      ],
      "text/plain": [
       "<IPython.core.display.HTML object>"
      ]
     },
     "metadata": {},
     "output_type": "display_data"
    },
    {
     "data": {
      "text/html": [],
      "text/plain": [
       "<IPython.core.display.HTML object>"
      ]
     },
     "metadata": {},
     "output_type": "display_data"
    },
    {
     "name": "stdout",
     "output_type": "stream",
     "text": [
      "TensorCategory(0.7872)\n",
      "0.9127679494856664\n",
      "              precision    recall  f1-score   support\n",
      "\n",
      "           0       0.82      0.98      0.89     65683\n",
      "           1       0.80      0.13      0.22     19033\n",
      "           2       0.43      0.56      0.49      1325\n",
      "           3       0.76      0.73      0.74     21720\n",
      "           4       0.80      0.91      0.85     55408\n",
      "           5       0.53      0.68      0.60      1001\n",
      "           6       0.39      0.17      0.23      8937\n",
      "\n",
      "    accuracy                           0.79    173107\n",
      "   macro avg       0.65      0.60      0.58    173107\n",
      "weighted avg       0.78      0.79      0.75    173107\n",
      "\n",
      "===================== Fold 2 ============================\n"
     ]
    },
    {
     "data": {
      "text/html": [
       "<table border=\"1\" class=\"dataframe\">\n",
       "  <thead>\n",
       "    <tr style=\"text-align: left;\">\n",
       "      <th>epoch</th>\n",
       "      <th>train_loss</th>\n",
       "      <th>valid_loss</th>\n",
       "      <th>accuracy</th>\n",
       "      <th>time</th>\n",
       "    </tr>\n",
       "  </thead>\n",
       "  <tbody>\n",
       "    <tr>\n",
       "      <td>0</td>\n",
       "      <td>0.142419</td>\n",
       "      <td>0.641515</td>\n",
       "      <td>0.806852</td>\n",
       "      <td>01:07</td>\n",
       "    </tr>\n",
       "    <tr>\n",
       "      <td>1</td>\n",
       "      <td>0.080638</td>\n",
       "      <td>0.663227</td>\n",
       "      <td>0.806252</td>\n",
       "      <td>01:07</td>\n",
       "    </tr>\n",
       "    <tr>\n",
       "      <td>2</td>\n",
       "      <td>0.041184</td>\n",
       "      <td>0.916363</td>\n",
       "      <td>0.779967</td>\n",
       "      <td>01:07</td>\n",
       "    </tr>\n",
       "    <tr>\n",
       "      <td>3</td>\n",
       "      <td>0.020608</td>\n",
       "      <td>1.009530</td>\n",
       "      <td>0.748692</td>\n",
       "      <td>01:07</td>\n",
       "    </tr>\n",
       "    <tr>\n",
       "      <td>4</td>\n",
       "      <td>0.011199</td>\n",
       "      <td>1.056984</td>\n",
       "      <td>0.763388</td>\n",
       "      <td>01:07</td>\n",
       "    </tr>\n",
       "  </tbody>\n",
       "</table>"
      ],
      "text/plain": [
       "<IPython.core.display.HTML object>"
      ]
     },
     "metadata": {},
     "output_type": "display_data"
    },
    {
     "data": {
      "text/html": [],
      "text/plain": [
       "<IPython.core.display.HTML object>"
      ]
     },
     "metadata": {},
     "output_type": "display_data"
    },
    {
     "name": "stdout",
     "output_type": "stream",
     "text": [
      "TensorCategory(0.7634)\n",
      "0.8786005034364467\n",
      "              precision    recall  f1-score   support\n",
      "\n",
      "           0       0.95      0.98      0.96     62663\n",
      "           1       0.68      0.58      0.62      8441\n",
      "           2       0.23      0.16      0.18      4463\n",
      "           3       0.76      0.52      0.62     31503\n",
      "           4       0.65      0.86      0.74     52690\n",
      "           5       0.58      0.59      0.58      2658\n",
      "           6       0.43      0.17      0.24     10688\n",
      "\n",
      "    accuracy                           0.76    173106\n",
      "   macro avg       0.61      0.55      0.57    173106\n",
      "weighted avg       0.75      0.76      0.75    173106\n",
      "\n",
      "===================== Fold 3 ============================\n"
     ]
    },
    {
     "data": {
      "text/html": [
       "<table border=\"1\" class=\"dataframe\">\n",
       "  <thead>\n",
       "    <tr style=\"text-align: left;\">\n",
       "      <th>epoch</th>\n",
       "      <th>train_loss</th>\n",
       "      <th>valid_loss</th>\n",
       "      <th>accuracy</th>\n",
       "      <th>time</th>\n",
       "    </tr>\n",
       "  </thead>\n",
       "  <tbody>\n",
       "    <tr>\n",
       "      <td>0</td>\n",
       "      <td>0.139480</td>\n",
       "      <td>0.409396</td>\n",
       "      <td>0.872385</td>\n",
       "      <td>01:07</td>\n",
       "    </tr>\n",
       "    <tr>\n",
       "      <td>1</td>\n",
       "      <td>0.078283</td>\n",
       "      <td>0.503437</td>\n",
       "      <td>0.880073</td>\n",
       "      <td>01:07</td>\n",
       "    </tr>\n",
       "    <tr>\n",
       "      <td>2</td>\n",
       "      <td>0.042332</td>\n",
       "      <td>0.581368</td>\n",
       "      <td>0.881408</td>\n",
       "      <td>01:07</td>\n",
       "    </tr>\n",
       "    <tr>\n",
       "      <td>3</td>\n",
       "      <td>0.019643</td>\n",
       "      <td>0.648721</td>\n",
       "      <td>0.869207</td>\n",
       "      <td>01:06</td>\n",
       "    </tr>\n",
       "    <tr>\n",
       "      <td>4</td>\n",
       "      <td>0.011967</td>\n",
       "      <td>0.652899</td>\n",
       "      <td>0.873216</td>\n",
       "      <td>01:06</td>\n",
       "    </tr>\n",
       "  </tbody>\n",
       "</table>"
      ],
      "text/plain": [
       "<IPython.core.display.HTML object>"
      ]
     },
     "metadata": {},
     "output_type": "display_data"
    },
    {
     "data": {
      "text/html": [],
      "text/plain": [
       "<IPython.core.display.HTML object>"
      ]
     },
     "metadata": {},
     "output_type": "display_data"
    },
    {
     "name": "stdout",
     "output_type": "stream",
     "text": [
      "TensorCategory(0.8732)\n",
      "0.8982101803441771\n",
      "              precision    recall  f1-score   support\n",
      "\n",
      "           0       0.98      0.98      0.98     52532\n",
      "           1       0.68      0.67      0.68      5422\n",
      "           2       0.45      0.20      0.28      3724\n",
      "           3       0.47      0.62      0.53      7023\n",
      "           4       0.91      0.92      0.91     91989\n",
      "           5       0.44      0.35      0.39       868\n",
      "           6       0.58      0.51      0.55     11548\n",
      "\n",
      "    accuracy                           0.87    173106\n",
      "   macro avg       0.64      0.61      0.62    173106\n",
      "weighted avg       0.87      0.87      0.87    173106\n",
      "\n",
      "===================== Fold 4 ============================\n"
     ]
    },
    {
     "data": {
      "text/html": [
       "<table border=\"1\" class=\"dataframe\">\n",
       "  <thead>\n",
       "    <tr style=\"text-align: left;\">\n",
       "      <th>epoch</th>\n",
       "      <th>train_loss</th>\n",
       "      <th>valid_loss</th>\n",
       "      <th>accuracy</th>\n",
       "      <th>time</th>\n",
       "    </tr>\n",
       "  </thead>\n",
       "  <tbody>\n",
       "    <tr>\n",
       "      <td>0</td>\n",
       "      <td>0.144126</td>\n",
       "      <td>0.389740</td>\n",
       "      <td>0.890356</td>\n",
       "      <td>01:06</td>\n",
       "    </tr>\n",
       "    <tr>\n",
       "      <td>1</td>\n",
       "      <td>0.075548</td>\n",
       "      <td>0.433466</td>\n",
       "      <td>0.886081</td>\n",
       "      <td>01:06</td>\n",
       "    </tr>\n",
       "    <tr>\n",
       "      <td>2</td>\n",
       "      <td>0.043086</td>\n",
       "      <td>0.461284</td>\n",
       "      <td>0.899957</td>\n",
       "      <td>01:07</td>\n",
       "    </tr>\n",
       "    <tr>\n",
       "      <td>3</td>\n",
       "      <td>0.018484</td>\n",
       "      <td>0.514221</td>\n",
       "      <td>0.905208</td>\n",
       "      <td>01:06</td>\n",
       "    </tr>\n",
       "    <tr>\n",
       "      <td>4</td>\n",
       "      <td>0.011098</td>\n",
       "      <td>0.541949</td>\n",
       "      <td>0.900939</td>\n",
       "      <td>01:07</td>\n",
       "    </tr>\n",
       "  </tbody>\n",
       "</table>"
      ],
      "text/plain": [
       "<IPython.core.display.HTML object>"
      ]
     },
     "metadata": {},
     "output_type": "display_data"
    },
    {
     "data": {
      "text/html": [],
      "text/plain": [
       "<IPython.core.display.HTML object>"
      ]
     },
     "metadata": {},
     "output_type": "display_data"
    },
    {
     "name": "stdout",
     "output_type": "stream",
     "text": [
      "TensorCategory(0.9009)\n",
      "0.9307212113191674\n",
      "              precision    recall  f1-score   support\n",
      "\n",
      "           0       0.98      0.99      0.98     65493\n",
      "           1       0.70      0.82      0.76     10031\n",
      "           2       0.51      0.43      0.47      1891\n",
      "           3       0.75      0.68      0.71      9724\n",
      "           4       0.93      0.92      0.93     77374\n",
      "           5       0.60      0.50      0.55      2117\n",
      "           6       0.48      0.47      0.48      6476\n",
      "\n",
      "    accuracy                           0.90    173106\n",
      "   macro avg       0.71      0.69      0.70    173106\n",
      "weighted avg       0.90      0.90      0.90    173106\n",
      "\n"
     ]
    }
   ],
   "source": [
    "for i, s in enumerate(splits):\n",
    "    print(f'===================== Fold {i} ============================')\n",
    "    train_and_evaluate_it(X, y, s, 512, 0.001, 5)"
   ]
  },
  {
   "cell_type": "code",
   "execution_count": 64,
   "id": "controlling-declaration",
   "metadata": {},
   "outputs": [
    {
     "name": "stdout",
     "output_type": "stream",
     "text": [
      "===================== Fold 0 ============================\n"
     ]
    },
    {
     "data": {
      "text/html": [
       "<table border=\"1\" class=\"dataframe\">\n",
       "  <thead>\n",
       "    <tr style=\"text-align: left;\">\n",
       "      <th>epoch</th>\n",
       "      <th>train_loss</th>\n",
       "      <th>valid_loss</th>\n",
       "      <th>accuracy</th>\n",
       "      <th>time</th>\n",
       "    </tr>\n",
       "  </thead>\n",
       "  <tbody>\n",
       "    <tr>\n",
       "      <td>0</td>\n",
       "      <td>0.154720</td>\n",
       "      <td>0.570985</td>\n",
       "      <td>0.888682</td>\n",
       "      <td>02:02</td>\n",
       "    </tr>\n",
       "    <tr>\n",
       "      <td>1</td>\n",
       "      <td>0.085294</td>\n",
       "      <td>0.627420</td>\n",
       "      <td>0.905694</td>\n",
       "      <td>02:02</td>\n",
       "    </tr>\n",
       "    <tr>\n",
       "      <td>2</td>\n",
       "      <td>0.044381</td>\n",
       "      <td>0.738537</td>\n",
       "      <td>0.900160</td>\n",
       "      <td>02:02</td>\n",
       "    </tr>\n",
       "    <tr>\n",
       "      <td>3</td>\n",
       "      <td>0.021063</td>\n",
       "      <td>0.959695</td>\n",
       "      <td>0.860254</td>\n",
       "      <td>02:02</td>\n",
       "    </tr>\n",
       "    <tr>\n",
       "      <td>4</td>\n",
       "      <td>0.015418</td>\n",
       "      <td>0.991055</td>\n",
       "      <td>0.858325</td>\n",
       "      <td>02:02</td>\n",
       "    </tr>\n",
       "  </tbody>\n",
       "</table>"
      ],
      "text/plain": [
       "<IPython.core.display.HTML object>"
      ]
     },
     "metadata": {},
     "output_type": "display_data"
    },
    {
     "data": {
      "text/html": [],
      "text/plain": [
       "<IPython.core.display.HTML object>"
      ]
     },
     "metadata": {},
     "output_type": "display_data"
    },
    {
     "name": "stdout",
     "output_type": "stream",
     "text": [
      "TensorCategory(0.8583)\n",
      "0.8861691674728748\n",
      "              precision    recall  f1-score   support\n",
      "\n",
      "           0       0.93      0.96      0.95     92145\n",
      "           1       0.60      0.23      0.33       738\n",
      "           2       0.46      0.29      0.35      1111\n",
      "           3       0.44      0.25      0.32      7099\n",
      "           4       0.81      0.88      0.84     64463\n",
      "           5       0.66      0.21      0.32       495\n",
      "           6       0.35      0.19      0.25      7056\n",
      "\n",
      "    accuracy                           0.86    173107\n",
      "   macro avg       0.61      0.43      0.48    173107\n",
      "weighted avg       0.84      0.86      0.85    173107\n",
      "\n",
      "===================== Fold 1 ============================\n"
     ]
    },
    {
     "data": {
      "text/html": [
       "<table border=\"1\" class=\"dataframe\">\n",
       "  <thead>\n",
       "    <tr style=\"text-align: left;\">\n",
       "      <th>epoch</th>\n",
       "      <th>train_loss</th>\n",
       "      <th>valid_loss</th>\n",
       "      <th>accuracy</th>\n",
       "      <th>time</th>\n",
       "    </tr>\n",
       "  </thead>\n",
       "  <tbody>\n",
       "    <tr>\n",
       "      <td>0</td>\n",
       "      <td>0.148174</td>\n",
       "      <td>0.530480</td>\n",
       "      <td>0.850590</td>\n",
       "      <td>02:02</td>\n",
       "    </tr>\n",
       "    <tr>\n",
       "      <td>1</td>\n",
       "      <td>0.084568</td>\n",
       "      <td>0.569908</td>\n",
       "      <td>0.856615</td>\n",
       "      <td>02:02</td>\n",
       "    </tr>\n",
       "    <tr>\n",
       "      <td>2</td>\n",
       "      <td>0.044635</td>\n",
       "      <td>0.640914</td>\n",
       "      <td>0.861144</td>\n",
       "      <td>02:02</td>\n",
       "    </tr>\n",
       "    <tr>\n",
       "      <td>3</td>\n",
       "      <td>0.023786</td>\n",
       "      <td>0.715953</td>\n",
       "      <td>0.865476</td>\n",
       "      <td>02:02</td>\n",
       "    </tr>\n",
       "    <tr>\n",
       "      <td>4</td>\n",
       "      <td>0.014570</td>\n",
       "      <td>0.786890</td>\n",
       "      <td>0.864581</td>\n",
       "      <td>02:01</td>\n",
       "    </tr>\n",
       "  </tbody>\n",
       "</table>"
      ],
      "text/plain": [
       "<IPython.core.display.HTML object>"
      ]
     },
     "metadata": {},
     "output_type": "display_data"
    },
    {
     "data": {
      "text/html": [],
      "text/plain": [
       "<IPython.core.display.HTML object>"
      ]
     },
     "metadata": {},
     "output_type": "display_data"
    },
    {
     "name": "stdout",
     "output_type": "stream",
     "text": [
      "TensorCategory(0.8646)\n",
      "0.909498247733243\n",
      "              precision    recall  f1-score   support\n",
      "\n",
      "           0       0.98      0.97      0.98     79098\n",
      "           1       0.79      0.41      0.54      5958\n",
      "           2       0.40      0.48      0.44      1451\n",
      "           3       0.78      0.76      0.77     21626\n",
      "           4       0.81      0.91      0.86     56021\n",
      "           5       0.52      0.53      0.52      1269\n",
      "           6       0.33      0.16      0.22      7684\n",
      "\n",
      "    accuracy                           0.86    173107\n",
      "   macro avg       0.66      0.60      0.62    173107\n",
      "weighted avg       0.85      0.86      0.86    173107\n",
      "\n",
      "===================== Fold 2 ============================\n"
     ]
    },
    {
     "data": {
      "text/html": [
       "<table border=\"1\" class=\"dataframe\">\n",
       "  <thead>\n",
       "    <tr style=\"text-align: left;\">\n",
       "      <th>epoch</th>\n",
       "      <th>train_loss</th>\n",
       "      <th>valid_loss</th>\n",
       "      <th>accuracy</th>\n",
       "      <th>time</th>\n",
       "    </tr>\n",
       "  </thead>\n",
       "  <tbody>\n",
       "    <tr>\n",
       "      <td>0</td>\n",
       "      <td>0.147354</td>\n",
       "      <td>0.902411</td>\n",
       "      <td>0.688318</td>\n",
       "      <td>02:01</td>\n",
       "    </tr>\n",
       "    <tr>\n",
       "      <td>1</td>\n",
       "      <td>0.079630</td>\n",
       "      <td>1.476566</td>\n",
       "      <td>0.669867</td>\n",
       "      <td>02:01</td>\n",
       "    </tr>\n",
       "    <tr>\n",
       "      <td>2</td>\n",
       "      <td>0.047830</td>\n",
       "      <td>0.862973</td>\n",
       "      <td>0.788367</td>\n",
       "      <td>02:01</td>\n",
       "    </tr>\n",
       "    <tr>\n",
       "      <td>3</td>\n",
       "      <td>0.020859</td>\n",
       "      <td>1.449636</td>\n",
       "      <td>0.728554</td>\n",
       "      <td>02:02</td>\n",
       "    </tr>\n",
       "    <tr>\n",
       "      <td>4</td>\n",
       "      <td>0.013534</td>\n",
       "      <td>1.730907</td>\n",
       "      <td>0.705071</td>\n",
       "      <td>02:01</td>\n",
       "    </tr>\n",
       "  </tbody>\n",
       "</table>"
      ],
      "text/plain": [
       "<IPython.core.display.HTML object>"
      ]
     },
     "metadata": {},
     "output_type": "display_data"
    },
    {
     "data": {
      "text/html": [],
      "text/plain": [
       "<IPython.core.display.HTML object>"
      ]
     },
     "metadata": {},
     "output_type": "display_data"
    },
    {
     "name": "stdout",
     "output_type": "stream",
     "text": [
      "TensorCategory(0.7051)\n",
      "0.8752843821355243\n",
      "              precision    recall  f1-score   support\n",
      "\n",
      "           0       0.97      0.98      0.98     64492\n",
      "           1       0.68      0.62      0.65      7894\n",
      "           2       0.25      0.14      0.18      5589\n",
      "           3       0.76      0.38      0.50     43375\n",
      "           4       0.47      0.86      0.61     38467\n",
      "           5       0.61      0.56      0.59      2962\n",
      "           6       0.53      0.21      0.30     10327\n",
      "\n",
      "    accuracy                           0.71    173106\n",
      "   macro avg       0.61      0.53      0.54    173106\n",
      "weighted avg       0.74      0.71      0.69    173106\n",
      "\n",
      "===================== Fold 3 ============================\n"
     ]
    },
    {
     "data": {
      "text/html": [
       "<table border=\"1\" class=\"dataframe\">\n",
       "  <thead>\n",
       "    <tr style=\"text-align: left;\">\n",
       "      <th>epoch</th>\n",
       "      <th>train_loss</th>\n",
       "      <th>valid_loss</th>\n",
       "      <th>accuracy</th>\n",
       "      <th>time</th>\n",
       "    </tr>\n",
       "  </thead>\n",
       "  <tbody>\n",
       "    <tr>\n",
       "      <td>0</td>\n",
       "      <td>0.144898</td>\n",
       "      <td>0.381229</td>\n",
       "      <td>0.880039</td>\n",
       "      <td>02:01</td>\n",
       "    </tr>\n",
       "    <tr>\n",
       "      <td>1</td>\n",
       "      <td>0.076649</td>\n",
       "      <td>0.461517</td>\n",
       "      <td>0.890489</td>\n",
       "      <td>02:01</td>\n",
       "    </tr>\n",
       "    <tr>\n",
       "      <td>2</td>\n",
       "      <td>0.044137</td>\n",
       "      <td>0.480147</td>\n",
       "      <td>0.894192</td>\n",
       "      <td>02:02</td>\n",
       "    </tr>\n",
       "    <tr>\n",
       "      <td>3</td>\n",
       "      <td>0.023720</td>\n",
       "      <td>0.561247</td>\n",
       "      <td>0.892817</td>\n",
       "      <td>02:01</td>\n",
       "    </tr>\n",
       "    <tr>\n",
       "      <td>4</td>\n",
       "      <td>0.013657</td>\n",
       "      <td>0.578626</td>\n",
       "      <td>0.893464</td>\n",
       "      <td>02:01</td>\n",
       "    </tr>\n",
       "  </tbody>\n",
       "</table>"
      ],
      "text/plain": [
       "<IPython.core.display.HTML object>"
      ]
     },
     "metadata": {},
     "output_type": "display_data"
    },
    {
     "data": {
      "text/html": [],
      "text/plain": [
       "<IPython.core.display.HTML object>"
      ]
     },
     "metadata": {},
     "output_type": "display_data"
    },
    {
     "name": "stdout",
     "output_type": "stream",
     "text": [
      "TensorCategory(0.8935)\n",
      "0.9068449240395932\n",
      "              precision    recall  f1-score   support\n",
      "\n",
      "           0       0.98      0.98      0.98     52885\n",
      "           1       0.72      0.76      0.74      5054\n",
      "           2       0.53      0.32      0.40      2755\n",
      "           3       0.48      0.73      0.58      6196\n",
      "           4       0.94      0.92      0.93     94753\n",
      "           5       0.54      0.48      0.51       768\n",
      "           6       0.56      0.54      0.55     10695\n",
      "\n",
      "    accuracy                           0.89    173106\n",
      "   macro avg       0.68      0.68      0.67    173106\n",
      "weighted avg       0.90      0.89      0.89    173106\n",
      "\n",
      "===================== Fold 4 ============================\n"
     ]
    },
    {
     "data": {
      "text/html": [
       "<table border=\"1\" class=\"dataframe\">\n",
       "  <thead>\n",
       "    <tr style=\"text-align: left;\">\n",
       "      <th>epoch</th>\n",
       "      <th>train_loss</th>\n",
       "      <th>valid_loss</th>\n",
       "      <th>accuracy</th>\n",
       "      <th>time</th>\n",
       "    </tr>\n",
       "  </thead>\n",
       "  <tbody>\n",
       "    <tr>\n",
       "      <td>0</td>\n",
       "      <td>0.155150</td>\n",
       "      <td>0.376662</td>\n",
       "      <td>0.893944</td>\n",
       "      <td>02:01</td>\n",
       "    </tr>\n",
       "    <tr>\n",
       "      <td>1</td>\n",
       "      <td>0.080655</td>\n",
       "      <td>0.482531</td>\n",
       "      <td>0.855851</td>\n",
       "      <td>02:01</td>\n",
       "    </tr>\n",
       "    <tr>\n",
       "      <td>2</td>\n",
       "      <td>0.046104</td>\n",
       "      <td>0.453284</td>\n",
       "      <td>0.896329</td>\n",
       "      <td>02:02</td>\n",
       "    </tr>\n",
       "    <tr>\n",
       "      <td>3</td>\n",
       "      <td>0.019643</td>\n",
       "      <td>0.526946</td>\n",
       "      <td>0.897883</td>\n",
       "      <td>02:01</td>\n",
       "    </tr>\n",
       "    <tr>\n",
       "      <td>4</td>\n",
       "      <td>0.015767</td>\n",
       "      <td>0.554946</td>\n",
       "      <td>0.898247</td>\n",
       "      <td>02:01</td>\n",
       "    </tr>\n",
       "  </tbody>\n",
       "</table>"
      ],
      "text/plain": [
       "<IPython.core.display.HTML object>"
      ]
     },
     "metadata": {},
     "output_type": "display_data"
    },
    {
     "data": {
      "text/html": [],
      "text/plain": [
       "<IPython.core.display.HTML object>"
      ]
     },
     "metadata": {},
     "output_type": "display_data"
    },
    {
     "name": "stdout",
     "output_type": "stream",
     "text": [
      "TensorCategory(0.8982)\n",
      "0.9278645543832317\n",
      "              precision    recall  f1-score   support\n",
      "\n",
      "           0       0.98      0.99      0.98     65583\n",
      "           1       0.68      0.88      0.77      9158\n",
      "           2       0.51      0.42      0.46      1944\n",
      "           3       0.75      0.64      0.69     10339\n",
      "           4       0.93      0.92      0.92     77265\n",
      "           5       0.61      0.53      0.57      2037\n",
      "           6       0.52      0.49      0.51      6780\n",
      "\n",
      "    accuracy                           0.90    173106\n",
      "   macro avg       0.71      0.69      0.70    173106\n",
      "weighted avg       0.90      0.90      0.90    173106\n",
      "\n"
     ]
    }
   ],
   "source": [
    "for i, s in enumerate(splits):\n",
    "    print(f'===================== Fold {i} ============================')\n",
    "    train_and_evaluate_it(X, y, s, 256, 0.001, 5)"
   ]
  },
  {
   "cell_type": "code",
   "execution_count": 65,
   "id": "radio-donna",
   "metadata": {},
   "outputs": [
    {
     "name": "stdout",
     "output_type": "stream",
     "text": [
      "===================== Fold 0 ============================\n"
     ]
    },
    {
     "data": {
      "text/html": [
       "<table border=\"1\" class=\"dataframe\">\n",
       "  <thead>\n",
       "    <tr style=\"text-align: left;\">\n",
       "      <th>epoch</th>\n",
       "      <th>train_loss</th>\n",
       "      <th>valid_loss</th>\n",
       "      <th>accuracy</th>\n",
       "      <th>time</th>\n",
       "    </tr>\n",
       "  </thead>\n",
       "  <tbody>\n",
       "    <tr>\n",
       "      <td>0</td>\n",
       "      <td>0.159085</td>\n",
       "      <td>0.915410</td>\n",
       "      <td>0.705795</td>\n",
       "      <td>04:00</td>\n",
       "    </tr>\n",
       "    <tr>\n",
       "      <td>1</td>\n",
       "      <td>0.091707</td>\n",
       "      <td>0.695051</td>\n",
       "      <td>0.890836</td>\n",
       "      <td>03:59</td>\n",
       "    </tr>\n",
       "    <tr>\n",
       "      <td>2</td>\n",
       "      <td>0.053644</td>\n",
       "      <td>0.798894</td>\n",
       "      <td>0.882963</td>\n",
       "      <td>04:00</td>\n",
       "    </tr>\n",
       "    <tr>\n",
       "      <td>3</td>\n",
       "      <td>0.026007</td>\n",
       "      <td>0.924919</td>\n",
       "      <td>0.874800</td>\n",
       "      <td>03:59</td>\n",
       "    </tr>\n",
       "    <tr>\n",
       "      <td>4</td>\n",
       "      <td>0.020936</td>\n",
       "      <td>0.961351</td>\n",
       "      <td>0.875770</td>\n",
       "      <td>03:59</td>\n",
       "    </tr>\n",
       "  </tbody>\n",
       "</table>"
      ],
      "text/plain": [
       "<IPython.core.display.HTML object>"
      ]
     },
     "metadata": {},
     "output_type": "display_data"
    },
    {
     "data": {
      "text/html": [],
      "text/plain": [
       "<IPython.core.display.HTML object>"
      ]
     },
     "metadata": {},
     "output_type": "display_data"
    },
    {
     "name": "stdout",
     "output_type": "stream",
     "text": [
      "TensorCategory(0.8758)\n",
      "0.9091060245830582\n",
      "              precision    recall  f1-score   support\n",
      "\n",
      "           0       0.92      0.96      0.94     90261\n",
      "           1       0.68      0.21      0.32       904\n",
      "           2       0.55      0.19      0.28      2029\n",
      "           3       0.46      0.33      0.38      5524\n",
      "           4       0.87      0.88      0.87     69005\n",
      "           5       0.68      0.44      0.54       244\n",
      "           6       0.38      0.28      0.32      5140\n",
      "\n",
      "    accuracy                           0.88    173107\n",
      "   macro avg       0.65      0.47      0.52    173107\n",
      "weighted avg       0.86      0.88      0.87    173107\n",
      "\n",
      "===================== Fold 1 ============================\n"
     ]
    },
    {
     "data": {
      "text/html": [
       "<table border=\"1\" class=\"dataframe\">\n",
       "  <thead>\n",
       "    <tr style=\"text-align: left;\">\n",
       "      <th>epoch</th>\n",
       "      <th>train_loss</th>\n",
       "      <th>valid_loss</th>\n",
       "      <th>accuracy</th>\n",
       "      <th>time</th>\n",
       "    </tr>\n",
       "  </thead>\n",
       "  <tbody>\n",
       "    <tr>\n",
       "      <td>0</td>\n",
       "      <td>0.144298</td>\n",
       "      <td>0.546685</td>\n",
       "      <td>0.847996</td>\n",
       "      <td>03:58</td>\n",
       "    </tr>\n",
       "    <tr>\n",
       "      <td>1</td>\n",
       "      <td>0.082851</td>\n",
       "      <td>0.543442</td>\n",
       "      <td>0.856257</td>\n",
       "      <td>03:59</td>\n",
       "    </tr>\n",
       "    <tr>\n",
       "      <td>2</td>\n",
       "      <td>0.052507</td>\n",
       "      <td>0.810034</td>\n",
       "      <td>0.795987</td>\n",
       "      <td>03:59</td>\n",
       "    </tr>\n",
       "    <tr>\n",
       "      <td>3</td>\n",
       "      <td>0.026085</td>\n",
       "      <td>0.946495</td>\n",
       "      <td>0.796450</td>\n",
       "      <td>03:59</td>\n",
       "    </tr>\n",
       "    <tr>\n",
       "      <td>4</td>\n",
       "      <td>0.019937</td>\n",
       "      <td>1.003612</td>\n",
       "      <td>0.800158</td>\n",
       "      <td>03:58</td>\n",
       "    </tr>\n",
       "  </tbody>\n",
       "</table>"
      ],
      "text/plain": [
       "<IPython.core.display.HTML object>"
      ]
     },
     "metadata": {},
     "output_type": "display_data"
    },
    {
     "data": {
      "text/html": [],
      "text/plain": [
       "<IPython.core.display.HTML object>"
      ]
     },
     "metadata": {},
     "output_type": "display_data"
    },
    {
     "name": "stdout",
     "output_type": "stream",
     "text": [
      "TensorCategory(0.8002)\n",
      "0.9177123896429606\n",
      "              precision    recall  f1-score   support\n",
      "\n",
      "           0       0.85      0.97      0.91     69457\n",
      "           1       0.83      0.17      0.28     15396\n",
      "           2       0.55      0.57      0.56      1679\n",
      "           3       0.77      0.73      0.75     22281\n",
      "           4       0.78      0.92      0.84     53861\n",
      "           5       0.53      0.61      0.57      1119\n",
      "           6       0.36      0.15      0.21      9314\n",
      "\n",
      "    accuracy                           0.80    173107\n",
      "   macro avg       0.67      0.59      0.59    173107\n",
      "weighted avg       0.79      0.80      0.77    173107\n",
      "\n",
      "===================== Fold 2 ============================\n"
     ]
    },
    {
     "data": {
      "text/html": [
       "<table border=\"1\" class=\"dataframe\">\n",
       "  <thead>\n",
       "    <tr style=\"text-align: left;\">\n",
       "      <th>epoch</th>\n",
       "      <th>train_loss</th>\n",
       "      <th>valid_loss</th>\n",
       "      <th>accuracy</th>\n",
       "      <th>time</th>\n",
       "    </tr>\n",
       "  </thead>\n",
       "  <tbody>\n",
       "    <tr>\n",
       "      <td>0</td>\n",
       "      <td>0.143178</td>\n",
       "      <td>1.101170</td>\n",
       "      <td>0.639885</td>\n",
       "      <td>04:01</td>\n",
       "    </tr>\n",
       "    <tr>\n",
       "      <td>1</td>\n",
       "      <td>0.088515</td>\n",
       "      <td>0.911764</td>\n",
       "      <td>0.693049</td>\n",
       "      <td>04:01</td>\n",
       "    </tr>\n",
       "    <tr>\n",
       "      <td>2</td>\n",
       "      <td>0.048479</td>\n",
       "      <td>1.295161</td>\n",
       "      <td>0.659769</td>\n",
       "      <td>04:01</td>\n",
       "    </tr>\n",
       "    <tr>\n",
       "      <td>3</td>\n",
       "      <td>0.033936</td>\n",
       "      <td>1.607326</td>\n",
       "      <td>0.661739</td>\n",
       "      <td>04:01</td>\n",
       "    </tr>\n",
       "    <tr>\n",
       "      <td>4</td>\n",
       "      <td>0.019774</td>\n",
       "      <td>1.665573</td>\n",
       "      <td>0.668122</td>\n",
       "      <td>04:00</td>\n",
       "    </tr>\n",
       "  </tbody>\n",
       "</table>"
      ],
      "text/plain": [
       "<IPython.core.display.HTML object>"
      ]
     },
     "metadata": {},
     "output_type": "display_data"
    },
    {
     "data": {
      "text/html": [],
      "text/plain": [
       "<IPython.core.display.HTML object>"
      ]
     },
     "metadata": {},
     "output_type": "display_data"
    },
    {
     "name": "stdout",
     "output_type": "stream",
     "text": [
      "TensorCategory(0.6681)\n",
      "0.881135345038833\n",
      "              precision    recall  f1-score   support\n",
      "\n",
      "           0       0.98      0.98      0.98     64754\n",
      "           1       0.71      0.66      0.68      7749\n",
      "           2       0.28      0.49      0.36      1739\n",
      "           3       0.75      0.32      0.45     50999\n",
      "           4       0.37      0.82      0.51     31691\n",
      "           5       0.65      0.67      0.66      2660\n",
      "           6       0.55      0.17      0.25     13514\n",
      "\n",
      "    accuracy                           0.67    173106\n",
      "   macro avg       0.61      0.59      0.56    173106\n",
      "weighted avg       0.74      0.67      0.66    173106\n",
      "\n",
      "===================== Fold 3 ============================\n"
     ]
    },
    {
     "data": {
      "text/html": [
       "<table border=\"1\" class=\"dataframe\">\n",
       "  <thead>\n",
       "    <tr style=\"text-align: left;\">\n",
       "      <th>epoch</th>\n",
       "      <th>train_loss</th>\n",
       "      <th>valid_loss</th>\n",
       "      <th>accuracy</th>\n",
       "      <th>time</th>\n",
       "    </tr>\n",
       "  </thead>\n",
       "  <tbody>\n",
       "    <tr>\n",
       "      <td>0</td>\n",
       "      <td>0.155845</td>\n",
       "      <td>0.574230</td>\n",
       "      <td>0.812525</td>\n",
       "      <td>04:00</td>\n",
       "    </tr>\n",
       "    <tr>\n",
       "      <td>1</td>\n",
       "      <td>0.084952</td>\n",
       "      <td>0.426411</td>\n",
       "      <td>0.885868</td>\n",
       "      <td>03:59</td>\n",
       "    </tr>\n",
       "    <tr>\n",
       "      <td>2</td>\n",
       "      <td>0.046368</td>\n",
       "      <td>0.567535</td>\n",
       "      <td>0.870143</td>\n",
       "      <td>03:59</td>\n",
       "    </tr>\n",
       "    <tr>\n",
       "      <td>3</td>\n",
       "      <td>0.025388</td>\n",
       "      <td>0.565080</td>\n",
       "      <td>0.884418</td>\n",
       "      <td>03:59</td>\n",
       "    </tr>\n",
       "    <tr>\n",
       "      <td>4</td>\n",
       "      <td>0.021946</td>\n",
       "      <td>0.627341</td>\n",
       "      <td>0.886959</td>\n",
       "      <td>04:00</td>\n",
       "    </tr>\n",
       "  </tbody>\n",
       "</table>"
      ],
      "text/plain": [
       "<IPython.core.display.HTML object>"
      ]
     },
     "metadata": {},
     "output_type": "display_data"
    },
    {
     "data": {
      "text/html": [],
      "text/plain": [
       "<IPython.core.display.HTML object>"
      ]
     },
     "metadata": {},
     "output_type": "display_data"
    },
    {
     "name": "stdout",
     "output_type": "stream",
     "text": [
      "TensorCategory(0.8870)\n",
      "0.9079141986041345\n",
      "              precision    recall  f1-score   support\n",
      "\n",
      "           0       0.98      0.98      0.98     52749\n",
      "           1       0.68      0.76      0.72      4826\n",
      "           2       0.50      0.36      0.42      2273\n",
      "           3       0.51      0.64      0.57      7455\n",
      "           4       0.92      0.92      0.92     93134\n",
      "           5       0.50      0.42      0.46       815\n",
      "           6       0.58      0.50      0.54     11854\n",
      "\n",
      "    accuracy                           0.89    173106\n",
      "   macro avg       0.67      0.66      0.66    173106\n",
      "weighted avg       0.89      0.89      0.89    173106\n",
      "\n",
      "===================== Fold 4 ============================\n"
     ]
    },
    {
     "data": {
      "text/html": [
       "<table border=\"1\" class=\"dataframe\">\n",
       "  <thead>\n",
       "    <tr style=\"text-align: left;\">\n",
       "      <th>epoch</th>\n",
       "      <th>train_loss</th>\n",
       "      <th>valid_loss</th>\n",
       "      <th>accuracy</th>\n",
       "      <th>time</th>\n",
       "    </tr>\n",
       "  </thead>\n",
       "  <tbody>\n",
       "    <tr>\n",
       "      <td>0</td>\n",
       "      <td>0.158920</td>\n",
       "      <td>0.392087</td>\n",
       "      <td>0.884175</td>\n",
       "      <td>03:59</td>\n",
       "    </tr>\n",
       "    <tr>\n",
       "      <td>1</td>\n",
       "      <td>0.082177</td>\n",
       "      <td>0.364916</td>\n",
       "      <td>0.906127</td>\n",
       "      <td>04:00</td>\n",
       "    </tr>\n",
       "    <tr>\n",
       "      <td>2</td>\n",
       "      <td>0.051504</td>\n",
       "      <td>0.466811</td>\n",
       "      <td>0.900674</td>\n",
       "      <td>04:01</td>\n",
       "    </tr>\n",
       "    <tr>\n",
       "      <td>3</td>\n",
       "      <td>0.029918</td>\n",
       "      <td>0.546541</td>\n",
       "      <td>0.900570</td>\n",
       "      <td>04:01</td>\n",
       "    </tr>\n",
       "    <tr>\n",
       "      <td>4</td>\n",
       "      <td>0.019024</td>\n",
       "      <td>0.568363</td>\n",
       "      <td>0.900131</td>\n",
       "      <td>03:59</td>\n",
       "    </tr>\n",
       "  </tbody>\n",
       "</table>"
      ],
      "text/plain": [
       "<IPython.core.display.HTML object>"
      ]
     },
     "metadata": {},
     "output_type": "display_data"
    },
    {
     "data": {
      "text/html": [],
      "text/plain": [
       "<IPython.core.display.HTML object>"
      ]
     },
     "metadata": {},
     "output_type": "display_data"
    },
    {
     "name": "stdout",
     "output_type": "stream",
     "text": [
      "TensorCategory(0.9001)\n",
      "0.9345309654266842\n",
      "              precision    recall  f1-score   support\n",
      "\n",
      "           0       0.98      0.98      0.98     65863\n",
      "           1       0.63      0.87      0.73      8507\n",
      "           2       0.53      0.40      0.45      2105\n",
      "           3       0.74      0.70      0.72      9358\n",
      "           4       0.94      0.92      0.93     78198\n",
      "           5       0.60      0.48      0.53      2214\n",
      "           6       0.55      0.51      0.53      6861\n",
      "\n",
      "    accuracy                           0.90    173106\n",
      "   macro avg       0.71      0.69      0.70    173106\n",
      "weighted avg       0.90      0.90      0.90    173106\n",
      "\n"
     ]
    }
   ],
   "source": [
    "for i, s in enumerate(splits):\n",
    "    print(f'===================== Fold {i} ============================')\n",
    "    train_and_evaluate_it(X, y, s, 128, 0.001, 5)"
   ]
  },
  {
   "cell_type": "code",
   "execution_count": 66,
   "id": "russian-hollywood",
   "metadata": {},
   "outputs": [
    {
     "name": "stdout",
     "output_type": "stream",
     "text": [
      "===================== Fold 0 ============================\n"
     ]
    },
    {
     "data": {
      "text/html": [
       "<table border=\"1\" class=\"dataframe\">\n",
       "  <thead>\n",
       "    <tr style=\"text-align: left;\">\n",
       "      <th>epoch</th>\n",
       "      <th>train_loss</th>\n",
       "      <th>valid_loss</th>\n",
       "      <th>accuracy</th>\n",
       "      <th>time</th>\n",
       "    </tr>\n",
       "  </thead>\n",
       "  <tbody>\n",
       "    <tr>\n",
       "      <td>0</td>\n",
       "      <td>0.173188</td>\n",
       "      <td>0.946428</td>\n",
       "      <td>0.774700</td>\n",
       "      <td>04:34</td>\n",
       "    </tr>\n",
       "    <tr>\n",
       "      <td>1</td>\n",
       "      <td>0.108082</td>\n",
       "      <td>0.742850</td>\n",
       "      <td>0.907179</td>\n",
       "      <td>04:37</td>\n",
       "    </tr>\n",
       "    <tr>\n",
       "      <td>2</td>\n",
       "      <td>0.053440</td>\n",
       "      <td>0.975418</td>\n",
       "      <td>0.892835</td>\n",
       "      <td>04:45</td>\n",
       "    </tr>\n",
       "    <tr>\n",
       "      <td>3</td>\n",
       "      <td>0.031926</td>\n",
       "      <td>0.826241</td>\n",
       "      <td>0.905036</td>\n",
       "      <td>04:36</td>\n",
       "    </tr>\n",
       "    <tr>\n",
       "      <td>4</td>\n",
       "      <td>0.022378</td>\n",
       "      <td>0.949029</td>\n",
       "      <td>0.910379</td>\n",
       "      <td>04:37</td>\n",
       "    </tr>\n",
       "  </tbody>\n",
       "</table>"
      ],
      "text/plain": [
       "<IPython.core.display.HTML object>"
      ]
     },
     "metadata": {},
     "output_type": "display_data"
    },
    {
     "data": {
      "text/html": [],
      "text/plain": [
       "<IPython.core.display.HTML object>"
      ]
     },
     "metadata": {},
     "output_type": "display_data"
    },
    {
     "name": "stdout",
     "output_type": "stream",
     "text": [
      "TensorCategory(0.9104)\n",
      "0.9126220253059407\n",
      "              precision    recall  f1-score   support\n",
      "\n",
      "           0       0.93      0.97      0.95     90522\n",
      "           1       0.65      0.39      0.49       463\n",
      "           2       0.55      0.45      0.49       835\n",
      "           3       0.50      0.57      0.53      3571\n",
      "           4       0.94      0.89      0.91     72748\n",
      "           5       0.61      0.51      0.56       191\n",
      "           6       0.46      0.37      0.41      4777\n",
      "\n",
      "    accuracy                           0.91    173107\n",
      "   macro avg       0.66      0.59      0.62    173107\n",
      "weighted avg       0.91      0.91      0.91    173107\n",
      "\n",
      "===================== Fold 1 ============================\n"
     ]
    },
    {
     "data": {
      "text/html": [
       "<table border=\"1\" class=\"dataframe\">\n",
       "  <thead>\n",
       "    <tr style=\"text-align: left;\">\n",
       "      <th>epoch</th>\n",
       "      <th>train_loss</th>\n",
       "      <th>valid_loss</th>\n",
       "      <th>accuracy</th>\n",
       "      <th>time</th>\n",
       "    </tr>\n",
       "  </thead>\n",
       "  <tbody>\n",
       "    <tr>\n",
       "      <td>0</td>\n",
       "      <td>0.153586</td>\n",
       "      <td>0.447413</td>\n",
       "      <td>0.867094</td>\n",
       "      <td>04:36</td>\n",
       "    </tr>\n",
       "    <tr>\n",
       "      <td>1</td>\n",
       "      <td>0.095012</td>\n",
       "      <td>0.498931</td>\n",
       "      <td>0.857071</td>\n",
       "      <td>04:33</td>\n",
       "    </tr>\n",
       "    <tr>\n",
       "      <td>2</td>\n",
       "      <td>0.055504</td>\n",
       "      <td>0.604165</td>\n",
       "      <td>0.853824</td>\n",
       "      <td>04:33</td>\n",
       "    </tr>\n",
       "    <tr>\n",
       "      <td>3</td>\n",
       "      <td>0.033746</td>\n",
       "      <td>0.646305</td>\n",
       "      <td>0.855228</td>\n",
       "      <td>04:33</td>\n",
       "    </tr>\n",
       "    <tr>\n",
       "      <td>4</td>\n",
       "      <td>0.023488</td>\n",
       "      <td>0.662739</td>\n",
       "      <td>0.859832</td>\n",
       "      <td>04:33</td>\n",
       "    </tr>\n",
       "  </tbody>\n",
       "</table>"
      ],
      "text/plain": [
       "<IPython.core.display.HTML object>"
      ]
     },
     "metadata": {},
     "output_type": "display_data"
    },
    {
     "data": {
      "text/html": [],
      "text/plain": [
       "<IPython.core.display.HTML object>"
      ]
     },
     "metadata": {},
     "output_type": "display_data"
    },
    {
     "name": "stdout",
     "output_type": "stream",
     "text": [
      "TensorCategory(0.8598)\n",
      "0.9298540874910725\n",
      "              precision    recall  f1-score   support\n",
      "\n",
      "           0       0.96      0.97      0.97     77813\n",
      "           1       0.78      0.38      0.51      6345\n",
      "           2       0.60      0.63      0.61      1645\n",
      "           3       0.78      0.81      0.80     20251\n",
      "           4       0.80      0.92      0.86     55576\n",
      "           5       0.55      0.54      0.54      1310\n",
      "           6       0.42      0.16      0.23     10167\n",
      "\n",
      "    accuracy                           0.86    173107\n",
      "   macro avg       0.70      0.63      0.65    173107\n",
      "weighted avg       0.84      0.86      0.84    173107\n",
      "\n",
      "===================== Fold 2 ============================\n"
     ]
    },
    {
     "data": {
      "text/html": [
       "<table border=\"1\" class=\"dataframe\">\n",
       "  <thead>\n",
       "    <tr style=\"text-align: left;\">\n",
       "      <th>epoch</th>\n",
       "      <th>train_loss</th>\n",
       "      <th>valid_loss</th>\n",
       "      <th>accuracy</th>\n",
       "      <th>time</th>\n",
       "    </tr>\n",
       "  </thead>\n",
       "  <tbody>\n",
       "    <tr>\n",
       "      <td>0</td>\n",
       "      <td>0.159721</td>\n",
       "      <td>0.538888</td>\n",
       "      <td>0.855643</td>\n",
       "      <td>04:33</td>\n",
       "    </tr>\n",
       "    <tr>\n",
       "      <td>1</td>\n",
       "      <td>0.096143</td>\n",
       "      <td>0.776361</td>\n",
       "      <td>0.739992</td>\n",
       "      <td>04:33</td>\n",
       "    </tr>\n",
       "    <tr>\n",
       "      <td>2</td>\n",
       "      <td>0.055241</td>\n",
       "      <td>0.999556</td>\n",
       "      <td>0.706076</td>\n",
       "      <td>04:32</td>\n",
       "    </tr>\n",
       "    <tr>\n",
       "      <td>3</td>\n",
       "      <td>0.040779</td>\n",
       "      <td>1.552552</td>\n",
       "      <td>0.691859</td>\n",
       "      <td>04:31</td>\n",
       "    </tr>\n",
       "    <tr>\n",
       "      <td>4</td>\n",
       "      <td>0.032098</td>\n",
       "      <td>1.899583</td>\n",
       "      <td>0.682368</td>\n",
       "      <td>04:33</td>\n",
       "    </tr>\n",
       "  </tbody>\n",
       "</table>"
      ],
      "text/plain": [
       "<IPython.core.display.HTML object>"
      ]
     },
     "metadata": {},
     "output_type": "display_data"
    },
    {
     "data": {
      "text/html": [],
      "text/plain": [
       "<IPython.core.display.HTML object>"
      ]
     },
     "metadata": {},
     "output_type": "display_data"
    },
    {
     "name": "stdout",
     "output_type": "stream",
     "text": [
      "TensorCategory(0.6824)\n",
      "0.882061191828937\n",
      "              precision    recall  f1-score   support\n",
      "\n",
      "           0       0.98      0.98      0.98     64794\n",
      "           1       0.72      0.62      0.67      8282\n",
      "           2       0.35      0.30      0.32      3660\n",
      "           3       0.78      0.33      0.47     50211\n",
      "           4       0.39      0.85      0.54     31965\n",
      "           5       0.66      0.68      0.67      2627\n",
      "           6       0.58      0.20      0.30     11567\n",
      "\n",
      "    accuracy                           0.68    173106\n",
      "   macro avg       0.64      0.57      0.56    173106\n",
      "weighted avg       0.76      0.68      0.67    173106\n",
      "\n",
      "===================== Fold 3 ============================\n"
     ]
    },
    {
     "data": {
      "text/html": [
       "<table border=\"1\" class=\"dataframe\">\n",
       "  <thead>\n",
       "    <tr style=\"text-align: left;\">\n",
       "      <th>epoch</th>\n",
       "      <th>train_loss</th>\n",
       "      <th>valid_loss</th>\n",
       "      <th>accuracy</th>\n",
       "      <th>time</th>\n",
       "    </tr>\n",
       "  </thead>\n",
       "  <tbody>\n",
       "    <tr>\n",
       "      <td>0</td>\n",
       "      <td>0.160332</td>\n",
       "      <td>0.378213</td>\n",
       "      <td>0.884360</td>\n",
       "      <td>04:32</td>\n",
       "    </tr>\n",
       "    <tr>\n",
       "      <td>1</td>\n",
       "      <td>0.092413</td>\n",
       "      <td>0.430640</td>\n",
       "      <td>0.887918</td>\n",
       "      <td>04:33</td>\n",
       "    </tr>\n",
       "    <tr>\n",
       "      <td>2</td>\n",
       "      <td>0.054060</td>\n",
       "      <td>0.478953</td>\n",
       "      <td>0.881512</td>\n",
       "      <td>04:36</td>\n",
       "    </tr>\n",
       "    <tr>\n",
       "      <td>3</td>\n",
       "      <td>0.026265</td>\n",
       "      <td>0.547638</td>\n",
       "      <td>0.886416</td>\n",
       "      <td>04:33</td>\n",
       "    </tr>\n",
       "    <tr>\n",
       "      <td>4</td>\n",
       "      <td>0.022365</td>\n",
       "      <td>0.570145</td>\n",
       "      <td>0.890558</td>\n",
       "      <td>04:35</td>\n",
       "    </tr>\n",
       "  </tbody>\n",
       "</table>"
      ],
      "text/plain": [
       "<IPython.core.display.HTML object>"
      ]
     },
     "metadata": {},
     "output_type": "display_data"
    },
    {
     "data": {
      "text/html": [],
      "text/plain": [
       "<IPython.core.display.HTML object>"
      ]
     },
     "metadata": {},
     "output_type": "display_data"
    },
    {
     "name": "stdout",
     "output_type": "stream",
     "text": [
      "TensorCategory(0.8906)\n",
      "0.9132558531662076\n",
      "              precision    recall  f1-score   support\n",
      "\n",
      "           0       0.99      0.98      0.98     53083\n",
      "           1       0.68      0.74      0.71      4956\n",
      "           2       0.60      0.40      0.48      2501\n",
      "           3       0.46      0.68      0.55      6333\n",
      "           4       0.94      0.92      0.93     95177\n",
      "           5       0.54      0.43      0.48       856\n",
      "           6       0.54      0.54      0.54     10200\n",
      "\n",
      "    accuracy                           0.89    173106\n",
      "   macro avg       0.68      0.67      0.67    173106\n",
      "weighted avg       0.90      0.89      0.89    173106\n",
      "\n",
      "===================== Fold 4 ============================\n"
     ]
    },
    {
     "data": {
      "text/html": [
       "<table border=\"1\" class=\"dataframe\">\n",
       "  <thead>\n",
       "    <tr style=\"text-align: left;\">\n",
       "      <th>epoch</th>\n",
       "      <th>train_loss</th>\n",
       "      <th>valid_loss</th>\n",
       "      <th>accuracy</th>\n",
       "      <th>time</th>\n",
       "    </tr>\n",
       "  </thead>\n",
       "  <tbody>\n",
       "    <tr>\n",
       "      <td>0</td>\n",
       "      <td>0.166644</td>\n",
       "      <td>0.391040</td>\n",
       "      <td>0.887595</td>\n",
       "      <td>04:39</td>\n",
       "    </tr>\n",
       "    <tr>\n",
       "      <td>1</td>\n",
       "      <td>0.094632</td>\n",
       "      <td>0.385317</td>\n",
       "      <td>0.905156</td>\n",
       "      <td>04:35</td>\n",
       "    </tr>\n",
       "    <tr>\n",
       "      <td>2</td>\n",
       "      <td>0.057998</td>\n",
       "      <td>0.446473</td>\n",
       "      <td>0.905075</td>\n",
       "      <td>04:34</td>\n",
       "    </tr>\n",
       "    <tr>\n",
       "      <td>3</td>\n",
       "      <td>0.031232</td>\n",
       "      <td>0.513993</td>\n",
       "      <td>0.904891</td>\n",
       "      <td>04:33</td>\n",
       "    </tr>\n",
       "    <tr>\n",
       "      <td>4</td>\n",
       "      <td>0.026136</td>\n",
       "      <td>0.541523</td>\n",
       "      <td>0.899657</td>\n",
       "      <td>04:33</td>\n",
       "    </tr>\n",
       "  </tbody>\n",
       "</table>"
      ],
      "text/plain": [
       "<IPython.core.display.HTML object>"
      ]
     },
     "metadata": {},
     "output_type": "display_data"
    },
    {
     "data": {
      "text/html": [],
      "text/plain": [
       "<IPython.core.display.HTML object>"
      ]
     },
     "metadata": {},
     "output_type": "display_data"
    },
    {
     "name": "stdout",
     "output_type": "stream",
     "text": [
      "TensorCategory(0.8997)\n",
      "0.941801895297111\n",
      "              precision    recall  f1-score   support\n",
      "\n",
      "           0       0.97      0.99      0.98     65445\n",
      "           1       0.68      0.89      0.77      8995\n",
      "           2       0.54      0.38      0.45      2232\n",
      "           3       0.73      0.71      0.72      9145\n",
      "           4       0.93      0.91      0.92     78363\n",
      "           5       0.64      0.48      0.55      2336\n",
      "           6       0.52      0.50      0.51      6590\n",
      "\n",
      "    accuracy                           0.90    173106\n",
      "   macro avg       0.72      0.69      0.70    173106\n",
      "weighted avg       0.90      0.90      0.90    173106\n",
      "\n"
     ]
    }
   ],
   "source": [
    "for i, s in enumerate(splits):\n",
    "    print(f'===================== Fold {i} ============================')\n",
    "    train_and_evaluate_it(X, y, s, 64, 0.001, 5)"
   ]
  },
  {
   "cell_type": "code",
   "execution_count": 67,
   "id": "absent-grain",
   "metadata": {},
   "outputs": [
    {
     "name": "stdout",
     "output_type": "stream",
     "text": [
      "===================== Fold 0 ============================\n"
     ]
    },
    {
     "data": {
      "text/html": [
       "<table border=\"1\" class=\"dataframe\">\n",
       "  <thead>\n",
       "    <tr style=\"text-align: left;\">\n",
       "      <th>epoch</th>\n",
       "      <th>train_loss</th>\n",
       "      <th>valid_loss</th>\n",
       "      <th>accuracy</th>\n",
       "      <th>time</th>\n",
       "    </tr>\n",
       "  </thead>\n",
       "  <tbody>\n",
       "    <tr>\n",
       "      <td>0</td>\n",
       "      <td>0.212182</td>\n",
       "      <td>0.532697</td>\n",
       "      <td>0.911095</td>\n",
       "      <td>08:41</td>\n",
       "    </tr>\n",
       "    <tr>\n",
       "      <td>1</td>\n",
       "      <td>0.114159</td>\n",
       "      <td>1.057996</td>\n",
       "      <td>0.795375</td>\n",
       "      <td>08:39</td>\n",
       "    </tr>\n",
       "    <tr>\n",
       "      <td>2</td>\n",
       "      <td>0.070329</td>\n",
       "      <td>0.752063</td>\n",
       "      <td>0.870063</td>\n",
       "      <td>08:16</td>\n",
       "    </tr>\n",
       "    <tr>\n",
       "      <td>3</td>\n",
       "      <td>0.043494</td>\n",
       "      <td>0.809034</td>\n",
       "      <td>0.879185</td>\n",
       "      <td>08:26</td>\n",
       "    </tr>\n",
       "    <tr>\n",
       "      <td>4</td>\n",
       "      <td>0.042528</td>\n",
       "      <td>0.914637</td>\n",
       "      <td>0.878347</td>\n",
       "      <td>08:39</td>\n",
       "    </tr>\n",
       "  </tbody>\n",
       "</table>"
      ],
      "text/plain": [
       "<IPython.core.display.HTML object>"
      ]
     },
     "metadata": {},
     "output_type": "display_data"
    },
    {
     "data": {
      "text/html": [],
      "text/plain": [
       "<IPython.core.display.HTML object>"
      ]
     },
     "metadata": {},
     "output_type": "display_data"
    },
    {
     "name": "stdout",
     "output_type": "stream",
     "text": [
      "TensorCategory(0.8783)\n",
      "0.9078854352180941\n",
      "              precision    recall  f1-score   support\n",
      "\n",
      "           0       0.89      0.97      0.93     86862\n",
      "           1       0.63      0.04      0.07      4766\n",
      "           2       0.58      0.73      0.65       547\n",
      "           3       0.49      0.61      0.55      3226\n",
      "           4       0.91      0.89      0.90     70961\n",
      "           5       0.72      0.66      0.69       170\n",
      "           6       0.41      0.24      0.30      6575\n",
      "\n",
      "    accuracy                           0.88    173107\n",
      "   macro avg       0.66      0.59      0.58    173107\n",
      "weighted avg       0.87      0.88      0.86    173107\n",
      "\n",
      "===================== Fold 1 ============================\n"
     ]
    },
    {
     "data": {
      "text/html": [
       "<table border=\"1\" class=\"dataframe\">\n",
       "  <thead>\n",
       "    <tr style=\"text-align: left;\">\n",
       "      <th>epoch</th>\n",
       "      <th>train_loss</th>\n",
       "      <th>valid_loss</th>\n",
       "      <th>accuracy</th>\n",
       "      <th>time</th>\n",
       "    </tr>\n",
       "  </thead>\n",
       "  <tbody>\n",
       "    <tr>\n",
       "      <td>0</td>\n",
       "      <td>0.179704</td>\n",
       "      <td>0.409333</td>\n",
       "      <td>0.882783</td>\n",
       "      <td>08:52</td>\n",
       "    </tr>\n",
       "    <tr>\n",
       "      <td>1</td>\n",
       "      <td>0.103038</td>\n",
       "      <td>0.584624</td>\n",
       "      <td>0.843657</td>\n",
       "      <td>08:56</td>\n",
       "    </tr>\n",
       "    <tr>\n",
       "      <td>2</td>\n",
       "      <td>0.072600</td>\n",
       "      <td>0.599682</td>\n",
       "      <td>0.866747</td>\n",
       "      <td>08:49</td>\n",
       "    </tr>\n",
       "    <tr>\n",
       "      <td>3</td>\n",
       "      <td>0.052432</td>\n",
       "      <td>0.632197</td>\n",
       "      <td>0.860664</td>\n",
       "      <td>08:56</td>\n",
       "    </tr>\n",
       "    <tr>\n",
       "      <td>4</td>\n",
       "      <td>0.040399</td>\n",
       "      <td>0.671695</td>\n",
       "      <td>0.857805</td>\n",
       "      <td>08:51</td>\n",
       "    </tr>\n",
       "  </tbody>\n",
       "</table>"
      ],
      "text/plain": [
       "<IPython.core.display.HTML object>"
      ]
     },
     "metadata": {},
     "output_type": "display_data"
    },
    {
     "data": {
      "text/html": [],
      "text/plain": [
       "<IPython.core.display.HTML object>"
      ]
     },
     "metadata": {},
     "output_type": "display_data"
    },
    {
     "name": "stdout",
     "output_type": "stream",
     "text": [
      "TensorCategory(0.8578)\n",
      "0.929977916772384\n",
      "              precision    recall  f1-score   support\n",
      "\n",
      "           0       0.96      0.97      0.96     77626\n",
      "           1       0.82      0.39      0.53      6581\n",
      "           2       0.68      0.64      0.66      1877\n",
      "           3       0.76      0.81      0.78     19570\n",
      "           4       0.81      0.92      0.86     55759\n",
      "           5       0.51      0.51      0.51      1285\n",
      "           6       0.46      0.17      0.25     10409\n",
      "\n",
      "    accuracy                           0.86    173107\n",
      "   macro avg       0.71      0.63      0.65    173107\n",
      "weighted avg       0.84      0.86      0.84    173107\n",
      "\n",
      "===================== Fold 2 ============================\n"
     ]
    },
    {
     "data": {
      "text/html": [
       "<table border=\"1\" class=\"dataframe\">\n",
       "  <thead>\n",
       "    <tr style=\"text-align: left;\">\n",
       "      <th>epoch</th>\n",
       "      <th>train_loss</th>\n",
       "      <th>valid_loss</th>\n",
       "      <th>accuracy</th>\n",
       "      <th>time</th>\n",
       "    </tr>\n",
       "  </thead>\n",
       "  <tbody>\n",
       "    <tr>\n",
       "      <td>0</td>\n",
       "      <td>0.178088</td>\n",
       "      <td>0.790852</td>\n",
       "      <td>0.713453</td>\n",
       "      <td>08:20</td>\n",
       "    </tr>\n",
       "    <tr>\n",
       "      <td>1</td>\n",
       "      <td>0.111665</td>\n",
       "      <td>0.931621</td>\n",
       "      <td>0.696775</td>\n",
       "      <td>08:52</td>\n",
       "    </tr>\n",
       "    <tr>\n",
       "      <td>2</td>\n",
       "      <td>0.061743</td>\n",
       "      <td>1.101330</td>\n",
       "      <td>0.690068</td>\n",
       "      <td>08:48</td>\n",
       "    </tr>\n",
       "    <tr>\n",
       "      <td>3</td>\n",
       "      <td>0.045298</td>\n",
       "      <td>1.586786</td>\n",
       "      <td>0.683327</td>\n",
       "      <td>08:46</td>\n",
       "    </tr>\n",
       "    <tr>\n",
       "      <td>4</td>\n",
       "      <td>0.033462</td>\n",
       "      <td>0.996280</td>\n",
       "      <td>0.753706</td>\n",
       "      <td>08:58</td>\n",
       "    </tr>\n",
       "  </tbody>\n",
       "</table>"
      ],
      "text/plain": [
       "<IPython.core.display.HTML object>"
      ]
     },
     "metadata": {},
     "output_type": "display_data"
    },
    {
     "data": {
      "text/html": [],
      "text/plain": [
       "<IPython.core.display.HTML object>"
      ]
     },
     "metadata": {},
     "output_type": "display_data"
    },
    {
     "name": "stdout",
     "output_type": "stream",
     "text": [
      "TensorCategory(0.7537)\n",
      "0.8992832538121699\n",
      "              precision    recall  f1-score   support\n",
      "\n",
      "           0       0.98      0.98      0.98     64935\n",
      "           1       0.70      0.65      0.68      7759\n",
      "           2       0.37      0.60      0.46      1910\n",
      "           3       0.71      0.42      0.53     36537\n",
      "           4       0.59      0.87      0.70     46941\n",
      "           5       0.63      0.61      0.62      2839\n",
      "           6       0.61      0.20      0.30     12185\n",
      "\n",
      "    accuracy                           0.75    173106\n",
      "   macro avg       0.66      0.62      0.61    173106\n",
      "weighted avg       0.77      0.75      0.74    173106\n",
      "\n",
      "===================== Fold 3 ============================\n"
     ]
    },
    {
     "data": {
      "text/html": [
       "<table border=\"1\" class=\"dataframe\">\n",
       "  <thead>\n",
       "    <tr style=\"text-align: left;\">\n",
       "      <th>epoch</th>\n",
       "      <th>train_loss</th>\n",
       "      <th>valid_loss</th>\n",
       "      <th>accuracy</th>\n",
       "      <th>time</th>\n",
       "    </tr>\n",
       "  </thead>\n",
       "  <tbody>\n",
       "    <tr>\n",
       "      <td>0</td>\n",
       "      <td>0.166175</td>\n",
       "      <td>0.367299</td>\n",
       "      <td>0.881466</td>\n",
       "      <td>08:35</td>\n",
       "    </tr>\n",
       "    <tr>\n",
       "      <td>1</td>\n",
       "      <td>0.111345</td>\n",
       "      <td>0.386814</td>\n",
       "      <td>0.887745</td>\n",
       "      <td>08:44</td>\n",
       "    </tr>\n",
       "    <tr>\n",
       "      <td>2</td>\n",
       "      <td>0.074799</td>\n",
       "      <td>0.460476</td>\n",
       "      <td>0.891090</td>\n",
       "      <td>09:03</td>\n",
       "    </tr>\n",
       "    <tr>\n",
       "      <td>3</td>\n",
       "      <td>0.048382</td>\n",
       "      <td>0.491017</td>\n",
       "      <td>0.889195</td>\n",
       "      <td>09:06</td>\n",
       "    </tr>\n",
       "    <tr>\n",
       "      <td>4</td>\n",
       "      <td>0.039329</td>\n",
       "      <td>0.528585</td>\n",
       "      <td>0.884539</td>\n",
       "      <td>08:43</td>\n",
       "    </tr>\n",
       "  </tbody>\n",
       "</table>"
      ],
      "text/plain": [
       "<IPython.core.display.HTML object>"
      ]
     },
     "metadata": {},
     "output_type": "display_data"
    },
    {
     "data": {
      "text/html": [],
      "text/plain": [
       "<IPython.core.display.HTML object>"
      ]
     },
     "metadata": {},
     "output_type": "display_data"
    },
    {
     "name": "stdout",
     "output_type": "stream",
     "text": [
      "TensorCategory(0.8845)\n",
      "0.9169065887080696\n",
      "              precision    recall  f1-score   support\n",
      "\n",
      "           0       0.96      0.98      0.97     51708\n",
      "           1       0.70      0.61      0.65      6140\n",
      "           2       0.68      0.36      0.47      3105\n",
      "           3       0.47      0.71      0.57      6185\n",
      "           4       0.93      0.92      0.93     94223\n",
      "           5       0.54      0.52      0.53       707\n",
      "           6       0.59      0.54      0.56     11038\n",
      "\n",
      "    accuracy                           0.88    173106\n",
      "   macro avg       0.70      0.66      0.67    173106\n",
      "weighted avg       0.89      0.88      0.88    173106\n",
      "\n",
      "===================== Fold 4 ============================\n"
     ]
    },
    {
     "data": {
      "text/html": [
       "<table border=\"1\" class=\"dataframe\">\n",
       "  <thead>\n",
       "    <tr style=\"text-align: left;\">\n",
       "      <th>epoch</th>\n",
       "      <th>train_loss</th>\n",
       "      <th>valid_loss</th>\n",
       "      <th>accuracy</th>\n",
       "      <th>time</th>\n",
       "    </tr>\n",
       "  </thead>\n",
       "  <tbody>\n",
       "    <tr>\n",
       "      <td>0</td>\n",
       "      <td>0.182090</td>\n",
       "      <td>0.387611</td>\n",
       "      <td>0.891575</td>\n",
       "      <td>08:52</td>\n",
       "    </tr>\n",
       "    <tr>\n",
       "      <td>1</td>\n",
       "      <td>0.112322</td>\n",
       "      <td>0.370512</td>\n",
       "      <td>0.917421</td>\n",
       "      <td>08:43</td>\n",
       "    </tr>\n",
       "    <tr>\n",
       "      <td>2</td>\n",
       "      <td>0.077448</td>\n",
       "      <td>0.424330</td>\n",
       "      <td>0.909911</td>\n",
       "      <td>08:56</td>\n",
       "    </tr>\n",
       "    <tr>\n",
       "      <td>3</td>\n",
       "      <td>0.045707</td>\n",
       "      <td>0.496401</td>\n",
       "      <td>0.910823</td>\n",
       "      <td>08:38</td>\n",
       "    </tr>\n",
       "    <tr>\n",
       "      <td>4</td>\n",
       "      <td>0.031174</td>\n",
       "      <td>0.472732</td>\n",
       "      <td>0.906797</td>\n",
       "      <td>08:34</td>\n",
       "    </tr>\n",
       "  </tbody>\n",
       "</table>"
      ],
      "text/plain": [
       "<IPython.core.display.HTML object>"
      ]
     },
     "metadata": {},
     "output_type": "display_data"
    },
    {
     "data": {
      "text/html": [],
      "text/plain": [
       "<IPython.core.display.HTML object>"
      ]
     },
     "metadata": {},
     "output_type": "display_data"
    },
    {
     "name": "stdout",
     "output_type": "stream",
     "text": [
      "TensorCategory(0.9068)\n",
      "0.941176323916836\n",
      "              precision    recall  f1-score   support\n",
      "\n",
      "           0       0.97      0.98      0.98     65437\n",
      "           1       0.66      0.85      0.74      9076\n",
      "           2       0.69      0.47      0.56      2362\n",
      "           3       0.68      0.79      0.73      7645\n",
      "           4       0.95      0.92      0.93     79313\n",
      "           5       0.63      0.47      0.54      2337\n",
      "           6       0.60      0.55      0.58      6936\n",
      "\n",
      "    accuracy                           0.91    173106\n",
      "   macro avg       0.74      0.72      0.72    173106\n",
      "weighted avg       0.91      0.91      0.91    173106\n",
      "\n"
     ]
    }
   ],
   "source": [
    "for i, s in enumerate(splits):\n",
    "    print(f'===================== Fold {i} ============================')\n",
    "    train_and_evaluate_it(X, y, s, 32, 0.001, 5)"
   ]
  },
  {
   "cell_type": "code",
   "execution_count": 68,
   "id": "stainless-berkeley",
   "metadata": {},
   "outputs": [
    {
     "name": "stdout",
     "output_type": "stream",
     "text": [
      "===================== Fold 0 ============================\n"
     ]
    },
    {
     "data": {
      "text/html": [
       "<table border=\"1\" class=\"dataframe\">\n",
       "  <thead>\n",
       "    <tr style=\"text-align: left;\">\n",
       "      <th>epoch</th>\n",
       "      <th>train_loss</th>\n",
       "      <th>valid_loss</th>\n",
       "      <th>accuracy</th>\n",
       "      <th>time</th>\n",
       "    </tr>\n",
       "  </thead>\n",
       "  <tbody>\n",
       "    <tr>\n",
       "      <td>0</td>\n",
       "      <td>0.192117</td>\n",
       "      <td>0.478481</td>\n",
       "      <td>0.914746</td>\n",
       "      <td>04:11</td>\n",
       "    </tr>\n",
       "    <tr>\n",
       "      <td>1</td>\n",
       "      <td>0.137374</td>\n",
       "      <td>0.531632</td>\n",
       "      <td>0.901217</td>\n",
       "      <td>04:12</td>\n",
       "    </tr>\n",
       "    <tr>\n",
       "      <td>2</td>\n",
       "      <td>0.091880</td>\n",
       "      <td>0.835525</td>\n",
       "      <td>0.872547</td>\n",
       "      <td>04:11</td>\n",
       "    </tr>\n",
       "    <tr>\n",
       "      <td>3</td>\n",
       "      <td>0.073726</td>\n",
       "      <td>0.905985</td>\n",
       "      <td>0.866585</td>\n",
       "      <td>04:12</td>\n",
       "    </tr>\n",
       "    <tr>\n",
       "      <td>4</td>\n",
       "      <td>0.040617</td>\n",
       "      <td>0.941793</td>\n",
       "      <td>0.886729</td>\n",
       "      <td>04:15</td>\n",
       "    </tr>\n",
       "    <tr>\n",
       "      <td>5</td>\n",
       "      <td>0.036410</td>\n",
       "      <td>1.201981</td>\n",
       "      <td>0.886151</td>\n",
       "      <td>04:11</td>\n",
       "    </tr>\n",
       "    <tr>\n",
       "      <td>6</td>\n",
       "      <td>0.024768</td>\n",
       "      <td>1.151873</td>\n",
       "      <td>0.859457</td>\n",
       "      <td>04:12</td>\n",
       "    </tr>\n",
       "    <tr>\n",
       "      <td>7</td>\n",
       "      <td>0.014287</td>\n",
       "      <td>1.270909</td>\n",
       "      <td>0.851144</td>\n",
       "      <td>04:12</td>\n",
       "    </tr>\n",
       "    <tr>\n",
       "      <td>8</td>\n",
       "      <td>0.009809</td>\n",
       "      <td>1.233414</td>\n",
       "      <td>0.888786</td>\n",
       "      <td>04:12</td>\n",
       "    </tr>\n",
       "    <tr>\n",
       "      <td>9</td>\n",
       "      <td>0.008483</td>\n",
       "      <td>1.182646</td>\n",
       "      <td>0.889103</td>\n",
       "      <td>04:16</td>\n",
       "    </tr>\n",
       "  </tbody>\n",
       "</table>"
      ],
      "text/plain": [
       "<IPython.core.display.HTML object>"
      ]
     },
     "metadata": {},
     "output_type": "display_data"
    },
    {
     "data": {
      "text/html": [],
      "text/plain": [
       "<IPython.core.display.HTML object>"
      ]
     },
     "metadata": {},
     "output_type": "display_data"
    },
    {
     "name": "stdout",
     "output_type": "stream",
     "text": [
      "TensorCategory(0.8891)\n",
      "0.9147616805701646\n",
      "              precision    recall  f1-score   support\n",
      "\n",
      "           0       0.93      0.96      0.95     90944\n",
      "           1       0.61      0.11      0.19      1490\n",
      "           2       0.59      0.52      0.55       800\n",
      "           3       0.48      0.46      0.47      4183\n",
      "           4       0.89      0.89      0.89     69399\n",
      "           5       0.68      0.51      0.58       208\n",
      "           6       0.45      0.28      0.35      6083\n",
      "\n",
      "    accuracy                           0.89    173107\n",
      "   macro avg       0.66      0.53      0.57    173107\n",
      "weighted avg       0.88      0.89      0.88    173107\n",
      "\n",
      "===================== Fold 1 ============================\n"
     ]
    },
    {
     "data": {
      "text/html": [
       "<table border=\"1\" class=\"dataframe\">\n",
       "  <thead>\n",
       "    <tr style=\"text-align: left;\">\n",
       "      <th>epoch</th>\n",
       "      <th>train_loss</th>\n",
       "      <th>valid_loss</th>\n",
       "      <th>accuracy</th>\n",
       "      <th>time</th>\n",
       "    </tr>\n",
       "  </thead>\n",
       "  <tbody>\n",
       "    <tr>\n",
       "      <td>0</td>\n",
       "      <td>0.169116</td>\n",
       "      <td>0.461235</td>\n",
       "      <td>0.860381</td>\n",
       "      <td>04:37</td>\n",
       "    </tr>\n",
       "    <tr>\n",
       "      <td>1</td>\n",
       "      <td>0.127785</td>\n",
       "      <td>0.496822</td>\n",
       "      <td>0.862582</td>\n",
       "      <td>04:27</td>\n",
       "    </tr>\n",
       "    <tr>\n",
       "      <td>2</td>\n",
       "      <td>0.094168</td>\n",
       "      <td>0.553357</td>\n",
       "      <td>0.866984</td>\n",
       "      <td>04:28</td>\n",
       "    </tr>\n",
       "    <tr>\n",
       "      <td>3</td>\n",
       "      <td>0.069183</td>\n",
       "      <td>0.620400</td>\n",
       "      <td>0.853102</td>\n",
       "      <td>04:27</td>\n",
       "    </tr>\n",
       "    <tr>\n",
       "      <td>4</td>\n",
       "      <td>0.048440</td>\n",
       "      <td>0.614693</td>\n",
       "      <td>0.852253</td>\n",
       "      <td>04:29</td>\n",
       "    </tr>\n",
       "    <tr>\n",
       "      <td>5</td>\n",
       "      <td>0.037609</td>\n",
       "      <td>0.764535</td>\n",
       "      <td>0.842213</td>\n",
       "      <td>04:27</td>\n",
       "    </tr>\n",
       "    <tr>\n",
       "      <td>6</td>\n",
       "      <td>0.033478</td>\n",
       "      <td>0.787274</td>\n",
       "      <td>0.846089</td>\n",
       "      <td>04:35</td>\n",
       "    </tr>\n",
       "    <tr>\n",
       "      <td>7</td>\n",
       "      <td>0.020354</td>\n",
       "      <td>0.789770</td>\n",
       "      <td>0.853634</td>\n",
       "      <td>04:32</td>\n",
       "    </tr>\n",
       "    <tr>\n",
       "      <td>8</td>\n",
       "      <td>0.011825</td>\n",
       "      <td>0.955334</td>\n",
       "      <td>0.824565</td>\n",
       "      <td>04:31</td>\n",
       "    </tr>\n",
       "    <tr>\n",
       "      <td>9</td>\n",
       "      <td>0.013621</td>\n",
       "      <td>0.932205</td>\n",
       "      <td>0.825761</td>\n",
       "      <td>04:27</td>\n",
       "    </tr>\n",
       "  </tbody>\n",
       "</table>"
      ],
      "text/plain": [
       "<IPython.core.display.HTML object>"
      ]
     },
     "metadata": {},
     "output_type": "display_data"
    },
    {
     "data": {
      "text/html": [],
      "text/plain": [
       "<IPython.core.display.HTML object>"
      ]
     },
     "metadata": {},
     "output_type": "display_data"
    },
    {
     "name": "stdout",
     "output_type": "stream",
     "text": [
      "TensorCategory(0.8258)\n",
      "0.925981647940695\n",
      "              precision    recall  f1-score   support\n",
      "\n",
      "           0       0.90      0.97      0.93     73383\n",
      "           1       0.76      0.21      0.33     11055\n",
      "           2       0.59      0.62      0.60      1664\n",
      "           3       0.74      0.80      0.77     19469\n",
      "           4       0.80      0.91      0.85     55886\n",
      "           5       0.57      0.66      0.61      1110\n",
      "           6       0.40      0.15      0.21     10540\n",
      "\n",
      "    accuracy                           0.83    173107\n",
      "   macro avg       0.68      0.62      0.62    173107\n",
      "weighted avg       0.81      0.83      0.80    173107\n",
      "\n",
      "===================== Fold 2 ============================\n"
     ]
    },
    {
     "data": {
      "text/html": [
       "<table border=\"1\" class=\"dataframe\">\n",
       "  <thead>\n",
       "    <tr style=\"text-align: left;\">\n",
       "      <th>epoch</th>\n",
       "      <th>train_loss</th>\n",
       "      <th>valid_loss</th>\n",
       "      <th>accuracy</th>\n",
       "      <th>time</th>\n",
       "    </tr>\n",
       "  </thead>\n",
       "  <tbody>\n",
       "    <tr>\n",
       "      <td>0</td>\n",
       "      <td>0.166680</td>\n",
       "      <td>0.974915</td>\n",
       "      <td>0.664402</td>\n",
       "      <td>04:23</td>\n",
       "    </tr>\n",
       "    <tr>\n",
       "      <td>1</td>\n",
       "      <td>0.121187</td>\n",
       "      <td>0.617001</td>\n",
       "      <td>0.844413</td>\n",
       "      <td>04:26</td>\n",
       "    </tr>\n",
       "    <tr>\n",
       "      <td>2</td>\n",
       "      <td>0.089924</td>\n",
       "      <td>1.080682</td>\n",
       "      <td>0.686123</td>\n",
       "      <td>04:18</td>\n",
       "    </tr>\n",
       "    <tr>\n",
       "      <td>3</td>\n",
       "      <td>0.065691</td>\n",
       "      <td>0.875021</td>\n",
       "      <td>0.793231</td>\n",
       "      <td>04:19</td>\n",
       "    </tr>\n",
       "    <tr>\n",
       "      <td>4</td>\n",
       "      <td>0.050130</td>\n",
       "      <td>0.893869</td>\n",
       "      <td>0.799383</td>\n",
       "      <td>04:18</td>\n",
       "    </tr>\n",
       "    <tr>\n",
       "      <td>5</td>\n",
       "      <td>0.042606</td>\n",
       "      <td>1.045629</td>\n",
       "      <td>0.775964</td>\n",
       "      <td>04:17</td>\n",
       "    </tr>\n",
       "    <tr>\n",
       "      <td>6</td>\n",
       "      <td>0.030515</td>\n",
       "      <td>1.587570</td>\n",
       "      <td>0.698924</td>\n",
       "      <td>04:18</td>\n",
       "    </tr>\n",
       "    <tr>\n",
       "      <td>7</td>\n",
       "      <td>0.018131</td>\n",
       "      <td>1.318268</td>\n",
       "      <td>0.760043</td>\n",
       "      <td>04:18</td>\n",
       "    </tr>\n",
       "    <tr>\n",
       "      <td>8</td>\n",
       "      <td>0.014963</td>\n",
       "      <td>1.408692</td>\n",
       "      <td>0.746924</td>\n",
       "      <td>04:18</td>\n",
       "    </tr>\n",
       "    <tr>\n",
       "      <td>9</td>\n",
       "      <td>0.019683</td>\n",
       "      <td>1.476538</td>\n",
       "      <td>0.729957</td>\n",
       "      <td>04:18</td>\n",
       "    </tr>\n",
       "  </tbody>\n",
       "</table>"
      ],
      "text/plain": [
       "<IPython.core.display.HTML object>"
      ]
     },
     "metadata": {},
     "output_type": "display_data"
    },
    {
     "data": {
      "text/html": [],
      "text/plain": [
       "<IPython.core.display.HTML object>"
      ]
     },
     "metadata": {},
     "output_type": "display_data"
    },
    {
     "name": "stdout",
     "output_type": "stream",
     "text": [
      "TensorCategory(0.7300)\n",
      "0.8872176973699377\n",
      "              precision    recall  f1-score   support\n",
      "\n",
      "           0       0.98      0.98      0.98     64924\n",
      "           1       0.69      0.69      0.69      7144\n",
      "           2       0.34      0.55      0.42      1897\n",
      "           3       0.75      0.39      0.52     40918\n",
      "           4       0.53      0.86      0.65     42810\n",
      "           5       0.70      0.62      0.66      3024\n",
      "           6       0.50      0.16      0.25     12389\n",
      "\n",
      "    accuracy                           0.73    173106\n",
      "   macro avg       0.64      0.61      0.59    173106\n",
      "weighted avg       0.75      0.73      0.71    173106\n",
      "\n",
      "===================== Fold 3 ============================\n"
     ]
    },
    {
     "data": {
      "text/html": [
       "<table border=\"1\" class=\"dataframe\">\n",
       "  <thead>\n",
       "    <tr style=\"text-align: left;\">\n",
       "      <th>epoch</th>\n",
       "      <th>train_loss</th>\n",
       "      <th>valid_loss</th>\n",
       "      <th>accuracy</th>\n",
       "      <th>time</th>\n",
       "    </tr>\n",
       "  </thead>\n",
       "  <tbody>\n",
       "    <tr>\n",
       "      <td>0</td>\n",
       "      <td>0.171142</td>\n",
       "      <td>0.396538</td>\n",
       "      <td>0.868774</td>\n",
       "      <td>04:17</td>\n",
       "    </tr>\n",
       "    <tr>\n",
       "      <td>1</td>\n",
       "      <td>0.124530</td>\n",
       "      <td>0.384550</td>\n",
       "      <td>0.886232</td>\n",
       "      <td>04:20</td>\n",
       "    </tr>\n",
       "    <tr>\n",
       "      <td>2</td>\n",
       "      <td>0.094011</td>\n",
       "      <td>0.399712</td>\n",
       "      <td>0.888057</td>\n",
       "      <td>04:18</td>\n",
       "    </tr>\n",
       "    <tr>\n",
       "      <td>3</td>\n",
       "      <td>0.062381</td>\n",
       "      <td>0.469877</td>\n",
       "      <td>0.888802</td>\n",
       "      <td>04:20</td>\n",
       "    </tr>\n",
       "    <tr>\n",
       "      <td>4</td>\n",
       "      <td>0.044512</td>\n",
       "      <td>0.478237</td>\n",
       "      <td>0.888479</td>\n",
       "      <td>04:23</td>\n",
       "    </tr>\n",
       "    <tr>\n",
       "      <td>5</td>\n",
       "      <td>0.041904</td>\n",
       "      <td>0.518278</td>\n",
       "      <td>0.891500</td>\n",
       "      <td>04:38</td>\n",
       "    </tr>\n",
       "    <tr>\n",
       "      <td>6</td>\n",
       "      <td>0.019822</td>\n",
       "      <td>0.548756</td>\n",
       "      <td>0.883927</td>\n",
       "      <td>04:26</td>\n",
       "    </tr>\n",
       "    <tr>\n",
       "      <td>7</td>\n",
       "      <td>0.015983</td>\n",
       "      <td>0.570212</td>\n",
       "      <td>0.894983</td>\n",
       "      <td>04:15</td>\n",
       "    </tr>\n",
       "    <tr>\n",
       "      <td>8</td>\n",
       "      <td>0.013783</td>\n",
       "      <td>0.595388</td>\n",
       "      <td>0.891564</td>\n",
       "      <td>04:16</td>\n",
       "    </tr>\n",
       "    <tr>\n",
       "      <td>9</td>\n",
       "      <td>0.011557</td>\n",
       "      <td>0.619966</td>\n",
       "      <td>0.892430</td>\n",
       "      <td>04:15</td>\n",
       "    </tr>\n",
       "  </tbody>\n",
       "</table>"
      ],
      "text/plain": [
       "<IPython.core.display.HTML object>"
      ]
     },
     "metadata": {},
     "output_type": "display_data"
    },
    {
     "data": {
      "text/html": [],
      "text/plain": [
       "<IPython.core.display.HTML object>"
      ]
     },
     "metadata": {},
     "output_type": "display_data"
    },
    {
     "name": "stdout",
     "output_type": "stream",
     "text": [
      "TensorCategory(0.8924)\n",
      "0.9158244066468386\n",
      "              precision    recall  f1-score   support\n",
      "\n",
      "           0       0.99      0.98      0.98     52943\n",
      "           1       0.69      0.79      0.74      4701\n",
      "           2       0.65      0.44      0.53      2445\n",
      "           3       0.50      0.68      0.58      6900\n",
      "           4       0.93      0.92      0.93     94581\n",
      "           5       0.51      0.43      0.47       800\n",
      "           6       0.55      0.52      0.54     10736\n",
      "\n",
      "    accuracy                           0.89    173106\n",
      "   macro avg       0.69      0.68      0.68    173106\n",
      "weighted avg       0.90      0.89      0.89    173106\n",
      "\n",
      "===================== Fold 4 ============================\n"
     ]
    },
    {
     "data": {
      "text/html": [
       "<table border=\"1\" class=\"dataframe\">\n",
       "  <thead>\n",
       "    <tr style=\"text-align: left;\">\n",
       "      <th>epoch</th>\n",
       "      <th>train_loss</th>\n",
       "      <th>valid_loss</th>\n",
       "      <th>accuracy</th>\n",
       "      <th>time</th>\n",
       "    </tr>\n",
       "  </thead>\n",
       "  <tbody>\n",
       "    <tr>\n",
       "      <td>0</td>\n",
       "      <td>0.168190</td>\n",
       "      <td>0.371519</td>\n",
       "      <td>0.891847</td>\n",
       "      <td>04:14</td>\n",
       "    </tr>\n",
       "    <tr>\n",
       "      <td>1</td>\n",
       "      <td>0.132633</td>\n",
       "      <td>0.376856</td>\n",
       "      <td>0.906583</td>\n",
       "      <td>04:16</td>\n",
       "    </tr>\n",
       "    <tr>\n",
       "      <td>2</td>\n",
       "      <td>0.087544</td>\n",
       "      <td>0.411516</td>\n",
       "      <td>0.904515</td>\n",
       "      <td>04:14</td>\n",
       "    </tr>\n",
       "    <tr>\n",
       "      <td>3</td>\n",
       "      <td>0.069815</td>\n",
       "      <td>0.437589</td>\n",
       "      <td>0.904284</td>\n",
       "      <td>04:15</td>\n",
       "    </tr>\n",
       "    <tr>\n",
       "      <td>4</td>\n",
       "      <td>0.055059</td>\n",
       "      <td>0.518910</td>\n",
       "      <td>0.898709</td>\n",
       "      <td>04:14</td>\n",
       "    </tr>\n",
       "    <tr>\n",
       "      <td>5</td>\n",
       "      <td>0.043265</td>\n",
       "      <td>0.525176</td>\n",
       "      <td>0.910148</td>\n",
       "      <td>04:14</td>\n",
       "    </tr>\n",
       "    <tr>\n",
       "      <td>6</td>\n",
       "      <td>0.025105</td>\n",
       "      <td>0.555834</td>\n",
       "      <td>0.904128</td>\n",
       "      <td>04:14</td>\n",
       "    </tr>\n",
       "    <tr>\n",
       "      <td>7</td>\n",
       "      <td>0.018373</td>\n",
       "      <td>0.602337</td>\n",
       "      <td>0.904596</td>\n",
       "      <td>04:15</td>\n",
       "    </tr>\n",
       "    <tr>\n",
       "      <td>8</td>\n",
       "      <td>0.012915</td>\n",
       "      <td>0.600222</td>\n",
       "      <td>0.905243</td>\n",
       "      <td>04:14</td>\n",
       "    </tr>\n",
       "    <tr>\n",
       "      <td>9</td>\n",
       "      <td>0.012689</td>\n",
       "      <td>0.616123</td>\n",
       "      <td>0.904411</td>\n",
       "      <td>04:15</td>\n",
       "    </tr>\n",
       "  </tbody>\n",
       "</table>"
      ],
      "text/plain": [
       "<IPython.core.display.HTML object>"
      ]
     },
     "metadata": {},
     "output_type": "display_data"
    },
    {
     "data": {
      "text/html": [],
      "text/plain": [
       "<IPython.core.display.HTML object>"
      ]
     },
     "metadata": {},
     "output_type": "display_data"
    },
    {
     "name": "stdout",
     "output_type": "stream",
     "text": [
      "TensorCategory(0.9044)\n",
      "0.9354393957241324\n",
      "              precision    recall  f1-score   support\n",
      "\n",
      "           0       0.97      0.98      0.98     65608\n",
      "           1       0.67      0.87      0.76      9097\n",
      "           2       0.62      0.45      0.52      2186\n",
      "           3       0.74      0.73      0.73      8865\n",
      "           4       0.94      0.92      0.93     78432\n",
      "           5       0.60      0.50      0.55      2105\n",
      "           6       0.52      0.49      0.51      6813\n",
      "\n",
      "    accuracy                           0.90    173106\n",
      "   macro avg       0.72      0.71      0.71    173106\n",
      "weighted avg       0.91      0.90      0.90    173106\n",
      "\n"
     ]
    }
   ],
   "source": [
    "for i, s in enumerate(splits):\n",
    "    print(f'===================== Fold {i} ============================')\n",
    "    train_and_evaluate_it(X, y, s, 64, 0.001, 10)"
   ]
  },
  {
   "cell_type": "code",
   "execution_count": 86,
   "id": "lesser-process",
   "metadata": {},
   "outputs": [
    {
     "name": "stdout",
     "output_type": "stream",
     "text": [
      "===================== Fold 0 ============================\n"
     ]
    },
    {
     "data": {
      "text/html": [
       "<table border=\"1\" class=\"dataframe\">\n",
       "  <thead>\n",
       "    <tr style=\"text-align: left;\">\n",
       "      <th>epoch</th>\n",
       "      <th>train_loss</th>\n",
       "      <th>valid_loss</th>\n",
       "      <th>accuracy</th>\n",
       "      <th>time</th>\n",
       "    </tr>\n",
       "  </thead>\n",
       "  <tbody>\n",
       "    <tr>\n",
       "      <td>0</td>\n",
       "      <td>0.148309</td>\n",
       "      <td>0.490811</td>\n",
       "      <td>0.906272</td>\n",
       "      <td>08:42</td>\n",
       "    </tr>\n",
       "    <tr>\n",
       "      <td>1</td>\n",
       "      <td>0.150286</td>\n",
       "      <td>0.554827</td>\n",
       "      <td>0.899975</td>\n",
       "      <td>08:28</td>\n",
       "    </tr>\n",
       "    <tr>\n",
       "      <td>2</td>\n",
       "      <td>0.137906</td>\n",
       "      <td>0.574195</td>\n",
       "      <td>0.912597</td>\n",
       "      <td>08:27</td>\n",
       "    </tr>\n",
       "    <tr>\n",
       "      <td>3</td>\n",
       "      <td>0.115730</td>\n",
       "      <td>0.763839</td>\n",
       "      <td>0.893598</td>\n",
       "      <td>08:38</td>\n",
       "    </tr>\n",
       "    <tr>\n",
       "      <td>4</td>\n",
       "      <td>0.121278</td>\n",
       "      <td>0.809897</td>\n",
       "      <td>0.905342</td>\n",
       "      <td>08:35</td>\n",
       "    </tr>\n",
       "    <tr>\n",
       "      <td>5</td>\n",
       "      <td>0.084462</td>\n",
       "      <td>0.883673</td>\n",
       "      <td>0.890790</td>\n",
       "      <td>08:35</td>\n",
       "    </tr>\n",
       "    <tr>\n",
       "      <td>6</td>\n",
       "      <td>0.080326</td>\n",
       "      <td>0.884031</td>\n",
       "      <td>0.884135</td>\n",
       "      <td>08:34</td>\n",
       "    </tr>\n",
       "    <tr>\n",
       "      <td>7</td>\n",
       "      <td>0.068966</td>\n",
       "      <td>1.041352</td>\n",
       "      <td>0.903990</td>\n",
       "      <td>08:30</td>\n",
       "    </tr>\n",
       "    <tr>\n",
       "      <td>8</td>\n",
       "      <td>0.067722</td>\n",
       "      <td>0.905953</td>\n",
       "      <td>0.905411</td>\n",
       "      <td>08:31</td>\n",
       "    </tr>\n",
       "    <tr>\n",
       "      <td>9</td>\n",
       "      <td>0.065193</td>\n",
       "      <td>1.354697</td>\n",
       "      <td>0.741692</td>\n",
       "      <td>08:31</td>\n",
       "    </tr>\n",
       "    <tr>\n",
       "      <td>10</td>\n",
       "      <td>0.055273</td>\n",
       "      <td>0.898702</td>\n",
       "      <td>0.897693</td>\n",
       "      <td>08:33</td>\n",
       "    </tr>\n",
       "    <tr>\n",
       "      <td>11</td>\n",
       "      <td>0.059778</td>\n",
       "      <td>1.048658</td>\n",
       "      <td>0.887272</td>\n",
       "      <td>08:31</td>\n",
       "    </tr>\n",
       "    <tr>\n",
       "      <td>12</td>\n",
       "      <td>0.046724</td>\n",
       "      <td>1.044347</td>\n",
       "      <td>0.893453</td>\n",
       "      <td>08:31</td>\n",
       "    </tr>\n",
       "    <tr>\n",
       "      <td>13</td>\n",
       "      <td>0.044655</td>\n",
       "      <td>1.074643</td>\n",
       "      <td>0.903597</td>\n",
       "      <td>08:31</td>\n",
       "    </tr>\n",
       "    <tr>\n",
       "      <td>14</td>\n",
       "      <td>0.048989</td>\n",
       "      <td>0.962205</td>\n",
       "      <td>0.890559</td>\n",
       "      <td>08:31</td>\n",
       "    </tr>\n",
       "    <tr>\n",
       "      <td>15</td>\n",
       "      <td>0.034158</td>\n",
       "      <td>1.018835</td>\n",
       "      <td>0.902754</td>\n",
       "      <td>08:34</td>\n",
       "    </tr>\n",
       "    <tr>\n",
       "      <td>16</td>\n",
       "      <td>0.029716</td>\n",
       "      <td>1.048295</td>\n",
       "      <td>0.881565</td>\n",
       "      <td>08:34</td>\n",
       "    </tr>\n",
       "    <tr>\n",
       "      <td>17</td>\n",
       "      <td>0.023394</td>\n",
       "      <td>1.041878</td>\n",
       "      <td>0.912956</td>\n",
       "      <td>08:34</td>\n",
       "    </tr>\n",
       "    <tr>\n",
       "      <td>18</td>\n",
       "      <td>0.011546</td>\n",
       "      <td>1.253719</td>\n",
       "      <td>0.906289</td>\n",
       "      <td>08:33</td>\n",
       "    </tr>\n",
       "    <tr>\n",
       "      <td>19</td>\n",
       "      <td>0.016104</td>\n",
       "      <td>1.139106</td>\n",
       "      <td>0.899363</td>\n",
       "      <td>08:32</td>\n",
       "    </tr>\n",
       "    <tr>\n",
       "      <td>20</td>\n",
       "      <td>0.016779</td>\n",
       "      <td>1.117105</td>\n",
       "      <td>0.905417</td>\n",
       "      <td>08:34</td>\n",
       "    </tr>\n",
       "    <tr>\n",
       "      <td>21</td>\n",
       "      <td>0.007223</td>\n",
       "      <td>1.225595</td>\n",
       "      <td>0.905336</td>\n",
       "      <td>08:34</td>\n",
       "    </tr>\n",
       "    <tr>\n",
       "      <td>22</td>\n",
       "      <td>0.008367</td>\n",
       "      <td>1.053779</td>\n",
       "      <td>0.910420</td>\n",
       "      <td>08:35</td>\n",
       "    </tr>\n",
       "    <tr>\n",
       "      <td>23</td>\n",
       "      <td>0.007971</td>\n",
       "      <td>1.171677</td>\n",
       "      <td>0.906549</td>\n",
       "      <td>08:37</td>\n",
       "    </tr>\n",
       "    <tr>\n",
       "      <td>24</td>\n",
       "      <td>0.007803</td>\n",
       "      <td>1.187363</td>\n",
       "      <td>0.908652</td>\n",
       "      <td>08:41</td>\n",
       "    </tr>\n",
       "  </tbody>\n",
       "</table>"
      ],
      "text/plain": [
       "<IPython.core.display.HTML object>"
      ]
     },
     "metadata": {},
     "output_type": "display_data"
    },
    {
     "data": {
      "image/png": "[encoded data removed]",
      "text/plain": [
       "<Figure size 864x288 with 2 Axes>"
      ]
     },
     "metadata": {
      "needs_background": "light"
     },
     "output_type": "display_data"
    },
    {
     "data": {
      "text/html": [],
      "text/plain": [
       "<IPython.core.display.HTML object>"
      ]
     },
     "metadata": {},
     "output_type": "display_data"
    },
    {
     "name": "stdout",
     "output_type": "stream",
     "text": [
      "TensorCategory(0.9087)\n",
      "0.9286539842381678\n",
      "              precision    recall  f1-score   support\n",
      "\n",
      "           0       0.93      0.97      0.95     90989\n",
      "           1       0.66      0.18      0.29      1006\n",
      "           2       0.53      0.72      0.61       503\n",
      "           3       0.52      0.70      0.60      2975\n",
      "           4       0.93      0.89      0.91     72530\n",
      "           5       0.69      0.41      0.52       264\n",
      "           6       0.46      0.36      0.40      4840\n",
      "\n",
      "    accuracy                           0.91    173107\n",
      "   macro avg       0.67      0.61      0.61    173107\n",
      "weighted avg       0.91      0.91      0.91    173107\n",
      "\n"
     ]
    },
    {
     "data": {
      "text/html": [],
      "text/plain": [
       "<IPython.core.display.HTML object>"
      ]
     },
     "metadata": {},
     "output_type": "display_data"
    },
    {
     "name": "stdout",
     "output_type": "stream",
     "text": [
      "===================== Fold 1 ============================\n"
     ]
    },
    {
     "data": {
      "text/html": [
       "<table border=\"1\" class=\"dataframe\">\n",
       "  <thead>\n",
       "    <tr style=\"text-align: left;\">\n",
       "      <th>epoch</th>\n",
       "      <th>train_loss</th>\n",
       "      <th>valid_loss</th>\n",
       "      <th>accuracy</th>\n",
       "      <th>time</th>\n",
       "    </tr>\n",
       "  </thead>\n",
       "  <tbody>\n",
       "    <tr>\n",
       "      <td>0</td>\n",
       "      <td>0.156704</td>\n",
       "      <td>0.503639</td>\n",
       "      <td>0.852351</td>\n",
       "      <td>08:33</td>\n",
       "    </tr>\n",
       "    <tr>\n",
       "      <td>1</td>\n",
       "      <td>0.130964</td>\n",
       "      <td>0.492473</td>\n",
       "      <td>0.868960</td>\n",
       "      <td>08:33</td>\n",
       "    </tr>\n",
       "    <tr>\n",
       "      <td>2</td>\n",
       "      <td>0.120530</td>\n",
       "      <td>0.594902</td>\n",
       "      <td>0.867336</td>\n",
       "      <td>08:34</td>\n",
       "    </tr>\n",
       "    <tr>\n",
       "      <td>3</td>\n",
       "      <td>0.094193</td>\n",
       "      <td>0.699330</td>\n",
       "      <td>0.813139</td>\n",
       "      <td>08:35</td>\n",
       "    </tr>\n",
       "    <tr>\n",
       "      <td>4</td>\n",
       "      <td>0.079059</td>\n",
       "      <td>0.607433</td>\n",
       "      <td>0.831803</td>\n",
       "      <td>08:42</td>\n",
       "    </tr>\n",
       "    <tr>\n",
       "      <td>5</td>\n",
       "      <td>0.071872</td>\n",
       "      <td>0.527363</td>\n",
       "      <td>0.889201</td>\n",
       "      <td>08:38</td>\n",
       "    </tr>\n",
       "    <tr>\n",
       "      <td>6</td>\n",
       "      <td>0.075039</td>\n",
       "      <td>0.617000</td>\n",
       "      <td>0.840116</td>\n",
       "      <td>08:37</td>\n",
       "    </tr>\n",
       "    <tr>\n",
       "      <td>7</td>\n",
       "      <td>0.072179</td>\n",
       "      <td>0.682118</td>\n",
       "      <td>0.845910</td>\n",
       "      <td>08:36</td>\n",
       "    </tr>\n",
       "    <tr>\n",
       "      <td>8</td>\n",
       "      <td>0.059953</td>\n",
       "      <td>0.744514</td>\n",
       "      <td>0.842652</td>\n",
       "      <td>08:37</td>\n",
       "    </tr>\n",
       "    <tr>\n",
       "      <td>9</td>\n",
       "      <td>0.066534</td>\n",
       "      <td>0.718300</td>\n",
       "      <td>0.855355</td>\n",
       "      <td>08:36</td>\n",
       "    </tr>\n",
       "    <tr>\n",
       "      <td>10</td>\n",
       "      <td>0.056593</td>\n",
       "      <td>0.652810</td>\n",
       "      <td>0.864200</td>\n",
       "      <td>08:33</td>\n",
       "    </tr>\n",
       "    <tr>\n",
       "      <td>11</td>\n",
       "      <td>0.062048</td>\n",
       "      <td>0.850597</td>\n",
       "      <td>0.814242</td>\n",
       "      <td>08:32</td>\n",
       "    </tr>\n",
       "    <tr>\n",
       "      <td>12</td>\n",
       "      <td>0.044138</td>\n",
       "      <td>0.789284</td>\n",
       "      <td>0.834415</td>\n",
       "      <td>08:32</td>\n",
       "    </tr>\n",
       "    <tr>\n",
       "      <td>13</td>\n",
       "      <td>0.042055</td>\n",
       "      <td>0.747996</td>\n",
       "      <td>0.867180</td>\n",
       "      <td>08:32</td>\n",
       "    </tr>\n",
       "    <tr>\n",
       "      <td>14</td>\n",
       "      <td>0.041115</td>\n",
       "      <td>0.893391</td>\n",
       "      <td>0.846632</td>\n",
       "      <td>08:31</td>\n",
       "    </tr>\n",
       "    <tr>\n",
       "      <td>15</td>\n",
       "      <td>0.036514</td>\n",
       "      <td>0.806113</td>\n",
       "      <td>0.872252</td>\n",
       "      <td>08:33</td>\n",
       "    </tr>\n",
       "    <tr>\n",
       "      <td>16</td>\n",
       "      <td>0.033274</td>\n",
       "      <td>0.910831</td>\n",
       "      <td>0.835576</td>\n",
       "      <td>08:34</td>\n",
       "    </tr>\n",
       "    <tr>\n",
       "      <td>17</td>\n",
       "      <td>0.022868</td>\n",
       "      <td>0.937812</td>\n",
       "      <td>0.834397</td>\n",
       "      <td>08:37</td>\n",
       "    </tr>\n",
       "    <tr>\n",
       "      <td>18</td>\n",
       "      <td>0.018614</td>\n",
       "      <td>0.888460</td>\n",
       "      <td>0.842987</td>\n",
       "      <td>08:38</td>\n",
       "    </tr>\n",
       "    <tr>\n",
       "      <td>19</td>\n",
       "      <td>0.030526</td>\n",
       "      <td>0.962496</td>\n",
       "      <td>0.858954</td>\n",
       "      <td>08:38</td>\n",
       "    </tr>\n",
       "    <tr>\n",
       "      <td>20</td>\n",
       "      <td>0.010618</td>\n",
       "      <td>0.986148</td>\n",
       "      <td>0.850341</td>\n",
       "      <td>08:37</td>\n",
       "    </tr>\n",
       "    <tr>\n",
       "      <td>21</td>\n",
       "      <td>0.016671</td>\n",
       "      <td>1.123266</td>\n",
       "      <td>0.804901</td>\n",
       "      <td>08:39</td>\n",
       "    </tr>\n",
       "    <tr>\n",
       "      <td>22</td>\n",
       "      <td>0.009200</td>\n",
       "      <td>1.068572</td>\n",
       "      <td>0.829689</td>\n",
       "      <td>08:41</td>\n",
       "    </tr>\n",
       "    <tr>\n",
       "      <td>23</td>\n",
       "      <td>0.012481</td>\n",
       "      <td>0.999072</td>\n",
       "      <td>0.846569</td>\n",
       "      <td>08:41</td>\n",
       "    </tr>\n",
       "    <tr>\n",
       "      <td>24</td>\n",
       "      <td>0.012245</td>\n",
       "      <td>1.212479</td>\n",
       "      <td>0.813537</td>\n",
       "      <td>08:41</td>\n",
       "    </tr>\n",
       "  </tbody>\n",
       "</table>"
      ],
      "text/plain": [
       "<IPython.core.display.HTML object>"
      ]
     },
     "metadata": {},
     "output_type": "display_data"
    },
    {
     "data": {
      "image/png": "[encoded data removed]",
      "text/plain": [
       "<Figure size 720x720 with 1 Axes>"
      ]
     },
     "metadata": {
      "needs_background": "light"
     },
     "output_type": "display_data"
    },
    {
     "data": {
      "image/png": "[encoded data removed]",
      "text/plain": [
       "<Figure size 720x720 with 1 Axes>"
      ]
     },
     "metadata": {
      "needs_background": "light"
     },
     "output_type": "display_data"
    },
    {
     "data": {
      "image/png": "[encoded data removed]",
      "text/plain": [
       "<Figure size 864x288 with 2 Axes>"
      ]
     },
     "metadata": {
      "needs_background": "light"
     },
     "output_type": "display_data"
    },
    {
     "data": {
      "text/html": [],
      "text/plain": [
       "<IPython.core.display.HTML object>"
      ]
     },
     "metadata": {},
     "output_type": "display_data"
    },
    {
     "name": "stdout",
     "output_type": "stream",
     "text": [
      "TensorCategory(0.8135)\n",
      "0.9184246059955333\n",
      "              precision    recall  f1-score   support\n",
      "\n",
      "           0       0.83      0.96      0.89     67848\n",
      "           1       0.78      0.14      0.24     16764\n",
      "           2       0.65      0.73      0.69      1570\n",
      "           3       0.72      0.78      0.75     19448\n",
      "           4       0.86      0.91      0.88     60120\n",
      "           5       0.51      0.66      0.58       999\n",
      "           6       0.40      0.24      0.30      6358\n",
      "\n",
      "    accuracy                           0.81    173107\n",
      "   macro avg       0.68      0.63      0.62    173107\n",
      "weighted avg       0.80      0.81      0.78    173107\n",
      "\n"
     ]
    },
    {
     "data": {
      "text/html": [],
      "text/plain": [
       "<IPython.core.display.HTML object>"
      ]
     },
     "metadata": {},
     "output_type": "display_data"
    },
    {
     "name": "stdout",
     "output_type": "stream",
     "text": [
      "===================== Fold 2 ============================\n"
     ]
    },
    {
     "data": {
      "text/html": [
       "<table border=\"1\" class=\"dataframe\">\n",
       "  <thead>\n",
       "    <tr style=\"text-align: left;\">\n",
       "      <th>epoch</th>\n",
       "      <th>train_loss</th>\n",
       "      <th>valid_loss</th>\n",
       "      <th>accuracy</th>\n",
       "      <th>time</th>\n",
       "    </tr>\n",
       "  </thead>\n",
       "  <tbody>\n",
       "    <tr>\n",
       "      <td>0</td>\n",
       "      <td>0.171662</td>\n",
       "      <td>0.793193</td>\n",
       "      <td>0.700051</td>\n",
       "      <td>08:37</td>\n",
       "    </tr>\n",
       "    <tr>\n",
       "      <td>1</td>\n",
       "      <td>0.123425</td>\n",
       "      <td>0.585221</td>\n",
       "      <td>0.843651</td>\n",
       "      <td>08:40</td>\n",
       "    </tr>\n",
       "    <tr>\n",
       "      <td>2</td>\n",
       "      <td>0.130111</td>\n",
       "      <td>1.328161</td>\n",
       "      <td>0.703996</td>\n",
       "      <td>08:41</td>\n",
       "    </tr>\n",
       "    <tr>\n",
       "      <td>3</td>\n",
       "      <td>0.106742</td>\n",
       "      <td>0.771652</td>\n",
       "      <td>0.768541</td>\n",
       "      <td>08:42</td>\n",
       "    </tr>\n",
       "    <tr>\n",
       "      <td>4</td>\n",
       "      <td>0.088262</td>\n",
       "      <td>1.053944</td>\n",
       "      <td>0.683454</td>\n",
       "      <td>08:40</td>\n",
       "    </tr>\n",
       "    <tr>\n",
       "      <td>5</td>\n",
       "      <td>0.073234</td>\n",
       "      <td>0.791815</td>\n",
       "      <td>0.790891</td>\n",
       "      <td>08:40</td>\n",
       "    </tr>\n",
       "    <tr>\n",
       "      <td>6</td>\n",
       "      <td>0.080662</td>\n",
       "      <td>0.770501</td>\n",
       "      <td>0.801717</td>\n",
       "      <td>08:46</td>\n",
       "    </tr>\n",
       "    <tr>\n",
       "      <td>7</td>\n",
       "      <td>0.059503</td>\n",
       "      <td>0.939035</td>\n",
       "      <td>0.738599</td>\n",
       "      <td>08:42</td>\n",
       "    </tr>\n",
       "    <tr>\n",
       "      <td>8</td>\n",
       "      <td>0.059097</td>\n",
       "      <td>1.129649</td>\n",
       "      <td>0.722598</td>\n",
       "      <td>08:42</td>\n",
       "    </tr>\n",
       "    <tr>\n",
       "      <td>9</td>\n",
       "      <td>0.053891</td>\n",
       "      <td>0.818078</td>\n",
       "      <td>0.829388</td>\n",
       "      <td>08:59</td>\n",
       "    </tr>\n",
       "    <tr>\n",
       "      <td>10</td>\n",
       "      <td>0.050323</td>\n",
       "      <td>1.020317</td>\n",
       "      <td>0.756178</td>\n",
       "      <td>08:27</td>\n",
       "    </tr>\n",
       "    <tr>\n",
       "      <td>11</td>\n",
       "      <td>0.045444</td>\n",
       "      <td>1.811537</td>\n",
       "      <td>0.690375</td>\n",
       "      <td>08:27</td>\n",
       "    </tr>\n",
       "    <tr>\n",
       "      <td>12</td>\n",
       "      <td>0.047929</td>\n",
       "      <td>0.812555</td>\n",
       "      <td>0.826927</td>\n",
       "      <td>09:19</td>\n",
       "    </tr>\n",
       "    <tr>\n",
       "      <td>13</td>\n",
       "      <td>0.037381</td>\n",
       "      <td>1.222550</td>\n",
       "      <td>0.731679</td>\n",
       "      <td>09:13</td>\n",
       "    </tr>\n",
       "    <tr>\n",
       "      <td>14</td>\n",
       "      <td>0.035808</td>\n",
       "      <td>0.861199</td>\n",
       "      <td>0.816806</td>\n",
       "      <td>08:56</td>\n",
       "    </tr>\n",
       "    <tr>\n",
       "      <td>15</td>\n",
       "      <td>0.036558</td>\n",
       "      <td>0.926108</td>\n",
       "      <td>0.786992</td>\n",
       "      <td>08:30</td>\n",
       "    </tr>\n",
       "    <tr>\n",
       "      <td>16</td>\n",
       "      <td>0.030197</td>\n",
       "      <td>1.362279</td>\n",
       "      <td>0.699930</td>\n",
       "      <td>09:55</td>\n",
       "    </tr>\n",
       "    <tr>\n",
       "      <td>17</td>\n",
       "      <td>0.036935</td>\n",
       "      <td>1.922403</td>\n",
       "      <td>0.692841</td>\n",
       "      <td>09:16</td>\n",
       "    </tr>\n",
       "    <tr>\n",
       "      <td>18</td>\n",
       "      <td>0.019335</td>\n",
       "      <td>1.553905</td>\n",
       "      <td>0.659394</td>\n",
       "      <td>09:31</td>\n",
       "    </tr>\n",
       "    <tr>\n",
       "      <td>19</td>\n",
       "      <td>0.019035</td>\n",
       "      <td>1.573794</td>\n",
       "      <td>0.706203</td>\n",
       "      <td>09:25</td>\n",
       "    </tr>\n",
       "    <tr>\n",
       "      <td>20</td>\n",
       "      <td>0.018064</td>\n",
       "      <td>1.551733</td>\n",
       "      <td>0.709328</td>\n",
       "      <td>09:44</td>\n",
       "    </tr>\n",
       "    <tr>\n",
       "      <td>21</td>\n",
       "      <td>0.010194</td>\n",
       "      <td>1.880745</td>\n",
       "      <td>0.695308</td>\n",
       "      <td>09:18</td>\n",
       "    </tr>\n",
       "    <tr>\n",
       "      <td>22</td>\n",
       "      <td>0.011963</td>\n",
       "      <td>2.096157</td>\n",
       "      <td>0.694522</td>\n",
       "      <td>09:29</td>\n",
       "    </tr>\n",
       "    <tr>\n",
       "      <td>23</td>\n",
       "      <td>0.009567</td>\n",
       "      <td>1.652359</td>\n",
       "      <td>0.707896</td>\n",
       "      <td>10:13</td>\n",
       "    </tr>\n",
       "    <tr>\n",
       "      <td>24</td>\n",
       "      <td>0.009386</td>\n",
       "      <td>1.587743</td>\n",
       "      <td>0.705903</td>\n",
       "      <td>10:31</td>\n",
       "    </tr>\n",
       "  </tbody>\n",
       "</table>"
      ],
      "text/plain": [
       "<IPython.core.display.HTML object>"
      ]
     },
     "metadata": {},
     "output_type": "display_data"
    },
    {
     "data": {
      "image/png": "[encoded data removed]",
      "text/plain": [
       "<Figure size 720x720 with 1 Axes>"
      ]
     },
     "metadata": {
      "needs_background": "light"
     },
     "output_type": "display_data"
    },
    {
     "data": {
      "image/png": "[encoded data removed]",
      "text/plain": [
       "<Figure size 720x720 with 1 Axes>"
      ]
     },
     "metadata": {
      "needs_background": "light"
     },
     "output_type": "display_data"
    },
    {
     "data": {
      "image/png": "[encoded data removed]",
      "text/plain": [
       "<Figure size 864x288 with 2 Axes>"
      ]
     },
     "metadata": {
      "needs_background": "light"
     },
     "output_type": "display_data"
    },
    {
     "data": {
      "text/html": [],
      "text/plain": [
       "<IPython.core.display.HTML object>"
      ]
     },
     "metadata": {},
     "output_type": "display_data"
    },
    {
     "name": "stdout",
     "output_type": "stream",
     "text": [
      "TensorCategory(0.7059)\n",
      "0.8948349476387172\n",
      "              precision    recall  f1-score   support\n",
      "\n",
      "           0       0.97      0.98      0.98     64357\n",
      "           1       0.73      0.60      0.66      8691\n",
      "           2       0.39      0.68      0.50      1801\n",
      "           3       0.70      0.33      0.45     45138\n",
      "           4       0.48      0.83      0.61     40717\n",
      "           5       0.60      0.65      0.63      2509\n",
      "           6       0.54      0.22      0.31      9893\n",
      "\n",
      "    accuracy                           0.71    173106\n",
      "   macro avg       0.63      0.61      0.59    173106\n",
      "weighted avg       0.74      0.71      0.69    173106\n",
      "\n"
     ]
    },
    {
     "data": {
      "text/html": [],
      "text/plain": [
       "<IPython.core.display.HTML object>"
      ]
     },
     "metadata": {},
     "output_type": "display_data"
    },
    {
     "name": "stdout",
     "output_type": "stream",
     "text": [
      "===================== Fold 3 ============================\n"
     ]
    },
    {
     "data": {
      "text/html": [
       "<table border=\"1\" class=\"dataframe\">\n",
       "  <thead>\n",
       "    <tr style=\"text-align: left;\">\n",
       "      <th>epoch</th>\n",
       "      <th>train_loss</th>\n",
       "      <th>valid_loss</th>\n",
       "      <th>accuracy</th>\n",
       "      <th>time</th>\n",
       "    </tr>\n",
       "  </thead>\n",
       "  <tbody>\n",
       "    <tr>\n",
       "      <td>0</td>\n",
       "      <td>0.152499</td>\n",
       "      <td>0.357442</td>\n",
       "      <td>0.886284</td>\n",
       "      <td>10:46</td>\n",
       "    </tr>\n",
       "    <tr>\n",
       "      <td>1</td>\n",
       "      <td>0.137141</td>\n",
       "      <td>0.412811</td>\n",
       "      <td>0.878496</td>\n",
       "      <td>09:24</td>\n",
       "    </tr>\n",
       "    <tr>\n",
       "      <td>2</td>\n",
       "      <td>0.105088</td>\n",
       "      <td>0.417151</td>\n",
       "      <td>0.886162</td>\n",
       "      <td>08:50</td>\n",
       "    </tr>\n",
       "    <tr>\n",
       "      <td>3</td>\n",
       "      <td>0.094663</td>\n",
       "      <td>0.439049</td>\n",
       "      <td>0.892655</td>\n",
       "      <td>08:35</td>\n",
       "    </tr>\n",
       "    <tr>\n",
       "      <td>4</td>\n",
       "      <td>0.084834</td>\n",
       "      <td>0.425992</td>\n",
       "      <td>0.895677</td>\n",
       "      <td>08:47</td>\n",
       "    </tr>\n",
       "    <tr>\n",
       "      <td>5</td>\n",
       "      <td>0.086618</td>\n",
       "      <td>0.397598</td>\n",
       "      <td>0.902337</td>\n",
       "      <td>08:58</td>\n",
       "    </tr>\n",
       "    <tr>\n",
       "      <td>6</td>\n",
       "      <td>0.076524</td>\n",
       "      <td>0.410139</td>\n",
       "      <td>0.893811</td>\n",
       "      <td>09:07</td>\n",
       "    </tr>\n",
       "    <tr>\n",
       "      <td>7</td>\n",
       "      <td>0.063895</td>\n",
       "      <td>0.437094</td>\n",
       "      <td>0.899033</td>\n",
       "      <td>09:00</td>\n",
       "    </tr>\n",
       "    <tr>\n",
       "      <td>8</td>\n",
       "      <td>0.061404</td>\n",
       "      <td>0.443617</td>\n",
       "      <td>0.894492</td>\n",
       "      <td>09:06</td>\n",
       "    </tr>\n",
       "    <tr>\n",
       "      <td>9</td>\n",
       "      <td>0.049089</td>\n",
       "      <td>0.496796</td>\n",
       "      <td>0.889068</td>\n",
       "      <td>08:49</td>\n",
       "    </tr>\n",
       "    <tr>\n",
       "      <td>10</td>\n",
       "      <td>0.057318</td>\n",
       "      <td>0.427916</td>\n",
       "      <td>0.900772</td>\n",
       "      <td>08:37</td>\n",
       "    </tr>\n",
       "    <tr>\n",
       "      <td>11</td>\n",
       "      <td>0.053210</td>\n",
       "      <td>0.474310</td>\n",
       "      <td>0.901546</td>\n",
       "      <td>08:12</td>\n",
       "    </tr>\n",
       "    <tr>\n",
       "      <td>12</td>\n",
       "      <td>0.039854</td>\n",
       "      <td>0.496753</td>\n",
       "      <td>0.894469</td>\n",
       "      <td>08:08</td>\n",
       "    </tr>\n",
       "    <tr>\n",
       "      <td>13</td>\n",
       "      <td>0.039670</td>\n",
       "      <td>0.516650</td>\n",
       "      <td>0.896595</td>\n",
       "      <td>08:10</td>\n",
       "    </tr>\n",
       "    <tr>\n",
       "      <td>14</td>\n",
       "      <td>0.032306</td>\n",
       "      <td>0.529677</td>\n",
       "      <td>0.898034</td>\n",
       "      <td>08:19</td>\n",
       "    </tr>\n",
       "    <tr>\n",
       "      <td>15</td>\n",
       "      <td>0.035272</td>\n",
       "      <td>0.531599</td>\n",
       "      <td>0.899172</td>\n",
       "      <td>08:42</td>\n",
       "    </tr>\n",
       "    <tr>\n",
       "      <td>16</td>\n",
       "      <td>0.028507</td>\n",
       "      <td>0.597980</td>\n",
       "      <td>0.891558</td>\n",
       "      <td>08:24</td>\n",
       "    </tr>\n",
       "    <tr>\n",
       "      <td>17</td>\n",
       "      <td>0.023393</td>\n",
       "      <td>0.514191</td>\n",
       "      <td>0.898692</td>\n",
       "      <td>09:03</td>\n",
       "    </tr>\n",
       "    <tr>\n",
       "      <td>18</td>\n",
       "      <td>0.020339</td>\n",
       "      <td>0.560903</td>\n",
       "      <td>0.898646</td>\n",
       "      <td>09:03</td>\n",
       "    </tr>\n",
       "    <tr>\n",
       "      <td>19</td>\n",
       "      <td>0.010857</td>\n",
       "      <td>0.597707</td>\n",
       "      <td>0.899328</td>\n",
       "      <td>09:01</td>\n",
       "    </tr>\n",
       "    <tr>\n",
       "      <td>20</td>\n",
       "      <td>0.010825</td>\n",
       "      <td>0.590125</td>\n",
       "      <td>0.897704</td>\n",
       "      <td>08:48</td>\n",
       "    </tr>\n",
       "    <tr>\n",
       "      <td>21</td>\n",
       "      <td>0.012732</td>\n",
       "      <td>0.670598</td>\n",
       "      <td>0.895862</td>\n",
       "      <td>08:42</td>\n",
       "    </tr>\n",
       "    <tr>\n",
       "      <td>22</td>\n",
       "      <td>0.013331</td>\n",
       "      <td>0.622841</td>\n",
       "      <td>0.899328</td>\n",
       "      <td>10:10</td>\n",
       "    </tr>\n",
       "    <tr>\n",
       "      <td>23</td>\n",
       "      <td>0.014044</td>\n",
       "      <td>0.691246</td>\n",
       "      <td>0.892898</td>\n",
       "      <td>08:53</td>\n",
       "    </tr>\n",
       "    <tr>\n",
       "      <td>24</td>\n",
       "      <td>0.006083</td>\n",
       "      <td>0.671676</td>\n",
       "      <td>0.896237</td>\n",
       "      <td>08:49</td>\n",
       "    </tr>\n",
       "  </tbody>\n",
       "</table>"
      ],
      "text/plain": [
       "<IPython.core.display.HTML object>"
      ]
     },
     "metadata": {},
     "output_type": "display_data"
    },
    {
     "data": {
      "image/png": "[encoded data removed]",
      "text/plain": [
       "<Figure size 720x720 with 1 Axes>"
      ]
     },
     "metadata": {
      "needs_background": "light"
     },
     "output_type": "display_data"
    },
    {
     "data": {
      "image/png": "[encoded data removed]",
      "text/plain": [
       "<Figure size 720x720 with 1 Axes>"
      ]
     },
     "metadata": {
      "needs_background": "light"
     },
     "output_type": "display_data"
    },
    {
     "data": {
      "image/png": "[encoded data removed]",
      "text/plain": [
       "<Figure size 864x288 with 2 Axes>"
      ]
     },
     "metadata": {
      "needs_background": "light"
     },
     "output_type": "display_data"
    },
    {
     "data": {
      "text/html": [],
      "text/plain": [
       "<IPython.core.display.HTML object>"
      ]
     },
     "metadata": {},
     "output_type": "display_data"
    },
    {
     "name": "stdout",
     "output_type": "stream",
     "text": [
      "TensorCategory(0.8962)\n",
      "0.9129857209662489\n",
      "              precision    recall  f1-score   support\n",
      "\n",
      "           0       0.98      0.98      0.98     52570\n",
      "           1       0.68      0.72      0.70      5107\n",
      "           2       0.66      0.41      0.51      2674\n",
      "           3       0.48      0.72      0.57      6242\n",
      "           4       0.95      0.92      0.93     95742\n",
      "           5       0.48      0.42      0.45       779\n",
      "           6       0.59      0.60      0.60      9992\n",
      "\n",
      "    accuracy                           0.90    173106\n",
      "   macro avg       0.69      0.68      0.68    173106\n",
      "weighted avg       0.90      0.90      0.90    173106\n",
      "\n"
     ]
    },
    {
     "data": {
      "text/html": [],
      "text/plain": [
       "<IPython.core.display.HTML object>"
      ]
     },
     "metadata": {},
     "output_type": "display_data"
    },
    {
     "name": "stdout",
     "output_type": "stream",
     "text": [
      "===================== Fold 4 ============================\n"
     ]
    },
    {
     "data": {
      "text/html": [
       "<table border=\"1\" class=\"dataframe\">\n",
       "  <thead>\n",
       "    <tr style=\"text-align: left;\">\n",
       "      <th>epoch</th>\n",
       "      <th>train_loss</th>\n",
       "      <th>valid_loss</th>\n",
       "      <th>accuracy</th>\n",
       "      <th>time</th>\n",
       "    </tr>\n",
       "  </thead>\n",
       "  <tbody>\n",
       "    <tr>\n",
       "      <td>0</td>\n",
       "      <td>0.168878</td>\n",
       "      <td>0.381106</td>\n",
       "      <td>0.890992</td>\n",
       "      <td>09:00</td>\n",
       "    </tr>\n",
       "    <tr>\n",
       "      <td>1</td>\n",
       "      <td>0.144180</td>\n",
       "      <td>0.352252</td>\n",
       "      <td>0.904850</td>\n",
       "      <td>08:49</td>\n",
       "    </tr>\n",
       "    <tr>\n",
       "      <td>2</td>\n",
       "      <td>0.117515</td>\n",
       "      <td>01:52</td>\n",
       "    </tr>\n",
       "  </tbody>\n",
       "</table>"
      ],
      "text/plain": [
       "<IPython.core.display.HTML object>"
      ]
     },
     "metadata": {},
     "output_type": "display_data"
    },
    {
     "ename": "KeyboardInterrupt",
     "evalue": "",
     "output_type": "error",
     "traceback": [
      "\u001b[1;31m---------------------------------------------------------------------------\u001b[0m",
      "\u001b[1;31mKeyboardInterrupt\u001b[0m                         Traceback (most recent call last)",
      "\u001b[1;32m<ipython-input-86-7469ae28966a>\u001b[0m in \u001b[0;36m<module>\u001b[1;34m\u001b[0m\n\u001b[0;32m      1\u001b[0m \u001b[1;32mfor\u001b[0m \u001b[0mi\u001b[0m\u001b[1;33m,\u001b[0m \u001b[0ms\u001b[0m \u001b[1;32min\u001b[0m \u001b[0menumerate\u001b[0m\u001b[1;33m(\u001b[0m\u001b[0msplits\u001b[0m\u001b[1;33m)\u001b[0m\u001b[1;33m:\u001b[0m\u001b[1;33m\u001b[0m\u001b[1;33m\u001b[0m\u001b[0m\n\u001b[0;32m      2\u001b[0m     \u001b[0mprint\u001b[0m\u001b[1;33m(\u001b[0m\u001b[1;34mf'===================== Fold {i} ============================'\u001b[0m\u001b[1;33m)\u001b[0m\u001b[1;33m\u001b[0m\u001b[1;33m\u001b[0m\u001b[0m\n\u001b[1;32m----> 3\u001b[1;33m     \u001b[0mtrain_and_evaluate_it\u001b[0m\u001b[1;33m(\u001b[0m\u001b[0mX\u001b[0m\u001b[1;33m,\u001b[0m \u001b[0my\u001b[0m\u001b[1;33m,\u001b[0m \u001b[0ms\u001b[0m\u001b[1;33m,\u001b[0m \u001b[1;36m32\u001b[0m\u001b[1;33m,\u001b[0m \u001b[1;36m0.001\u001b[0m\u001b[1;33m,\u001b[0m \u001b[1;36m25\u001b[0m\u001b[1;33m)\u001b[0m\u001b[1;33m\u001b[0m\u001b[1;33m\u001b[0m\u001b[0m\n\u001b[0m",
      "\u001b[1;32m<ipython-input-85-1a54912931b1>\u001b[0m in \u001b[0;36mtrain_and_evaluate_it\u001b[1;34m(X, y, splits, bs, lr, epochs)\u001b[0m\n\u001b[0;32m      9\u001b[0m     \u001b[1;31m#print(f\"Minimum/10: {lr_min}, steepest point: {lr_steep}\")\u001b[0m\u001b[1;33m\u001b[0m\u001b[1;33m\u001b[0m\u001b[1;33m\u001b[0m\u001b[0m\n\u001b[0;32m     10\u001b[0m     \u001b[1;31m#print(f\"Using LR: {lr}\")\u001b[0m\u001b[1;33m\u001b[0m\u001b[1;33m\u001b[0m\u001b[1;33m\u001b[0m\u001b[0m\n\u001b[1;32m---> 11\u001b[1;33m     \u001b[0mlearn\u001b[0m\u001b[1;33m.\u001b[0m\u001b[0mfit_one_cycle\u001b[0m\u001b[1;33m(\u001b[0m\u001b[0mepochs\u001b[0m\u001b[1;33m,\u001b[0m \u001b[0mlr_max\u001b[0m\u001b[1;33m=\u001b[0m\u001b[0mlr\u001b[0m\u001b[1;33m)\u001b[0m\u001b[1;33m\u001b[0m\u001b[1;33m\u001b[0m\u001b[0m\n\u001b[0m\u001b[0;32m     12\u001b[0m     \u001b[0mlearn\u001b[0m\u001b[1;33m.\u001b[0m\u001b[0mrecorder\u001b[0m\u001b[1;33m.\u001b[0m\u001b[0mplot_metrics\u001b[0m\u001b[1;33m(\u001b[0m\u001b[1;33m)\u001b[0m\u001b[1;33m\u001b[0m\u001b[1;33m\u001b[0m\u001b[0m\n\u001b[0;32m     13\u001b[0m \u001b[1;33m\u001b[0m\u001b[0m\n",
      "\u001b[1;32mc:\\users\\kevin\\.virtualenvs\\winkie-tu0wptfo\\lib\\site-packages\\fastai\\callback\\schedule.py\u001b[0m in \u001b[0;36mfit_one_cycle\u001b[1;34m(self, n_epoch, lr_max, div, div_final, pct_start, wd, moms, cbs, reset_opt)\u001b[0m\n\u001b[0;32m    110\u001b[0m     scheds = {'lr': combined_cos(pct_start, lr_max/div, lr_max, lr_max/div_final),\n\u001b[0;32m    111\u001b[0m               'mom': combined_cos(pct_start, *(self.moms if moms is None else moms))}\n\u001b[1;32m--> 112\u001b[1;33m     \u001b[0mself\u001b[0m\u001b[1;33m.\u001b[0m\u001b[0mfit\u001b[0m\u001b[1;33m(\u001b[0m\u001b[0mn_epoch\u001b[0m\u001b[1;33m,\u001b[0m \u001b[0mcbs\u001b[0m\u001b[1;33m=\u001b[0m\u001b[0mParamScheduler\u001b[0m\u001b[1;33m(\u001b[0m\u001b[0mscheds\u001b[0m\u001b[1;33m)\u001b[0m\u001b[1;33m+\u001b[0m\u001b[0mL\u001b[0m\u001b[1;33m(\u001b[0m\u001b[0mcbs\u001b[0m\u001b[1;33m)\u001b[0m\u001b[1;33m,\u001b[0m \u001b[0mreset_opt\u001b[0m\u001b[1;33m=\u001b[0m\u001b[0mreset_opt\u001b[0m\u001b[1;33m,\u001b[0m \u001b[0mwd\u001b[0m\u001b[1;33m=\u001b[0m\u001b[0mwd\u001b[0m\u001b[1;33m)\u001b[0m\u001b[1;33m\u001b[0m\u001b[1;33m\u001b[0m\u001b[0m\n\u001b[0m\u001b[0;32m    113\u001b[0m \u001b[1;33m\u001b[0m\u001b[0m\n\u001b[0;32m    114\u001b[0m \u001b[1;31m# Cell\u001b[0m\u001b[1;33m\u001b[0m\u001b[1;33m\u001b[0m\u001b[1;33m\u001b[0m\u001b[0m\n",
      "\u001b[1;32mc:\\users\\kevin\\.virtualenvs\\winkie-tu0wptfo\\lib\\site-packages\\fastai\\learner.py\u001b[0m in \u001b[0;36mfit\u001b[1;34m(self, n_epoch, lr, wd, cbs, reset_opt)\u001b[0m\n\u001b[0;32m    204\u001b[0m             \u001b[0mself\u001b[0m\u001b[1;33m.\u001b[0m\u001b[0mopt\u001b[0m\u001b[1;33m.\u001b[0m\u001b[0mset_hypers\u001b[0m\u001b[1;33m(\u001b[0m\u001b[0mlr\u001b[0m\u001b[1;33m=\u001b[0m\u001b[0mself\u001b[0m\u001b[1;33m.\u001b[0m\u001b[0mlr\u001b[0m \u001b[1;32mif\u001b[0m \u001b[0mlr\u001b[0m \u001b[1;32mis\u001b[0m \u001b[1;32mNone\u001b[0m \u001b[1;32melse\u001b[0m \u001b[0mlr\u001b[0m\u001b[1;33m)\u001b[0m\u001b[1;33m\u001b[0m\u001b[1;33m\u001b[0m\u001b[0m\n\u001b[0;32m    205\u001b[0m             \u001b[0mself\u001b[0m\u001b[1;33m.\u001b[0m\u001b[0mn_epoch\u001b[0m \u001b[1;33m=\u001b[0m \u001b[0mn_epoch\u001b[0m\u001b[1;33m\u001b[0m\u001b[1;33m\u001b[0m\u001b[0m\n\u001b[1;32m--> 206\u001b[1;33m             \u001b[0mself\u001b[0m\u001b[1;33m.\u001b[0m\u001b[0m_with_events\u001b[0m\u001b[1;33m(\u001b[0m\u001b[0mself\u001b[0m\u001b[1;33m.\u001b[0m\u001b[0m_do_fit\u001b[0m\u001b[1;33m,\u001b[0m \u001b[1;34m'fit'\u001b[0m\u001b[1;33m,\u001b[0m \u001b[0mCancelFitException\u001b[0m\u001b[1;33m,\u001b[0m \u001b[0mself\u001b[0m\u001b[1;33m.\u001b[0m\u001b[0m_end_cleanup\u001b[0m\u001b[1;33m)\u001b[0m\u001b[1;33m\u001b[0m\u001b[1;33m\u001b[0m\u001b[0m\n\u001b[0m\u001b[0;32m    207\u001b[0m \u001b[1;33m\u001b[0m\u001b[0m\n\u001b[0;32m    208\u001b[0m     \u001b[1;32mdef\u001b[0m \u001b[0m_end_cleanup\u001b[0m\u001b[1;33m(\u001b[0m\u001b[0mself\u001b[0m\u001b[1;33m)\u001b[0m\u001b[1;33m:\u001b[0m \u001b[0mself\u001b[0m\u001b[1;33m.\u001b[0m\u001b[0mdl\u001b[0m\u001b[1;33m,\u001b[0m\u001b[0mself\u001b[0m\u001b[1;33m.\u001b[0m\u001b[0mxb\u001b[0m\u001b[1;33m,\u001b[0m\u001b[0mself\u001b[0m\u001b[1;33m.\u001b[0m\u001b[0myb\u001b[0m\u001b[1;33m,\u001b[0m\u001b[0mself\u001b[0m\u001b[1;33m.\u001b[0m\u001b[0mpred\u001b[0m\u001b[1;33m,\u001b[0m\u001b[0mself\u001b[0m\u001b[1;33m.\u001b[0m\u001b[0mloss\u001b[0m \u001b[1;33m=\u001b[0m \u001b[1;32mNone\u001b[0m\u001b[1;33m,\u001b[0m\u001b[1;33m(\u001b[0m\u001b[1;32mNone\u001b[0m\u001b[1;33m,\u001b[0m\u001b[1;33m)\u001b[0m\u001b[1;33m,\u001b[0m\u001b[1;33m(\u001b[0m\u001b[1;32mNone\u001b[0m\u001b[1;33m,\u001b[0m\u001b[1;33m)\u001b[0m\u001b[1;33m,\u001b[0m\u001b[1;32mNone\u001b[0m\u001b[1;33m,\u001b[0m\u001b[1;32mNone\u001b[0m\u001b[1;33m\u001b[0m\u001b[1;33m\u001b[0m\u001b[0m\n",
      "\u001b[1;32mc:\\users\\kevin\\.virtualenvs\\winkie-tu0wptfo\\lib\\site-packages\\fastai\\learner.py\u001b[0m in \u001b[0;36m_with_events\u001b[1;34m(self, f, event_type, ex, final)\u001b[0m\n\u001b[0;32m    153\u001b[0m \u001b[1;33m\u001b[0m\u001b[0m\n\u001b[0;32m    154\u001b[0m     \u001b[1;32mdef\u001b[0m \u001b[0m_with_events\u001b[0m\u001b[1;33m(\u001b[0m\u001b[0mself\u001b[0m\u001b[1;33m,\u001b[0m \u001b[0mf\u001b[0m\u001b[1;33m,\u001b[0m \u001b[0mevent_type\u001b[0m\u001b[1;33m,\u001b[0m \u001b[0mex\u001b[0m\u001b[1;33m,\u001b[0m \u001b[0mfinal\u001b[0m\u001b[1;33m=\u001b[0m\u001b[0mnoop\u001b[0m\u001b[1;33m)\u001b[0m\u001b[1;33m:\u001b[0m\u001b[1;33m\u001b[0m\u001b[1;33m\u001b[0m\u001b[0m\n\u001b[1;32m--> 155\u001b[1;33m         \u001b[1;32mtry\u001b[0m\u001b[1;33m:\u001b[0m       \u001b[0mself\u001b[0m\u001b[1;33m(\u001b[0m\u001b[1;34mf'before_{event_type}'\u001b[0m\u001b[1;33m)\u001b[0m       \u001b[1;33m;\u001b[0m\u001b[0mf\u001b[0m\u001b[1;33m(\u001b[0m\u001b[1;33m)\u001b[0m\u001b[1;33m\u001b[0m\u001b[1;33m\u001b[0m\u001b[0m\n\u001b[0m\u001b[0;32m    156\u001b[0m         \u001b[1;32mexcept\u001b[0m \u001b[0mex\u001b[0m\u001b[1;33m:\u001b[0m \u001b[0mself\u001b[0m\u001b[1;33m(\u001b[0m\u001b[1;34mf'after_cancel_{event_type}'\u001b[0m\u001b[1;33m)\u001b[0m\u001b[1;33m\u001b[0m\u001b[1;33m\u001b[0m\u001b[0m\n\u001b[0;32m    157\u001b[0m         \u001b[1;32mfinally\u001b[0m\u001b[1;33m:\u001b[0m   \u001b[0mself\u001b[0m\u001b[1;33m(\u001b[0m\u001b[1;34mf'after_{event_type}'\u001b[0m\u001b[1;33m)\u001b[0m        \u001b[1;33m;\u001b[0m\u001b[0mfinal\u001b[0m\u001b[1;33m(\u001b[0m\u001b[1;33m)\u001b[0m\u001b[1;33m\u001b[0m\u001b[1;33m\u001b[0m\u001b[0m\n",
      "\u001b[1;32mc:\\users\\kevin\\.virtualenvs\\winkie-tu0wptfo\\lib\\site-packages\\fastai\\learner.py\u001b[0m in \u001b[0;36m_do_fit\u001b[1;34m(self)\u001b[0m\n\u001b[0;32m    195\u001b[0m         \u001b[1;32mfor\u001b[0m \u001b[0mepoch\u001b[0m \u001b[1;32min\u001b[0m \u001b[0mrange\u001b[0m\u001b[1;33m(\u001b[0m\u001b[0mself\u001b[0m\u001b[1;33m.\u001b[0m\u001b[0mn_epoch\u001b[0m\u001b[1;33m)\u001b[0m\u001b[1;33m:\u001b[0m\u001b[1;33m\u001b[0m\u001b[1;33m\u001b[0m\u001b[0m\n\u001b[0;32m    196\u001b[0m             \u001b[0mself\u001b[0m\u001b[1;33m.\u001b[0m\u001b[0mepoch\u001b[0m\u001b[1;33m=\u001b[0m\u001b[0mepoch\u001b[0m\u001b[1;33m\u001b[0m\u001b[1;33m\u001b[0m\u001b[0m\n\u001b[1;32m--> 197\u001b[1;33m             \u001b[0mself\u001b[0m\u001b[1;33m.\u001b[0m\u001b[0m_with_events\u001b[0m\u001b[1;33m(\u001b[0m\u001b[0mself\u001b[0m\u001b[1;33m.\u001b[0m\u001b[0m_do_epoch\u001b[0m\u001b[1;33m,\u001b[0m \u001b[1;34m'epoch'\u001b[0m\u001b[1;33m,\u001b[0m \u001b[0mCancelEpochException\u001b[0m\u001b[1;33m)\u001b[0m\u001b[1;33m\u001b[0m\u001b[1;33m\u001b[0m\u001b[0m\n\u001b[0m\u001b[0;32m    198\u001b[0m \u001b[1;33m\u001b[0m\u001b[0m\n\u001b[0;32m    199\u001b[0m     \u001b[1;32mdef\u001b[0m \u001b[0mfit\u001b[0m\u001b[1;33m(\u001b[0m\u001b[0mself\u001b[0m\u001b[1;33m,\u001b[0m \u001b[0mn_epoch\u001b[0m\u001b[1;33m,\u001b[0m \u001b[0mlr\u001b[0m\u001b[1;33m=\u001b[0m\u001b[1;32mNone\u001b[0m\u001b[1;33m,\u001b[0m \u001b[0mwd\u001b[0m\u001b[1;33m=\u001b[0m\u001b[1;32mNone\u001b[0m\u001b[1;33m,\u001b[0m \u001b[0mcbs\u001b[0m\u001b[1;33m=\u001b[0m\u001b[1;32mNone\u001b[0m\u001b[1;33m,\u001b[0m \u001b[0mreset_opt\u001b[0m\u001b[1;33m=\u001b[0m\u001b[1;32mFalse\u001b[0m\u001b[1;33m)\u001b[0m\u001b[1;33m:\u001b[0m\u001b[1;33m\u001b[0m\u001b[1;33m\u001b[0m\u001b[0m\n",
      "\u001b[1;32mc:\\users\\kevin\\.virtualenvs\\winkie-tu0wptfo\\lib\\site-packages\\fastai\\learner.py\u001b[0m in \u001b[0;36m_with_events\u001b[1;34m(self, f, event_type, ex, final)\u001b[0m\n\u001b[0;32m    153\u001b[0m \u001b[1;33m\u001b[0m\u001b[0m\n\u001b[0;32m    154\u001b[0m     \u001b[1;32mdef\u001b[0m \u001b[0m_with_events\u001b[0m\u001b[1;33m(\u001b[0m\u001b[0mself\u001b[0m\u001b[1;33m,\u001b[0m \u001b[0mf\u001b[0m\u001b[1;33m,\u001b[0m \u001b[0mevent_type\u001b[0m\u001b[1;33m,\u001b[0m \u001b[0mex\u001b[0m\u001b[1;33m,\u001b[0m \u001b[0mfinal\u001b[0m\u001b[1;33m=\u001b[0m\u001b[0mnoop\u001b[0m\u001b[1;33m)\u001b[0m\u001b[1;33m:\u001b[0m\u001b[1;33m\u001b[0m\u001b[1;33m\u001b[0m\u001b[0m\n\u001b[1;32m--> 155\u001b[1;33m         \u001b[1;32mtry\u001b[0m\u001b[1;33m:\u001b[0m       \u001b[0mself\u001b[0m\u001b[1;33m(\u001b[0m\u001b[1;34mf'before_{event_type}'\u001b[0m\u001b[1;33m)\u001b[0m       \u001b[1;33m;\u001b[0m\u001b[0mf\u001b[0m\u001b[1;33m(\u001b[0m\u001b[1;33m)\u001b[0m\u001b[1;33m\u001b[0m\u001b[1;33m\u001b[0m\u001b[0m\n\u001b[0m\u001b[0;32m    156\u001b[0m         \u001b[1;32mexcept\u001b[0m \u001b[0mex\u001b[0m\u001b[1;33m:\u001b[0m \u001b[0mself\u001b[0m\u001b[1;33m(\u001b[0m\u001b[1;34mf'after_cancel_{event_type}'\u001b[0m\u001b[1;33m)\u001b[0m\u001b[1;33m\u001b[0m\u001b[1;33m\u001b[0m\u001b[0m\n\u001b[0;32m    157\u001b[0m         \u001b[1;32mfinally\u001b[0m\u001b[1;33m:\u001b[0m   \u001b[0mself\u001b[0m\u001b[1;33m(\u001b[0m\u001b[1;34mf'after_{event_type}'\u001b[0m\u001b[1;33m)\u001b[0m        \u001b[1;33m;\u001b[0m\u001b[0mfinal\u001b[0m\u001b[1;33m(\u001b[0m\u001b[1;33m)\u001b[0m\u001b[1;33m\u001b[0m\u001b[1;33m\u001b[0m\u001b[0m\n",
      "\u001b[1;32mc:\\users\\kevin\\.virtualenvs\\winkie-tu0wptfo\\lib\\site-packages\\fastai\\learner.py\u001b[0m in \u001b[0;36m_do_epoch\u001b[1;34m(self)\u001b[0m\n\u001b[0;32m    189\u001b[0m \u001b[1;33m\u001b[0m\u001b[0m\n\u001b[0;32m    190\u001b[0m     \u001b[1;32mdef\u001b[0m \u001b[0m_do_epoch\u001b[0m\u001b[1;33m(\u001b[0m\u001b[0mself\u001b[0m\u001b[1;33m)\u001b[0m\u001b[1;33m:\u001b[0m\u001b[1;33m\u001b[0m\u001b[1;33m\u001b[0m\u001b[0m\n\u001b[1;32m--> 191\u001b[1;33m         \u001b[0mself\u001b[0m\u001b[1;33m.\u001b[0m\u001b[0m_do_epoch_train\u001b[0m\u001b[1;33m(\u001b[0m\u001b[1;33m)\u001b[0m\u001b[1;33m\u001b[0m\u001b[1;33m\u001b[0m\u001b[0m\n\u001b[0m\u001b[0;32m    192\u001b[0m         \u001b[0mself\u001b[0m\u001b[1;33m.\u001b[0m\u001b[0m_do_epoch_validate\u001b[0m\u001b[1;33m(\u001b[0m\u001b[1;33m)\u001b[0m\u001b[1;33m\u001b[0m\u001b[1;33m\u001b[0m\u001b[0m\n\u001b[0;32m    193\u001b[0m \u001b[1;33m\u001b[0m\u001b[0m\n",
      "\u001b[1;32mc:\\users\\kevin\\.virtualenvs\\winkie-tu0wptfo\\lib\\site-packages\\fastai\\learner.py\u001b[0m in \u001b[0;36m_do_epoch_train\u001b[1;34m(self)\u001b[0m\n\u001b[0;32m    181\u001b[0m     \u001b[1;32mdef\u001b[0m \u001b[0m_do_epoch_train\u001b[0m\u001b[1;33m(\u001b[0m\u001b[0mself\u001b[0m\u001b[1;33m)\u001b[0m\u001b[1;33m:\u001b[0m\u001b[1;33m\u001b[0m\u001b[1;33m\u001b[0m\u001b[0m\n\u001b[0;32m    182\u001b[0m         \u001b[0mself\u001b[0m\u001b[1;33m.\u001b[0m\u001b[0mdl\u001b[0m \u001b[1;33m=\u001b[0m \u001b[0mself\u001b[0m\u001b[1;33m.\u001b[0m\u001b[0mdls\u001b[0m\u001b[1;33m.\u001b[0m\u001b[0mtrain\u001b[0m\u001b[1;33m\u001b[0m\u001b[1;33m\u001b[0m\u001b[0m\n\u001b[1;32m--> 183\u001b[1;33m         \u001b[0mself\u001b[0m\u001b[1;33m.\u001b[0m\u001b[0m_with_events\u001b[0m\u001b[1;33m(\u001b[0m\u001b[0mself\u001b[0m\u001b[1;33m.\u001b[0m\u001b[0mall_batches\u001b[0m\u001b[1;33m,\u001b[0m \u001b[1;34m'train'\u001b[0m\u001b[1;33m,\u001b[0m \u001b[0mCancelTrainException\u001b[0m\u001b[1;33m)\u001b[0m\u001b[1;33m\u001b[0m\u001b[1;33m\u001b[0m\u001b[0m\n\u001b[0m\u001b[0;32m    184\u001b[0m \u001b[1;33m\u001b[0m\u001b[0m\n\u001b[0;32m    185\u001b[0m     \u001b[1;32mdef\u001b[0m \u001b[0m_do_epoch_validate\u001b[0m\u001b[1;33m(\u001b[0m\u001b[0mself\u001b[0m\u001b[1;33m,\u001b[0m \u001b[0mds_idx\u001b[0m\u001b[1;33m=\u001b[0m\u001b[1;36m1\u001b[0m\u001b[1;33m,\u001b[0m \u001b[0mdl\u001b[0m\u001b[1;33m=\u001b[0m\u001b[1;32mNone\u001b[0m\u001b[1;33m)\u001b[0m\u001b[1;33m:\u001b[0m\u001b[1;33m\u001b[0m\u001b[1;33m\u001b[0m\u001b[0m\n",
      "\u001b[1;32mc:\\users\\kevin\\.virtualenvs\\winkie-tu0wptfo\\lib\\site-packages\\fastai\\learner.py\u001b[0m in \u001b[0;36m_with_events\u001b[1;34m(self, f, event_type, ex, final)\u001b[0m\n\u001b[0;32m    153\u001b[0m \u001b[1;33m\u001b[0m\u001b[0m\n\u001b[0;32m    154\u001b[0m     \u001b[1;32mdef\u001b[0m \u001b[0m_with_events\u001b[0m\u001b[1;33m(\u001b[0m\u001b[0mself\u001b[0m\u001b[1;33m,\u001b[0m \u001b[0mf\u001b[0m\u001b[1;33m,\u001b[0m \u001b[0mevent_type\u001b[0m\u001b[1;33m,\u001b[0m \u001b[0mex\u001b[0m\u001b[1;33m,\u001b[0m \u001b[0mfinal\u001b[0m\u001b[1;33m=\u001b[0m\u001b[0mnoop\u001b[0m\u001b[1;33m)\u001b[0m\u001b[1;33m:\u001b[0m\u001b[1;33m\u001b[0m\u001b[1;33m\u001b[0m\u001b[0m\n\u001b[1;32m--> 155\u001b[1;33m         \u001b[1;32mtry\u001b[0m\u001b[1;33m:\u001b[0m       \u001b[0mself\u001b[0m\u001b[1;33m(\u001b[0m\u001b[1;34mf'before_{event_type}'\u001b[0m\u001b[1;33m)\u001b[0m       \u001b[1;33m;\u001b[0m\u001b[0mf\u001b[0m\u001b[1;33m(\u001b[0m\u001b[1;33m)\u001b[0m\u001b[1;33m\u001b[0m\u001b[1;33m\u001b[0m\u001b[0m\n\u001b[0m\u001b[0;32m    156\u001b[0m         \u001b[1;32mexcept\u001b[0m \u001b[0mex\u001b[0m\u001b[1;33m:\u001b[0m \u001b[0mself\u001b[0m\u001b[1;33m(\u001b[0m\u001b[1;34mf'after_cancel_{event_type}'\u001b[0m\u001b[1;33m)\u001b[0m\u001b[1;33m\u001b[0m\u001b[1;33m\u001b[0m\u001b[0m\n\u001b[0;32m    157\u001b[0m         \u001b[1;32mfinally\u001b[0m\u001b[1;33m:\u001b[0m   \u001b[0mself\u001b[0m\u001b[1;33m(\u001b[0m\u001b[1;34mf'after_{event_type}'\u001b[0m\u001b[1;33m)\u001b[0m        \u001b[1;33m;\u001b[0m\u001b[0mfinal\u001b[0m\u001b[1;33m(\u001b[0m\u001b[1;33m)\u001b[0m\u001b[1;33m\u001b[0m\u001b[1;33m\u001b[0m\u001b[0m\n",
      "\u001b[1;32mc:\\users\\kevin\\.virtualenvs\\winkie-tu0wptfo\\lib\\site-packages\\fastai\\learner.py\u001b[0m in \u001b[0;36mall_batches\u001b[1;34m(self)\u001b[0m\n\u001b[0;32m    159\u001b[0m     \u001b[1;32mdef\u001b[0m \u001b[0mall_batches\u001b[0m\u001b[1;33m(\u001b[0m\u001b[0mself\u001b[0m\u001b[1;33m)\u001b[0m\u001b[1;33m:\u001b[0m\u001b[1;33m\u001b[0m\u001b[1;33m\u001b[0m\u001b[0m\n\u001b[0;32m    160\u001b[0m         \u001b[0mself\u001b[0m\u001b[1;33m.\u001b[0m\u001b[0mn_iter\u001b[0m \u001b[1;33m=\u001b[0m \u001b[0mlen\u001b[0m\u001b[1;33m(\u001b[0m\u001b[0mself\u001b[0m\u001b[1;33m.\u001b[0m\u001b[0mdl\u001b[0m\u001b[1;33m)\u001b[0m\u001b[1;33m\u001b[0m\u001b[1;33m\u001b[0m\u001b[0m\n\u001b[1;32m--> 161\u001b[1;33m         \u001b[1;32mfor\u001b[0m \u001b[0mo\u001b[0m \u001b[1;32min\u001b[0m \u001b[0menumerate\u001b[0m\u001b[1;33m(\u001b[0m\u001b[0mself\u001b[0m\u001b[1;33m.\u001b[0m\u001b[0mdl\u001b[0m\u001b[1;33m)\u001b[0m\u001b[1;33m:\u001b[0m \u001b[0mself\u001b[0m\u001b[1;33m.\u001b[0m\u001b[0mone_batch\u001b[0m\u001b[1;33m(\u001b[0m\u001b[1;33m*\u001b[0m\u001b[0mo\u001b[0m\u001b[1;33m)\u001b[0m\u001b[1;33m\u001b[0m\u001b[1;33m\u001b[0m\u001b[0m\n\u001b[0m\u001b[0;32m    162\u001b[0m \u001b[1;33m\u001b[0m\u001b[0m\n\u001b[0;32m    163\u001b[0m     \u001b[1;32mdef\u001b[0m \u001b[0m_do_one_batch\u001b[0m\u001b[1;33m(\u001b[0m\u001b[0mself\u001b[0m\u001b[1;33m)\u001b[0m\u001b[1;33m:\u001b[0m\u001b[1;33m\u001b[0m\u001b[1;33m\u001b[0m\u001b[0m\n",
      "\u001b[1;32mc:\\users\\kevin\\.virtualenvs\\winkie-tu0wptfo\\lib\\site-packages\\fastai\\learner.py\u001b[0m in \u001b[0;36mone_batch\u001b[1;34m(self, i, b)\u001b[0m\n\u001b[0;32m    177\u001b[0m         \u001b[0mself\u001b[0m\u001b[1;33m.\u001b[0m\u001b[0miter\u001b[0m \u001b[1;33m=\u001b[0m \u001b[0mi\u001b[0m\u001b[1;33m\u001b[0m\u001b[1;33m\u001b[0m\u001b[0m\n\u001b[0;32m    178\u001b[0m         \u001b[0mself\u001b[0m\u001b[1;33m.\u001b[0m\u001b[0m_split\u001b[0m\u001b[1;33m(\u001b[0m\u001b[0mb\u001b[0m\u001b[1;33m)\u001b[0m\u001b[1;33m\u001b[0m\u001b[1;33m\u001b[0m\u001b[0m\n\u001b[1;32m--> 179\u001b[1;33m         \u001b[0mself\u001b[0m\u001b[1;33m.\u001b[0m\u001b[0m_with_events\u001b[0m\u001b[1;33m(\u001b[0m\u001b[0mself\u001b[0m\u001b[1;33m.\u001b[0m\u001b[0m_do_one_batch\u001b[0m\u001b[1;33m,\u001b[0m \u001b[1;34m'batch'\u001b[0m\u001b[1;33m,\u001b[0m \u001b[0mCancelBatchException\u001b[0m\u001b[1;33m)\u001b[0m\u001b[1;33m\u001b[0m\u001b[1;33m\u001b[0m\u001b[0m\n\u001b[0m\u001b[0;32m    180\u001b[0m \u001b[1;33m\u001b[0m\u001b[0m\n\u001b[0;32m    181\u001b[0m     \u001b[1;32mdef\u001b[0m \u001b[0m_do_epoch_train\u001b[0m\u001b[1;33m(\u001b[0m\u001b[0mself\u001b[0m\u001b[1;33m)\u001b[0m\u001b[1;33m:\u001b[0m\u001b[1;33m\u001b[0m\u001b[1;33m\u001b[0m\u001b[0m\n",
      "\u001b[1;32mc:\\users\\kevin\\.virtualenvs\\winkie-tu0wptfo\\lib\\site-packages\\fastai\\learner.py\u001b[0m in \u001b[0;36m_with_events\u001b[1;34m(self, f, event_type, ex, final)\u001b[0m\n\u001b[0;32m    153\u001b[0m \u001b[1;33m\u001b[0m\u001b[0m\n\u001b[0;32m    154\u001b[0m     \u001b[1;32mdef\u001b[0m \u001b[0m_with_events\u001b[0m\u001b[1;33m(\u001b[0m\u001b[0mself\u001b[0m\u001b[1;33m,\u001b[0m \u001b[0mf\u001b[0m\u001b[1;33m,\u001b[0m \u001b[0mevent_type\u001b[0m\u001b[1;33m,\u001b[0m \u001b[0mex\u001b[0m\u001b[1;33m,\u001b[0m \u001b[0mfinal\u001b[0m\u001b[1;33m=\u001b[0m\u001b[0mnoop\u001b[0m\u001b[1;33m)\u001b[0m\u001b[1;33m:\u001b[0m\u001b[1;33m\u001b[0m\u001b[1;33m\u001b[0m\u001b[0m\n\u001b[1;32m--> 155\u001b[1;33m         \u001b[1;32mtry\u001b[0m\u001b[1;33m:\u001b[0m       \u001b[0mself\u001b[0m\u001b[1;33m(\u001b[0m\u001b[1;34mf'before_{event_type}'\u001b[0m\u001b[1;33m)\u001b[0m       \u001b[1;33m;\u001b[0m\u001b[0mf\u001b[0m\u001b[1;33m(\u001b[0m\u001b[1;33m)\u001b[0m\u001b[1;33m\u001b[0m\u001b[1;33m\u001b[0m\u001b[0m\n\u001b[0m\u001b[0;32m    156\u001b[0m         \u001b[1;32mexcept\u001b[0m \u001b[0mex\u001b[0m\u001b[1;33m:\u001b[0m \u001b[0mself\u001b[0m\u001b[1;33m(\u001b[0m\u001b[1;34mf'after_cancel_{event_type}'\u001b[0m\u001b[1;33m)\u001b[0m\u001b[1;33m\u001b[0m\u001b[1;33m\u001b[0m\u001b[0m\n\u001b[0;32m    157\u001b[0m         \u001b[1;32mfinally\u001b[0m\u001b[1;33m:\u001b[0m   \u001b[0mself\u001b[0m\u001b[1;33m(\u001b[0m\u001b[1;34mf'after_{event_type}'\u001b[0m\u001b[1;33m)\u001b[0m        \u001b[1;33m;\u001b[0m\u001b[0mfinal\u001b[0m\u001b[1;33m(\u001b[0m\u001b[1;33m)\u001b[0m\u001b[1;33m\u001b[0m\u001b[1;33m\u001b[0m\u001b[0m\n",
      "\u001b[1;32mc:\\users\\kevin\\.virtualenvs\\winkie-tu0wptfo\\lib\\site-packages\\fastai\\learner.py\u001b[0m in \u001b[0;36m_do_one_batch\u001b[1;34m(self)\u001b[0m\n\u001b[0;32m    168\u001b[0m         \u001b[1;32mif\u001b[0m \u001b[1;32mnot\u001b[0m \u001b[0mself\u001b[0m\u001b[1;33m.\u001b[0m\u001b[0mtraining\u001b[0m \u001b[1;32mor\u001b[0m \u001b[1;32mnot\u001b[0m \u001b[0mlen\u001b[0m\u001b[1;33m(\u001b[0m\u001b[0mself\u001b[0m\u001b[1;33m.\u001b[0m\u001b[0myb\u001b[0m\u001b[1;33m)\u001b[0m\u001b[1;33m:\u001b[0m \u001b[1;32mreturn\u001b[0m\u001b[1;33m\u001b[0m\u001b[1;33m\u001b[0m\u001b[0m\n\u001b[0;32m    169\u001b[0m         \u001b[0mself\u001b[0m\u001b[1;33m(\u001b[0m\u001b[1;34m'before_backward'\u001b[0m\u001b[1;33m)\u001b[0m\u001b[1;33m\u001b[0m\u001b[1;33m\u001b[0m\u001b[0m\n\u001b[1;32m--> 170\u001b[1;33m         \u001b[0mself\u001b[0m\u001b[1;33m.\u001b[0m\u001b[0m_backward\u001b[0m\u001b[1;33m(\u001b[0m\u001b[1;33m)\u001b[0m\u001b[1;33m\u001b[0m\u001b[1;33m\u001b[0m\u001b[0m\n\u001b[0m\u001b[0;32m    171\u001b[0m         \u001b[0mself\u001b[0m\u001b[1;33m(\u001b[0m\u001b[1;34m'after_backward'\u001b[0m\u001b[1;33m)\u001b[0m\u001b[1;33m\u001b[0m\u001b[1;33m\u001b[0m\u001b[0m\n\u001b[0;32m    172\u001b[0m         \u001b[0mself\u001b[0m\u001b[1;33m.\u001b[0m\u001b[0m_step\u001b[0m\u001b[1;33m(\u001b[0m\u001b[1;33m)\u001b[0m\u001b[1;33m\u001b[0m\u001b[1;33m\u001b[0m\u001b[0m\n",
      "\u001b[1;32mc:\\users\\kevin\\.virtualenvs\\winkie-tu0wptfo\\lib\\site-packages\\fastai\\learner.py\u001b[0m in \u001b[0;36m_backward\u001b[1;34m(self)\u001b[0m\n\u001b[0;32m    150\u001b[0m \u001b[1;33m\u001b[0m\u001b[0m\n\u001b[0;32m    151\u001b[0m     \u001b[1;32mdef\u001b[0m \u001b[0m_step\u001b[0m\u001b[1;33m(\u001b[0m\u001b[0mself\u001b[0m\u001b[1;33m)\u001b[0m\u001b[1;33m:\u001b[0m \u001b[0mself\u001b[0m\u001b[1;33m.\u001b[0m\u001b[0mopt\u001b[0m\u001b[1;33m.\u001b[0m\u001b[0mstep\u001b[0m\u001b[1;33m(\u001b[0m\u001b[1;33m)\u001b[0m\u001b[1;33m\u001b[0m\u001b[1;33m\u001b[0m\u001b[0m\n\u001b[1;32m--> 152\u001b[1;33m     \u001b[1;32mdef\u001b[0m \u001b[0m_backward\u001b[0m\u001b[1;33m(\u001b[0m\u001b[0mself\u001b[0m\u001b[1;33m)\u001b[0m\u001b[1;33m:\u001b[0m \u001b[0mself\u001b[0m\u001b[1;33m.\u001b[0m\u001b[0mloss\u001b[0m\u001b[1;33m.\u001b[0m\u001b[0mbackward\u001b[0m\u001b[1;33m(\u001b[0m\u001b[1;33m)\u001b[0m\u001b[1;33m\u001b[0m\u001b[1;33m\u001b[0m\u001b[0m\n\u001b[0m\u001b[0;32m    153\u001b[0m \u001b[1;33m\u001b[0m\u001b[0m\n\u001b[0;32m    154\u001b[0m     \u001b[1;32mdef\u001b[0m \u001b[0m_with_events\u001b[0m\u001b[1;33m(\u001b[0m\u001b[0mself\u001b[0m\u001b[1;33m,\u001b[0m \u001b[0mf\u001b[0m\u001b[1;33m,\u001b[0m \u001b[0mevent_type\u001b[0m\u001b[1;33m,\u001b[0m \u001b[0mex\u001b[0m\u001b[1;33m,\u001b[0m \u001b[0mfinal\u001b[0m\u001b[1;33m=\u001b[0m\u001b[0mnoop\u001b[0m\u001b[1;33m)\u001b[0m\u001b[1;33m:\u001b[0m\u001b[1;33m\u001b[0m\u001b[1;33m\u001b[0m\u001b[0m\n",
      "\u001b[1;32mc:\\users\\kevin\\.virtualenvs\\winkie-tu0wptfo\\lib\\site-packages\\torch\\tensor.py\u001b[0m in \u001b[0;36mbackward\u001b[1;34m(self, gradient, retain_graph, create_graph, inputs)\u001b[0m\n\u001b[0;32m    235\u001b[0m         \"\"\"\n\u001b[0;32m    236\u001b[0m         \u001b[1;32mif\u001b[0m \u001b[0mhas_torch_function_unary\u001b[0m\u001b[1;33m(\u001b[0m\u001b[0mself\u001b[0m\u001b[1;33m)\u001b[0m\u001b[1;33m:\u001b[0m\u001b[1;33m\u001b[0m\u001b[1;33m\u001b[0m\u001b[0m\n\u001b[1;32m--> 237\u001b[1;33m             return handle_torch_function(\n\u001b[0m\u001b[0;32m    238\u001b[0m                 \u001b[0mTensor\u001b[0m\u001b[1;33m.\u001b[0m\u001b[0mbackward\u001b[0m\u001b[1;33m,\u001b[0m\u001b[1;33m\u001b[0m\u001b[1;33m\u001b[0m\u001b[0m\n\u001b[0;32m    239\u001b[0m                 \u001b[1;33m(\u001b[0m\u001b[0mself\u001b[0m\u001b[1;33m,\u001b[0m\u001b[1;33m)\u001b[0m\u001b[1;33m,\u001b[0m\u001b[1;33m\u001b[0m\u001b[1;33m\u001b[0m\u001b[0m\n",
      "\u001b[1;32mc:\\users\\kevin\\.virtualenvs\\winkie-tu0wptfo\\lib\\site-packages\\torch\\overrides.py\u001b[0m in \u001b[0;36mhandle_torch_function\u001b[1;34m(public_api, relevant_args, *args, **kwargs)\u001b[0m\n\u001b[0;32m   1200\u001b[0m         \u001b[1;31m# Use `public_api` instead of `implementation` so __torch_function__\u001b[0m\u001b[1;33m\u001b[0m\u001b[1;33m\u001b[0m\u001b[1;33m\u001b[0m\u001b[0m\n\u001b[0;32m   1201\u001b[0m         \u001b[1;31m# implementations can do equality/identity comparisons.\u001b[0m\u001b[1;33m\u001b[0m\u001b[1;33m\u001b[0m\u001b[1;33m\u001b[0m\u001b[0m\n\u001b[1;32m-> 1202\u001b[1;33m         \u001b[0mresult\u001b[0m \u001b[1;33m=\u001b[0m \u001b[0moverloaded_arg\u001b[0m\u001b[1;33m.\u001b[0m\u001b[0m__torch_function__\u001b[0m\u001b[1;33m(\u001b[0m\u001b[0mpublic_api\u001b[0m\u001b[1;33m,\u001b[0m \u001b[0mtypes\u001b[0m\u001b[1;33m,\u001b[0m \u001b[0margs\u001b[0m\u001b[1;33m,\u001b[0m \u001b[0mkwargs\u001b[0m\u001b[1;33m)\u001b[0m\u001b[1;33m\u001b[0m\u001b[1;33m\u001b[0m\u001b[0m\n\u001b[0m\u001b[0;32m   1203\u001b[0m \u001b[1;33m\u001b[0m\u001b[0m\n\u001b[0;32m   1204\u001b[0m         \u001b[1;32mif\u001b[0m \u001b[0mresult\u001b[0m \u001b[1;32mis\u001b[0m \u001b[1;32mnot\u001b[0m \u001b[0mNotImplemented\u001b[0m\u001b[1;33m:\u001b[0m\u001b[1;33m\u001b[0m\u001b[1;33m\u001b[0m\u001b[0m\n",
      "\u001b[1;32mc:\\users\\kevin\\.virtualenvs\\winkie-tu0wptfo\\lib\\site-packages\\fastai\\torch_core.py\u001b[0m in \u001b[0;36m__torch_function__\u001b[1;34m(self, func, types, args, kwargs)\u001b[0m\n\u001b[0;32m    317\u001b[0m \u001b[1;31m#         if func.__name__[0]!='_': print(func, types, args, kwargs)\u001b[0m\u001b[1;33m\u001b[0m\u001b[1;33m\u001b[0m\u001b[1;33m\u001b[0m\u001b[0m\n\u001b[0;32m    318\u001b[0m \u001b[1;31m#         with torch._C.DisableTorchFunction(): ret = _convert(func(*args, **(kwargs or {})), self.__class__)\u001b[0m\u001b[1;33m\u001b[0m\u001b[1;33m\u001b[0m\u001b[1;33m\u001b[0m\u001b[0m\n\u001b[1;32m--> 319\u001b[1;33m         \u001b[0mret\u001b[0m \u001b[1;33m=\u001b[0m \u001b[0msuper\u001b[0m\u001b[1;33m(\u001b[0m\u001b[1;33m)\u001b[0m\u001b[1;33m.\u001b[0m\u001b[0m__torch_function__\u001b[0m\u001b[1;33m(\u001b[0m\u001b[0mfunc\u001b[0m\u001b[1;33m,\u001b[0m \u001b[0mtypes\u001b[0m\u001b[1;33m,\u001b[0m \u001b[0margs\u001b[0m\u001b[1;33m=\u001b[0m\u001b[0margs\u001b[0m\u001b[1;33m,\u001b[0m \u001b[0mkwargs\u001b[0m\u001b[1;33m=\u001b[0m\u001b[0mkwargs\u001b[0m\u001b[1;33m)\u001b[0m\u001b[1;33m\u001b[0m\u001b[1;33m\u001b[0m\u001b[0m\n\u001b[0m\u001b[0;32m    320\u001b[0m         \u001b[1;32mif\u001b[0m \u001b[0misinstance\u001b[0m\u001b[1;33m(\u001b[0m\u001b[0mret\u001b[0m\u001b[1;33m,\u001b[0m \u001b[0mTensorBase\u001b[0m\u001b[1;33m)\u001b[0m\u001b[1;33m:\u001b[0m \u001b[0mret\u001b[0m\u001b[1;33m.\u001b[0m\u001b[0mset_meta\u001b[0m\u001b[1;33m(\u001b[0m\u001b[0mself\u001b[0m\u001b[1;33m,\u001b[0m \u001b[0mas_copy\u001b[0m\u001b[1;33m=\u001b[0m\u001b[1;32mTrue\u001b[0m\u001b[1;33m)\u001b[0m\u001b[1;33m\u001b[0m\u001b[1;33m\u001b[0m\u001b[0m\n\u001b[0;32m    321\u001b[0m         \u001b[1;32mreturn\u001b[0m \u001b[0mret\u001b[0m\u001b[1;33m\u001b[0m\u001b[1;33m\u001b[0m\u001b[0m\n",
      "\u001b[1;32mc:\\users\\kevin\\.virtualenvs\\winkie-tu0wptfo\\lib\\site-packages\\torch\\tensor.py\u001b[0m in \u001b[0;36m__torch_function__\u001b[1;34m(cls, func, types, args, kwargs)\u001b[0m\n\u001b[0;32m    960\u001b[0m \u001b[1;33m\u001b[0m\u001b[0m\n\u001b[0;32m    961\u001b[0m         \u001b[1;32mwith\u001b[0m \u001b[0m_C\u001b[0m\u001b[1;33m.\u001b[0m\u001b[0mDisableTorchFunction\u001b[0m\u001b[1;33m(\u001b[0m\u001b[1;33m)\u001b[0m\u001b[1;33m:\u001b[0m\u001b[1;33m\u001b[0m\u001b[1;33m\u001b[0m\u001b[0m\n\u001b[1;32m--> 962\u001b[1;33m             \u001b[0mret\u001b[0m \u001b[1;33m=\u001b[0m \u001b[0mfunc\u001b[0m\u001b[1;33m(\u001b[0m\u001b[1;33m*\u001b[0m\u001b[0margs\u001b[0m\u001b[1;33m,\u001b[0m \u001b[1;33m**\u001b[0m\u001b[0mkwargs\u001b[0m\u001b[1;33m)\u001b[0m\u001b[1;33m\u001b[0m\u001b[1;33m\u001b[0m\u001b[0m\n\u001b[0m\u001b[0;32m    963\u001b[0m             \u001b[1;32mreturn\u001b[0m \u001b[0m_convert\u001b[0m\u001b[1;33m(\u001b[0m\u001b[0mret\u001b[0m\u001b[1;33m,\u001b[0m \u001b[0mcls\u001b[0m\u001b[1;33m)\u001b[0m\u001b[1;33m\u001b[0m\u001b[1;33m\u001b[0m\u001b[0m\n\u001b[0;32m    964\u001b[0m \u001b[1;33m\u001b[0m\u001b[0m\n",
      "\u001b[1;32mc:\\users\\kevin\\.virtualenvs\\winkie-tu0wptfo\\lib\\site-packages\\torch\\tensor.py\u001b[0m in \u001b[0;36mbackward\u001b[1;34m(self, gradient, retain_graph, create_graph, inputs)\u001b[0m\n\u001b[0;32m    243\u001b[0m                 \u001b[0mcreate_graph\u001b[0m\u001b[1;33m=\u001b[0m\u001b[0mcreate_graph\u001b[0m\u001b[1;33m,\u001b[0m\u001b[1;33m\u001b[0m\u001b[1;33m\u001b[0m\u001b[0m\n\u001b[0;32m    244\u001b[0m                 inputs=inputs)\n\u001b[1;32m--> 245\u001b[1;33m         \u001b[0mtorch\u001b[0m\u001b[1;33m.\u001b[0m\u001b[0mautograd\u001b[0m\u001b[1;33m.\u001b[0m\u001b[0mbackward\u001b[0m\u001b[1;33m(\u001b[0m\u001b[0mself\u001b[0m\u001b[1;33m,\u001b[0m \u001b[0mgradient\u001b[0m\u001b[1;33m,\u001b[0m \u001b[0mretain_graph\u001b[0m\u001b[1;33m,\u001b[0m \u001b[0mcreate_graph\u001b[0m\u001b[1;33m,\u001b[0m \u001b[0minputs\u001b[0m\u001b[1;33m=\u001b[0m\u001b[0minputs\u001b[0m\u001b[1;33m)\u001b[0m\u001b[1;33m\u001b[0m\u001b[1;33m\u001b[0m\u001b[0m\n\u001b[0m\u001b[0;32m    246\u001b[0m \u001b[1;33m\u001b[0m\u001b[0m\n\u001b[0;32m    247\u001b[0m     \u001b[1;32mdef\u001b[0m \u001b[0mregister_hook\u001b[0m\u001b[1;33m(\u001b[0m\u001b[0mself\u001b[0m\u001b[1;33m,\u001b[0m \u001b[0mhook\u001b[0m\u001b[1;33m)\u001b[0m\u001b[1;33m:\u001b[0m\u001b[1;33m\u001b[0m\u001b[1;33m\u001b[0m\u001b[0m\n",
      "\u001b[1;32mc:\\users\\kevin\\.virtualenvs\\winkie-tu0wptfo\\lib\\site-packages\\torch\\autograd\\__init__.py\u001b[0m in \u001b[0;36mbackward\u001b[1;34m(tensors, grad_tensors, retain_graph, create_graph, grad_variables, inputs)\u001b[0m\n\u001b[0;32m    139\u001b[0m \u001b[1;33m\u001b[0m\u001b[0m\n\u001b[0;32m    140\u001b[0m     \u001b[0mgrad_tensors_\u001b[0m \u001b[1;33m=\u001b[0m \u001b[0m_tensor_or_tensors_to_tuple\u001b[0m\u001b[1;33m(\u001b[0m\u001b[0mgrad_tensors\u001b[0m\u001b[1;33m,\u001b[0m \u001b[0mlen\u001b[0m\u001b[1;33m(\u001b[0m\u001b[0mtensors\u001b[0m\u001b[1;33m)\u001b[0m\u001b[1;33m)\u001b[0m\u001b[1;33m\u001b[0m\u001b[1;33m\u001b[0m\u001b[0m\n\u001b[1;32m--> 141\u001b[1;33m     \u001b[0mgrad_tensors_\u001b[0m \u001b[1;33m=\u001b[0m \u001b[0m_make_grads\u001b[0m\u001b[1;33m(\u001b[0m\u001b[0mtensors\u001b[0m\u001b[1;33m,\u001b[0m \u001b[0mgrad_tensors_\u001b[0m\u001b[1;33m)\u001b[0m\u001b[1;33m\u001b[0m\u001b[1;33m\u001b[0m\u001b[0m\n\u001b[0m\u001b[0;32m    142\u001b[0m     \u001b[1;32mif\u001b[0m \u001b[0mretain_graph\u001b[0m \u001b[1;32mis\u001b[0m \u001b[1;32mNone\u001b[0m\u001b[1;33m:\u001b[0m\u001b[1;33m\u001b[0m\u001b[1;33m\u001b[0m\u001b[0m\n\u001b[0;32m    143\u001b[0m         \u001b[0mretain_graph\u001b[0m \u001b[1;33m=\u001b[0m \u001b[0mcreate_graph\u001b[0m\u001b[1;33m\u001b[0m\u001b[1;33m\u001b[0m\u001b[0m\n",
      "\u001b[1;32mc:\\users\\kevin\\.virtualenvs\\winkie-tu0wptfo\\lib\\site-packages\\torch\\autograd\\__init__.py\u001b[0m in \u001b[0;36m_make_grads\u001b[1;34m(outputs, grads)\u001b[0m\n\u001b[0;32m     49\u001b[0m                 \u001b[1;32mif\u001b[0m \u001b[0mout\u001b[0m\u001b[1;33m.\u001b[0m\u001b[0mnumel\u001b[0m\u001b[1;33m(\u001b[0m\u001b[1;33m)\u001b[0m \u001b[1;33m!=\u001b[0m \u001b[1;36m1\u001b[0m\u001b[1;33m:\u001b[0m\u001b[1;33m\u001b[0m\u001b[1;33m\u001b[0m\u001b[0m\n\u001b[0;32m     50\u001b[0m                     \u001b[1;32mraise\u001b[0m \u001b[0mRuntimeError\u001b[0m\u001b[1;33m(\u001b[0m\u001b[1;34m\"grad can be implicitly created only for scalar outputs\"\u001b[0m\u001b[1;33m)\u001b[0m\u001b[1;33m\u001b[0m\u001b[1;33m\u001b[0m\u001b[0m\n\u001b[1;32m---> 51\u001b[1;33m                 \u001b[0mnew_grads\u001b[0m\u001b[1;33m.\u001b[0m\u001b[0mappend\u001b[0m\u001b[1;33m(\u001b[0m\u001b[0mtorch\u001b[0m\u001b[1;33m.\u001b[0m\u001b[0mones_like\u001b[0m\u001b[1;33m(\u001b[0m\u001b[0mout\u001b[0m\u001b[1;33m,\u001b[0m \u001b[0mmemory_format\u001b[0m\u001b[1;33m=\u001b[0m\u001b[0mtorch\u001b[0m\u001b[1;33m.\u001b[0m\u001b[0mpreserve_format\u001b[0m\u001b[1;33m)\u001b[0m\u001b[1;33m)\u001b[0m\u001b[1;33m\u001b[0m\u001b[1;33m\u001b[0m\u001b[0m\n\u001b[0m\u001b[0;32m     52\u001b[0m             \u001b[1;32melse\u001b[0m\u001b[1;33m:\u001b[0m\u001b[1;33m\u001b[0m\u001b[1;33m\u001b[0m\u001b[0m\n\u001b[0;32m     53\u001b[0m                 \u001b[0mnew_grads\u001b[0m\u001b[1;33m.\u001b[0m\u001b[0mappend\u001b[0m\u001b[1;33m(\u001b[0m\u001b[1;32mNone\u001b[0m\u001b[1;33m)\u001b[0m\u001b[1;33m\u001b[0m\u001b[1;33m\u001b[0m\u001b[0m\n",
      "\u001b[1;31mKeyboardInterrupt\u001b[0m: "
     ]
    },
    {
     "data": {
      "image/png": "[encoded data removed]",
      "text/plain": [
       "<Figure size 720x720 with 1 Axes>"
      ]
     },
     "metadata": {
      "needs_background": "light"
     },
     "output_type": "display_data"
    },
    {
     "data": {
      "image/png": "[encoded data removed]",
      "text/plain": [
       "<Figure size 720x720 with 1 Axes>"
      ]
     },
     "metadata": {
      "needs_background": "light"
     },
     "output_type": "display_data"
    }
   ],
   "source": [
    "for i, s in enumerate(splits):\n",
    "    print(f'===================== Fold {i} ============================')\n",
    "    train_and_evaluate_it(X, y, s, 32, 0.001, 25)"
   ]
  },
  {
   "cell_type": "markdown",
   "id": "brazilian-richards",
   "metadata": {},
   "source": [
    "# Other architectures"
   ]
  },
  {
   "cell_type": "code",
   "execution_count": 70,
   "id": "soviet-rochester",
   "metadata": {},
   "outputs": [],
   "source": [
    "tfms  = [None, [Categorize()]]\n",
    "dsets = TSDatasets(X, y, tfms=tfms, splits=splits[4], inplace=True)\n",
    "dls = TSDataLoaders.from_dsets(dsets.train, dsets.valid, bs=128, batch_tfms=[TSStandardize()], num_workers=0)"
   ]
  },
  {
   "cell_type": "markdown",
   "id": "civil-version",
   "metadata": {},
   "source": [
    "## OmniScaleCNN"
   ]
  },
  {
   "cell_type": "code",
   "execution_count": 72,
   "id": "former-peninsula",
   "metadata": {},
   "outputs": [],
   "source": [
    "model = create_model(OmniScaleCNN, dls=dls)\n",
    "learn = Learner(dls, model,  metrics=accuracy)"
   ]
  },
  {
   "cell_type": "code",
   "execution_count": 74,
   "id": "streaming-festival",
   "metadata": {},
   "outputs": [
    {
     "data": {
      "text/html": [],
      "text/plain": [
       "<IPython.core.display.HTML object>"
      ]
     },
     "metadata": {},
     "output_type": "display_data"
    },
    {
     "data": {
      "image/png": "[encoded data removed]",
      "text/plain": [
       "<Figure size 432x288 with 1 Axes>"
      ]
     },
     "metadata": {
      "needs_background": "light"
     },
     "output_type": "display_data"
    }
   ],
   "source": [
    "lr_min,lr_steep = learn.lr_find(suggestions=True)\n",
    "print(f\"Minimum/10: {lr_min}, steepest point: {lr_steep}\")"
   ]
  },
  {
   "cell_type": "code",
   "execution_count": 76,
   "id": "floral-monkey",
   "metadata": {},
   "outputs": [
    {
     "data": {
      "text/html": [
       "<table border=\"1\" class=\"dataframe\">\n",
       "  <thead>\n",
       "    <tr style=\"text-align: left;\">\n",
       "      <th>epoch</th>\n",
       "      <th>train_loss</th>\n",
       "      <th>valid_loss</th>\n",
       "      <th>accuracy</th>\n",
       "      <th>time</th>\n",
       "    </tr>\n",
       "  </thead>\n",
       "  <tbody>\n",
       "    <tr>\n",
       "      <td>0</td>\n",
       "      <td>0.175352</td>\n",
       "      <td>0.396479</td>\n",
       "      <td>0.878312</td>\n",
       "      <td>03:15</td>\n",
       "    </tr>\n",
       "    <tr>\n",
       "      <td>1</td>\n",
       "      <td>0.124809</td>\n",
       "      <td>0.381283</td>\n",
       "      <td>0.884279</td>\n",
       "      <td>03:12</td>\n",
       "    </tr>\n",
       "  </tbody>\n",
       "</table>"
      ],
      "text/plain": [
       "<IPython.core.display.HTML object>"
      ]
     },
     "metadata": {},
     "output_type": "display_data"
    }
   ],
   "source": [
    "learn.fit_one_cycle(2, lr_max=lr_steep)"
   ]
  },
  {
   "cell_type": "code",
   "execution_count": 77,
   "id": "proved-killer",
   "metadata": {},
   "outputs": [
    {
     "data": {
      "text/html": [],
      "text/plain": [
       "<IPython.core.display.HTML object>"
      ]
     },
     "metadata": {},
     "output_type": "display_data"
    },
    {
     "name": "stdout",
     "output_type": "stream",
     "text": [
      "TensorCategory(0.8843)\n",
      "0.9202430993476572\n",
      "              precision    recall  f1-score   support\n",
      "\n",
      "           0       0.96      0.98      0.97     64542\n",
      "           1       0.61      0.88      0.72      8159\n",
      "           2       0.07      0.22      0.11       521\n",
      "           3       0.69      0.65      0.67      9448\n",
      "           4       0.95      0.87      0.91     84374\n",
      "           5       0.51      0.52      0.52      1713\n",
      "           6       0.36      0.53      0.43      4349\n",
      "\n",
      "    accuracy                           0.88    173106\n",
      "   macro avg       0.59      0.66      0.62    173106\n",
      "weighted avg       0.90      0.88      0.89    173106\n",
      "\n"
     ]
    }
   ],
   "source": [
    "dls = learn.dls\n",
    "valid_dl = dls.valid\n",
    "valid_probas, valid_targets, valid_preds = learn.get_preds(dl=valid_dl, with_decoded=True)\n",
    "cat_ac = (valid_targets == valid_preds).float().mean()\n",
    "print(cat_ac)\n",
    "print(roc_auc_score(valid_targets, valid_probas, multi_class='ovo', average='macro'))\n",
    "print(classification_report(valid_preds, valid_targets))"
   ]
  },
  {
   "cell_type": "markdown",
   "id": "connected-brooklyn",
   "metadata": {},
   "source": [
    "## ResNet"
   ]
  },
  {
   "cell_type": "code",
   "execution_count": 80,
   "id": "employed-nebraska",
   "metadata": {},
   "outputs": [
    {
     "data": {
      "text/html": [],
      "text/plain": [
       "<IPython.core.display.HTML object>"
      ]
     },
     "metadata": {},
     "output_type": "display_data"
    },
    {
     "name": "stdout",
     "output_type": "stream",
     "text": [
      "Minimum/10: 0.10964782238006592, steepest point: 0.0014454397605732083\n"
     ]
    },
    {
     "data": {
      "text/html": [
       "<table border=\"1\" class=\"dataframe\">\n",
       "  <thead>\n",
       "    <tr style=\"text-align: left;\">\n",
       "      <th>epoch</th>\n",
       "      <th>train_loss</th>\n",
       "      <th>valid_loss</th>\n",
       "      <th>accuracy</th>\n",
       "      <th>time</th>\n",
       "    </tr>\n",
       "  </thead>\n",
       "  <tbody>\n",
       "    <tr>\n",
       "      <td>0</td>\n",
       "      <td>0.097466</td>\n",
       "      <td>0.370655</td>\n",
       "      <td>0.893869</td>\n",
       "      <td>02:40</td>\n",
       "    </tr>\n",
       "    <tr>\n",
       "      <td>1</td>\n",
       "      <td>0.030205</td>\n",
       "      <td>0.429562</td>\n",
       "      <td>0.906993</td>\n",
       "      <td>02:41</td>\n",
       "    </tr>\n",
       "  </tbody>\n",
       "</table>"
      ],
      "text/plain": [
       "<IPython.core.display.HTML object>"
      ]
     },
     "metadata": {},
     "output_type": "display_data"
    },
    {
     "data": {
      "text/html": [],
      "text/plain": [
       "<IPython.core.display.HTML object>"
      ]
     },
     "metadata": {},
     "output_type": "display_data"
    },
    {
     "name": "stdout",
     "output_type": "stream",
     "text": [
      "TensorCategory(0.9070)\n",
      "0.9452712962803768\n",
      "              precision    recall  f1-score   support\n",
      "\n",
      "           0       0.98      0.99      0.98     65882\n",
      "           1       0.69      0.86      0.77      9470\n",
      "           2       0.58      0.57      0.57      1607\n",
      "           3       0.76      0.72      0.74      9382\n",
      "           4       0.94      0.92      0.93     78474\n",
      "           5       0.57      0.53      0.55      1881\n",
      "           6       0.50      0.50      0.50      6410\n",
      "\n",
      "    accuracy                           0.91    173106\n",
      "   macro avg       0.72      0.73      0.72    173106\n",
      "weighted avg       0.91      0.91      0.91    173106\n",
      "\n"
     ]
    },
    {
     "data": {
      "image/png": "[encoded data removed]",
      "text/plain": [
       "<Figure size 432x288 with 1 Axes>"
      ]
     },
     "metadata": {
      "needs_background": "light"
     },
     "output_type": "display_data"
    }
   ],
   "source": [
    "model = create_model(ResNet, dls=dls)\n",
    "learn = Learner(dls, model,  metrics=accuracy)\n",
    "\n",
    "lr_min,lr_steep = learn.lr_find(suggestions=True)\n",
    "print(f\"Minimum/10: {lr_min}, steepest point: {lr_steep}\")\n",
    "learn.fit_one_cycle(2, lr_max=lr_steep)\n",
    "dls = learn.dls\n",
    "valid_dl = dls.valid\n",
    "valid_probas, valid_targets, valid_preds = learn.get_preds(dl=valid_dl, with_decoded=True)\n",
    "cat_ac = (valid_targets == valid_preds).float().mean()\n",
    "print(cat_ac)\n",
    "print(roc_auc_score(valid_targets, valid_probas, multi_class='ovo', average='macro'))\n",
    "print(classification_report(valid_preds, valid_targets))"
   ]
  },
  {
   "cell_type": "markdown",
   "id": "married-reach",
   "metadata": {},
   "source": [
    "## RNN_FCN"
   ]
  },
  {
   "cell_type": "code",
   "execution_count": 83,
   "id": "plain-static",
   "metadata": {},
   "outputs": [
    {
     "data": {
      "text/html": [],
      "text/plain": [
       "<IPython.core.display.HTML object>"
      ]
     },
     "metadata": {},
     "output_type": "display_data"
    },
    {
     "name": "stdout",
     "output_type": "stream",
     "text": [
      "Minimum/10: 0.012022644281387329, steepest point: 0.0014454397605732083\n"
     ]
    },
    {
     "data": {
      "text/html": [
       "<table border=\"1\" class=\"dataframe\">\n",
       "  <thead>\n",
       "    <tr style=\"text-align: left;\">\n",
       "      <th>epoch</th>\n",
       "      <th>train_loss</th>\n",
       "      <th>valid_loss</th>\n",
       "      <th>accuracy</th>\n",
       "      <th>time</th>\n",
       "    </tr>\n",
       "  </thead>\n",
       "  <tbody>\n",
       "    <tr>\n",
       "      <td>0</td>\n",
       "      <td>0.108284</td>\n",
       "      <td>0.420133</td>\n",
       "      <td>0.889796</td>\n",
       "      <td>01:43</td>\n",
       "    </tr>\n",
       "    <tr>\n",
       "      <td>1</td>\n",
       "      <td>0.046740</td>\n",
       "      <td>0.485253</td>\n",
       "      <td>0.898103</td>\n",
       "      <td>01:45</td>\n",
       "    </tr>\n",
       "  </tbody>\n",
       "</table>"
      ],
      "text/plain": [
       "<IPython.core.display.HTML object>"
      ]
     },
     "metadata": {},
     "output_type": "display_data"
    },
    {
     "data": {
      "text/html": [],
      "text/plain": [
       "<IPython.core.display.HTML object>"
      ]
     },
     "metadata": {},
     "output_type": "display_data"
    },
    {
     "name": "stdout",
     "output_type": "stream",
     "text": [
      "TensorCategory(0.8981)\n",
      "0.9316069286005573\n",
      "              precision    recall  f1-score   support\n",
      "\n",
      "           0       0.97      0.99      0.98     65548\n",
      "           1       0.69      0.85      0.77      9584\n",
      "           2       0.44      0.35      0.39      1977\n",
      "           3       0.72      0.66      0.69      9598\n",
      "           4       0.93      0.91      0.92     78533\n",
      "           5       0.58      0.56      0.57      1796\n",
      "           6       0.48      0.51      0.50      6070\n",
      "\n",
      "    accuracy                           0.90    173106\n",
      "   macro avg       0.69      0.69      0.69    173106\n",
      "weighted avg       0.90      0.90      0.90    173106\n",
      "\n"
     ]
    },
    {
     "data": {
      "image/png": "[encoded data removed]",
      "text/plain": [
       "<Figure size 432x288 with 1 Axes>"
      ]
     },
     "metadata": {
      "needs_background": "light"
     },
     "output_type": "display_data"
    }
   ],
   "source": [
    "model = create_model(RNN_FCN, dls=dls)\n",
    "learn = Learner(dls, model,  metrics=accuracy)\n",
    "\n",
    "lr_min,lr_steep = learn.lr_find(suggestions=True)\n",
    "print(f\"Minimum/10: {lr_min}, steepest point: {lr_steep}\")\n",
    "learn.fit_one_cycle(2, lr_max=lr_steep)\n",
    "dls = learn.dls\n",
    "valid_dl = dls.valid\n",
    "valid_probas, valid_targets, valid_preds = learn.get_preds(dl=valid_dl, with_decoded=True)\n",
    "cat_ac = (valid_targets == valid_preds).float().mean()\n",
    "print(cat_ac)\n",
    "print(roc_auc_score(valid_targets, valid_probas, multi_class='ovo', average='macro'))\n",
    "print(classification_report(valid_preds, valid_targets))"
   ]
  },
  {
   "cell_type": "code",
   "execution_count": 84,
   "id": "nervous-little",
   "metadata": {},
   "outputs": [
    {
     "data": {
      "text/html": [],
      "text/plain": [
       "<IPython.core.display.HTML object>"
      ]
     },
     "metadata": {},
     "output_type": "display_data"
    },
    {
     "name": "stdout",
     "output_type": "stream",
     "text": [
      "Minimum/10: 0.07585775852203369, steepest point: 0.002511886414140463\n"
     ]
    },
    {
     "data": {
      "text/html": [
       "<table border=\"1\" class=\"dataframe\">\n",
       "  <thead>\n",
       "    <tr style=\"text-align: left;\">\n",
       "      <th>epoch</th>\n",
       "      <th>train_loss</th>\n",
       "      <th>valid_loss</th>\n",
       "      <th>accuracy</th>\n",
       "      <th>time</th>\n",
       "    </tr>\n",
       "  </thead>\n",
       "  <tbody>\n",
       "    <tr>\n",
       "      <td>0</td>\n",
       "      <td>0.105569</td>\n",
       "      <td>0.442134</td>\n",
       "      <td>0.890662</td>\n",
       "      <td>01:55</td>\n",
       "    </tr>\n",
       "    <tr>\n",
       "      <td>1</td>\n",
       "      <td>0.046293</td>\n",
       "      <td>0.488129</td>\n",
       "      <td>0.902591</td>\n",
       "      <td>01:55</td>\n",
       "    </tr>\n",
       "  </tbody>\n",
       "</table>"
      ],
      "text/plain": [
       "<IPython.core.display.HTML object>"
      ]
     },
     "metadata": {},
     "output_type": "display_data"
    },
    {
     "data": {
      "text/html": [],
      "text/plain": [
       "<IPython.core.display.HTML object>"
      ]
     },
     "metadata": {},
     "output_type": "display_data"
    },
    {
     "name": "stdout",
     "output_type": "stream",
     "text": [
      "TensorCategory(0.9026)\n",
      "0.9294187927315146\n",
      "              precision    recall  f1-score   support\n",
      "\n",
      "           0       0.98      0.98      0.98     66023\n",
      "           1       0.71      0.88      0.79      9455\n",
      "           2       0.43      0.37      0.40      1846\n",
      "           3       0.71      0.73      0.72      8578\n",
      "           4       0.94      0.91      0.93     79256\n",
      "           5       0.53      0.54      0.53      1719\n",
      "           6       0.48      0.50      0.49      6229\n",
      "\n",
      "    accuracy                           0.90    173106\n",
      "   macro avg       0.68      0.70      0.69    173106\n",
      "weighted avg       0.91      0.90      0.90    173106\n",
      "\n"
     ]
    },
    {
     "data": {
      "image/png": "[encoded data removed]",
      "text/plain": [
       "<Figure size 432x288 with 1 Axes>"
      ]
     },
     "metadata": {
      "needs_background": "light"
     },
     "output_type": "display_data"
    }
   ],
   "source": [
    "model = create_model(LSTM_FCN, dls=dls)\n",
    "learn = Learner(dls, model,  metrics=accuracy)\n",
    "\n",
    "lr_min,lr_steep = learn.lr_find(suggestions=True)\n",
    "print(f\"Minimum/10: {lr_min}, steepest point: {lr_steep}\")\n",
    "learn.fit_one_cycle(2, lr_max=lr_steep)\n",
    "dls = learn.dls\n",
    "valid_dl = dls.valid\n",
    "valid_probas, valid_targets, valid_preds = learn.get_preds(dl=valid_dl, with_decoded=True)\n",
    "cat_ac = (valid_targets == valid_preds).float().mean()\n",
    "print(cat_ac)\n",
    "print(roc_auc_score(valid_targets, valid_probas, multi_class='ovo', average='macro'))\n",
    "print(classification_report(valid_preds, valid_targets))"
   ]
  },
  {
   "cell_type": "code",
   "execution_count": null,
   "id": "personal-buffer",
   "metadata": {},
   "outputs": [],
   "source": []
  }
 ],
 "metadata": {
  "kernelspec": {
   "display_name": "Python 3",
   "language": "python",
   "name": "python3"
  },
  "language_info": {
   "codemirror_mode": {
    "name": "ipython",
    "version": 3
   },
   "file_extension": ".py",
   "mimetype": "text/x-python",
   "name": "python",
   "nbconvert_exporter": "python",
   "pygments_lexer": "ipython3",
   "version": "3.8.6"
  }
 },
 "nbformat": 4,
 "nbformat_minor": 5
}
