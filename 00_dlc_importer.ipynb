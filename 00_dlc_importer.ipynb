{
 "cells": [
  {
   "cell_type": "code",
   "execution_count": null,
   "metadata": {},
   "outputs": [],
   "source": [
    "# default_exp dlc_importer"
   ]
  },
  {
   "cell_type": "markdown",
   "metadata": {},
   "source": [
    "# DLCImporter\n",
    "\n",
    "> API details."
   ]
  },
  {
   "cell_type": "code",
   "execution_count": null,
   "metadata": {},
   "outputs": [],
   "source": [
    "#hide\n",
    "from nbdev.showdoc import *\n",
    "from fastcore.nb_imports import *\n",
    "from fastcore.test import *"
   ]
  },
  {
   "cell_type": "code",
   "execution_count": null,
   "metadata": {},
   "outputs": [],
   "source": [
    "#export\n",
    "import pandas as pd\n",
    "\n",
    "class DLCImporter:\n",
    "    \"\"\"Used to import DLC result files.\"\"\"\n",
    "    \n",
    "    def import_hdf(self, file):\n",
    "        df = pd.read_hdf(file)\n",
    "        df.columns = df.columns.droplevel(0) # drop redundant scorer\n",
    "        columns_to_drop = ['a1', 'a2', 'a3', 'a4', 'b1', 'b2', 'b3', 'b4']\n",
    "        df = df.drop(columns_to_drop, axis=1, level=0)\n",
    "        df.columns = df.columns.remove_unused_levels()\n",
    "        return df"
   ]
  },
  {
   "cell_type": "markdown",
   "metadata": {},
   "source": [
    "`DLCImporter` can be used to import result files from DeepLabCut in H5 format.\n",
    "It will automatically drop the unnecessary `scorer` level."
   ]
  },
  {
   "cell_type": "code",
   "execution_count": null,
   "metadata": {},
   "outputs": [
    {
     "data": {
      "text/html": "<div>\n<style scoped>\n    .dataframe tbody tr th:only-of-type {\n        vertical-align: middle;\n    }\n\n    .dataframe tbody tr th {\n        vertical-align: top;\n    }\n\n    .dataframe thead tr th {\n        text-align: left;\n    }\n</style>\n<table border=\"1\" class=\"dataframe\">\n  <thead>\n    <tr>\n      <th>bodyparts</th>\n      <th colspan=\"3\" halign=\"left\">head</th>\n      <th colspan=\"3\" halign=\"left\">beak</th>\n      <th colspan=\"3\" halign=\"left\">left_neck</th>\n      <th>right_neck</th>\n      <th>...</th>\n      <th>right_middle_wing</th>\n      <th colspan=\"3\" halign=\"left\">right_down_wing</th>\n      <th colspan=\"3\" halign=\"left\">body</th>\n      <th colspan=\"3\" halign=\"left\">tail</th>\n    </tr>\n    <tr>\n      <th>coords</th>\n      <th>x</th>\n      <th>y</th>\n      <th>likelihood</th>\n      <th>x</th>\n      <th>y</th>\n      <th>likelihood</th>\n      <th>x</th>\n      <th>y</th>\n      <th>likelihood</th>\n      <th>x</th>\n      <th>...</th>\n      <th>likelihood</th>\n      <th>x</th>\n      <th>y</th>\n      <th>likelihood</th>\n      <th>x</th>\n      <th>y</th>\n      <th>likelihood</th>\n      <th>x</th>\n      <th>y</th>\n      <th>likelihood</th>\n    </tr>\n  </thead>\n  <tbody>\n    <tr>\n      <th>0</th>\n      <td>773.376465</td>\n      <td>231.518768</td>\n      <td>0.999999</td>\n      <td>726.495178</td>\n      <td>235.638046</td>\n      <td>0.999981</td>\n      <td>726.502014</td>\n      <td>277.634125</td>\n      <td>0.999998</td>\n      <td>803.271179</td>\n      <td>...</td>\n      <td>0.999998</td>\n      <td>866.702393</td>\n      <td>446.583923</td>\n      <td>0.999997</td>\n      <td>804.008545</td>\n      <td>350.669586</td>\n      <td>0.999992</td>\n      <td>874.878601</td>\n      <td>485.749908</td>\n      <td>0.999999</td>\n    </tr>\n    <tr>\n      <th>1</th>\n      <td>773.129822</td>\n      <td>231.487213</td>\n      <td>0.999999</td>\n      <td>725.662231</td>\n      <td>235.242844</td>\n      <td>0.999951</td>\n      <td>725.964478</td>\n      <td>278.003082</td>\n      <td>0.999999</td>\n      <td>803.197144</td>\n      <td>...</td>\n      <td>0.999997</td>\n      <td>866.877441</td>\n      <td>446.645325</td>\n      <td>0.999989</td>\n      <td>802.684265</td>\n      <td>345.021454</td>\n      <td>0.999873</td>\n      <td>875.375854</td>\n      <td>487.185547</td>\n      <td>0.999997</td>\n    </tr>\n    <tr>\n      <th>2</th>\n      <td>773.009827</td>\n      <td>231.793518</td>\n      <td>0.999999</td>\n      <td>726.025696</td>\n      <td>235.272522</td>\n      <td>0.999978</td>\n      <td>725.764893</td>\n      <td>278.884918</td>\n      <td>0.999998</td>\n      <td>802.567810</td>\n      <td>...</td>\n      <td>0.999997</td>\n      <td>867.120056</td>\n      <td>447.921356</td>\n      <td>0.999995</td>\n      <td>801.531067</td>\n      <td>349.937347</td>\n      <td>0.999946</td>\n      <td>876.269714</td>\n      <td>485.816010</td>\n      <td>0.999999</td>\n    </tr>\n    <tr>\n      <th>3</th>\n      <td>773.748779</td>\n      <td>231.791260</td>\n      <td>0.999999</td>\n      <td>726.288940</td>\n      <td>235.864319</td>\n      <td>0.999985</td>\n      <td>725.889465</td>\n      <td>279.045715</td>\n      <td>0.999998</td>\n      <td>803.356934</td>\n      <td>...</td>\n      <td>0.999992</td>\n      <td>866.839966</td>\n      <td>448.009460</td>\n      <td>0.999994</td>\n      <td>802.792908</td>\n      <td>350.675842</td>\n      <td>0.999970</td>\n      <td>875.973022</td>\n      <td>485.560150</td>\n      <td>0.999998</td>\n    </tr>\n    <tr>\n      <th>4</th>\n      <td>774.934326</td>\n      <td>231.623734</td>\n      <td>0.999999</td>\n      <td>726.298279</td>\n      <td>235.749908</td>\n      <td>0.999990</td>\n      <td>726.302551</td>\n      <td>278.388367</td>\n      <td>0.999999</td>\n      <td>802.530273</td>\n      <td>...</td>\n      <td>0.999995</td>\n      <td>866.429382</td>\n      <td>446.349670</td>\n      <td>0.999998</td>\n      <td>803.659973</td>\n      <td>351.269745</td>\n      <td>0.999938</td>\n      <td>876.481873</td>\n      <td>485.140839</td>\n      <td>0.999998</td>\n    </tr>\n    <tr>\n      <th>...</th>\n      <td>...</td>\n      <td>...</td>\n      <td>...</td>\n      <td>...</td>\n      <td>...</td>\n      <td>...</td>\n      <td>...</td>\n      <td>...</td>\n      <td>...</td>\n      <td>...</td>\n      <td>...</td>\n      <td>...</td>\n      <td>...</td>\n      <td>...</td>\n      <td>...</td>\n      <td>...</td>\n      <td>...</td>\n      <td>...</td>\n      <td>...</td>\n      <td>...</td>\n      <td>...</td>\n    </tr>\n    <tr>\n      <th>95</th>\n      <td>691.788513</td>\n      <td>232.490265</td>\n      <td>1.000000</td>\n      <td>673.796082</td>\n      <td>238.801743</td>\n      <td>0.018886</td>\n      <td>697.399841</td>\n      <td>282.134796</td>\n      <td>0.999998</td>\n      <td>737.725342</td>\n      <td>...</td>\n      <td>0.999993</td>\n      <td>866.965027</td>\n      <td>433.505768</td>\n      <td>0.999980</td>\n      <td>788.017456</td>\n      <td>337.912994</td>\n      <td>0.999999</td>\n      <td>882.997253</td>\n      <td>483.786896</td>\n      <td>1.000000</td>\n    </tr>\n    <tr>\n      <th>96</th>\n      <td>691.545410</td>\n      <td>232.707413</td>\n      <td>1.000000</td>\n      <td>673.634888</td>\n      <td>238.658234</td>\n      <td>0.016135</td>\n      <td>697.256165</td>\n      <td>283.058899</td>\n      <td>0.999999</td>\n      <td>736.505920</td>\n      <td>...</td>\n      <td>0.999995</td>\n      <td>868.164307</td>\n      <td>432.291901</td>\n      <td>0.999943</td>\n      <td>788.334045</td>\n      <td>339.911743</td>\n      <td>0.999999</td>\n      <td>884.470215</td>\n      <td>483.485382</td>\n      <td>1.000000</td>\n    </tr>\n    <tr>\n      <th>97</th>\n      <td>691.117371</td>\n      <td>232.242767</td>\n      <td>1.000000</td>\n      <td>673.748840</td>\n      <td>239.055954</td>\n      <td>0.007289</td>\n      <td>696.269043</td>\n      <td>282.351929</td>\n      <td>0.999999</td>\n      <td>735.976685</td>\n      <td>...</td>\n      <td>0.999984</td>\n      <td>868.530457</td>\n      <td>434.697205</td>\n      <td>0.999916</td>\n      <td>785.626465</td>\n      <td>338.561829</td>\n      <td>0.999997</td>\n      <td>885.270691</td>\n      <td>485.053131</td>\n      <td>0.999999</td>\n    </tr>\n    <tr>\n      <th>98</th>\n      <td>691.294067</td>\n      <td>232.225220</td>\n      <td>1.000000</td>\n      <td>673.927002</td>\n      <td>239.141891</td>\n      <td>0.004682</td>\n      <td>695.629456</td>\n      <td>282.407013</td>\n      <td>1.000000</td>\n      <td>735.639404</td>\n      <td>...</td>\n      <td>0.999977</td>\n      <td>868.368958</td>\n      <td>434.125732</td>\n      <td>0.999876</td>\n      <td>786.011963</td>\n      <td>338.520691</td>\n      <td>0.999997</td>\n      <td>885.585388</td>\n      <td>484.755859</td>\n      <td>0.999999</td>\n    </tr>\n    <tr>\n      <th>99</th>\n      <td>691.483643</td>\n      <td>232.269226</td>\n      <td>1.000000</td>\n      <td>673.797241</td>\n      <td>239.390625</td>\n      <td>0.010126</td>\n      <td>695.367371</td>\n      <td>281.720947</td>\n      <td>0.999999</td>\n      <td>735.199585</td>\n      <td>...</td>\n      <td>0.999970</td>\n      <td>868.662292</td>\n      <td>434.387238</td>\n      <td>0.999786</td>\n      <td>785.282776</td>\n      <td>338.077087</td>\n      <td>0.999992</td>\n      <td>885.361023</td>\n      <td>483.480896</td>\n      <td>1.000000</td>\n    </tr>\n  </tbody>\n</table>\n<p>100 rows × 36 columns</p>\n</div>",
      "text/plain": "bodyparts        head                               beak              \\\ncoords              x           y likelihood           x           y   \n0          773.376465  231.518768   0.999999  726.495178  235.638046   \n1          773.129822  231.487213   0.999999  725.662231  235.242844   \n2          773.009827  231.793518   0.999999  726.025696  235.272522   \n3          773.748779  231.791260   0.999999  726.288940  235.864319   \n4          774.934326  231.623734   0.999999  726.298279  235.749908   \n..                ...         ...        ...         ...         ...   \n95         691.788513  232.490265   1.000000  673.796082  238.801743   \n96         691.545410  232.707413   1.000000  673.634888  238.658234   \n97         691.117371  232.242767   1.000000  673.748840  239.055954   \n98         691.294067  232.225220   1.000000  673.927002  239.141891   \n99         691.483643  232.269226   1.000000  673.797241  239.390625   \n\nbodyparts              left_neck                         right_neck  ...  \\\ncoords    likelihood           x           y likelihood           x  ...   \n0           0.999981  726.502014  277.634125   0.999998  803.271179  ...   \n1           0.999951  725.964478  278.003082   0.999999  803.197144  ...   \n2           0.999978  725.764893  278.884918   0.999998  802.567810  ...   \n3           0.999985  725.889465  279.045715   0.999998  803.356934  ...   \n4           0.999990  726.302551  278.388367   0.999999  802.530273  ...   \n..               ...         ...         ...        ...         ...  ...   \n95          0.018886  697.399841  282.134796   0.999998  737.725342  ...   \n96          0.016135  697.256165  283.058899   0.999999  736.505920  ...   \n97          0.007289  696.269043  282.351929   0.999999  735.976685  ...   \n98          0.004682  695.629456  282.407013   1.000000  735.639404  ...   \n99          0.010126  695.367371  281.720947   0.999999  735.199585  ...   \n\nbodyparts right_middle_wing right_down_wing                         \\\ncoords           likelihood               x           y likelihood   \n0                  0.999998      866.702393  446.583923   0.999997   \n1                  0.999997      866.877441  446.645325   0.999989   \n2                  0.999997      867.120056  447.921356   0.999995   \n3                  0.999992      866.839966  448.009460   0.999994   \n4                  0.999995      866.429382  446.349670   0.999998   \n..                      ...             ...         ...        ...   \n95                 0.999993      866.965027  433.505768   0.999980   \n96                 0.999995      868.164307  432.291901   0.999943   \n97                 0.999984      868.530457  434.697205   0.999916   \n98                 0.999977      868.368958  434.125732   0.999876   \n99                 0.999970      868.662292  434.387238   0.999786   \n\nbodyparts        body                               tail              \\\ncoords              x           y likelihood           x           y   \n0          804.008545  350.669586   0.999992  874.878601  485.749908   \n1          802.684265  345.021454   0.999873  875.375854  487.185547   \n2          801.531067  349.937347   0.999946  876.269714  485.816010   \n3          802.792908  350.675842   0.999970  875.973022  485.560150   \n4          803.659973  351.269745   0.999938  876.481873  485.140839   \n..                ...         ...        ...         ...         ...   \n95         788.017456  337.912994   0.999999  882.997253  483.786896   \n96         788.334045  339.911743   0.999999  884.470215  483.485382   \n97         785.626465  338.561829   0.999997  885.270691  485.053131   \n98         786.011963  338.520691   0.999997  885.585388  484.755859   \n99         785.282776  338.077087   0.999992  885.361023  483.480896   \n\nbodyparts             \ncoords    likelihood  \n0           0.999999  \n1           0.999997  \n2           0.999999  \n3           0.999998  \n4           0.999998  \n..               ...  \n95          1.000000  \n96          1.000000  \n97          0.999999  \n98          0.999999  \n99          1.000000  \n\n[100 rows x 36 columns]"
     },
     "metadata": {},
     "output_type": "display_data"
    }
   ],
   "source": [
    "imp = DLCImporter()\n",
    "df = imp.import_hdf('example_data/coordinates.h5')\n",
    "display(df)"
   ]
  },
  {
   "cell_type": "markdown",
   "metadata": {},
   "source": [
    "For further processing and analyzes, it can be useful to transform the tracked coordinates into relative coordinates (being relative to a specified bodypart). This can be done by specifying a bodypart as the relative origin.\n"
   ]
  },
  {
   "cell_type": "code",
   "execution_count": null,
   "metadata": {},
   "outputs": [],
   "source": [
    "#export\n",
    "def transform_to_relative(df, bodypart):\n",
    "    df_rel = df.copy()\n",
    "\n",
    "    for bp in df.columns.levels[0]:\n",
    "        df_rel[bp, 'x'] = df[bp, 'x'] - df[bodypart, 'x']\n",
    "        df_rel[bp, 'y'] = df[bp, 'y'] - df[bodypart, 'y']\n",
    "\n",
    "    return df_rel"
   ]
  },
  {
   "cell_type": "code",
   "execution_count": null,
   "metadata": {},
   "outputs": [],
   "source": [
    "df_relative = transform_to_relative(df, 'body')\n",
    "\n",
    "test_close(df_relative['head','x'][0], -30.6, 0.1)\n",
    "test_close(df_relative['head','y'][0], -119.1, 0.1)\n",
    "test_close(df_relative['tail','x'][0], 70.87, 0.1)\n",
    "test_close(df_relative['tail','y'][0], 135.08, 0.1)"
   ]
  },
  {
   "cell_type": "markdown",
   "metadata": {},
   "source": [
    "By using the `arctan2` function of Numpy, we are able to calculate the angle of the vector from the origin to a specific point."
   ]
  },
  {
   "cell_type": "code",
   "execution_count": null,
   "metadata": {},
   "outputs": [],
   "source": [
    "import numpy as np\n",
    "\n",
    "y = np.array([1, 1, 1, -1, 0.75])\n",
    "x = np.array([0, 1, -1, 1, 1.5])\n",
    "\n",
    "result = np.degrees(np.arctan2(y, x))\n",
    "expected = np.array([90, 45, 135, -45, 26.565051])\n",
    "\n",
    "np.testing.assert_almost_equal(result, expected, decimal=3)"
   ]
  },
  {
   "cell_type": "code",
   "execution_count": null,
   "metadata": {},
   "outputs": [],
   "source": [
    "# export\n",
    "def add_middle_neck(df):\n",
    "    df_middle_neck = df.copy()\n",
    "    df_middle_neck['middle_neck', 'x'] = (df_middle_neck['left_neck','x'] + df_middle_neck['right_neck', 'x']) / 2\n",
    "    df_middle_neck['middle_neck', 'y'] = (df_middle_neck['left_neck','y'] + df_middle_neck['right_neck', 'y']) / 2\n",
    "    return df_middle_neck"
   ]
  },
  {
   "cell_type": "markdown",
   "metadata": {},
   "source": [
    "Since we already moved the body into the origin, we can now decide for a good point for determining the angle of the pigeon rotation.\n",
    "The vector between the body and middle point between left_neck and right_neck seems to be suitable.\n",
    "Therefore, we first calculate this point, we can later use to determine the rotation of the pigeon."
   ]
  },
  {
   "cell_type": "code",
   "execution_count": null,
   "metadata": {},
   "outputs": [],
   "source": [
    "# assume we have pandas Dataframe\n",
    "df_example = df.copy()\n",
    "df_example['left_neck', 'x'][0] = 1\n",
    "df_example['left_neck', 'y'][0] = 1\n",
    "df_example['right_neck', 'x'][0] = 2\n",
    "df_example['right_neck', 'y'][0] = 0.5\n",
    "\n",
    "df_result = add_middle_neck(df_example)\n",
    "\n",
    "test_close(df_result['middle_neck','x'][0], 1.5, 0.1)\n",
    "test_close(df_result['middle_neck','y'][0], 0.75, 0.1)\n"
   ]
  },
  {
   "cell_type": "markdown",
   "metadata": {},
   "source": [
    "Based on the `middle_neck` coordinates, we now add the corresponding rotation to the dataframe."
   ]
  },
  {
   "cell_type": "code",
   "execution_count": null,
   "metadata": {},
   "outputs": [],
   "source": [
    "# export\n",
    "import numpy as np\n",
    "\n",
    "def add_rotation(df):\n",
    "    df = df.copy()\n",
    "    df['rotation_angle'] = np.degrees(np.arctan2(df['middle_neck', 'y'], df['middle_neck', 'x']))\n",
    "    return df"
   ]
  },
  {
   "cell_type": "code",
   "execution_count": null,
   "metadata": {},
   "outputs": [],
   "source": [
    "df_result = add_rotation(df_result)\n",
    "test_close(df_result['rotation_angle'][0], 26.565051, 0.1)"
   ]
  },
  {
   "cell_type": "code",
   "execution_count": null,
   "metadata": {},
   "outputs": [],
   "source": [
    "# export\n",
    "def apply_rotation(df):\n",
    "    df = df.copy()\n",
    "    df.apply(_rotate_row, axis=1)\n",
    "    return df\n",
    "\n",
    "def _rotate_row(x):\n",
    "    theta = np.radians(x['rotation_angle'][0] - 90)\n",
    "\n",
    "    body_parts = list(x.index.levels[0])\n",
    "    body_parts.remove('rotation_angle')\n",
    "\n",
    "    for b in body_parts:\n",
    "        x1, y = x[b,'x'], x[b,'y']\n",
    "\n",
    "        c, s = np.cos(theta), np.sin(theta)\n",
    "        rot = np.matrix([[c, s], [-s, c]])\n",
    "\n",
    "        rotated = np.dot(rot, [x1, y])\n",
    "\n",
    "        x[b, 'x'] = rotated[0, 0]\n",
    "        x[b, 'y'] = rotated[0, 1]\n",
    "\n",
    "    return x"
   ]
  },
  {
   "cell_type": "markdown",
   "metadata": {},
   "source": [
    "Finally, we can rotate all relative coordinates by this angle around the origin (which is the `body`), so we stabilize (and normalize) the pigeon orientation."
   ]
  },
  {
   "cell_type": "code",
   "execution_count": null,
   "metadata": {},
   "outputs": [],
   "source": [
    "df_example = df_result.copy()\n",
    "df_rotation_applied = apply_rotation(df_example)\n",
    "\n",
    "test_close(df_rotation_applied['middle_neck','x'][0], 0, 0.1)\n",
    "test_close(df_rotation_applied['middle_neck','y'][0], 1.6, 0.1)\n",
    "test_close(df_rotation_applied['left_neck','x'][0], -0.5, 0.1)\n",
    "test_close(df_rotation_applied['left_neck','y'][0], 1.34, 0.1)"
   ]
  },
  {
   "cell_type": "code",
   "execution_count": null,
   "metadata": {},
   "outputs": [
    {
     "data": {
      "text/html": "<div>\n<style scoped>\n    .dataframe tbody tr th:only-of-type {\n        vertical-align: middle;\n    }\n\n    .dataframe tbody tr th {\n        vertical-align: top;\n    }\n\n    .dataframe thead tr th {\n        text-align: left;\n    }\n</style>\n<table border=\"1\" class=\"dataframe\">\n  <thead>\n    <tr>\n      <th>bodyparts</th>\n      <th colspan=\"3\" halign=\"left\">head</th>\n      <th colspan=\"3\" halign=\"left\">beak</th>\n      <th colspan=\"3\" halign=\"left\">left_neck</th>\n      <th>right_neck</th>\n      <th>...</th>\n      <th>right_down_wing</th>\n      <th colspan=\"3\" halign=\"left\">body</th>\n      <th colspan=\"3\" halign=\"left\">tail</th>\n      <th colspan=\"2\" halign=\"left\">middle_neck</th>\n      <th>rotation_angle</th>\n    </tr>\n    <tr>\n      <th>coords</th>\n      <th>x</th>\n      <th>y</th>\n      <th>likelihood</th>\n      <th>x</th>\n      <th>y</th>\n      <th>likelihood</th>\n      <th>x</th>\n      <th>y</th>\n      <th>likelihood</th>\n      <th>x</th>\n      <th>...</th>\n      <th>likelihood</th>\n      <th>x</th>\n      <th>y</th>\n      <th>likelihood</th>\n      <th>x</th>\n      <th>y</th>\n      <th>likelihood</th>\n      <th>x</th>\n      <th>y</th>\n      <th></th>\n    </tr>\n  </thead>\n  <tbody>\n    <tr>\n      <th>0</th>\n      <td>138.787788</td>\n      <td>795.267280</td>\n      <td>0.999999</td>\n      <td>114.137445</td>\n      <td>755.177579</td>\n      <td>0.999981</td>\n      <td>-0.447214</td>\n      <td>1.341641</td>\n      <td>0.999998</td>\n      <td>0.447214</td>\n      <td>...</td>\n      <td>0.999997</td>\n      <td>45.915139</td>\n      <td>875.951311</td>\n      <td>0.999992</td>\n      <td>-43.210321</td>\n      <td>999.749173</td>\n      <td>0.999999</td>\n      <td>1.110223e-16</td>\n      <td>1.677051</td>\n      <td>26.565051</td>\n    </tr>\n    <tr>\n      <th>1</th>\n      <td>39.834331</td>\n      <td>806.057862</td>\n      <td>0.999999</td>\n      <td>20.450851</td>\n      <td>762.565822</td>\n      <td>0.999951</td>\n      <td>-19.756414</td>\n      <td>777.122783</td>\n      <td>0.999999</td>\n      <td>19.756414</td>\n      <td>...</td>\n      <td>0.999989</td>\n      <td>-57.324910</td>\n      <td>871.811727</td>\n      <td>0.999873</td>\n      <td>-167.074372</td>\n      <td>987.784793</td>\n      <td>0.999997</td>\n      <td>-8.526513e-14</td>\n      <td>811.093066</td>\n      <td>19.497707</td>\n    </tr>\n    <tr>\n      <th>2</th>\n      <td>39.749968</td>\n      <td>806.034966</td>\n      <td>0.999999</td>\n      <td>20.775538</td>\n      <td>762.912084</td>\n      <td>0.999978</td>\n      <td>-20.418605</td>\n      <td>777.235201</td>\n      <td>0.999998</td>\n      <td>20.418605</td>\n      <td>...</td>\n      <td>0.999995</td>\n      <td>-62.079260</td>\n      <td>872.384298</td>\n      <td>0.999946</td>\n      <td>-165.185364</td>\n      <td>988.220422</td>\n      <td>0.999999</td>\n      <td>5.684342e-14</td>\n      <td>810.740481</td>\n      <td>19.515082</td>\n    </tr>\n    <tr>\n      <th>3</th>\n      <td>40.164570</td>\n      <td>806.722486</td>\n      <td>0.999999</td>\n      <td>20.462394</td>\n      <td>763.353714</td>\n      <td>0.999985</td>\n      <td>-20.368948</td>\n      <td>777.410531</td>\n      <td>0.999998</td>\n      <td>20.368948</td>\n      <td>...</td>\n      <td>0.999994</td>\n      <td>-62.174409</td>\n      <td>873.833132</td>\n      <td>0.999970</td>\n      <td>-164.840502</td>\n      <td>987.889166</td>\n      <td>0.999998</td>\n      <td>-2.842171e-14</td>\n      <td>811.284220</td>\n      <td>19.526845</td>\n    </tr>\n    <tr>\n      <th>4</th>\n      <td>39.764190</td>\n      <td>807.831401</td>\n      <td>0.999999</td>\n      <td>19.671357</td>\n      <td>763.348051</td>\n      <td>0.999990</td>\n      <td>-20.530139</td>\n      <td>777.556424</td>\n      <td>0.999999</td>\n      <td>20.530139</td>\n      <td>...</td>\n      <td>0.999998</td>\n      <td>-63.478050</td>\n      <td>874.774441</td>\n      <td>0.999938</td>\n      <td>-165.442840</td>\n      <td>988.033791</td>\n      <td>0.999998</td>\n      <td>-2.842171e-14</td>\n      <td>810.725635</td>\n      <td>19.459142</td>\n    </tr>\n    <tr>\n      <th>...</th>\n      <td>...</td>\n      <td>...</td>\n      <td>...</td>\n      <td>...</td>\n      <td>...</td>\n      <td>...</td>\n      <td>...</td>\n      <td>...</td>\n      <td>...</td>\n      <td>...</td>\n      <td>...</td>\n      <td>...</td>\n      <td>...</td>\n      <td>...</td>\n      <td>...</td>\n      <td>...</td>\n      <td>...</td>\n      <td>...</td>\n      <td>...</td>\n      <td>...</td>\n      <td>...</td>\n    </tr>\n    <tr>\n      <th>95</th>\n      <td>22.820040</td>\n      <td>729.453436</td>\n      <td>1.000000</td>\n      <td>10.640974</td>\n      <td>714.782625</td>\n      <td>0.018886</td>\n      <td>-21.767582</td>\n      <td>751.992523</td>\n      <td>0.999998</td>\n      <td>21.767582</td>\n      <td>...</td>\n      <td>0.999980</td>\n      <td>-42.519259</td>\n      <td>856.357878</td>\n      <td>0.999999</td>\n      <td>-146.215377</td>\n      <td>996.170153</td>\n      <td>1.000000</td>\n      <td>5.684342e-14</td>\n      <td>765.418580</td>\n      <td>20.367862</td>\n    </tr>\n    <tr>\n      <th>96</th>\n      <td>22.570502</td>\n      <td>729.299915</td>\n      <td>1.000000</td>\n      <td>10.757272</td>\n      <td>714.580993</td>\n      <td>0.016135</td>\n      <td>-22.644057</td>\n      <td>752.180660</td>\n      <td>0.999999</td>\n      <td>22.644057</td>\n      <td>...</td>\n      <td>0.999943</td>\n      <td>-44.237424</td>\n      <td>857.352676</td>\n      <td>0.999999</td>\n      <td>-145.367203</td>\n      <td>997.453784</td>\n      <td>1.000000</td>\n      <td>-2.842171e-14</td>\n      <td>764.706621</td>\n      <td>20.370898</td>\n    </tr>\n    <tr>\n      <th>97</th>\n      <td>22.580007</td>\n      <td>728.745543</td>\n      <td>1.000000</td>\n      <td>10.152300</td>\n      <td>714.830175</td>\n      <td>0.007289</td>\n      <td>-22.610462</td>\n      <td>751.000638</td>\n      <td>0.999999</td>\n      <td>22.610462</td>\n      <td>...</td>\n      <td>0.999916</td>\n      <td>-44.239268</td>\n      <td>854.327772</td>\n      <td>0.999997</td>\n      <td>-146.937995</td>\n      <td>998.694128</td>\n      <td>0.999999</td>\n      <td>8.526513e-14</td>\n      <td>763.790083</td>\n      <td>20.349113</td>\n    </tr>\n    <tr>\n      <th>98</th>\n      <td>23.107823</td>\n      <td>728.890986</td>\n      <td>1.000000</td>\n      <td>10.575034</td>\n      <td>715.020711</td>\n      <td>0.004682</td>\n      <td>-22.421310</td>\n      <td>750.434105</td>\n      <td>1.000000</td>\n      <td>22.421310</td>\n      <td>...</td>\n      <td>0.999876</td>\n      <td>-43.539081</td>\n      <td>854.701944</td>\n      <td>0.999997</td>\n      <td>-145.933244</td>\n      <td>998.976081</td>\n      <td>0.999999</td>\n      <td>8.526513e-14</td>\n      <td>763.444060</td>\n      <td>20.384479</td>\n    </tr>\n    <tr>\n      <th>99</th>\n      <td>23.165527</td>\n      <td>729.082972</td>\n      <td>1.000000</td>\n      <td>10.328965</td>\n      <td>714.985249</td>\n      <td>0.010126</td>\n      <td>-21.835634</td>\n      <td>749.950450</td>\n      <td>0.999999</td>\n      <td>21.835634</td>\n      <td>...</td>\n      <td>0.999786</td>\n      <td>-43.338690</td>\n      <td>853.865864</td>\n      <td>0.999992</td>\n      <td>-144.771195</td>\n      <td>998.328212</td>\n      <td>1.000000</td>\n      <td>8.526513e-14</td>\n      <td>763.082467</td>\n      <td>20.387066</td>\n    </tr>\n  </tbody>\n</table>\n<p>100 rows × 39 columns</p>\n</div>",
      "text/plain": [
       "bodyparts        head                               beak              \\\n",
       "coords              x           y likelihood           x           y   \n",
       "0          138.787788  795.267280   0.999999  114.137445  755.177579   \n",
       "1           39.834331  806.057862   0.999999   20.450851  762.565822   \n",
       "2           39.749968  806.034966   0.999999   20.775538  762.912084   \n",
       "3           40.164570  806.722486   0.999999   20.462394  763.353714   \n",
       "4           39.764190  807.831401   0.999999   19.671357  763.348051   \n",
       "..                ...         ...        ...         ...         ...   \n",
       "95          22.820040  729.453436   1.000000   10.640974  714.782625   \n",
       "96          22.570502  729.299915   1.000000   10.757272  714.580993   \n",
       "97          22.580007  728.745543   1.000000   10.152300  714.830175   \n",
       "98          23.107823  728.890986   1.000000   10.575034  715.020711   \n",
       "99          23.165527  729.082972   1.000000   10.328965  714.985249   \n",
       "\n",
       "bodyparts             left_neck                        right_neck  ...  \\\n",
       "coords    likelihood          x           y likelihood          x  ...   \n",
       "0           0.999981  -0.447214    1.341641   0.999998   0.447214  ...   \n",
       "1           0.999951 -19.756414  777.122783   0.999999  19.756414  ...   \n",
       "2           0.999978 -20.418605  777.235201   0.999998  20.418605  ...   \n",
       "3           0.999985 -20.368948  777.410531   0.999998  20.368948  ...   \n",
       "4           0.999990 -20.530139  777.556424   0.999999  20.530139  ...   \n",
       "..               ...        ...         ...        ...        ...  ...   \n",
       "95          0.018886 -21.767582  751.992523   0.999998  21.767582  ...   \n",
       "96          0.016135 -22.644057  752.180660   0.999999  22.644057  ...   \n",
       "97          0.007289 -22.610462  751.000638   0.999999  22.610462  ...   \n",
       "98          0.004682 -22.421310  750.434105   1.000000  22.421310  ...   \n",
       "99          0.010126 -21.835634  749.950450   0.999999  21.835634  ...   \n",
       "\n",
       "bodyparts right_down_wing       body                               tail  \\\n",
       "coords         likelihood          x           y likelihood           x   \n",
       "0                0.999997  45.915139  875.951311   0.999992  -43.210321   \n",
       "1                0.999989 -57.324910  871.811727   0.999873 -167.074372   \n",
       "2                0.999995 -62.079260  872.384298   0.999946 -165.185364   \n",
       "3                0.999994 -62.174409  873.833132   0.999970 -164.840502   \n",
       "4                0.999998 -63.478050  874.774441   0.999938 -165.442840   \n",
       "..                    ...        ...         ...        ...         ...   \n",
       "95               0.999980 -42.519259  856.357878   0.999999 -146.215377   \n",
       "96               0.999943 -44.237424  857.352676   0.999999 -145.367203   \n",
       "97               0.999916 -44.239268  854.327772   0.999997 -146.937995   \n",
       "98               0.999876 -43.539081  854.701944   0.999997 -145.933244   \n",
       "99               0.999786 -43.338690  853.865864   0.999992 -144.771195   \n",
       "\n",
       "bodyparts                          middle_neck             rotation_angle  \n",
       "coords              y likelihood             x           y                 \n",
       "0          999.749173   0.999999  1.110223e-16    1.677051      26.565051  \n",
       "1          987.784793   0.999997 -8.526513e-14  811.093066      19.497707  \n",
       "2          988.220422   0.999999  5.684342e-14  810.740481      19.515082  \n",
       "3          987.889166   0.999998 -2.842171e-14  811.284220      19.526845  \n",
       "4          988.033791   0.999998 -2.842171e-14  810.725635      19.459142  \n",
       "..                ...        ...           ...         ...            ...  \n",
       "95         996.170153   1.000000  5.684342e-14  765.418580      20.367862  \n",
       "96         997.453784   1.000000 -2.842171e-14  764.706621      20.370898  \n",
       "97         998.694128   0.999999  8.526513e-14  763.790083      20.349113  \n",
       "98         998.976081   0.999999  8.526513e-14  763.444060      20.384479  \n",
       "99         998.328212   1.000000  8.526513e-14  763.082467      20.387066  \n",
       "\n",
       "[100 rows x 39 columns]"
      ]
     },
     "execution_count": null,
     "metadata": {},
     "output_type": "execute_result"
    }
   ],
   "source": [
    "df_rotation_applied"
   ]
  },
  {
   "cell_type": "code",
   "execution_count": null,
   "metadata": {},
   "outputs": [],
   "source": []
  }
 ],
 "metadata": {
  "kernelspec": {
   "display_name": "Python 3",
   "language": "python",
   "name": "python3"
  }
 },
 "nbformat": 4,
 "nbformat_minor": 4
}
