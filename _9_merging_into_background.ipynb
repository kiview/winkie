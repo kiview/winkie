{
 "cells": [
  {
   "cell_type": "markdown",
   "id": "graphic-airfare",
   "metadata": {},
   "source": [
    "# Merging labels into background\n",
    "\n",
    "There seems to be a semantic difference between labels we use for interesting behaviour and certain noisy background behaviour, such as standing, walking, etc.\n",
    "In this notebook, we assess if it makes sense to merge those behaviours into a bigger class called `background`.\n",
    "We have to specifically check if this bigger imbalance in the dataset leads to further problems."
   ]
  },
  {
   "cell_type": "code",
   "execution_count": 11,
   "id": "distributed-gospel",
   "metadata": {},
   "outputs": [],
   "source": [
    "from sklearn.ensemble import RandomForestClassifier\n",
    "import pandas as pd\n",
    "from sklearn.model_selection import train_test_split, cross_validate, cross_val_score, StratifiedKFold\n",
    "from sklearn import preprocessing, metrics\n",
    "import scikitplot as skplt\n",
    "from sklearn.metrics import classification_report, roc_auc_score, plot_confusion_matrix\n",
    "import matplotlib.pyplot as plt\n",
    "import pickle\n",
    "from sklearn.tree import DecisionTreeClassifier\n",
    "from tsai.all import *"
   ]
  },
  {
   "cell_type": "markdown",
   "id": "british-pierce",
   "metadata": {},
   "source": [
    "Merging the labels"
   ]
  },
  {
   "cell_type": "code",
   "execution_count": 2,
   "id": "ruled-apparel",
   "metadata": {},
   "outputs": [],
   "source": [
    "df = pd.read_hdf(\"merged_20210405.h5\")\n",
    "df = df[(df['behavior'] != \"not_defined\")]\n",
    "\n",
    "df.loc[(df['behavior'] == \"back_preening\") | (df['behavior'] == \"front_preening\"), 'behavior'] = \"preening\"\n",
    "df.loc[(df['behavior'] == \"standing_shaking\") | (df['behavior'] == \"scratch_with_feet\"), 'behavior'] = \"standing\"\n",
    "df.loc[(df['behavior'] == \"body_pump\") | (df['behavior'] == \"feather_clapping\"), 'behavior'] = \"fluffing\"\n",
    "df.loc[(df['behavior'] == \"standing\") | (df['behavior'] == \"walking\" ), 'behavior'] = \"background\""
   ]
  },
  {
   "cell_type": "code",
   "execution_count": 3,
   "id": "derived-yesterday",
   "metadata": {},
   "outputs": [
    {
     "data": {
      "text/plain": [
       "array(['head_shake', 'tail_shake', 'preening', 'background', 'eating',\n",
       "       'fluffing'], dtype=object)"
      ]
     },
     "execution_count": 3,
     "metadata": {},
     "output_type": "execute_result"
    }
   ],
   "source": [
    "df['behavior'].unique()"
   ]
  },
  {
   "cell_type": "code",
   "execution_count": 4,
   "id": "verified-importance",
   "metadata": {},
   "outputs": [],
   "source": [
    "features = [('head', 'x'), ('head', 'y'), \n",
    "            ('tail', 'x'), ('tail', 'y'),  \n",
    "            \n",
    "            ('left_neck', 'x'), ('left_neck', 'y'), \n",
    "            ('right_neck', 'x'), ('right_neck', 'y'), \n",
    "            \n",
    "            ('left_up_wing', 'x'), ('left_up_wing', 'y'),\n",
    "            ('left_middle_wing', 'x'), ('left_middle_wing', 'y'),\n",
    "            ('left_down_wing', 'x'), ('left_down_wing', 'y'),\n",
    "            \n",
    "            ('right_up_wing', 'x'), ('right_up_wing', 'y'),\n",
    "            ('right_middle_wing', 'x'), ('right_middle_wing', 'y'),\n",
    "            ('right_down_wing', 'x'), ('right_down_wing', 'y'),\n",
    "]\n",
    "\n",
    "y = df['behavior']\n",
    "x = df[features].values"
   ]
  },
  {
   "cell_type": "code",
   "execution_count": 5,
   "id": "subjective-fault",
   "metadata": {},
   "outputs": [
    {
     "name": "stderr",
     "output_type": "stream",
     "text": [
      "[Parallel(n_jobs=-1)]: Using backend ThreadingBackend with 8 concurrent workers.\n",
      "[Parallel(n_jobs=-1)]: Done  34 tasks      | elapsed:  1.1min\n",
      "[Parallel(n_jobs=-1)]: Done 100 out of 100 | elapsed:  3.0min finished\n"
     ]
    },
    {
     "data": {
      "text/plain": [
       "RandomForestClassifier(n_jobs=-1, random_state=0, verbose=1)"
      ]
     },
     "execution_count": 5,
     "metadata": {},
     "output_type": "execute_result"
    }
   ],
   "source": [
    "clf = RandomForestClassifier(random_state=0, verbose=1, n_jobs = -1)\n",
    "x_train, x_valid, y_train, y_valid = train_test_split(x, y, test_size = 0.2, random_state=13, shuffle=False)\n",
    "clf.fit(x_train, y_train)"
   ]
  },
  {
   "cell_type": "code",
   "execution_count": 6,
   "id": "everyday-point",
   "metadata": {},
   "outputs": [
    {
     "name": "stderr",
     "output_type": "stream",
     "text": [
      "[Parallel(n_jobs=8)]: Using backend ThreadingBackend with 8 concurrent workers.\n",
      "[Parallel(n_jobs=8)]: Done  34 tasks      | elapsed:    0.2s\n",
      "[Parallel(n_jobs=8)]: Done 100 out of 100 | elapsed:    0.7s finished\n"
     ]
    },
    {
     "name": "stdout",
     "output_type": "stream",
     "text": [
      "              precision    recall  f1-score   support\n",
      "\n",
      "  background       0.89      0.88      0.89     82889\n",
      "      eating       0.99      0.97      0.98     66299\n",
      "    fluffing       0.92      0.74      0.82     11791\n",
      "  head_shake       0.03      0.03      0.03      1589\n",
      "    preening       0.42      0.69      0.52      8787\n",
      "  tail_shake       0.42      0.17      0.24      1755\n",
      "\n",
      "    accuracy                           0.88    173110\n",
      "   macro avg       0.61      0.58      0.58    173110\n",
      "weighted avg       0.90      0.88      0.89    173110\n",
      "\n"
     ]
    },
    {
     "name": "stderr",
     "output_type": "stream",
     "text": [
      "[Parallel(n_jobs=8)]: Using backend ThreadingBackend with 8 concurrent workers.\n",
      "[Parallel(n_jobs=8)]: Done  34 tasks      | elapsed:    0.1s\n",
      "[Parallel(n_jobs=8)]: Done 100 out of 100 | elapsed:    0.6s finished\n"
     ]
    },
    {
     "name": "stdout",
     "output_type": "stream",
     "text": [
      "0.9153460136394067\n"
     ]
    }
   ],
   "source": [
    "predictions = clf.predict(x_valid)\n",
    "print(classification_report(y_valid, predictions))\n",
    "print(roc_auc_score(y_valid, clf.predict_proba(x_valid), multi_class='ovo', average='macro'))"
   ]
  },
  {
   "cell_type": "code",
   "execution_count": 7,
   "id": "loose-bryan",
   "metadata": {},
   "outputs": [
    {
     "name": "stderr",
     "output_type": "stream",
     "text": [
      "[Parallel(n_jobs=8)]: Using backend ThreadingBackend with 8 concurrent workers.\n",
      "[Parallel(n_jobs=8)]: Done  34 tasks      | elapsed:    0.2s\n",
      "[Parallel(n_jobs=8)]: Done 100 out of 100 | elapsed:    0.6s finished\n"
     ]
    },
    {
     "data": {
      "text/plain": [
       "<sklearn.metrics._plot.confusion_matrix.ConfusionMatrixDisplay at 0x246fa760d00>"
      ]
     },
     "execution_count": 7,
     "metadata": {},
     "output_type": "execute_result"
    },
    {
     "data": {
      "image/png": "[encoded data removed]",
      "text/plain": [
       "<Figure size 720x720 with 2 Axes>"
      ]
     },
     "metadata": {
      "needs_background": "light"
     },
     "output_type": "display_data"
    }
   ],
   "source": [
    "fig, ax = plt.subplots(figsize=(10, 10))\n",
    "plot_confusion_matrix(clf, x_valid, y_valid, ax=ax) "
   ]
  },
  {
   "cell_type": "code",
   "execution_count": 8,
   "id": "exceptional-bullet",
   "metadata": {},
   "outputs": [
    {
     "name": "stderr",
     "output_type": "stream",
     "text": [
      "[Parallel(n_jobs=8)]: Using backend ThreadingBackend with 8 concurrent workers.\n",
      "[Parallel(n_jobs=8)]: Done  34 tasks      | elapsed:    0.1s\n",
      "[Parallel(n_jobs=8)]: Done 100 out of 100 | elapsed:    0.6s finished\n"
     ]
    },
    {
     "data": {
      "text/plain": [
       "<sklearn.metrics._plot.confusion_matrix.ConfusionMatrixDisplay at 0x246fa73d940>"
      ]
     },
     "execution_count": 8,
     "metadata": {},
     "output_type": "execute_result"
    },
    {
     "data": {
      "image/png": "[encoded data removed]",
      "text/plain": [
       "<Figure size 720x720 with 2 Axes>"
      ]
     },
     "metadata": {
      "needs_background": "light"
     },
     "output_type": "display_data"
    }
   ],
   "source": [
    "fig, ax = plt.subplots(figsize=(10, 10))\n",
    "plot_confusion_matrix(clf, x_valid, y_valid, normalize='true', ax=ax) "
   ]
  },
  {
   "cell_type": "code",
   "execution_count": 12,
   "id": "broke-particular",
   "metadata": {},
   "outputs": [
    {
     "name": "stdout",
     "output_type": "stream",
     "text": [
      "dict_keys(['fit_time', 'score_time', 'test_f1_micro', 'test_f1_weighted', 'test_f1_macro', 'test_roc_auc_ovo_weighted', 'test_roc_auc_ovo'])\n"
     ]
    }
   ],
   "source": [
    "clf = RandomForestClassifier(random_state=0, verbose=1)\n",
    "cv_results = cross_validate(clf, x, y, n_jobs=-1, scoring=['f1_micro', 'f1_weighted', 'f1_macro', 'roc_auc_ovo_weighted', 'roc_auc_ovo'])\n",
    "print(cv_results.keys())"
   ]
  },
  {
   "cell_type": "code",
   "execution_count": 17,
   "id": "sorted-watershed",
   "metadata": {},
   "outputs": [
    {
     "data": {
      "text/html": [
       "<div>\n",
       "<style scoped>\n",
       "    .dataframe tbody tr th:only-of-type {\n",
       "        vertical-align: middle;\n",
       "    }\n",
       "\n",
       "    .dataframe tbody tr th {\n",
       "        vertical-align: top;\n",
       "    }\n",
       "\n",
       "    .dataframe thead th {\n",
       "        text-align: right;\n",
       "    }\n",
       "</style>\n",
       "<table border=\"1\" class=\"dataframe\">\n",
       "  <thead>\n",
       "    <tr style=\"text-align: right;\">\n",
       "      <th></th>\n",
       "      <th>fit_time</th>\n",
       "      <th>score_time</th>\n",
       "      <th>test_f1_micro</th>\n",
       "      <th>test_f1_weighted</th>\n",
       "      <th>test_f1_macro</th>\n",
       "      <th>test_roc_auc_ovo_weighted</th>\n",
       "      <th>test_roc_auc_ovo</th>\n",
       "    </tr>\n",
       "  </thead>\n",
       "  <tbody>\n",
       "    <tr>\n",
       "      <th>0</th>\n",
       "      <td>1322.733019</td>\n",
       "      <td>10.090977</td>\n",
       "      <td>0.875120</td>\n",
       "      <td>0.865597</td>\n",
       "      <td>0.576413</td>\n",
       "      <td>0.906603</td>\n",
       "      <td>0.880538</td>\n",
       "    </tr>\n",
       "    <tr>\n",
       "      <th>1</th>\n",
       "      <td>1237.139006</td>\n",
       "      <td>11.824999</td>\n",
       "      <td>0.816504</td>\n",
       "      <td>0.842856</td>\n",
       "      <td>0.582437</td>\n",
       "      <td>0.926581</td>\n",
       "      <td>0.905365</td>\n",
       "    </tr>\n",
       "    <tr>\n",
       "      <th>2</th>\n",
       "      <td>1137.510001</td>\n",
       "      <td>11.740008</td>\n",
       "      <td>0.729663</td>\n",
       "      <td>0.788970</td>\n",
       "      <td>0.521161</td>\n",
       "      <td>0.923030</td>\n",
       "      <td>0.911239</td>\n",
       "    </tr>\n",
       "    <tr>\n",
       "      <th>3</th>\n",
       "      <td>1206.631999</td>\n",
       "      <td>11.068015</td>\n",
       "      <td>0.875512</td>\n",
       "      <td>0.877090</td>\n",
       "      <td>0.591777</td>\n",
       "      <td>0.928447</td>\n",
       "      <td>0.907999</td>\n",
       "    </tr>\n",
       "    <tr>\n",
       "      <th>4</th>\n",
       "      <td>1157.424991</td>\n",
       "      <td>13.053003</td>\n",
       "      <td>0.868880</td>\n",
       "      <td>0.873396</td>\n",
       "      <td>0.583211</td>\n",
       "      <td>0.923556</td>\n",
       "      <td>0.906910</td>\n",
       "    </tr>\n",
       "  </tbody>\n",
       "</table>\n",
       "</div>"
      ],
      "text/plain": [
       "      fit_time  score_time  test_f1_micro  test_f1_weighted  test_f1_macro  \\\n",
       "0  1322.733019   10.090977       0.875120          0.865597       0.576413   \n",
       "1  1237.139006   11.824999       0.816504          0.842856       0.582437   \n",
       "2  1137.510001   11.740008       0.729663          0.788970       0.521161   \n",
       "3  1206.631999   11.068015       0.875512          0.877090       0.591777   \n",
       "4  1157.424991   13.053003       0.868880          0.873396       0.583211   \n",
       "\n",
       "   test_roc_auc_ovo_weighted  test_roc_auc_ovo  \n",
       "0                   0.906603          0.880538  \n",
       "1                   0.926581          0.905365  \n",
       "2                   0.923030          0.911239  \n",
       "3                   0.928447          0.907999  \n",
       "4                   0.923556          0.906910  "
      ]
     },
     "execution_count": 17,
     "metadata": {},
     "output_type": "execute_result"
    }
   ],
   "source": [
    "pd.DataFrame(cv_results)"
   ]
  },
  {
   "cell_type": "code",
   "execution_count": 10,
   "id": "extended-vietnam",
   "metadata": {},
   "outputs": [
    {
     "name": "stdout",
     "output_type": "stream",
     "text": [
      "[0.86993819 0.85941309 0.89056669 0.88567897 0.906452  ]\n"
     ]
    }
   ],
   "source": [
    "clf = RandomForestClassifier(random_state=0, verbose=1, class_weight=\"balanced\")\n",
    "scores = cross_val_score(clf, x, y, n_jobs=-1)\n",
    "print(scores)"
   ]
  },
  {
   "cell_type": "code",
   "execution_count": null,
   "id": "figured-departure",
   "metadata": {},
   "outputs": [],
   "source": [
    "# TODO: subsample"
   ]
  }
 ],
 "metadata": {
  "kernelspec": {
   "display_name": "Python 3",
   "language": "python",
   "name": "python3"
  },
  "language_info": {
   "codemirror_mode": {
    "name": "ipython",
    "version": 3
   },
   "file_extension": ".py",
   "mimetype": "text/x-python",
   "name": "python",
   "nbconvert_exporter": "python",
   "pygments_lexer": "ipython3",
   "version": "3.8.6"
  }
 },
 "nbformat": 4,
 "nbformat_minor": 5
}
