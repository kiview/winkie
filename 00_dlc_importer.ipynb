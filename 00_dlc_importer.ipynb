{
 "cells": [
  {
   "cell_type": "code",
   "execution_count": null,
   "metadata": {},
   "outputs": [],
   "source": [
    "# default_exp dlc_importer"
   ]
  },
  {
   "cell_type": "markdown",
   "metadata": {},
   "source": [
    "# DLCImporter\n",
    "\n",
    "> API details."
   ]
  },
  {
   "cell_type": "code",
   "execution_count": null,
   "metadata": {},
   "outputs": [],
   "source": [
    "#hide\n",
    "from nbdev.showdoc import *\n",
    "from fastcore.nb_imports import *\n",
    "from fastcore.test import *\n",
    "from fastcore.imports import operator"
   ]
  },
  {
   "cell_type": "code",
   "execution_count": null,
   "metadata": {},
   "outputs": [],
   "source": [
    "#export\n",
    "import pandas as pd\n",
    "\n",
    "class DLCImporter:\n",
    "    \"\"\"Used to import DLC result files.\"\"\"\n",
    "    \n",
    "    def import_hdf(self, file):\n",
    "        df = pd.read_hdf(file)\n",
    "        df.columns = df.columns.droplevel(0) # drop redundant scorer\n",
    "        return df"
   ]
  },
  {
   "cell_type": "markdown",
   "metadata": {},
   "source": [
    "`DLCImporter` can be used to import result files from DeepLabCut in H5 format.\n",
    "It will automatically drop the unnecessary `scorer` level."
   ]
  },
  {
   "cell_type": "code",
   "execution_count": null,
   "metadata": {},
   "outputs": [
    {
     "data": {
      "text/html": "<div>\n<style scoped>\n    .dataframe tbody tr th:only-of-type {\n        vertical-align: middle;\n    }\n\n    .dataframe tbody tr th {\n        vertical-align: top;\n    }\n\n    .dataframe thead tr th {\n        text-align: left;\n    }\n</style>\n<table border=\"1\" class=\"dataframe\">\n  <thead>\n    <tr>\n      <th>bodyparts</th>\n      <th colspan=\"3\" halign=\"left\">head</th>\n      <th colspan=\"3\" halign=\"left\">beak</th>\n      <th colspan=\"3\" halign=\"left\">left_neck</th>\n      <th>right_neck</th>\n      <th>...</th>\n      <th>b1</th>\n      <th colspan=\"3\" halign=\"left\">b2</th>\n      <th colspan=\"3\" halign=\"left\">b3</th>\n      <th colspan=\"3\" halign=\"left\">b4</th>\n    </tr>\n    <tr>\n      <th>coords</th>\n      <th>x</th>\n      <th>y</th>\n      <th>likelihood</th>\n      <th>x</th>\n      <th>y</th>\n      <th>likelihood</th>\n      <th>x</th>\n      <th>y</th>\n      <th>likelihood</th>\n      <th>x</th>\n      <th>...</th>\n      <th>likelihood</th>\n      <th>x</th>\n      <th>y</th>\n      <th>likelihood</th>\n      <th>x</th>\n      <th>y</th>\n      <th>likelihood</th>\n      <th>x</th>\n      <th>y</th>\n      <th>likelihood</th>\n    </tr>\n  </thead>\n  <tbody>\n    <tr>\n      <th>0</th>\n      <td>773.376465</td>\n      <td>231.518768</td>\n      <td>0.999999</td>\n      <td>726.495178</td>\n      <td>235.638046</td>\n      <td>0.999981</td>\n      <td>726.502014</td>\n      <td>277.634125</td>\n      <td>0.999998</td>\n      <td>803.271179</td>\n      <td>...</td>\n      <td>0.999986</td>\n      <td>731.942932</td>\n      <td>212.751831</td>\n      <td>0.999972</td>\n      <td>637.101440</td>\n      <td>275.546967</td>\n      <td>0.999044</td>\n      <td>720.761475</td>\n      <td>260.645416</td>\n      <td>0.004323</td>\n    </tr>\n    <tr>\n      <th>1</th>\n      <td>773.129822</td>\n      <td>231.487213</td>\n      <td>0.999999</td>\n      <td>725.662231</td>\n      <td>235.242844</td>\n      <td>0.999951</td>\n      <td>725.964478</td>\n      <td>278.003082</td>\n      <td>0.999999</td>\n      <td>803.197144</td>\n      <td>...</td>\n      <td>0.999984</td>\n      <td>732.492004</td>\n      <td>212.608414</td>\n      <td>0.999969</td>\n      <td>636.351440</td>\n      <td>274.908783</td>\n      <td>0.999068</td>\n      <td>720.861084</td>\n      <td>260.821045</td>\n      <td>0.003748</td>\n    </tr>\n    <tr>\n      <th>2</th>\n      <td>773.009827</td>\n      <td>231.793518</td>\n      <td>0.999999</td>\n      <td>726.025696</td>\n      <td>235.272522</td>\n      <td>0.999978</td>\n      <td>725.764893</td>\n      <td>278.884918</td>\n      <td>0.999998</td>\n      <td>802.567810</td>\n      <td>...</td>\n      <td>0.999989</td>\n      <td>732.367859</td>\n      <td>212.449570</td>\n      <td>0.999967</td>\n      <td>636.567993</td>\n      <td>275.915558</td>\n      <td>0.999465</td>\n      <td>721.077087</td>\n      <td>261.231415</td>\n      <td>0.003017</td>\n    </tr>\n    <tr>\n      <th>3</th>\n      <td>773.748779</td>\n      <td>231.791260</td>\n      <td>0.999999</td>\n      <td>726.288940</td>\n      <td>235.864319</td>\n      <td>0.999985</td>\n      <td>725.889465</td>\n      <td>279.045715</td>\n      <td>0.999998</td>\n      <td>803.356934</td>\n      <td>...</td>\n      <td>0.999988</td>\n      <td>732.378052</td>\n      <td>212.362946</td>\n      <td>0.999962</td>\n      <td>636.978821</td>\n      <td>276.222534</td>\n      <td>0.999626</td>\n      <td>721.093933</td>\n      <td>261.198242</td>\n      <td>0.004915</td>\n    </tr>\n    <tr>\n      <th>4</th>\n      <td>774.934326</td>\n      <td>231.623734</td>\n      <td>0.999999</td>\n      <td>726.298279</td>\n      <td>235.749908</td>\n      <td>0.999990</td>\n      <td>726.302551</td>\n      <td>278.388367</td>\n      <td>0.999999</td>\n      <td>802.530273</td>\n      <td>...</td>\n      <td>0.999991</td>\n      <td>732.364014</td>\n      <td>212.297073</td>\n      <td>0.999969</td>\n      <td>637.059021</td>\n      <td>276.169647</td>\n      <td>0.999717</td>\n      <td>720.964783</td>\n      <td>260.974213</td>\n      <td>0.003497</td>\n    </tr>\n    <tr>\n      <th>...</th>\n      <td>...</td>\n      <td>...</td>\n      <td>...</td>\n      <td>...</td>\n      <td>...</td>\n      <td>...</td>\n      <td>...</td>\n      <td>...</td>\n      <td>...</td>\n      <td>...</td>\n      <td>...</td>\n      <td>...</td>\n      <td>...</td>\n      <td>...</td>\n      <td>...</td>\n      <td>...</td>\n      <td>...</td>\n      <td>...</td>\n      <td>...</td>\n      <td>...</td>\n      <td>...</td>\n    </tr>\n    <tr>\n      <th>95</th>\n      <td>691.788513</td>\n      <td>232.490265</td>\n      <td>1.000000</td>\n      <td>673.796082</td>\n      <td>238.801743</td>\n      <td>0.018886</td>\n      <td>697.399841</td>\n      <td>282.134796</td>\n      <td>0.999998</td>\n      <td>737.725342</td>\n      <td>...</td>\n      <td>0.999981</td>\n      <td>729.320374</td>\n      <td>214.642715</td>\n      <td>0.999988</td>\n      <td>636.506165</td>\n      <td>275.310120</td>\n      <td>0.999486</td>\n      <td>742.268372</td>\n      <td>243.916214</td>\n      <td>0.001441</td>\n    </tr>\n    <tr>\n      <th>96</th>\n      <td>691.545410</td>\n      <td>232.707413</td>\n      <td>1.000000</td>\n      <td>673.634888</td>\n      <td>238.658234</td>\n      <td>0.016135</td>\n      <td>697.256165</td>\n      <td>283.058899</td>\n      <td>0.999999</td>\n      <td>736.505920</td>\n      <td>...</td>\n      <td>0.999983</td>\n      <td>729.624817</td>\n      <td>215.617279</td>\n      <td>0.999986</td>\n      <td>636.087585</td>\n      <td>275.022858</td>\n      <td>0.999226</td>\n      <td>741.823853</td>\n      <td>243.833771</td>\n      <td>0.001208</td>\n    </tr>\n    <tr>\n      <th>97</th>\n      <td>691.117371</td>\n      <td>232.242767</td>\n      <td>1.000000</td>\n      <td>673.748840</td>\n      <td>239.055954</td>\n      <td>0.007289</td>\n      <td>696.269043</td>\n      <td>282.351929</td>\n      <td>0.999999</td>\n      <td>735.976685</td>\n      <td>...</td>\n      <td>0.999982</td>\n      <td>729.727722</td>\n      <td>214.848831</td>\n      <td>0.999987</td>\n      <td>636.203613</td>\n      <td>275.289307</td>\n      <td>0.999269</td>\n      <td>741.812866</td>\n      <td>243.337326</td>\n      <td>0.000828</td>\n    </tr>\n    <tr>\n      <th>98</th>\n      <td>691.294067</td>\n      <td>232.225220</td>\n      <td>1.000000</td>\n      <td>673.927002</td>\n      <td>239.141891</td>\n      <td>0.004682</td>\n      <td>695.629456</td>\n      <td>282.407013</td>\n      <td>1.000000</td>\n      <td>735.639404</td>\n      <td>...</td>\n      <td>0.999983</td>\n      <td>729.409668</td>\n      <td>214.924347</td>\n      <td>0.999989</td>\n      <td>636.108765</td>\n      <td>274.952759</td>\n      <td>0.999238</td>\n      <td>987.140259</td>\n      <td>601.538696</td>\n      <td>0.000869</td>\n    </tr>\n    <tr>\n      <th>99</th>\n      <td>691.483643</td>\n      <td>232.269226</td>\n      <td>1.000000</td>\n      <td>673.797241</td>\n      <td>239.390625</td>\n      <td>0.010126</td>\n      <td>695.367371</td>\n      <td>281.720947</td>\n      <td>0.999999</td>\n      <td>735.199585</td>\n      <td>...</td>\n      <td>0.999981</td>\n      <td>729.390991</td>\n      <td>215.064926</td>\n      <td>0.999983</td>\n      <td>636.145447</td>\n      <td>274.386780</td>\n      <td>0.999225</td>\n      <td>742.091919</td>\n      <td>245.363281</td>\n      <td>0.000920</td>\n    </tr>\n  </tbody>\n</table>\n<p>100 rows × 60 columns</p>\n</div>",
      "text/plain": "bodyparts        head                               beak              \\\ncoords              x           y likelihood           x           y   \n0          773.376465  231.518768   0.999999  726.495178  235.638046   \n1          773.129822  231.487213   0.999999  725.662231  235.242844   \n2          773.009827  231.793518   0.999999  726.025696  235.272522   \n3          773.748779  231.791260   0.999999  726.288940  235.864319   \n4          774.934326  231.623734   0.999999  726.298279  235.749908   \n..                ...         ...        ...         ...         ...   \n95         691.788513  232.490265   1.000000  673.796082  238.801743   \n96         691.545410  232.707413   1.000000  673.634888  238.658234   \n97         691.117371  232.242767   1.000000  673.748840  239.055954   \n98         691.294067  232.225220   1.000000  673.927002  239.141891   \n99         691.483643  232.269226   1.000000  673.797241  239.390625   \n\nbodyparts              left_neck                         right_neck  ...  \\\ncoords    likelihood           x           y likelihood           x  ...   \n0           0.999981  726.502014  277.634125   0.999998  803.271179  ...   \n1           0.999951  725.964478  278.003082   0.999999  803.197144  ...   \n2           0.999978  725.764893  278.884918   0.999998  802.567810  ...   \n3           0.999985  725.889465  279.045715   0.999998  803.356934  ...   \n4           0.999990  726.302551  278.388367   0.999999  802.530273  ...   \n..               ...         ...         ...        ...         ...  ...   \n95          0.018886  697.399841  282.134796   0.999998  737.725342  ...   \n96          0.016135  697.256165  283.058899   0.999999  736.505920  ...   \n97          0.007289  696.269043  282.351929   0.999999  735.976685  ...   \n98          0.004682  695.629456  282.407013   1.000000  735.639404  ...   \n99          0.010126  695.367371  281.720947   0.999999  735.199585  ...   \n\nbodyparts         b1          b2                                 b3  \\\ncoords    likelihood           x           y likelihood           x   \n0           0.999986  731.942932  212.751831   0.999972  637.101440   \n1           0.999984  732.492004  212.608414   0.999969  636.351440   \n2           0.999989  732.367859  212.449570   0.999967  636.567993   \n3           0.999988  732.378052  212.362946   0.999962  636.978821   \n4           0.999991  732.364014  212.297073   0.999969  637.059021   \n..               ...         ...         ...        ...         ...   \n95          0.999981  729.320374  214.642715   0.999988  636.506165   \n96          0.999983  729.624817  215.617279   0.999986  636.087585   \n97          0.999982  729.727722  214.848831   0.999987  636.203613   \n98          0.999983  729.409668  214.924347   0.999989  636.108765   \n99          0.999981  729.390991  215.064926   0.999983  636.145447   \n\nbodyparts                                 b4                         \ncoords              y likelihood           x           y likelihood  \n0          275.546967   0.999044  720.761475  260.645416   0.004323  \n1          274.908783   0.999068  720.861084  260.821045   0.003748  \n2          275.915558   0.999465  721.077087  261.231415   0.003017  \n3          276.222534   0.999626  721.093933  261.198242   0.004915  \n4          276.169647   0.999717  720.964783  260.974213   0.003497  \n..                ...        ...         ...         ...        ...  \n95         275.310120   0.999486  742.268372  243.916214   0.001441  \n96         275.022858   0.999226  741.823853  243.833771   0.001208  \n97         275.289307   0.999269  741.812866  243.337326   0.000828  \n98         274.952759   0.999238  987.140259  601.538696   0.000869  \n99         274.386780   0.999225  742.091919  245.363281   0.000920  \n\n[100 rows x 60 columns]"
     },
     "metadata": {},
     "output_type": "display_data"
    }
   ],
   "source": [
    "imp = DLCImporter()\n",
    "df = imp.import_hdf('example_data/coordinates.h5')\n",
    "display(df)"
   ]
  },
  {
   "cell_type": "markdown",
   "metadata": {},
   "source": [
    "For further processing and analyzes, it can be useful to transform the tracked coordinates into relative coordinates (being relative to a specified bodypart). This can be done by specifying a bodypart as the relative origin.\n"
   ]
  },
  {
   "cell_type": "code",
   "execution_count": null,
   "metadata": {},
   "outputs": [],
   "source": [
    "#export\n",
    "def transform_to_relative(df, bodypart):\n",
    "    df_rel = df.copy()\n",
    "\n",
    "    for bp in df.columns.levels[0]:\n",
    "        df_rel[bp, 'x'] = df[bp, 'x'] - df[bodypart, 'x']\n",
    "        df_rel[bp, 'y'] = df[bp, 'y'] - df[bodypart, 'y']\n",
    "\n",
    "    return df_rel"
   ]
  },
  {
   "cell_type": "code",
   "execution_count": null,
   "metadata": {},
   "outputs": [],
   "source": [
    "df_relative = transform_to_relative(df, 'body')\n",
    "\n",
    "test_close(df_relative['head','x'][0], -30.6, 0.1)\n",
    "test_close(df_relative['head','y'][0], -119.1, 0.1)\n",
    "test_close(df_relative['tail','x'][0], 70.87, 0.1)\n",
    "test_close(df_relative['tail','y'][0], 135.08, 0.1)"
   ]
  },
  {
   "cell_type": "markdown",
   "metadata": {},
   "source": [
    "By using the `arctan2` function of Numpy, we are able to calculate the angle of the vector from the origin to a specific point."
   ]
  },
  {
   "cell_type": "code",
   "execution_count": null,
   "metadata": {},
   "outputs": [],
   "source": [
    "import numpy as np\n",
    "\n",
    "y = np.array([1, 1, 1, -1, 0.75])\n",
    "x = np.array([0, 1, -1, 1, 1.5])\n",
    "\n",
    "result = np.degrees(np.arctan2(y, x))\n",
    "expected = np.array([90, 45, 135, -45, 26.565051])\n",
    "\n",
    "np.testing.assert_almost_equal(result, expected, decimal=3)"
   ]
  },
  {
   "cell_type": "code",
   "execution_count": null,
   "metadata": {},
   "outputs": [],
   "source": [
    "# export\n",
    "def add_middle_neck(df):\n",
    "    df_middle_neck = df.copy()\n",
    "    df_middle_neck['middle_neck', 'x'] = (df_middle_neck['left_neck','x'] + df_middle_neck['right_neck', 'x']) / 2\n",
    "    df_middle_neck['middle_neck', 'y'] = (df_middle_neck['left_neck','y'] + df_middle_neck['right_neck', 'y']) / 2\n",
    "    return df_middle_neck"
   ]
  },
  {
   "cell_type": "markdown",
   "metadata": {},
   "source": [
    "Since we already moved the body into the origin, we can now decide for a good point for determining the angle of the pigeon rotation.\n",
    "The vector between the body and middle point between left_neck and right_neck seems to be suitable.\n",
    "Therefore, we first calculate this point, we can later use to determine the rotation of the pigeon."
   ]
  },
  {
   "cell_type": "code",
   "execution_count": null,
   "metadata": {},
   "outputs": [],
   "source": [
    "# assume we have pandas Dataframe\n",
    "df_example = df.copy()\n",
    "df_example['left_neck', 'x'][0] = 1\n",
    "df_example['left_neck', 'y'][0] = 1\n",
    "df_example['right_neck', 'x'][0] = 2\n",
    "df_example['right_neck', 'y'][0] = 0.5\n",
    "\n",
    "df_result = add_middle_neck(df_example)\n",
    "\n",
    "test_close(df_result['middle_neck','x'][0], 1.5, 0.1)\n",
    "test_close(df_result['middle_neck','y'][0], 0.75, 0.1)\n"
   ]
  },
  {
   "cell_type": "markdown",
   "metadata": {},
   "source": [
    "Based on the `middle_neck` coordinates, we now add the corresponding rotation to the dataframe."
   ]
  },
  {
   "cell_type": "code",
   "execution_count": null,
   "metadata": {},
   "outputs": [],
   "source": [
    "# export\n",
    "def add_rotation(df):\n",
    "    df = df.copy()\n",
    "    df['rotation_angle'] = np.degrees(np.arctan2(df['middle_neck', 'y'], df['middle_neck', 'x']))\n",
    "    return df"
   ]
  },
  {
   "cell_type": "code",
   "execution_count": null,
   "metadata": {},
   "outputs": [],
   "source": [
    "df_result = add_rotation(df_result)\n",
    "test_close(df_result['rotation_angle'][0], 26.565051, 0.1)"
   ]
  },
  {
   "cell_type": "code",
   "execution_count": null,
   "metadata": {},
   "outputs": [],
   "source": [
    "# hide\n",
    "def _rotate_row(x):\n",
    "    theta = np.radians(x['rotation_angle'][0] - 90)\n",
    "    x1, y = x['middle_neck','x'], x['middle_neck','y']\n",
    "\n",
    "    c, s = np.cos(theta), np.sin(theta)\n",
    "    rot = np.matrix([[c, s], [-s, c]])\n",
    "\n",
    "    rotated = np.dot(rot, [x1, y])\n",
    "\n",
    "    # TODO: rotate all body parts\n",
    "    x['middle_neck', 'x'] = rotated[0, 0]\n",
    "    x['middle_neck', 'y'] = rotated[0, 1] # this contains the value I want to set\n",
    "\n",
    "    return x"
   ]
  },
  {
   "cell_type": "code",
   "execution_count": null,
   "metadata": {},
   "outputs": [],
   "source": [
    "# export\n",
    "def apply_rotation(df):\n",
    "    df = df.copy()\n",
    "    df.apply(_rotate_row, axis=1)\n",
    "    return df"
   ]
  },
  {
   "cell_type": "markdown",
   "metadata": {},
   "source": [
    "Finally, we can rotate all relative coordinates by this angle around the origin (which is the `body`), so we stabilize (and normalize) the pigeon orientation."
   ]
  },
  {
   "cell_type": "code",
   "execution_count": null,
   "metadata": {},
   "outputs": [],
   "source": [
    "df_example = df_result.copy()\n",
    "df_rotation_applied = apply_rotation(df_example)\n",
    "\n",
    "test_close(df_rotation_applied['middle_neck','x'][0], 0, 0.1)\n",
    "test_close(df_rotation_applied['middle_neck','y'][0], 1.6, 0.1)"
   ]
  },
  {
   "cell_type": "code",
   "execution_count": null,
   "metadata": {},
   "outputs": [],
   "source": []
  }
 ],
 "metadata": {
  "kernelspec": {
   "display_name": "Python 3",
   "language": "python",
   "name": "python3"
  }
 },
 "nbformat": 4,
 "nbformat_minor": 4
}
