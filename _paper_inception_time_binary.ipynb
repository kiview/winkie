{
 "cells": [
  {
   "cell_type": "markdown",
   "id": "induced-stock",
   "metadata": {},
   "source": [
    "# InceptionTime for Binary Classification\n",
    "\n",
    "Instead of classifying each behaviour, we just want to classify two distinct classes."
   ]
  },
  {
   "cell_type": "code",
   "execution_count": null,
   "id": "polar-adams",
   "metadata": {},
   "outputs": [],
   "source": [
    "import pandas as pd\n",
    "from tsai.all import *\n",
    "from sklearn.metrics import roc_auc_score, classification_report"
   ]
  },
  {
   "cell_type": "markdown",
   "id": "indirect-investor",
   "metadata": {},
   "source": [
    "## Loading and preparing the data"
   ]
  },
  {
   "cell_type": "code",
   "execution_count": null,
   "id": "boolean-roberts",
   "metadata": {},
   "outputs": [
    {
     "name": "stdout",
     "output_type": "stream",
     "text": [
      "Number of frames: 10424241\n",
      "Number of frames after dropping non-labelled frames: 865548\n"
     ]
    }
   ],
   "source": [
    "df = pd.read_hdf(\"merged_20210405.h5\")\n",
    "print(f\"Number of frames: {len(df)}\")\n",
    "df = df[(df['behavior'] != \"not_defined\")]\n",
    "print(f\"Number of frames after dropping non-labelled frames: {len(df)}\")\n",
    "\n",
    "background = ['standing', 'eating', 'walking', 'not_defined']\n",
    "\n",
    "df.loc[~df['behavior'].isin(background), 'behavior'] = \"anomaly\"\n",
    "#df.loc[df['behavior'].isin(background), 'behavior'] = \"background\""
   ]
  },
  {
   "cell_type": "code",
   "execution_count": null,
   "id": "b4d8e4bc-9f29-4384-9f6a-c3bfd0419be0",
   "metadata": {},
   "outputs": [
    {
     "data": {
      "text/plain": [
       "<AxesSubplot:title={'center':'Training frames by behavior'}>"
      ]
     },
     "execution_count": null,
     "metadata": {},
     "output_type": "execute_result"
    },
    {
     "data": {
      "image/png": "[encoded data removed]",
      "text/plain": [
       "<Figure size 1080x1080 with 1 Axes>"
      ]
     },
     "metadata": {
      "needs_background": "light"
     },
     "output_type": "display_data"
    }
   ],
   "source": [
    "df.behavior.value_counts().plot(kind='bar', figsize=(15,15), title='Training frames by behavior')"
   ]
  },
  {
   "cell_type": "code",
   "execution_count": null,
   "id": "romance-commons",
   "metadata": {},
   "outputs": [],
   "source": [
    "features = [('head', 'x'), ('head', 'y'), \n",
    "            ('tail', 'x'), ('tail', 'y'),  \n",
    "            \n",
    "            ('left_neck', 'x'), ('left_neck', 'y'), \n",
    "            ('right_neck', 'x'), ('right_neck', 'y'), \n",
    "            \n",
    "            ('left_up_wing', 'x'), ('left_up_wing', 'y'),\n",
    "            ('left_middle_wing', 'x'), ('left_middle_wing', 'y'),\n",
    "            ('left_down_wing', 'x'), ('left_down_wing', 'y'),\n",
    "            \n",
    "            ('right_up_wing', 'x'), ('right_up_wing', 'y'),\n",
    "            ('right_middle_wing', 'x'), ('right_middle_wing', 'y'),\n",
    "            ('right_down_wing', 'x'), ('right_down_wing', 'y'),\n",
    "]\n",
    "def y_func(o): \n",
    "    return scipy.stats.mode(o, axis=1).mode.ravel()"
   ]
  },
  {
   "cell_type": "markdown",
   "id": "smoking-testing",
   "metadata": {},
   "source": [
    "## 16 Frames"
   ]
  },
  {
   "cell_type": "code",
   "execution_count": null,
   "id": "painted-commitment",
   "metadata": {},
   "outputs": [
    {
     "data": {
      "image/png": "[encoded data removed]",
      "text/plain": [
       "<Figure size 1152x180 with 1 Axes>"
      ]
     },
     "metadata": {
      "needs_background": "light"
     },
     "output_type": "display_data"
    }
   ],
   "source": [
    "x, y = SlidingWindow(16, get_x=features, get_y='behavior', y_func=y_func)(df)\n",
    "splits = get_splits(y, n_splits=5, shuffle=False, stratify=True, check_splits=True)\n",
    "tfms  = [None, [Categorize()]]"
   ]
  },
  {
   "cell_type": "markdown",
   "id": "funny-observation",
   "metadata": {},
   "source": [
    "First some manual experiments to find some hyper parameters for the model. For this, we want to use the last split."
   ]
  },
  {
   "cell_type": "code",
   "execution_count": null,
   "id": "derived-matthew",
   "metadata": {},
   "outputs": [],
   "source": [
    "bs = 1024\n",
    "\n",
    "last_split = splits[-1]\n",
    "\n",
    "tfms  = [None, [Categorize()]] \n",
    "dsets = TSDatasets(x, y, tfms=tfms, splits=last_split, inplace=True)\n",
    "dls = TSDataLoaders.from_dsets(dsets.train, dsets.valid, bs=bs, batch_tfms=[TSStandardize()], num_workers=0)\n",
    "\n"
   ]
  },
  {
   "cell_type": "code",
   "execution_count": null,
   "id": "urban-induction",
   "metadata": {},
   "outputs": [
    {
     "data": {
      "text/html": [],
      "text/plain": [
       "<IPython.core.display.HTML object>"
      ]
     },
     "metadata": {},
     "output_type": "display_data"
    },
    {
     "name": "stdout",
     "output_type": "stream",
     "text": [
      "Minimum/10: 0.04365158379077912, steepest point: 0.007585775572806597\n"
     ]
    },
    {
     "name": "stderr",
     "output_type": "stream",
     "text": [
      "c:\\users\\kevin\\.virtualenvs\\winkie-dvdu7utg\\lib\\site-packages\\fastai\\callback\\schedule.py:270: UserWarning: color is redundantly defined by the 'color' keyword argument and the fmt string \"ro\" (-> color='r'). The keyword argument will take precedence.\n",
      "  ax.plot(val, idx, 'ro', label=nm, c=color)\n"
     ]
    },
    {
     "data": {
      "text/html": [
       "<table border=\"1\" class=\"dataframe\">\n",
       "  <thead>\n",
       "    <tr style=\"text-align: left;\">\n",
       "      <th>epoch</th>\n",
       "      <th>train_loss</th>\n",
       "      <th>valid_loss</th>\n",
       "      <th>accuracy</th>\n",
       "      <th>f1_score</th>\n",
       "      <th>time</th>\n",
       "    </tr>\n",
       "  </thead>\n",
       "  <tbody>\n",
       "    <tr>\n",
       "      <td>0</td>\n",
       "      <td>0.233702</td>\n",
       "      <td>0.460341</td>\n",
       "      <td>0.875926</td>\n",
       "      <td>0.856722</td>\n",
       "      <td>00:05</td>\n",
       "    </tr>\n",
       "    <tr>\n",
       "      <td>1</td>\n",
       "      <td>0.189544</td>\n",
       "      <td>0.355751</td>\n",
       "      <td>0.898640</td>\n",
       "      <td>0.890161</td>\n",
       "      <td>00:05</td>\n",
       "    </tr>\n",
       "    <tr>\n",
       "      <td>2</td>\n",
       "      <td>0.163677</td>\n",
       "      <td>0.736874</td>\n",
       "      <td>0.740650</td>\n",
       "      <td>0.749313</td>\n",
       "      <td>00:05</td>\n",
       "    </tr>\n",
       "    <tr>\n",
       "      <td>3</td>\n",
       "      <td>0.151091</td>\n",
       "      <td>0.346637</td>\n",
       "      <td>0.907404</td>\n",
       "      <td>0.899130</td>\n",
       "      <td>00:05</td>\n",
       "    </tr>\n",
       "    <tr>\n",
       "      <td>4</td>\n",
       "      <td>0.132077</td>\n",
       "      <td>0.379553</td>\n",
       "      <td>0.903510</td>\n",
       "      <td>0.895569</td>\n",
       "      <td>00:05</td>\n",
       "    </tr>\n",
       "    <tr>\n",
       "      <td>5</td>\n",
       "      <td>0.122896</td>\n",
       "      <td>0.560747</td>\n",
       "      <td>0.849809</td>\n",
       "      <td>0.863526</td>\n",
       "      <td>00:05</td>\n",
       "    </tr>\n",
       "    <tr>\n",
       "      <td>6</td>\n",
       "      <td>0.113600</td>\n",
       "      <td>0.416366</td>\n",
       "      <td>0.901702</td>\n",
       "      <td>0.893220</td>\n",
       "      <td>00:05</td>\n",
       "    </tr>\n",
       "    <tr>\n",
       "      <td>7</td>\n",
       "      <td>0.102102</td>\n",
       "      <td>0.760088</td>\n",
       "      <td>0.793820</td>\n",
       "      <td>0.817141</td>\n",
       "      <td>00:05</td>\n",
       "    </tr>\n",
       "    <tr>\n",
       "      <td>8</td>\n",
       "      <td>0.096905</td>\n",
       "      <td>0.402944</td>\n",
       "      <td>0.908547</td>\n",
       "      <td>0.914045</td>\n",
       "      <td>00:05</td>\n",
       "    </tr>\n",
       "    <tr>\n",
       "      <td>9</td>\n",
       "      <td>0.089381</td>\n",
       "      <td>0.381985</td>\n",
       "      <td>0.908420</td>\n",
       "      <td>0.908870</td>\n",
       "      <td>00:05</td>\n",
       "    </tr>\n",
       "    <tr>\n",
       "      <td>10</td>\n",
       "      <td>0.082986</td>\n",
       "      <td>0.387427</td>\n",
       "      <td>0.913654</td>\n",
       "      <td>0.910753</td>\n",
       "      <td>00:05</td>\n",
       "    </tr>\n",
       "    <tr>\n",
       "      <td>11</td>\n",
       "      <td>0.079609</td>\n",
       "      <td>0.394874</td>\n",
       "      <td>0.915104</td>\n",
       "      <td>0.908228</td>\n",
       "      <td>00:05</td>\n",
       "    </tr>\n",
       "    <tr>\n",
       "      <td>12</td>\n",
       "      <td>0.074889</td>\n",
       "      <td>0.412161</td>\n",
       "      <td>0.904527</td>\n",
       "      <td>0.905900</td>\n",
       "      <td>00:05</td>\n",
       "    </tr>\n",
       "    <tr>\n",
       "      <td>13</td>\n",
       "      <td>0.072200</td>\n",
       "      <td>0.394160</td>\n",
       "      <td>0.916028</td>\n",
       "      <td>0.915004</td>\n",
       "      <td>00:05</td>\n",
       "    </tr>\n",
       "    <tr>\n",
       "      <td>14</td>\n",
       "      <td>0.069350</td>\n",
       "      <td>0.385018</td>\n",
       "      <td>0.918940</td>\n",
       "      <td>0.917166</td>\n",
       "      <td>00:05</td>\n",
       "    </tr>\n",
       "    <tr>\n",
       "      <td>15</td>\n",
       "      <td>0.070089</td>\n",
       "      <td>0.374513</td>\n",
       "      <td>0.920153</td>\n",
       "      <td>0.918551</td>\n",
       "      <td>00:05</td>\n",
       "    </tr>\n",
       "  </tbody>\n",
       "</table>"
      ],
      "text/plain": [
       "<IPython.core.display.HTML object>"
      ]
     },
     "metadata": {},
     "output_type": "display_data"
    },
    {
     "data": {
      "image/png": "[encoded data removed]",
      "text/plain": [
       "<Figure size 432x288 with 1 Axes>"
      ]
     },
     "metadata": {
      "needs_background": "light"
     },
     "output_type": "display_data"
    },
    {
     "data": {
      "image/png": "[encoded data removed]",
      "text/plain": [
       "<Figure size 864x576 with 4 Axes>"
      ]
     },
     "metadata": {
      "needs_background": "light"
     },
     "output_type": "display_data"
    }
   ],
   "source": [
    "model = InceptionTime(dls.vars, dls.c, depth=1, ks=20)\n",
    "f1 = F1Score(average=\"weighted\")\n",
    "learn = Learner(dls, model, metrics=[accuracy, f1])\n",
    "lr_min, lr_steep = learn.lr_find(suggest_funcs=(minimum, steep))\n",
    "print(f\"Minimum/10: {lr_min}, steepest point: {lr_steep}\")\n",
    "\n",
    "learn.fit_one_cycle(16, lr_max=lr_steep)\n",
    "learn.recorder.plot_metrics()"
   ]
  },
  {
   "cell_type": "code",
   "execution_count": null,
   "id": "8a3a1d04-e4bb-4c0a-803d-5433d944ca49",
   "metadata": {},
   "outputs": [],
   "source": [
    "# interp = ClassificationInterpretation.from_learner(learn)\n",
    "# interp.plot_confusion_matrix(figsize=(10, 10), cmap='Blues')\n",
    "# interp.plot_confusion_matrix(normalize=True, figsize=(10, 10), cmap='Blues')"
   ]
  },
  {
   "cell_type": "code",
   "execution_count": null,
   "id": "fcbb5ba0-38eb-49aa-a3ac-dc6284a621b2",
   "metadata": {},
   "outputs": [
    {
     "name": "stdout",
     "output_type": "stream",
     "text": [
      "Due to IPython and Windows limitation, python multiprocessing isn't available now.\n",
      "So `number_workers` is changed to 0 to avoid getting stuck\n",
      "Due to IPython and Windows limitation, python multiprocessing isn't available now.\n",
      "So `number_workers` is changed to 0 to avoid getting stuck\n"
     ]
    }
   ],
   "source": [
    "learn.save_all(path='inception_time_anomaly', dls_fname='dls', model_fname='model', learner_fname='learner')"
   ]
  },
  {
   "cell_type": "markdown",
   "id": "threatened-airport",
   "metadata": {},
   "source": [
    "## Running on new video"
   ]
  },
  {
   "cell_type": "markdown",
   "id": "bf0a11ba-d88c-47ab-9e98-c9b022d8923c",
   "metadata": {},
   "source": [
    "### Predicting new video"
   ]
  },
  {
   "cell_type": "code",
   "execution_count": null,
   "id": "unlimited-journalism",
   "metadata": {},
   "outputs": [],
   "source": [
    "learn = load_learner_all(path='inception_time_anomaly', dls_fname='dls', model_fname='model', learner_fname='learner')\n",
    "\n",
    "df_new = pd.read_hdf('233_boxhab_day1_labeled.h5')\n",
    "\n",
    "background = ['standing', 'eating', 'walking', 'not_defined']\n",
    "\n",
    "df_new.loc[~df_new['behavior'].isin(background), 'behavior'] = \"anomaly\"\n",
    "#df_new.loc[df_new['behavior'].isin(background), 'behavior'] = \"background\"\n",
    "\n"
   ]
  },
  {
   "cell_type": "code",
   "execution_count": null,
   "id": "40321a80-f8c7-4598-814e-355fd1a43343",
   "metadata": {},
   "outputs": [
    {
     "data": {
      "text/plain": [
       "standing    39102\n",
       "eating      27704\n",
       "walking      3878\n",
       "anomaly      1241\n",
       "Name: behavior, dtype: int64"
      ]
     },
     "execution_count": null,
     "metadata": {},
     "output_type": "execute_result"
    }
   ],
   "source": [
    "df_new['behavior'].value_counts()"
   ]
  },
  {
   "cell_type": "code",
   "execution_count": null,
   "id": "universal-protest",
   "metadata": {},
   "outputs": [],
   "source": [
    "features = [('head', 'x'), ('head', 'y'), \n",
    "            ('tail', 'x'), ('tail', 'y'),  \n",
    "            \n",
    "            ('left_neck', 'x'), ('left_neck', 'y'), \n",
    "            ('right_neck', 'x'), ('right_neck', 'y'), \n",
    "            \n",
    "            ('left_up_wing', 'x'), ('left_up_wing', 'y'),\n",
    "            ('left_middle_wing', 'x'), ('left_middle_wing', 'y'),\n",
    "            ('left_down_wing', 'x'), ('left_down_wing', 'y'),\n",
    "            \n",
    "            ('right_up_wing', 'x'), ('right_up_wing', 'y'),\n",
    "            ('right_middle_wing', 'x'), ('right_middle_wing', 'y'),\n",
    "            ('right_down_wing', 'x'), ('right_down_wing', 'y'),\n",
    "]\n",
    "def y_func(o): \n",
    "    return scipy.stats.mode(o, axis=1).mode.ravel()\n",
    "x, y = SlidingWindow(16, get_x=features, get_y='behavior', y_func=y_func)(df_new)"
   ]
  },
  {
   "cell_type": "code",
   "execution_count": null,
   "id": "exempt-comparative",
   "metadata": {},
   "outputs": [],
   "source": [
    "test_ds = learn.dls.dataset.add_test(x, y)\n",
    "test_dl = learn.dls.valid.new(test_ds)"
   ]
  },
  {
   "cell_type": "code",
   "execution_count": null,
   "id": "generic-volume",
   "metadata": {},
   "outputs": [
    {
     "data": {
      "text/html": [],
      "text/plain": [
       "<IPython.core.display.HTML object>"
      ]
     },
     "metadata": {},
     "output_type": "display_data"
    }
   ],
   "source": [
    "probas, targets, preds = learn.get_preds(dl=test_dl, with_decoded=True,  act=None, save_preds=None, save_targs=None, reorder=False)"
   ]
  },
  {
   "cell_type": "code",
   "execution_count": null,
   "id": "64b02f50-0519-40c1-942a-9e8fdd7e7342",
   "metadata": {},
   "outputs": [
    {
     "data": {
      "text/plain": [
       "tensor([[2.2941e-03, 1.2894e-04, 9.9437e-01, 3.2084e-03],\n",
       "        [2.3563e-03, 1.1572e-04, 9.9452e-01, 3.0059e-03],\n",
       "        [2.7604e-03, 1.2106e-04, 9.9415e-01, 2.9669e-03],\n",
       "        ...,\n",
       "        [4.3394e-03, 1.0968e-03, 9.4095e-01, 5.3611e-02],\n",
       "        [4.5621e-03, 1.1656e-03, 9.4253e-01, 5.1745e-02],\n",
       "        [6.1891e-03, 1.1860e-03, 9.3102e-01, 6.1604e-02]])"
      ]
     },
     "execution_count": null,
     "metadata": {},
     "output_type": "execute_result"
    }
   ],
   "source": [
    "probas"
   ]
  },
  {
   "cell_type": "code",
   "execution_count": null,
   "id": "27aada17-7ba1-4fe5-9838-577be4e7993c",
   "metadata": {},
   "outputs": [
    {
     "name": "stdout",
     "output_type": "stream",
     "text": [
      "              precision    recall  f1-score   support\n",
      "\n",
      "           0       0.19      0.52      0.28      1241\n",
      "           1       0.95      0.94      0.94     27704\n",
      "           2       0.91      0.88      0.90     39086\n",
      "           3       0.48      0.43      0.45      3878\n",
      "\n",
      "    accuracy                           0.87     71909\n",
      "   macro avg       0.63      0.69      0.64     71909\n",
      "weighted avg       0.89      0.87      0.88     71909\n",
      "\n"
     ]
    }
   ],
   "source": [
    "print(classification_report(targets, preds))"
   ]
  },
  {
   "cell_type": "code",
   "execution_count": null,
   "id": "7c16deef-5f7c-4e75-bca2-63a3589f2df2",
   "metadata": {},
   "outputs": [],
   "source": [
    "new_preds = []\n",
    "for i, x in enumerate(probas):\n",
    "    argmax = np.argmax(x)\n",
    "    ind = np.argpartition(x, -2)[-2:]\n",
    "    \n",
    "    anomaly_proba = x[0]\n",
    "    background_proba = x[1]\n",
    "    \n",
    "    if (all(x in ind for x in [0, 1]) and anomaly_proba > 0.14):\n",
    "        new_preds.append(0)\n",
    "   # elif (all(x in ind for x in [3, 4]) and preening_proba > 0.1): \n",
    "        #new_preds.append(3)\n",
    "    else:\n",
    "        new_preds.append(argmax)"
   ]
  },
  {
   "cell_type": "code",
   "execution_count": null,
   "id": "902faa6f-334f-4257-94e4-77743ccdcbcf",
   "metadata": {},
   "outputs": [
    {
     "name": "stdout",
     "output_type": "stream",
     "text": [
      "              precision    recall  f1-score   support\n",
      "\n",
      "           0       0.52      0.19      0.28      3388\n",
      "           1       0.94      0.95      0.94     27357\n",
      "           2       0.88      0.91      0.90     37687\n",
      "           3       0.43      0.48      0.45      3477\n",
      "\n",
      "    accuracy                           0.87     71909\n",
      "   macro avg       0.69      0.63      0.64     71909\n",
      "weighted avg       0.86      0.87      0.86     71909\n",
      "\n"
     ]
    }
   ],
   "source": [
    "from sklearn.metrics import classification_report\n",
    "\n",
    "print(classification_report(new_preds, targets))"
   ]
  },
  {
   "cell_type": "code",
   "execution_count": null,
   "id": "valuable-worth",
   "metadata": {},
   "outputs": [],
   "source": [
    "import cv2\n",
    "import numpy as np\n",
    "\n",
    "np.set_printoptions(precision=2)\n",
    "\n",
    "cap = cv2.VideoCapture('233_boxhab_gopro_cut_day1.MP4')\n",
    "framerate = cap.get(cv2.CAP_PROP_FPS)\n",
    "\n",
    "fourcc = cv2.VideoWriter_fourcc(*'mp4v')\n",
    "out = cv2.VideoWriter('233_boxhab_gopro_cut_day1_pred_it.mp4', fourcc, framerate, (1280,  960))\n",
    "frame_number = 0\n",
    "while True:\n",
    "    ret, frame = cap.read()\n",
    "    if ret:\n",
    "\n",
    "        b = str(preds[frame_number].item())\n",
    "        proba = str(probas[frame_number])\n",
    "        cv2.putText(frame, b, (70, 50), cv2.FONT_HERSHEY_SIMPLEX, 1, (130, 255, 130), 2, cv2.LINE_AA)\n",
    "        cv2.putText(frame, proba, (70, 100), cv2.FONT_HERSHEY_SIMPLEX, 1, (130, 255, 130), 1, cv2.LINE_AA)\n",
    "        \n",
    "        \n",
    "        for i, v in enumerate(probas[frame_number]):\n",
    "#             label = clf.classes_[i]\n",
    "            y_pos = 120 + 20 * i\n",
    "            x_pos = 250\n",
    "            \n",
    "#             cv2.putText(frame, label, (70, y_pos), cv2.FONT_HERSHEY_SIMPLEX, 1, (130, 255, 130), 1, cv2.LINE_AA)\n",
    "            \n",
    "            bar = (int(x_pos + 100 * probas[frame_number][i].item()), y_pos)\n",
    "            cv2.line(frame, (x_pos, y_pos), bar, (0,0,255), 10)\n",
    "        \n",
    "        out.write(frame)\n",
    "\n",
    "        frame_number = frame_number + 1\n",
    "        if frame_number == 71908:\n",
    "            break\n",
    "    else:\n",
    "        break\n",
    "\n",
    "cap.release()\n",
    "out.release()"
   ]
  },
  {
   "cell_type": "code",
   "execution_count": null,
   "id": "personalized-beverage",
   "metadata": {},
   "outputs": [],
   "source": [
    "learn.save_all(path='inception_time', dls_fname='dls', model_fname='model', learner_fname='learner')"
   ]
  },
  {
   "cell_type": "code",
   "execution_count": null,
   "id": "enormous-black",
   "metadata": {},
   "outputs": [],
   "source": []
  }
 ],
 "metadata": {
  "kernelspec": {
   "display_name": "Python 3",
   "language": "python",
   "name": "python3"
  }
 },
 "nbformat": 4,
 "nbformat_minor": 5
}
