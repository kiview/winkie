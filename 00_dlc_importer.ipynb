{
 "cells": [
  {
   "cell_type": "code",
   "execution_count": null,
   "metadata": {},
   "outputs": [],
   "source": [
    "# default_exp dlc_importer"
   ]
  },
  {
   "cell_type": "markdown",
   "metadata": {},
   "source": [
    "# DLCImporter\n",
    "\n",
    "> API details."
   ]
  },
  {
   "cell_type": "code",
   "execution_count": null,
   "metadata": {},
   "outputs": [],
   "source": [
    "#hide\n",
    "from nbdev.showdoc import *\n",
    "from fastcore.nb_imports import *\n",
    "from fastcore.test import *"
   ]
  },
  {
   "cell_type": "code",
   "execution_count": null,
   "metadata": {},
   "outputs": [],
   "source": [
    "#export\n",
    "import pandas as pd\n",
    "\n",
    "class DLCImporter:\n",
    "    \"\"\"Used to import DLC result files.\"\"\"\n",
    "    \n",
    "    def import_hdf(self, file):\n",
    "        \"\"\"Import the specified file.\"\"\"\n",
    "        df = pd.read_hdf(file)\n",
    "        df.columns = df.columns.droplevel(0) # drop redundant scorer\n",
    "        columns_to_drop = ['a1', 'a2', 'a3', 'a4', 'b1', 'b2', 'b3', 'b4']\n",
    "        df = df.drop(columns_to_drop, axis=1, level=0)\n",
    "        df.columns = df.columns.remove_unused_levels()\n",
    "        return df"
   ]
  },
  {
   "cell_type": "code",
   "execution_count": null,
   "metadata": {},
   "outputs": [
    {
     "data": {
      "text/markdown": [
       "<h4 id=\"DLCImporter.import_hdf\" class=\"doc_header\"><code>DLCImporter.import_hdf</code><a href=\"__main__.py#L7\" class=\"source_link\" style=\"float:right\">[source]</a></h4>\n",
       "\n",
       "> <code>DLCImporter.import_hdf</code>(**`file`**)\n",
       "\n",
       "Import the specified file."
      ],
      "text/plain": [
       "<IPython.core.display.Markdown object>"
      ]
     },
     "metadata": {},
     "output_type": "display_data"
    }
   ],
   "source": [
    "show_doc(DLCImporter.import_hdf)"
   ]
  },
  {
   "cell_type": "markdown",
   "metadata": {},
   "source": [
    "`DLCImporter` can be used to import result files from DeepLabCut in H5 format.\n",
    "It will automatically drop the unnecessary `scorer` level."
   ]
  },
  {
   "cell_type": "code",
   "execution_count": null,
   "metadata": {},
   "outputs": [],
   "source": [
    "imp = DLCImporter()\n",
    "df = imp.import_hdf('example_data/coordinates.h5')\n",
    "display(df)"
   ]
  },
  {
   "cell_type": "markdown",
   "metadata": {},
   "source": [
    "For further processing and analyzes, it can be useful to transform the tracked coordinates into relative coordinates (being relative to a specified bodypart). This can be done by specifying a bodypart as the relative origin.\n"
   ]
  },
  {
   "cell_type": "code",
   "execution_count": null,
   "metadata": {},
   "outputs": [],
   "source": [
    "#export\n",
    "def transform_to_relative(df, bodypart):\n",
    "    df_rel = df.copy()\n",
    "\n",
    "    for bp in df.columns.levels[0]:\n",
    "        df_rel[bp, 'x'] = df[bp, 'x'] - df[bodypart, 'x']\n",
    "        df_rel[bp, 'y'] = df[bp, 'y'] - df[bodypart, 'y']\n",
    "\n",
    "    return df_rel"
   ]
  },
  {
   "cell_type": "code",
   "execution_count": null,
   "metadata": {},
   "outputs": [],
   "source": [
    "df_relative = transform_to_relative(df, 'body')\n",
    "\n",
    "test_close(df_relative['head','x'][0], -30.6, 0.1)\n",
    "test_close(df_relative['head','y'][0], -119.1, 0.1)\n",
    "test_close(df_relative['tail','x'][0], 70.87, 0.1)\n",
    "test_close(df_relative['tail','y'][0], 135.08, 0.1)"
   ]
  },
  {
   "cell_type": "markdown",
   "metadata": {},
   "source": [
    "By using the `arctan2` function of Numpy, we are able to calculate the angle of the vector from the origin to a specific point."
   ]
  },
  {
   "cell_type": "code",
   "execution_count": null,
   "metadata": {},
   "outputs": [],
   "source": [
    "import numpy as np\n",
    "\n",
    "y = np.array([1, 1, 1, -1, 0.75])\n",
    "x = np.array([0, 1, -1, 1, 1.5])\n",
    "\n",
    "result = np.degrees(np.arctan2(y, x))\n",
    "expected = np.array([90, 45, 135, -45, 26.565051])\n",
    "\n",
    "np.testing.assert_almost_equal(result, expected, decimal=3)"
   ]
  },
  {
   "cell_type": "code",
   "execution_count": null,
   "metadata": {},
   "outputs": [],
   "source": [
    "# export\n",
    "def add_middle_neck(df):\n",
    "    df_middle_neck = df.copy()\n",
    "    df_middle_neck['middle_neck', 'x'] = (df_middle_neck['left_neck','x'] + df_middle_neck['right_neck', 'x']) / 2\n",
    "    df_middle_neck['middle_neck', 'y'] = (df_middle_neck['left_neck','y'] + df_middle_neck['right_neck', 'y']) / 2\n",
    "    return df_middle_neck"
   ]
  },
  {
   "cell_type": "markdown",
   "metadata": {},
   "source": [
    "Since we already moved the body into the origin, we can now decide for a good point for determining the angle of the pigeon rotation.\n",
    "The vector between the body and middle point between left_neck and right_neck seems to be suitable.\n",
    "Therefore, we first calculate this point, we can later use to determine the rotation of the pigeon."
   ]
  },
  {
   "cell_type": "code",
   "execution_count": null,
   "metadata": {},
   "outputs": [],
   "source": [
    "# assume we have pandas Dataframe\n",
    "df_example = df.copy()\n",
    "df_example['left_neck', 'x'][0] = 1\n",
    "df_example['left_neck', 'y'][0] = 1\n",
    "df_example['right_neck', 'x'][0] = 2\n",
    "df_example['right_neck', 'y'][0] = 0.5\n",
    "\n",
    "df_result = add_middle_neck(df_example)\n",
    "\n",
    "test_close(df_result['middle_neck','x'][0], 1.5, 0.1)\n",
    "test_close(df_result['middle_neck','y'][0], 0.75, 0.1)\n"
   ]
  },
  {
   "cell_type": "markdown",
   "metadata": {},
   "source": [
    "Based on the `middle_neck` coordinates, we now add the corresponding rotation to the dataframe."
   ]
  },
  {
   "cell_type": "code",
   "execution_count": null,
   "metadata": {},
   "outputs": [],
   "source": [
    "# export\n",
    "import numpy as np\n",
    "\n",
    "def add_rotation(df):\n",
    "    df = df.copy()\n",
    "    df['rotation_angle'] = np.degrees(np.arctan2(df['middle_neck', 'y'], df['middle_neck', 'x']))\n",
    "    return df"
   ]
  },
  {
   "cell_type": "code",
   "execution_count": null,
   "metadata": {},
   "outputs": [],
   "source": [
    "df_result = add_rotation(df_result)\n",
    "test_close(df_result['rotation_angle'][0], 26.565051, 0.1)"
   ]
  },
  {
   "cell_type": "code",
   "execution_count": null,
   "metadata": {},
   "outputs": [],
   "source": [
    "# export\n",
    "def apply_rotation(df):\n",
    "    df = df.copy()\n",
    "    df.apply(_rotate_row, axis=1)\n",
    "    return df\n",
    "\n",
    "def _rotate_row(x):\n",
    "    theta = np.radians(x['rotation_angle'][0] - 90)\n",
    "\n",
    "    body_parts = list(x.index.levels[0])\n",
    "    body_parts.remove('rotation_angle')\n",
    "\n",
    "    for b in body_parts:\n",
    "        x1, y = x[b,'x'], x[b,'y']\n",
    "\n",
    "        c, s = np.cos(theta), np.sin(theta)\n",
    "        rot = np.matrix([[c, s], [-s, c]])\n",
    "\n",
    "        rotated = np.dot(rot, [x1, y])\n",
    "\n",
    "        x[b, 'x'] = rotated[0, 0]\n",
    "        x[b, 'y'] = rotated[0, 1]\n",
    "\n",
    "    return x"
   ]
  },
  {
   "cell_type": "markdown",
   "metadata": {},
   "source": [
    "Finally, we can rotate all relative coordinates by this angle around the origin (which is the `body`), so we stabilize (and normalize) the pigeon orientation."
   ]
  },
  {
   "cell_type": "code",
   "execution_count": null,
   "metadata": {},
   "outputs": [],
   "source": [
    "df_example = df_result.copy()\n",
    "df_rotation_applied = apply_rotation(df_example)\n",
    "\n",
    "test_close(df_rotation_applied['middle_neck','x'][0], 0, 0.1)\n",
    "test_close(df_rotation_applied['middle_neck','y'][0], 1.6, 0.1)\n",
    "test_close(df_rotation_applied['left_neck','x'][0], -0.5, 0.1)\n",
    "test_close(df_rotation_applied['left_neck','y'][0], 1.34, 0.1)"
   ]
  },
  {
   "cell_type": "code",
   "execution_count": null,
   "metadata": {},
   "outputs": [],
   "source": [
    "df_rotation_applied"
   ]
  },
  {
   "cell_type": "code",
   "execution_count": null,
   "metadata": {},
   "outputs": [],
   "source": []
  }
 ],
 "metadata": {
  "kernelspec": {
   "display_name": "Python 3",
   "language": "python",
   "name": "python3"
  }
 },
 "nbformat": 4,
 "nbformat_minor": 4
}
