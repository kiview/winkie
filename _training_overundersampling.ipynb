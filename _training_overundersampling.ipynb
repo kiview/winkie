{
 "cells": [
  {
   "cell_type": "code",
   "execution_count": null,
   "id": "twelve-russia",
   "metadata": {},
   "outputs": [],
   "source": [
    "%load_ext autoreload\n",
    "%autoreload 2\n",
    "%load_ext tensorboard"
   ]
  },
  {
   "cell_type": "code",
   "execution_count": null,
   "id": "acoustic-satin",
   "metadata": {},
   "outputs": [],
   "source": [
    "import pandas as pd\n",
    "import numpy as np\n",
    "from winkie import ml\n",
    "from sklearn.model_selection import train_test_split\n",
    "from sklearn.metrics import confusion_matrix\n",
    "\n",
    "import seaborn as sn\n",
    "import matplotlib.pyplot as plt\n",
    "import datetime\n",
    "\n",
    "import tensorflow as tf\n",
    "import imblearn"
   ]
  },
  {
   "cell_type": "code",
   "execution_count": null,
   "id": "ethical-chancellor",
   "metadata": {},
   "outputs": [],
   "source": [
    "segmented_timeseries = np.load(\"segments.npy\")\n",
    "label_vector= np.load(\"label.npy\")\n",
    "label_names = np.load(\"label-names.npy\")"
   ]
  },
  {
   "cell_type": "code",
   "execution_count": null,
   "id": "loose-soundtrack",
   "metadata": {},
   "outputs": [
    {
     "data": {
      "text/plain": [
       "array(['back_preening', 'base', 'body_pump', 'feather_clapping',\n",
       "       'front_preening', 'head_shake', 'not_defined', 'scratch_with_feet',\n",
       "       'standing_shaking', 'tail_shake'], dtype='<U17')"
      ]
     },
     "execution_count": null,
     "metadata": {},
     "output_type": "execute_result"
    }
   ],
   "source": [
    "label_names"
   ]
  },
  {
   "cell_type": "code",
   "execution_count": null,
   "id": "ambient-genome",
   "metadata": {},
   "outputs": [
    {
     "data": {
      "text/plain": [
       "array([[0., 0., 0., ..., 1., 0., 0.],\n",
       "       [0., 0., 0., ..., 1., 0., 0.],\n",
       "       [0., 0., 0., ..., 1., 0., 0.],\n",
       "       ...,\n",
       "       [0., 0., 0., ..., 0., 0., 0.],\n",
       "       [0., 0., 0., ..., 0., 0., 0.],\n",
       "       [0., 0., 0., ..., 0., 0., 0.]], dtype=float32)"
      ]
     },
     "execution_count": null,
     "metadata": {},
     "output_type": "execute_result"
    }
   ],
   "source": [
    "from collections import Counter\n",
    "\n",
    "label_vector"
   ]
  },
  {
   "cell_type": "code",
   "execution_count": null,
   "id": "valuable-cinema",
   "metadata": {},
   "outputs": [],
   "source": [
    "decoded_y = np.argmax(label_vector, axis=1)"
   ]
  },
  {
   "cell_type": "code",
   "execution_count": null,
   "id": "through-consciousness",
   "metadata": {},
   "outputs": [
    {
     "data": {
      "text/plain": [
       "1    423016\n",
       "4     25444\n",
       "3     10152\n",
       "0      9891\n",
       "8      8620\n",
       "5      4159\n",
       "9      3398\n",
       "7      2949\n",
       "2      2434\n",
       "6      2111\n",
       "dtype: int64"
      ]
     },
     "execution_count": null,
     "metadata": {},
     "output_type": "execute_result"
    }
   ],
   "source": [
    "pd.Series(decoded_y).value_counts()"
   ]
  },
  {
   "cell_type": "code",
   "execution_count": null,
   "id": "broadband-elements",
   "metadata": {},
   "outputs": [
    {
     "ename": "ValueError",
     "evalue": "Found array with dim 3. Estimator expected <= 2.",
     "output_type": "error",
     "traceback": [
      "\u001b[1;31m---------------------------------------------------------------------------\u001b[0m",
      "\u001b[1;31mValueError\u001b[0m                                Traceback (most recent call last)",
      "\u001b[1;32m<ipython-input-22-bb1b7650a54d>\u001b[0m in \u001b[0;36m<module>\u001b[1;34m\u001b[0m\n\u001b[0;32m      2\u001b[0m \u001b[1;33m\u001b[0m\u001b[0m\n\u001b[0;32m      3\u001b[0m \u001b[0moversample\u001b[0m \u001b[1;33m=\u001b[0m \u001b[0mSMOTEN\u001b[0m\u001b[1;33m(\u001b[0m\u001b[0mrandom_state\u001b[0m\u001b[1;33m=\u001b[0m\u001b[1;36m0\u001b[0m\u001b[1;33m)\u001b[0m\u001b[1;33m\u001b[0m\u001b[1;33m\u001b[0m\u001b[0m\n\u001b[1;32m----> 4\u001b[1;33m \u001b[0mX_over\u001b[0m\u001b[1;33m,\u001b[0m \u001b[0my_over\u001b[0m \u001b[1;33m=\u001b[0m \u001b[0moversample\u001b[0m\u001b[1;33m.\u001b[0m\u001b[0mfit_resample\u001b[0m\u001b[1;33m(\u001b[0m\u001b[0msegmented_timeseries\u001b[0m\u001b[1;33m,\u001b[0m \u001b[0mdecoded_y\u001b[0m\u001b[1;33m)\u001b[0m\u001b[1;33m\u001b[0m\u001b[1;33m\u001b[0m\u001b[0m\n\u001b[0m",
      "\u001b[1;32mc:\\users\\kevin\\.virtualenvs\\winkie-tu0wptfo\\lib\\site-packages\\imblearn\\base.py\u001b[0m in \u001b[0;36mfit_resample\u001b[1;34m(self, X, y)\u001b[0m\n\u001b[0;32m     75\u001b[0m         \u001b[0mcheck_classification_targets\u001b[0m\u001b[1;33m(\u001b[0m\u001b[0my\u001b[0m\u001b[1;33m)\u001b[0m\u001b[1;33m\u001b[0m\u001b[1;33m\u001b[0m\u001b[0m\n\u001b[0;32m     76\u001b[0m         \u001b[0marrays_transformer\u001b[0m \u001b[1;33m=\u001b[0m \u001b[0mArraysTransformer\u001b[0m\u001b[1;33m(\u001b[0m\u001b[0mX\u001b[0m\u001b[1;33m,\u001b[0m \u001b[0my\u001b[0m\u001b[1;33m)\u001b[0m\u001b[1;33m\u001b[0m\u001b[1;33m\u001b[0m\u001b[0m\n\u001b[1;32m---> 77\u001b[1;33m         \u001b[0mX\u001b[0m\u001b[1;33m,\u001b[0m \u001b[0my\u001b[0m\u001b[1;33m,\u001b[0m \u001b[0mbinarize_y\u001b[0m \u001b[1;33m=\u001b[0m \u001b[0mself\u001b[0m\u001b[1;33m.\u001b[0m\u001b[0m_check_X_y\u001b[0m\u001b[1;33m(\u001b[0m\u001b[0mX\u001b[0m\u001b[1;33m,\u001b[0m \u001b[0my\u001b[0m\u001b[1;33m)\u001b[0m\u001b[1;33m\u001b[0m\u001b[1;33m\u001b[0m\u001b[0m\n\u001b[0m\u001b[0;32m     78\u001b[0m \u001b[1;33m\u001b[0m\u001b[0m\n\u001b[0;32m     79\u001b[0m         self.sampling_strategy_ = check_sampling_strategy(\n",
      "\u001b[1;32mc:\\users\\kevin\\.virtualenvs\\winkie-tu0wptfo\\lib\\site-packages\\imblearn\\over_sampling\\_smote\\base.py\u001b[0m in \u001b[0;36m_check_X_y\u001b[1;34m(self, X, y)\u001b[0m\n\u001b[0;32m    675\u001b[0m         \u001b[1;34m\"\"\"Check should accept strings and not sparse matrices.\"\"\"\u001b[0m\u001b[1;33m\u001b[0m\u001b[1;33m\u001b[0m\u001b[0m\n\u001b[0;32m    676\u001b[0m         \u001b[0my\u001b[0m\u001b[1;33m,\u001b[0m \u001b[0mbinarize_y\u001b[0m \u001b[1;33m=\u001b[0m \u001b[0mcheck_target_type\u001b[0m\u001b[1;33m(\u001b[0m\u001b[0my\u001b[0m\u001b[1;33m,\u001b[0m \u001b[0mindicate_one_vs_all\u001b[0m\u001b[1;33m=\u001b[0m\u001b[1;32mTrue\u001b[0m\u001b[1;33m)\u001b[0m\u001b[1;33m\u001b[0m\u001b[1;33m\u001b[0m\u001b[0m\n\u001b[1;32m--> 677\u001b[1;33m         X, y = self._validate_data(\n\u001b[0m\u001b[0;32m    678\u001b[0m             \u001b[0mX\u001b[0m\u001b[1;33m,\u001b[0m\u001b[1;33m\u001b[0m\u001b[1;33m\u001b[0m\u001b[0m\n\u001b[0;32m    679\u001b[0m             \u001b[0my\u001b[0m\u001b[1;33m,\u001b[0m\u001b[1;33m\u001b[0m\u001b[1;33m\u001b[0m\u001b[0m\n",
      "\u001b[1;32mc:\\users\\kevin\\.virtualenvs\\winkie-tu0wptfo\\lib\\site-packages\\sklearn\\base.py\u001b[0m in \u001b[0;36m_validate_data\u001b[1;34m(self, X, y, reset, validate_separately, **check_params)\u001b[0m\n\u001b[0;32m    431\u001b[0m                 \u001b[0my\u001b[0m \u001b[1;33m=\u001b[0m \u001b[0mcheck_array\u001b[0m\u001b[1;33m(\u001b[0m\u001b[0my\u001b[0m\u001b[1;33m,\u001b[0m \u001b[1;33m**\u001b[0m\u001b[0mcheck_y_params\u001b[0m\u001b[1;33m)\u001b[0m\u001b[1;33m\u001b[0m\u001b[1;33m\u001b[0m\u001b[0m\n\u001b[0;32m    432\u001b[0m             \u001b[1;32melse\u001b[0m\u001b[1;33m:\u001b[0m\u001b[1;33m\u001b[0m\u001b[1;33m\u001b[0m\u001b[0m\n\u001b[1;32m--> 433\u001b[1;33m                 \u001b[0mX\u001b[0m\u001b[1;33m,\u001b[0m \u001b[0my\u001b[0m \u001b[1;33m=\u001b[0m \u001b[0mcheck_X_y\u001b[0m\u001b[1;33m(\u001b[0m\u001b[0mX\u001b[0m\u001b[1;33m,\u001b[0m \u001b[0my\u001b[0m\u001b[1;33m,\u001b[0m \u001b[1;33m**\u001b[0m\u001b[0mcheck_params\u001b[0m\u001b[1;33m)\u001b[0m\u001b[1;33m\u001b[0m\u001b[1;33m\u001b[0m\u001b[0m\n\u001b[0m\u001b[0;32m    434\u001b[0m             \u001b[0mout\u001b[0m \u001b[1;33m=\u001b[0m \u001b[0mX\u001b[0m\u001b[1;33m,\u001b[0m \u001b[0my\u001b[0m\u001b[1;33m\u001b[0m\u001b[1;33m\u001b[0m\u001b[0m\n\u001b[0;32m    435\u001b[0m \u001b[1;33m\u001b[0m\u001b[0m\n",
      "\u001b[1;32mc:\\users\\kevin\\.virtualenvs\\winkie-tu0wptfo\\lib\\site-packages\\sklearn\\utils\\validation.py\u001b[0m in \u001b[0;36minner_f\u001b[1;34m(*args, **kwargs)\u001b[0m\n\u001b[0;32m     61\u001b[0m             \u001b[0mextra_args\u001b[0m \u001b[1;33m=\u001b[0m \u001b[0mlen\u001b[0m\u001b[1;33m(\u001b[0m\u001b[0margs\u001b[0m\u001b[1;33m)\u001b[0m \u001b[1;33m-\u001b[0m \u001b[0mlen\u001b[0m\u001b[1;33m(\u001b[0m\u001b[0mall_args\u001b[0m\u001b[1;33m)\u001b[0m\u001b[1;33m\u001b[0m\u001b[1;33m\u001b[0m\u001b[0m\n\u001b[0;32m     62\u001b[0m             \u001b[1;32mif\u001b[0m \u001b[0mextra_args\u001b[0m \u001b[1;33m<=\u001b[0m \u001b[1;36m0\u001b[0m\u001b[1;33m:\u001b[0m\u001b[1;33m\u001b[0m\u001b[1;33m\u001b[0m\u001b[0m\n\u001b[1;32m---> 63\u001b[1;33m                 \u001b[1;32mreturn\u001b[0m \u001b[0mf\u001b[0m\u001b[1;33m(\u001b[0m\u001b[1;33m*\u001b[0m\u001b[0margs\u001b[0m\u001b[1;33m,\u001b[0m \u001b[1;33m**\u001b[0m\u001b[0mkwargs\u001b[0m\u001b[1;33m)\u001b[0m\u001b[1;33m\u001b[0m\u001b[1;33m\u001b[0m\u001b[0m\n\u001b[0m\u001b[0;32m     64\u001b[0m \u001b[1;33m\u001b[0m\u001b[0m\n\u001b[0;32m     65\u001b[0m             \u001b[1;31m# extra_args > 0\u001b[0m\u001b[1;33m\u001b[0m\u001b[1;33m\u001b[0m\u001b[1;33m\u001b[0m\u001b[0m\n",
      "\u001b[1;32mc:\\users\\kevin\\.virtualenvs\\winkie-tu0wptfo\\lib\\site-packages\\sklearn\\utils\\validation.py\u001b[0m in \u001b[0;36mcheck_X_y\u001b[1;34m(X, y, accept_sparse, accept_large_sparse, dtype, order, copy, force_all_finite, ensure_2d, allow_nd, multi_output, ensure_min_samples, ensure_min_features, y_numeric, estimator)\u001b[0m\n\u001b[0;32m    812\u001b[0m         \u001b[1;32mraise\u001b[0m \u001b[0mValueError\u001b[0m\u001b[1;33m(\u001b[0m\u001b[1;34m\"y cannot be None\"\u001b[0m\u001b[1;33m)\u001b[0m\u001b[1;33m\u001b[0m\u001b[1;33m\u001b[0m\u001b[0m\n\u001b[0;32m    813\u001b[0m \u001b[1;33m\u001b[0m\u001b[0m\n\u001b[1;32m--> 814\u001b[1;33m     X = check_array(X, accept_sparse=accept_sparse,\n\u001b[0m\u001b[0;32m    815\u001b[0m                     \u001b[0maccept_large_sparse\u001b[0m\u001b[1;33m=\u001b[0m\u001b[0maccept_large_sparse\u001b[0m\u001b[1;33m,\u001b[0m\u001b[1;33m\u001b[0m\u001b[1;33m\u001b[0m\u001b[0m\n\u001b[0;32m    816\u001b[0m                     \u001b[0mdtype\u001b[0m\u001b[1;33m=\u001b[0m\u001b[0mdtype\u001b[0m\u001b[1;33m,\u001b[0m \u001b[0morder\u001b[0m\u001b[1;33m=\u001b[0m\u001b[0morder\u001b[0m\u001b[1;33m,\u001b[0m \u001b[0mcopy\u001b[0m\u001b[1;33m=\u001b[0m\u001b[0mcopy\u001b[0m\u001b[1;33m,\u001b[0m\u001b[1;33m\u001b[0m\u001b[1;33m\u001b[0m\u001b[0m\n",
      "\u001b[1;32mc:\\users\\kevin\\.virtualenvs\\winkie-tu0wptfo\\lib\\site-packages\\sklearn\\utils\\validation.py\u001b[0m in \u001b[0;36minner_f\u001b[1;34m(*args, **kwargs)\u001b[0m\n\u001b[0;32m     61\u001b[0m             \u001b[0mextra_args\u001b[0m \u001b[1;33m=\u001b[0m \u001b[0mlen\u001b[0m\u001b[1;33m(\u001b[0m\u001b[0margs\u001b[0m\u001b[1;33m)\u001b[0m \u001b[1;33m-\u001b[0m \u001b[0mlen\u001b[0m\u001b[1;33m(\u001b[0m\u001b[0mall_args\u001b[0m\u001b[1;33m)\u001b[0m\u001b[1;33m\u001b[0m\u001b[1;33m\u001b[0m\u001b[0m\n\u001b[0;32m     62\u001b[0m             \u001b[1;32mif\u001b[0m \u001b[0mextra_args\u001b[0m \u001b[1;33m<=\u001b[0m \u001b[1;36m0\u001b[0m\u001b[1;33m:\u001b[0m\u001b[1;33m\u001b[0m\u001b[1;33m\u001b[0m\u001b[0m\n\u001b[1;32m---> 63\u001b[1;33m                 \u001b[1;32mreturn\u001b[0m \u001b[0mf\u001b[0m\u001b[1;33m(\u001b[0m\u001b[1;33m*\u001b[0m\u001b[0margs\u001b[0m\u001b[1;33m,\u001b[0m \u001b[1;33m**\u001b[0m\u001b[0mkwargs\u001b[0m\u001b[1;33m)\u001b[0m\u001b[1;33m\u001b[0m\u001b[1;33m\u001b[0m\u001b[0m\n\u001b[0m\u001b[0;32m     64\u001b[0m \u001b[1;33m\u001b[0m\u001b[0m\n\u001b[0;32m     65\u001b[0m             \u001b[1;31m# extra_args > 0\u001b[0m\u001b[1;33m\u001b[0m\u001b[1;33m\u001b[0m\u001b[1;33m\u001b[0m\u001b[0m\n",
      "\u001b[1;32mc:\\users\\kevin\\.virtualenvs\\winkie-tu0wptfo\\lib\\site-packages\\sklearn\\utils\\validation.py\u001b[0m in \u001b[0;36mcheck_array\u001b[1;34m(array, accept_sparse, accept_large_sparse, dtype, order, copy, force_all_finite, ensure_2d, allow_nd, ensure_min_samples, ensure_min_features, estimator)\u001b[0m\n\u001b[0;32m    657\u001b[0m                     \"into decimal numbers with dtype='numeric'\") from e\n\u001b[0;32m    658\u001b[0m         \u001b[1;32mif\u001b[0m \u001b[1;32mnot\u001b[0m \u001b[0mallow_nd\u001b[0m \u001b[1;32mand\u001b[0m \u001b[0marray\u001b[0m\u001b[1;33m.\u001b[0m\u001b[0mndim\u001b[0m \u001b[1;33m>=\u001b[0m \u001b[1;36m3\u001b[0m\u001b[1;33m:\u001b[0m\u001b[1;33m\u001b[0m\u001b[1;33m\u001b[0m\u001b[0m\n\u001b[1;32m--> 659\u001b[1;33m             raise ValueError(\"Found array with dim %d. %s expected <= 2.\"\n\u001b[0m\u001b[0;32m    660\u001b[0m                              % (array.ndim, estimator_name))\n\u001b[0;32m    661\u001b[0m \u001b[1;33m\u001b[0m\u001b[0m\n",
      "\u001b[1;31mValueError\u001b[0m: Found array with dim 3. Estimator expected <= 2."
     ]
    }
   ],
   "source": [
    "from imblearn.over_sampling import SMOTEN\n",
    "\n",
    "oversample = SMOTEN(random_state=0)\n",
    "X_over, y_over = oversample.fit_resample(segmented_timeseries, decoded_y)"
   ]
  },
  {
   "cell_type": "code",
   "execution_count": null,
   "id": "bizarre-nigeria",
   "metadata": {},
   "outputs": [
    {
     "data": {
      "text/plain": [
       "Counter({0: 20, 1: 40})"
      ]
     },
     "execution_count": null,
     "metadata": {},
     "output_type": "execute_result"
    }
   ],
   "source": [
    "Counter(np.array([0] * 20 + [1] * 40, dtype=np.int32))"
   ]
  },
  {
   "cell_type": "code",
   "execution_count": null,
   "id": "alike-extraction",
   "metadata": {},
   "outputs": [
    {
     "data": {
      "text/plain": [
       "Counter({7: 2949,\n",
       "         6: 2111,\n",
       "         9: 3398,\n",
       "         5: 4159,\n",
       "         4: 25444,\n",
       "         1: 423016,\n",
       "         2: 2434,\n",
       "         3: 10152,\n",
       "         0: 9891,\n",
       "         8: 8620})"
      ]
     },
     "execution_count": null,
     "metadata": {},
     "output_type": "execute_result"
    }
   ],
   "source": [
    "Counter(decoded_y)"
   ]
  },
  {
   "cell_type": "code",
   "execution_count": null,
   "id": "defined-enhancement",
   "metadata": {},
   "outputs": [
    {
     "data": {
      "text/plain": [
       "(492174, 7, 5)"
      ]
     },
     "execution_count": null,
     "metadata": {},
     "output_type": "execute_result"
    }
   ],
   "source": [
    "segmented_timeseries.shape"
   ]
  },
  {
   "cell_type": "code",
   "execution_count": null,
   "id": "informational-murder",
   "metadata": {},
   "outputs": [],
   "source": [
    "nsamples, nx, ny = segmented_timeseries.shape\n",
    "d2_train_dataset = segmented_timeseries.reshape((nsamples,nx*ny))"
   ]
  },
  {
   "cell_type": "code",
   "execution_count": null,
   "id": "gentle-utilization",
   "metadata": {},
   "outputs": [],
   "source": [
    "from imblearn.over_sampling import RandomOverSampler \n",
    "oversample = RandomOverSampler()\n",
    "x_over, y_over = oversample.fit_resample(d2_train_dataset, decoded_y)"
   ]
  },
  {
   "cell_type": "code",
   "execution_count": null,
   "id": "advance-place",
   "metadata": {},
   "outputs": [
    {
     "data": {
      "text/plain": [
       "Counter({7: 423016,\n",
       "         6: 423016,\n",
       "         9: 423016,\n",
       "         5: 423016,\n",
       "         4: 423016,\n",
       "         1: 423016,\n",
       "         2: 423016,\n",
       "         3: 423016,\n",
       "         0: 423016,\n",
       "         8: 423016})"
      ]
     },
     "execution_count": null,
     "metadata": {},
     "output_type": "execute_result"
    }
   ],
   "source": [
    "Counter(y_over)"
   ]
  },
  {
   "cell_type": "code",
   "execution_count": null,
   "id": "substantial-toner",
   "metadata": {},
   "outputs": [
    {
     "data": {
      "text/plain": [
       "4230160"
      ]
     },
     "execution_count": null,
     "metadata": {},
     "output_type": "execute_result"
    }
   ],
   "source": [
    "x_over.shape[0]"
   ]
  },
  {
   "cell_type": "code",
   "execution_count": null,
   "id": "cutting-while",
   "metadata": {},
   "outputs": [
    {
     "data": {
      "text/plain": [
       "array([[0., 0., 0., ..., 1., 0., 0.],\n",
       "       [0., 0., 0., ..., 1., 0., 0.],\n",
       "       [0., 0., 0., ..., 1., 0., 0.],\n",
       "       ...,\n",
       "       [0., 0., 0., ..., 0., 0., 1.],\n",
       "       [0., 0., 0., ..., 0., 0., 1.],\n",
       "       [0., 0., 0., ..., 0., 0., 1.]], dtype=float32)"
      ]
     },
     "execution_count": null,
     "metadata": {},
     "output_type": "execute_result"
    }
   ],
   "source": [
    "oversampled_segments = x_over.reshape(x_over.shape[0], nx, ny)\n",
    "df_encoded_labels = pd.get_dummies(y_over)\n",
    "label_vector = np.asarray(df_encoded_labels, dtype = np.float32)\n",
    "label_vector"
   ]
  },
  {
   "cell_type": "code",
   "execution_count": null,
   "id": "greatest-perception",
   "metadata": {},
   "outputs": [
    {
     "name": "stdout",
     "output_type": "stream",
     "text": [
      "Epoch 1/100\n",
      "4958/4958 [==============================] - 50s 10ms/step - loss: 0.9047 - categorical_accuracy: 0.6981\n",
      "Epoch 2/100\n",
      "4958/4958 [==============================] - 47s 9ms/step - loss: 0.4058 - categorical_accuracy: 0.8659\n",
      "Epoch 3/100\n",
      "4958/4958 [==============================] - 47s 9ms/step - loss: 0.3285 - categorical_accuracy: 0.8916\n",
      "Epoch 4/100\n",
      "4958/4958 [==============================] - 47s 9ms/step - loss: 0.2893 - categorical_accuracy: 0.9049\n",
      "Epoch 5/100\n",
      "4958/4958 [==============================] - 47s 10ms/step - loss: 0.2639 - categorical_accuracy: 0.9139\n",
      "Epoch 6/100\n",
      "4958/4958 [==============================] - 46s 9ms/step - loss: 0.2441 - categorical_accuracy: 0.9203\n",
      "Epoch 7/100\n",
      "4958/4958 [==============================] - 46s 9ms/step - loss: 0.2309 - categorical_accuracy: 0.9248\n",
      "Epoch 8/100\n",
      "4958/4958 [==============================] - 47s 9ms/step - loss: 0.2154 - categorical_accuracy: 0.9299\n",
      "Epoch 9/100\n",
      "4958/4958 [==============================] - 47s 9ms/step - loss: 0.2073 - categorical_accuracy: 0.9327\n",
      "Epoch 10/100\n",
      "4958/4958 [==============================] - 47s 9ms/step - loss: 0.1972 - categorical_accuracy: 0.9359\n",
      "Epoch 11/100\n",
      "4958/4958 [==============================] - 47s 9ms/step - loss: 0.1937 - categorical_accuracy: 0.9377\n",
      "Epoch 12/100\n",
      "4958/4958 [==============================] - 47s 9ms/step - loss: 0.1822 - categorical_accuracy: 0.9412\n",
      "Epoch 13/100\n",
      "4958/4958 [==============================] - 47s 9ms/step - loss: 0.1764 - categorical_accuracy: 0.9431\n",
      "Epoch 14/100\n",
      "4958/4958 [==============================] - 47s 10ms/step - loss: 0.1719 - categorical_accuracy: 0.9446\n",
      "Epoch 15/100\n",
      "4958/4958 [==============================] - 46s 9ms/step - loss: 0.1672 - categorical_accuracy: 0.9465\n",
      "Epoch 16/100\n",
      "4958/4958 [==============================] - 46s 9ms/step - loss: 0.1633 - categorical_accuracy: 0.9476\n",
      "Epoch 17/100\n",
      "4958/4958 [==============================] - 46s 9ms/step - loss: 0.1584 - categorical_accuracy: 0.9493\n",
      "Epoch 18/100\n",
      "4958/4958 [==============================] - 46s 9ms/step - loss: 0.1567 - categorical_accuracy: 0.9501\n",
      "Epoch 19/100\n",
      "4958/4958 [==============================] - 47s 9ms/step - loss: 0.1506 - categorical_accuracy: 0.9521\n",
      "Epoch 20/100\n",
      "4958/4958 [==============================] - 47s 9ms/step - loss: 0.1475 - categorical_accuracy: 0.9531\n",
      "Epoch 21/100\n",
      "4958/4958 [==============================] - 47s 9ms/step - loss: 0.1434 - categorical_accuracy: 0.9544\n",
      "Epoch 22/100\n",
      "4958/4958 [==============================] - 46s 9ms/step - loss: 0.1444 - categorical_accuracy: 0.9542\n",
      "Epoch 23/100\n",
      "4958/4958 [==============================] - 46s 9ms/step - loss: 0.1398 - categorical_accuracy: 0.9556\n",
      "Epoch 24/100\n",
      "4958/4958 [==============================] - 46s 9ms/step - loss: 0.1353 - categorical_accuracy: 0.9571\n",
      "Epoch 25/100\n",
      "4958/4958 [==============================] - 47s 9ms/step - loss: 0.1359 - categorical_accuracy: 0.9568\n",
      "Epoch 26/100\n",
      "4958/4958 [==============================] - 47s 9ms/step - loss: 0.1332 - categorical_accuracy: 0.9579\n",
      "Epoch 27/100\n",
      "4958/4958 [==============================] - 45s 9ms/step - loss: 0.1288 - categorical_accuracy: 0.9596\n",
      "Epoch 28/100\n",
      "4958/4958 [==============================] - 44s 9ms/step - loss: 0.1276 - categorical_accuracy: 0.9597\n",
      "Epoch 29/100\n",
      "4958/4958 [==============================] - 44s 9ms/step - loss: 0.1267 - categorical_accuracy: 0.9601\n",
      "Epoch 30/100\n",
      "4958/4958 [==============================] - 44s 9ms/step - loss: 0.1244 - categorical_accuracy: 0.9609\n",
      "Epoch 31/100\n",
      "4958/4958 [==============================] - 44s 9ms/step - loss: 0.1245 - categorical_accuracy: 0.9609\n",
      "Epoch 32/100\n",
      "4958/4958 [==============================] - 44s 9ms/step - loss: 0.1217 - categorical_accuracy: 0.9618\n",
      "Epoch 33/100\n",
      "4958/4958 [==============================] - 44s 9ms/step - loss: 0.1190 - categorical_accuracy: 0.9625\n",
      "Epoch 34/100\n",
      "4958/4958 [==============================] - 44s 9ms/step - loss: 0.1181 - categorical_accuracy: 0.9629\n",
      "Epoch 35/100\n",
      "4958/4958 [==============================] - 44s 9ms/step - loss: 0.1183 - categorical_accuracy: 0.9631\n",
      "Epoch 36/100\n",
      "4958/4958 [==============================] - 44s 9ms/step - loss: 0.1162 - categorical_accuracy: 0.9634\n",
      "Epoch 37/100\n",
      "4958/4958 [==============================] - 45s 9ms/step - loss: 0.1127 - categorical_accuracy: 0.9648\n",
      "Epoch 38/100\n",
      "4958/4958 [==============================] - 44s 9ms/step - loss: 0.1137 - categorical_accuracy: 0.9644\n",
      "Epoch 39/100\n",
      "4958/4958 [==============================] - 45s 9ms/step - loss: 0.1124 - categorical_accuracy: 0.9648\n",
      "Epoch 40/100\n",
      "4958/4958 [==============================] - 44s 9ms/step - loss: 0.1117 - categorical_accuracy: 0.9652\n",
      "Epoch 41/100\n",
      "4958/4958 [==============================] - 49s 10ms/step - loss: 0.1108 - categorical_accuracy: 0.9655\n",
      "Epoch 42/100\n",
      "4958/4958 [==============================] - 47s 9ms/step - loss: 0.1297 - categorical_accuracy: 0.9609\n",
      "Epoch 43/100\n",
      "4958/4958 [==============================] - 47s 10ms/step - loss: 0.1061 - categorical_accuracy: 0.9670\n",
      "Epoch 44/100\n",
      "4958/4958 [==============================] - 47s 10ms/step - loss: 0.1082 - categorical_accuracy: 0.9664\n",
      "Epoch 45/100\n",
      "4958/4958 [==============================] - 47s 10ms/step - loss: 0.1041 - categorical_accuracy: 0.9674\n",
      "Epoch 46/100\n",
      "4958/4958 [==============================] - 47s 10ms/step - loss: 0.1056 - categorical_accuracy: 0.9670\n",
      "Epoch 47/100\n",
      "4958/4958 [==============================] - 47s 10ms/step - loss: 0.1037 - categorical_accuracy: 0.9675\n",
      "Epoch 48/100\n",
      "4958/4958 [==============================] - 47s 10ms/step - loss: 0.1015 - categorical_accuracy: 0.9684\n",
      "Epoch 49/100\n",
      "4958/4958 [==============================] - 47s 10ms/step - loss: 0.1016 - categorical_accuracy: 0.9683\n",
      "Epoch 50/100\n",
      "4958/4958 [==============================] - 47s 9ms/step - loss: 0.1015 - categorical_accuracy: 0.9686\n",
      "Epoch 51/100\n",
      "4958/4958 [==============================] - 47s 10ms/step - loss: 0.1006 - categorical_accuracy: 0.9689\n",
      "Epoch 52/100\n",
      "4958/4958 [==============================] - 47s 9ms/step - loss: 0.1006 - categorical_accuracy: 0.9689\n",
      "Epoch 53/100\n",
      "4958/4958 [==============================] - 48s 10ms/step - loss: 0.0986 - categorical_accuracy: 0.9695\n",
      "Epoch 54/100\n",
      "4958/4958 [==============================] - 45s 9ms/step - loss: 0.0982 - categorical_accuracy: 0.9694\n",
      "Epoch 55/100\n",
      "4958/4958 [==============================] - 45s 9ms/step - loss: 0.0980 - categorical_accuracy: 0.9697\n",
      "Epoch 56/100\n",
      "4958/4958 [==============================] - 44s 9ms/step - loss: 0.0961 - categorical_accuracy: 0.9700\n",
      "Epoch 57/100\n",
      "4958/4958 [==============================] - 45s 9ms/step - loss: 0.0955 - categorical_accuracy: 0.9702 0s - loss: 0.0955 - ca\n",
      "Epoch 58/100\n",
      "4958/4958 [==============================] - 45s 9ms/step - loss: 0.0954 - categorical_accuracy: 0.9704\n",
      "Epoch 59/100\n",
      "4958/4958 [==============================] - 45s 9ms/step - loss: 0.0948 - categorical_accuracy: 0.9708\n",
      "Epoch 60/100\n",
      "4958/4958 [==============================] - 44s 9ms/step - loss: 0.0941 - categorical_accuracy: 0.9709\n",
      "Epoch 61/100\n",
      "4958/4958 [==============================] - 45s 9ms/step - loss: 0.0945 - categorical_accuracy: 0.9709\n",
      "Epoch 62/100\n",
      "4958/4958 [==============================] - 45s 9ms/step - loss: 0.0931 - categorical_accuracy: 0.9711\n",
      "Epoch 63/100\n",
      "4958/4958 [==============================] - 45s 9ms/step - loss: 0.0931 - categorical_accuracy: 0.9712\n",
      "Epoch 64/100\n",
      "4958/4958 [==============================] - 45s 9ms/step - loss: 0.0909 - categorical_accuracy: 0.9719\n",
      "Epoch 65/100\n",
      "4958/4958 [==============================] - 45s 9ms/step - loss: 0.0912 - categorical_accuracy: 0.9719\n",
      "Epoch 66/100\n",
      "4958/4958 [==============================] - 45s 9ms/step - loss: 0.0901 - categorical_accuracy: 0.9721\n",
      "Epoch 67/100\n",
      "4958/4958 [==============================] - 45s 9ms/step - loss: 0.0890 - categorical_accuracy: 0.9726\n",
      "Epoch 68/100\n",
      "4958/4958 [==============================] - 45s 9ms/step - loss: 0.0898 - categorical_accuracy: 0.9723\n",
      "Epoch 69/100\n",
      "4958/4958 [==============================] - 45s 9ms/step - loss: 0.0902 - categorical_accuracy: 0.9722\n",
      "Epoch 70/100\n",
      "4958/4958 [==============================] - 45s 9ms/step - loss: 0.0885 - categorical_accuracy: 0.9725\n",
      "Epoch 71/100\n",
      "4958/4958 [==============================] - 45s 9ms/step - loss: 0.0872 - categorical_accuracy: 0.9732\n",
      "Epoch 72/100\n",
      "4958/4958 [==============================] - 45s 9ms/step - loss: 0.0877 - categorical_accuracy: 0.9730\n",
      "Epoch 73/100\n",
      "4958/4958 [==============================] - 45s 9ms/step - loss: 0.0870 - categorical_accuracy: 0.9734\n",
      "Epoch 74/100\n",
      "4958/4958 [==============================] - 45s 9ms/step - loss: 0.0858 - categorical_accuracy: 0.9735\n",
      "Epoch 75/100\n",
      "4958/4958 [==============================] - 45s 9ms/step - loss: 0.0851 - categorical_accuracy: 0.9737\n",
      "Epoch 76/100\n",
      "4958/4958 [==============================] - 45s 9ms/step - loss: 0.0852 - categorical_accuracy: 0.9737\n",
      "Epoch 77/100\n",
      "4958/4958 [==============================] - 44s 9ms/step - loss: 0.0851 - categorical_accuracy: 0.9738\n",
      "Epoch 78/100\n",
      "4958/4958 [==============================] - 45s 9ms/step - loss: 0.0843 - categorical_accuracy: 0.9740\n",
      "Epoch 79/100\n",
      "4958/4958 [==============================] - 44s 9ms/step - loss: 0.0841 - categorical_accuracy: 0.9741\n",
      "Epoch 80/100\n",
      "4958/4958 [==============================] - 44s 9ms/step - loss: 0.0843 - categorical_accuracy: 0.9741\n",
      "Epoch 81/100\n",
      "4958/4958 [==============================] - 44s 9ms/step - loss: 0.0834 - categorical_accuracy: 0.9743\n",
      "Epoch 82/100\n",
      "4958/4958 [==============================] - 44s 9ms/step - loss: 0.0833 - categorical_accuracy: 0.9744\n",
      "Epoch 83/100\n",
      "4958/4958 [==============================] - 44s 9ms/step - loss: 0.0871 - categorical_accuracy: 0.9735\n",
      "Epoch 84/100\n",
      "4958/4958 [==============================] - 47s 9ms/step - loss: 0.0835 - categorical_accuracy: 0.9745\n",
      "Epoch 85/100\n",
      "4958/4958 [==============================] - 50s 10ms/step - loss: 0.0816 - categorical_accuracy: 0.9748\n",
      "Epoch 86/100\n",
      "4958/4958 [==============================] - 49s 10ms/step - loss: 0.0807 - categorical_accuracy: 0.9750\n",
      "Epoch 87/100\n",
      "4958/4958 [==============================] - 47s 10ms/step - loss: 0.0823 - categorical_accuracy: 0.9749\n",
      "Epoch 88/100\n",
      "4958/4958 [==============================] - 47s 10ms/step - loss: 0.0821 - categorical_accuracy: 0.9748\n",
      "Epoch 89/100\n",
      "4958/4958 [==============================] - 47s 10ms/step - loss: 0.0805 - categorical_accuracy: 0.9753\n",
      "Epoch 90/100\n",
      "4958/4958 [==============================] - 49s 10ms/step - loss: 0.0787 - categorical_accuracy: 0.9757\n",
      "Epoch 91/100\n",
      "4958/4958 [==============================] - 49s 10ms/step - loss: 0.0798 - categorical_accuracy: 0.9755\n",
      "Epoch 92/100\n",
      "4958/4958 [==============================] - 47s 10ms/step - loss: 0.0811 - categorical_accuracy: 0.9751\n",
      "Epoch 93/100\n",
      "4958/4958 [==============================] - 47s 10ms/step - loss: 0.0808 - categorical_accuracy: 0.9752\n",
      "Epoch 94/100\n",
      "4958/4958 [==============================] - 47s 10ms/step - loss: 0.0797 - categorical_accuracy: 0.9757\n",
      "Epoch 95/100\n",
      "4958/4958 [==============================] - 47s 10ms/step - loss: 0.0793 - categorical_accuracy: 0.9757\n",
      "Epoch 96/100\n",
      "4958/4958 [==============================] - 47s 10ms/step - loss: 0.0780 - categorical_accuracy: 0.9761\n",
      "Epoch 97/100\n",
      "4958/4958 [==============================] - 47s 9ms/step - loss: 0.0781 - categorical_accuracy: 0.9759\n",
      "Epoch 98/100\n",
      "4958/4958 [==============================] - 47s 9ms/step - loss: 0.0780 - categorical_accuracy: 0.9761\n",
      "Epoch 99/100\n",
      "4958/4958 [==============================] - 45s 9ms/step - loss: 0.0782 - categorical_accuracy: 0.9758\n",
      "Epoch 100/100\n",
      "4958/4958 [==============================] - 44s 9ms/step - loss: 0.0779 - categorical_accuracy: 0.9760\n"
     ]
    },
    {
     "data": {
      "image/png": "[encoded data removed]",
      "text/plain": [
       "<Figure size 432x288 with 1 Axes>"
      ]
     },
     "metadata": {
      "needs_background": "light"
     },
     "output_type": "display_data"
    }
   ],
   "source": [
    "x_train, x_test, y_train, y_test = train_test_split(oversampled_segments, label_vector, test_size=0.4)\n",
    "\n",
    "model = ml.build_model(x_train, label_vector)\n",
    "log_dir = \"logs/fit/\" + datetime.datetime.now().strftime(\"%Y%m%d-%H%M%S\")\n",
    "tensorboard_callback = tf.keras.callbacks.TensorBoard(log_dir=log_dir, histogram_freq=1)\n",
    "hist = model.fit(x_train,\n",
    "            y_train,\n",
    "            batch_size=512,\n",
    "            epochs=100,\n",
    "            verbose=1, callbacks=[tensorboard_callback])\n",
    "    \n",
    "plt.plot(hist.history['loss'], label=\"Loss\")\n",
    "plt.plot(hist.history['categorical_accuracy'], label=\"Accuracy\")\n",
    "plt.legend()\n",
    "plt.show()"
   ]
  },
  {
   "cell_type": "code",
   "execution_count": null,
   "id": "different-tongue",
   "metadata": {},
   "outputs": [
    {
     "name": "stdout",
     "output_type": "stream",
     "text": [
      "3305/3305 [==============================] - 12s 4ms/step - loss: 0.0639 - categorical_accuracy: 0.9807\n"
     ]
    },
    {
     "data": {
      "text/plain": [
       "'test loss: 0.06391407549381256\\ttest accuracy: 0.980699896812439'"
      ]
     },
     "metadata": {},
     "output_type": "display_data"
    },
    {
     "data": {
      "image/png": "[encoded data removed]",
      "text/plain": [
       "<Figure size 864x720 with 2 Axes>"
      ]
     },
     "metadata": {
      "needs_background": "light"
     },
     "output_type": "display_data"
    }
   ],
   "source": [
    "results = model.evaluate(x_test, y_test, batch_size=512)\n",
    "display(f\"test loss: {results[0]}\\ttest accuracy: {results[1]}\")\n",
    "\n",
    "\n",
    "# getting predicted values for test data\n",
    "y_pred = model.predict(x_test)\n",
    "\n",
    "# matching true labels to predicted output\n",
    "y_true=np.argmax(y_test, axis=1)\n",
    "confusion = confusion_matrix(y_true, np.argmax(y_pred, axis=1))\n",
    "\n",
    "df_cm = pd.DataFrame(confusion)\n",
    "plt.figure(figsize = (12,10))\n",
    "\n",
    "sn.heatmap(df_cm, annot=True, fmt=\".1f\", xticklabels=label_names, yticklabels=label_names)\n",
    "plt.xlabel(\"Real Values\", fontsize=20)\n",
    "plt.ylabel(\"Predicted Values\", fontsize=20)\n",
    "plt.show()"
   ]
  },
  {
   "cell_type": "code",
   "execution_count": null,
   "id": "original-station",
   "metadata": {},
   "outputs": [
    {
     "name": "stdout",
     "output_type": "stream",
     "text": [
      "INFO:tensorflow:Assets written to: model_7s-100e-512b-0015L-oversampling-sliding\\assets\n"
     ]
    }
   ],
   "source": [
    "model.save(\"model_7s-100e-512b-0015L-oversampling-sliding\")"
   ]
  },
  {
   "cell_type": "code",
   "execution_count": null,
   "id": "sweet-mixer",
   "metadata": {},
   "outputs": [],
   "source": [
    "import pandas as pd\n",
    "import numpy as np\n",
    "from winkie import ml\n",
    "from winkie import dlc_importer\n",
    "import tensorflow as tf\n",
    "import tensorflow_addons as tfa\n",
    "from tensorflow import keras\n",
    "import matplotlib.pyplot as plt\n",
    "import datetime\n",
    "import re\n",
    "\n",
    "features = [('head', 'x'), ('head', 'y'), ('tail', 'x'), ('left_neck', 'y'), ('right_neck', 'y')]\n",
    "\n",
    "def build_timeseries(df, features, timeslice_length, sliding):\n",
    "    \"Split the data in `df` into timeseries segments of length `timeslice_length` containing given `features`.\"\n",
    "    \n",
    "    segments = []\n",
    "    \n",
    "    if sliding:\n",
    "        step = 1\n",
    "    else:\n",
    "        step = timeslice_length\n",
    "    \n",
    "    for i in range(0, len(df) - timeslice_length + 1, step):\n",
    "        s = []\n",
    "        i_end = i + timeslice_length\n",
    "        for f in features:\n",
    "            s.append(df[f[0], f[1]].values[i:i_end])\n",
    "            \n",
    "        segments.append(s)\n",
    "\n",
    "    return np.asarray(segments).reshape(-1, timeslice_length, len(features))\n",
    "\n",
    "\n",
    "\n",
    "def apply_model_and_check_performance(model_name, result_file_name, expted_label_file_name, label_mapping, sliding=False):\n",
    "    p = re.compile(r'(^[A-Za-z_]*) *= *(?:slice)? ?\\((\\d*), ?(\\d*)\\)')\n",
    "    behaviours = []\n",
    "    with open(expted_label_file_name) as f:\n",
    "      for x in f:\n",
    "        m = p.match(x)\n",
    "        frames = int(m.group(3)) - int(m.group(2))\n",
    "        b = m.group(1)\n",
    "        behaviours += frames * [b]\n",
    "    expected = pd.Series(behaviours)\n",
    "    \n",
    "    model = keras.models.load_model(model_name)\n",
    "    \n",
    "    imp = dlc_importer.DLCImporter()\n",
    "    df = imp.import_hdf(result_file_name)\n",
    "    df['expected'] = expected\n",
    "\n",
    "    \n",
    "    timeslice = 7\n",
    "    segments = build_timeseries(df, features, timeslice, sliding=sliding)\n",
    "\n",
    "    predictions = model.predict(segments)\n",
    "\n",
    "    if sliding:\n",
    "        classes = pd.Series(np.argmax(predictions, axis = 1))\n",
    "        confidence = pd.Series(np.max(predictions, axis = 1))\n",
    "    else:\n",
    "        classes = pd.Series(np.argmax(predictions, axis = 1)).repeat(timeslice).reset_index(drop=True)\n",
    "        confidence = pd.Series(np.max(predictions, axis = 1)).repeat(timeslice).reset_index(drop=True)\n",
    "\n",
    "    df['class'] = classes\n",
    "    df['class'] = df['class'].replace(np.NaN, 1.0)\n",
    "    df['b'] = df.apply(lambda row: label_mapping[int(row['class'])], axis=1)\n",
    "\n",
    "    df['confidence'] = confidence\n",
    "    \n",
    "    df_anomalies = df[(df['class'] != 1.0) & (df['class'] != -1.0)]\n",
    "    df_anomalies.groupby((df_anomalies['class'].shift() != df_anomalies['class']).cumsum())\n",
    "\n",
    "    recall = []\n",
    "\n",
    "    for k, v in df_anomalies.groupby((df_anomalies['class'].shift() != df_anomalies['class']).cumsum()):\n",
    "        recall.append([\n",
    "            v['b'].head(1).values[0], \n",
    "            v['expected'].unique(), \n",
    "            v['expected'].head(1).values[0],\n",
    "            datetime.timedelta(seconds=v.head(1).index.values[0] / 119.88),\n",
    "            len(v), \n",
    "            v.head(1).index.values[0],\n",
    "            v.tail(1).index.values[0]])\n",
    "\n",
    "    df_performance = pd.DataFrame(recall, columns=['detected', 'expected', 'confidence', 'time', 'length', 'start', 'end'])\n",
    "    \n",
    "    return df, df_performance, predictions"
   ]
  },
  {
   "cell_type": "code",
   "execution_count": null,
   "id": "bound-script",
   "metadata": {},
   "outputs": [
    {
     "data": {
      "text/plain": [
       "<AxesSubplot:>"
      ]
     },
     "execution_count": null,
     "metadata": {},
     "output_type": "execute_result"
    },
    {
     "data": {
      "image/png": "[encoded data removed]",
      "text/plain": [
       "<Figure size 432x288 with 1 Axes>"
      ]
     },
     "metadata": {
      "needs_background": "light"
     },
     "output_type": "display_data"
    }
   ],
   "source": [
    "label_mapping = [\n",
    "    'back_preening', 'base', 'body_pump', 'feather_clapping', 'front_preening', 'head_shake', 'not_defined',\n",
    "    'scratch_with_feet', 'standing_shaking', 'tail_shake']\n",
    "\n",
    "\n",
    "\n",
    "df, df_p, pred = apply_model_and_check_performance(\"model_7s-100e-512b-0015L-oversampling-sliding\", \n",
    "    '233_monhab_gopro_cut_day1DLC_resnet50_goprovrJul24shuffle1_1030000.h5', \n",
    "    \"completely_labelled_233monhabday1.txt\", label_mapping, sliding=True)\n",
    "\n",
    "df['class'].plot()\n",
    "df['confidence'].plot()"
   ]
  },
  {
   "cell_type": "code",
   "execution_count": null,
   "id": "swiss-indianapolis",
   "metadata": {},
   "outputs": [
    {
     "name": "stdout",
     "output_type": "stream",
     "text": [
      "0.92674416\n",
      "0.926738\n",
      "[0.         0.9618518  0.4874372  0.         0.6148374  0.09055627\n",
      " 0.         0.         0.         0.        ]\n"
     ]
    }
   ],
   "source": [
    "def calc_accuracy(df):\n",
    "    ytrue = df['expected_class']\n",
    "    ypred = df['class']\n",
    "\n",
    "    metric = tf.keras.metrics.Accuracy()\n",
    "    metric.update_state(ytrue, ypred)\n",
    "    print(metric.result().numpy())\n",
    "\n",
    "expected_class_lookup = {\n",
    "    'eating': 1.0,\n",
    "    'standing': 1.0,\n",
    "    'hp': 5.0,\n",
    "    'walking': 1.0,\n",
    "    'fp': 4.0,\n",
    "    'sf': 7.0,\n",
    "    'bp': 2.0,\n",
    "    'eating_flor': 1.0,\n",
    "    np.NAN: 1.0\n",
    "}\n",
    "\n",
    "df['expected_class'] = df.apply(lambda row: expected_class_lookup[row['expected'][0]], axis=1)\n",
    "\n",
    "calc_accuracy(df)\n",
    "\n",
    "ytrue = []\n",
    "for i, v in df['expected_class'].items():\n",
    "    exp = [0] * 10\n",
    "    exp[int(v)] = 1\n",
    "    ytrue.append(exp)\n",
    "\n",
    "metric = tf.keras.metrics.CategoricalAccuracy()\n",
    "metric.update_state(ytrue[:-6], pred)\n",
    "print(metric.result().numpy())\n",
    "\n",
    "metric = tfa.metrics.F1Score(num_classes=len(ytrue[0]), threshold=None)\n",
    "metric.update_state(ytrue[:-6], pred)\n",
    "print(metric.result().numpy())"
   ]
  },
  {
   "cell_type": "code",
   "execution_count": null,
   "id": "organized-quick",
   "metadata": {},
   "outputs": [
    {
     "data": {
      "text/html": [
       "<div>\n",
       "<style scoped>\n",
       "    .dataframe tbody tr th:only-of-type {\n",
       "        vertical-align: middle;\n",
       "    }\n",
       "\n",
       "    .dataframe tbody tr th {\n",
       "        vertical-align: top;\n",
       "    }\n",
       "\n",
       "    .dataframe thead tr th {\n",
       "        text-align: left;\n",
       "    }\n",
       "</style>\n",
       "<table border=\"1\" class=\"dataframe\">\n",
       "  <thead>\n",
       "    <tr>\n",
       "      <th>bodyparts</th>\n",
       "      <th colspan=\"3\" halign=\"left\">head</th>\n",
       "      <th colspan=\"3\" halign=\"left\">beak</th>\n",
       "      <th colspan=\"3\" halign=\"left\">left_neck</th>\n",
       "      <th>right_neck</th>\n",
       "      <th>...</th>\n",
       "      <th colspan=\"2\" halign=\"left\">body</th>\n",
       "      <th colspan=\"3\" halign=\"left\">tail</th>\n",
       "      <th>expected</th>\n",
       "      <th>class</th>\n",
       "      <th>b</th>\n",
       "      <th>confidence</th>\n",
       "      <th>expected_class</th>\n",
       "    </tr>\n",
       "    <tr>\n",
       "      <th>coords</th>\n",
       "      <th>x</th>\n",
       "      <th>y</th>\n",
       "      <th>likelihood</th>\n",
       "      <th>x</th>\n",
       "      <th>y</th>\n",
       "      <th>likelihood</th>\n",
       "      <th>x</th>\n",
       "      <th>y</th>\n",
       "      <th>likelihood</th>\n",
       "      <th>x</th>\n",
       "      <th>...</th>\n",
       "      <th>y</th>\n",
       "      <th>likelihood</th>\n",
       "      <th>x</th>\n",
       "      <th>y</th>\n",
       "      <th>likelihood</th>\n",
       "      <th></th>\n",
       "      <th></th>\n",
       "      <th></th>\n",
       "      <th></th>\n",
       "      <th></th>\n",
       "    </tr>\n",
       "  </thead>\n",
       "  <tbody>\n",
       "    <tr>\n",
       "      <th>40224</th>\n",
       "      <td>769.459595</td>\n",
       "      <td>263.147247</td>\n",
       "      <td>0.999999</td>\n",
       "      <td>792.666382</td>\n",
       "      <td>255.255035</td>\n",
       "      <td>0.999999</td>\n",
       "      <td>698.545532</td>\n",
       "      <td>328.609741</td>\n",
       "      <td>0.999995</td>\n",
       "      <td>774.705078</td>\n",
       "      <td>...</td>\n",
       "      <td>428.485901</td>\n",
       "      <td>0.999882</td>\n",
       "      <td>753.933716</td>\n",
       "      <td>598.752258</td>\n",
       "      <td>0.999996</td>\n",
       "      <td>standing</td>\n",
       "      <td>5.0</td>\n",
       "      <td>head_shake</td>\n",
       "      <td>0.996511</td>\n",
       "      <td>1.0</td>\n",
       "    </tr>\n",
       "    <tr>\n",
       "      <th>40225</th>\n",
       "      <td>769.920227</td>\n",
       "      <td>263.098511</td>\n",
       "      <td>0.999999</td>\n",
       "      <td>793.507385</td>\n",
       "      <td>254.182175</td>\n",
       "      <td>1.000000</td>\n",
       "      <td>699.220886</td>\n",
       "      <td>328.228851</td>\n",
       "      <td>0.999997</td>\n",
       "      <td>776.296753</td>\n",
       "      <td>...</td>\n",
       "      <td>430.669678</td>\n",
       "      <td>0.999794</td>\n",
       "      <td>752.142700</td>\n",
       "      <td>599.222229</td>\n",
       "      <td>0.999982</td>\n",
       "      <td>standing</td>\n",
       "      <td>5.0</td>\n",
       "      <td>head_shake</td>\n",
       "      <td>0.997795</td>\n",
       "      <td>1.0</td>\n",
       "    </tr>\n",
       "    <tr>\n",
       "      <th>40226</th>\n",
       "      <td>771.309326</td>\n",
       "      <td>263.732086</td>\n",
       "      <td>0.999999</td>\n",
       "      <td>794.479309</td>\n",
       "      <td>255.187561</td>\n",
       "      <td>0.999999</td>\n",
       "      <td>699.473083</td>\n",
       "      <td>328.940796</td>\n",
       "      <td>0.999994</td>\n",
       "      <td>776.438049</td>\n",
       "      <td>...</td>\n",
       "      <td>430.061829</td>\n",
       "      <td>0.999893</td>\n",
       "      <td>750.350464</td>\n",
       "      <td>599.879028</td>\n",
       "      <td>0.999960</td>\n",
       "      <td>standing</td>\n",
       "      <td>5.0</td>\n",
       "      <td>head_shake</td>\n",
       "      <td>0.997597</td>\n",
       "      <td>1.0</td>\n",
       "    </tr>\n",
       "    <tr>\n",
       "      <th>40227</th>\n",
       "      <td>774.824768</td>\n",
       "      <td>264.551666</td>\n",
       "      <td>0.999997</td>\n",
       "      <td>794.547913</td>\n",
       "      <td>254.980713</td>\n",
       "      <td>0.999999</td>\n",
       "      <td>699.682922</td>\n",
       "      <td>329.230042</td>\n",
       "      <td>0.999995</td>\n",
       "      <td>777.087891</td>\n",
       "      <td>...</td>\n",
       "      <td>430.044861</td>\n",
       "      <td>0.999918</td>\n",
       "      <td>750.872925</td>\n",
       "      <td>599.606812</td>\n",
       "      <td>0.999986</td>\n",
       "      <td>standing</td>\n",
       "      <td>5.0</td>\n",
       "      <td>head_shake</td>\n",
       "      <td>0.998071</td>\n",
       "      <td>1.0</td>\n",
       "    </tr>\n",
       "    <tr>\n",
       "      <th>40228</th>\n",
       "      <td>779.292236</td>\n",
       "      <td>267.513397</td>\n",
       "      <td>0.999991</td>\n",
       "      <td>794.006592</td>\n",
       "      <td>253.469696</td>\n",
       "      <td>0.999979</td>\n",
       "      <td>700.058289</td>\n",
       "      <td>330.448608</td>\n",
       "      <td>0.999991</td>\n",
       "      <td>779.011230</td>\n",
       "      <td>...</td>\n",
       "      <td>430.137207</td>\n",
       "      <td>0.999955</td>\n",
       "      <td>749.429810</td>\n",
       "      <td>600.858704</td>\n",
       "      <td>0.999957</td>\n",
       "      <td>standing</td>\n",
       "      <td>5.0</td>\n",
       "      <td>head_shake</td>\n",
       "      <td>0.997435</td>\n",
       "      <td>1.0</td>\n",
       "    </tr>\n",
       "    <tr>\n",
       "      <th>...</th>\n",
       "      <td>...</td>\n",
       "      <td>...</td>\n",
       "      <td>...</td>\n",
       "      <td>...</td>\n",
       "      <td>...</td>\n",
       "      <td>...</td>\n",
       "      <td>...</td>\n",
       "      <td>...</td>\n",
       "      <td>...</td>\n",
       "      <td>...</td>\n",
       "      <td>...</td>\n",
       "      <td>...</td>\n",
       "      <td>...</td>\n",
       "      <td>...</td>\n",
       "      <td>...</td>\n",
       "      <td>...</td>\n",
       "      <td>...</td>\n",
       "      <td>...</td>\n",
       "      <td>...</td>\n",
       "      <td>...</td>\n",
       "      <td>...</td>\n",
       "    </tr>\n",
       "    <tr>\n",
       "      <th>67300</th>\n",
       "      <td>451.538971</td>\n",
       "      <td>252.255768</td>\n",
       "      <td>1.000000</td>\n",
       "      <td>451.435059</td>\n",
       "      <td>233.861923</td>\n",
       "      <td>0.999184</td>\n",
       "      <td>439.189758</td>\n",
       "      <td>325.985931</td>\n",
       "      <td>1.000000</td>\n",
       "      <td>498.783234</td>\n",
       "      <td>...</td>\n",
       "      <td>394.013031</td>\n",
       "      <td>0.999868</td>\n",
       "      <td>609.334290</td>\n",
       "      <td>552.976196</td>\n",
       "      <td>0.999993</td>\n",
       "      <td>walking</td>\n",
       "      <td>5.0</td>\n",
       "      <td>head_shake</td>\n",
       "      <td>0.996256</td>\n",
       "      <td>1.0</td>\n",
       "    </tr>\n",
       "    <tr>\n",
       "      <th>67301</th>\n",
       "      <td>452.194366</td>\n",
       "      <td>252.512878</td>\n",
       "      <td>1.000000</td>\n",
       "      <td>452.220062</td>\n",
       "      <td>233.900513</td>\n",
       "      <td>0.999168</td>\n",
       "      <td>439.000702</td>\n",
       "      <td>325.728882</td>\n",
       "      <td>1.000000</td>\n",
       "      <td>499.402863</td>\n",
       "      <td>...</td>\n",
       "      <td>391.962494</td>\n",
       "      <td>0.999919</td>\n",
       "      <td>608.961426</td>\n",
       "      <td>552.669861</td>\n",
       "      <td>0.999986</td>\n",
       "      <td>walking</td>\n",
       "      <td>5.0</td>\n",
       "      <td>head_shake</td>\n",
       "      <td>0.996019</td>\n",
       "      <td>1.0</td>\n",
       "    </tr>\n",
       "    <tr>\n",
       "      <th>67302</th>\n",
       "      <td>450.710846</td>\n",
       "      <td>251.844009</td>\n",
       "      <td>1.000000</td>\n",
       "      <td>451.399506</td>\n",
       "      <td>234.638931</td>\n",
       "      <td>0.998763</td>\n",
       "      <td>439.575684</td>\n",
       "      <td>324.785400</td>\n",
       "      <td>1.000000</td>\n",
       "      <td>500.583557</td>\n",
       "      <td>...</td>\n",
       "      <td>392.502319</td>\n",
       "      <td>0.999880</td>\n",
       "      <td>605.616394</td>\n",
       "      <td>554.233459</td>\n",
       "      <td>0.999979</td>\n",
       "      <td>walking</td>\n",
       "      <td>5.0</td>\n",
       "      <td>head_shake</td>\n",
       "      <td>0.995290</td>\n",
       "      <td>1.0</td>\n",
       "    </tr>\n",
       "    <tr>\n",
       "      <th>67303</th>\n",
       "      <td>451.754517</td>\n",
       "      <td>252.075043</td>\n",
       "      <td>1.000000</td>\n",
       "      <td>451.170502</td>\n",
       "      <td>233.228790</td>\n",
       "      <td>0.999073</td>\n",
       "      <td>439.948700</td>\n",
       "      <td>324.749695</td>\n",
       "      <td>1.000000</td>\n",
       "      <td>500.955139</td>\n",
       "      <td>...</td>\n",
       "      <td>392.912842</td>\n",
       "      <td>0.999803</td>\n",
       "      <td>603.063843</td>\n",
       "      <td>556.362427</td>\n",
       "      <td>0.999968</td>\n",
       "      <td>walking</td>\n",
       "      <td>5.0</td>\n",
       "      <td>head_shake</td>\n",
       "      <td>0.995100</td>\n",
       "      <td>1.0</td>\n",
       "    </tr>\n",
       "    <tr>\n",
       "      <th>67304</th>\n",
       "      <td>451.689178</td>\n",
       "      <td>252.198929</td>\n",
       "      <td>1.000000</td>\n",
       "      <td>451.841248</td>\n",
       "      <td>233.585556</td>\n",
       "      <td>0.999030</td>\n",
       "      <td>439.459259</td>\n",
       "      <td>324.035034</td>\n",
       "      <td>1.000000</td>\n",
       "      <td>501.322723</td>\n",
       "      <td>...</td>\n",
       "      <td>390.803314</td>\n",
       "      <td>0.999799</td>\n",
       "      <td>602.461243</td>\n",
       "      <td>556.638062</td>\n",
       "      <td>0.999972</td>\n",
       "      <td>walking</td>\n",
       "      <td>5.0</td>\n",
       "      <td>head_shake</td>\n",
       "      <td>0.996488</td>\n",
       "      <td>1.0</td>\n",
       "    </tr>\n",
       "  </tbody>\n",
       "</table>\n",
       "<p>95 rows × 41 columns</p>\n",
       "</div>"
      ],
      "text/plain": [
       "bodyparts        head                               beak              \\\n",
       "coords              x           y likelihood           x           y   \n",
       "40224      769.459595  263.147247   0.999999  792.666382  255.255035   \n",
       "40225      769.920227  263.098511   0.999999  793.507385  254.182175   \n",
       "40226      771.309326  263.732086   0.999999  794.479309  255.187561   \n",
       "40227      774.824768  264.551666   0.999997  794.547913  254.980713   \n",
       "40228      779.292236  267.513397   0.999991  794.006592  253.469696   \n",
       "...               ...         ...        ...         ...         ...   \n",
       "67300      451.538971  252.255768   1.000000  451.435059  233.861923   \n",
       "67301      452.194366  252.512878   1.000000  452.220062  233.900513   \n",
       "67302      450.710846  251.844009   1.000000  451.399506  234.638931   \n",
       "67303      451.754517  252.075043   1.000000  451.170502  233.228790   \n",
       "67304      451.689178  252.198929   1.000000  451.841248  233.585556   \n",
       "\n",
       "bodyparts              left_neck                         right_neck  ...  \\\n",
       "coords    likelihood           x           y likelihood           x  ...   \n",
       "40224       0.999999  698.545532  328.609741   0.999995  774.705078  ...   \n",
       "40225       1.000000  699.220886  328.228851   0.999997  776.296753  ...   \n",
       "40226       0.999999  699.473083  328.940796   0.999994  776.438049  ...   \n",
       "40227       0.999999  699.682922  329.230042   0.999995  777.087891  ...   \n",
       "40228       0.999979  700.058289  330.448608   0.999991  779.011230  ...   \n",
       "...              ...         ...         ...        ...         ...  ...   \n",
       "67300       0.999184  439.189758  325.985931   1.000000  498.783234  ...   \n",
       "67301       0.999168  439.000702  325.728882   1.000000  499.402863  ...   \n",
       "67302       0.998763  439.575684  324.785400   1.000000  500.583557  ...   \n",
       "67303       0.999073  439.948700  324.749695   1.000000  500.955139  ...   \n",
       "67304       0.999030  439.459259  324.035034   1.000000  501.322723  ...   \n",
       "\n",
       "bodyparts        body                   tail                         expected  \\\n",
       "coords              y likelihood           x           y likelihood             \n",
       "40224      428.485901   0.999882  753.933716  598.752258   0.999996  standing   \n",
       "40225      430.669678   0.999794  752.142700  599.222229   0.999982  standing   \n",
       "40226      430.061829   0.999893  750.350464  599.879028   0.999960  standing   \n",
       "40227      430.044861   0.999918  750.872925  599.606812   0.999986  standing   \n",
       "40228      430.137207   0.999955  749.429810  600.858704   0.999957  standing   \n",
       "...               ...        ...         ...         ...        ...       ...   \n",
       "67300      394.013031   0.999868  609.334290  552.976196   0.999993   walking   \n",
       "67301      391.962494   0.999919  608.961426  552.669861   0.999986   walking   \n",
       "67302      392.502319   0.999880  605.616394  554.233459   0.999979   walking   \n",
       "67303      392.912842   0.999803  603.063843  556.362427   0.999968   walking   \n",
       "67304      390.803314   0.999799  602.461243  556.638062   0.999972   walking   \n",
       "\n",
       "bodyparts class           b confidence expected_class  \n",
       "coords                                                 \n",
       "40224       5.0  head_shake   0.996511            1.0  \n",
       "40225       5.0  head_shake   0.997795            1.0  \n",
       "40226       5.0  head_shake   0.997597            1.0  \n",
       "40227       5.0  head_shake   0.998071            1.0  \n",
       "40228       5.0  head_shake   0.997435            1.0  \n",
       "...         ...         ...        ...            ...  \n",
       "67300       5.0  head_shake   0.996256            1.0  \n",
       "67301       5.0  head_shake   0.996019            1.0  \n",
       "67302       5.0  head_shake   0.995290            1.0  \n",
       "67303       5.0  head_shake   0.995100            1.0  \n",
       "67304       5.0  head_shake   0.996488            1.0  \n",
       "\n",
       "[95 rows x 41 columns]"
      ]
     },
     "execution_count": null,
     "metadata": {},
     "output_type": "execute_result"
    }
   ],
   "source": [
    "df[(df['b'] == 'head_shake') & (df['confidence'] > 0.995) ]"
   ]
  },
  {
   "cell_type": "code",
   "execution_count": null,
   "id": "vocational-singer",
   "metadata": {},
   "outputs": [
    {
     "name": "stdout",
     "output_type": "stream",
     "text": [
      "0.80075634\n",
      "0.8007397\n",
      "[0.33920705 0.88815725 0.         0.         0.46221304 0.02070971\n",
      " 0.         0.         0.         0.        ]\n"
     ]
    },
    {
     "data": {
      "image/png": "[encoded data removed]",
      "text/plain": [
       "<Figure size 432x288 with 1 Axes>"
      ]
     },
     "metadata": {
      "needs_background": "light"
     },
     "output_type": "display_data"
    }
   ],
   "source": [
    "df, df_p, pred = apply_model_and_check_performance(\"model_7s-100e-512b-0015L-oversampling-sliding\", \n",
    "    '239_control2_gopro_cut_day4DLC_resnet50_goprovrJul24shuffle1_1030000.h5', \n",
    "    \"completely_labelled_239_control2_gopro_cut_day4.txt\", label_mapping, sliding=True)\n",
    "\n",
    "df['class'].plot()\n",
    "df['confidence'].plot()\n",
    "\n",
    "expected_class_lookup = {\n",
    "    'eating': 1.0,\n",
    "    'standing': 1.0,\n",
    "    'hp': 5.0,\n",
    "    'walking': 1.0,\n",
    "    'fp': 4.0,\n",
    "    'sf': 7.0,\n",
    "    'bp': 2.0,\n",
    "    'eating_flor': 1.0,\n",
    "    'backp': 0.0,\n",
    "    np.NAN: 1.0\n",
    "}\n",
    "\n",
    "df['expected_class'] = df.apply(lambda row: expected_class_lookup[row['expected'][0]], axis=1)\n",
    "\n",
    "calc_accuracy(df)\n",
    "\n",
    "ytrue = []\n",
    "for i, v in df['expected_class'].items():\n",
    "    exp = [0] * 10\n",
    "    exp[int(v)] = 1\n",
    "    ytrue.append(exp)\n",
    "\n",
    "metric = tf.keras.metrics.CategoricalAccuracy()\n",
    "metric.update_state(ytrue[:-6], pred)\n",
    "print(metric.result().numpy())\n",
    "\n",
    "metric = tfa.metrics.F1Score(num_classes=len(ytrue[0]), threshold=None)\n",
    "metric.update_state(ytrue[:-6], pred)\n",
    "print(metric.result().numpy())"
   ]
  },
  {
   "cell_type": "code",
   "execution_count": null,
   "id": "developmental-ethernet",
   "metadata": {},
   "outputs": [],
   "source": []
  }
 ],
 "metadata": {
  "kernelspec": {
   "display_name": "Python 3",
   "language": "python",
   "name": "python3"
  }
 },
 "nbformat": 4,
 "nbformat_minor": 5
}
