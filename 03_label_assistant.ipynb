{
 "cells": [
  {
   "cell_type": "code",
   "execution_count": null,
   "metadata": {},
   "outputs": [],
   "source": [
    "# default_exp label_assistant"
   ]
  },
  {
   "cell_type": "markdown",
   "metadata": {},
   "source": [
    "# LabelAssistant\n",
    "\n",
    "API details"
   ]
  },
  {
   "cell_type": "code",
   "execution_count": null,
   "metadata": {},
   "outputs": [],
   "source": [
    "# hide\n",
    "from nbdev.showdoc import *\n",
    "from fastcore.nb_imports import *\n",
    "from fastcore.test import *"
   ]
  },
  {
   "cell_type": "code",
   "execution_count": null,
   "metadata": {},
   "outputs": [],
   "source": [
    "# export\n",
    "import os\n",
    "import pandas as pd\n",
    "\n",
    "class LabelAssistant:\n",
    "    \"\"\"Used to label data and generate labelled data.\"\"\"\n",
    "\n",
    "    def __init__(self, behaviors, data_path): \n",
    "        self.behaviors = behaviors\n",
    "        self.files = os.listdir(data_path)\n",
    "        self.labels = {'behavior': [], 'start': [], 'end': [], 'file': []}\n",
    "\n",
    "    def addLabel(self, behavior, start_frame, end_frame, file_name):\n",
    "        if behavior not in self.behaviors:\n",
    "            raise ValueError(f\"Unknown behaviour: {behavior}\")\n",
    "        if file_name not in self.files:\n",
    "            raise FileNotFoundError(file_name)\n",
    "        self.labels['behavior'].append(behavior)\n",
    "        self.labels['start'].append(start_frame)\n",
    "        self.labels['end'].append(end_frame)\n",
    "        self.labels['file'].append(file_name)\n",
    "    \n",
    "    def to_df(self):\n",
    "        return pd.DataFrame(self.labels)\n",
    "\n",
    "\n"
   ]
  },
  {
   "cell_type": "code",
   "execution_count": null,
   "metadata": {},
   "outputs": [],
   "source": [
    "path_to_dlc_files = 'example_data'\n",
    "behaviors = ['pecking', 'shaking']\n",
    "ass = LabelAssistant(behaviors, path_to_dlc_files)\n",
    "ass.addLabel('pecking', 2, 5, 'coordinates.h5')\n",
    "\n",
    "# Make sure a user does not have typos during labelling\n",
    "def _missing_label(): ass.addLabel('peckking', 100, 200, 'coordinates.h5')\n",
    "with ExceptionExpected(ex=ValueError, regex=\"Unknown behaviour: peckking\"): _missing_label()\n",
    "\n",
    "def _missing_file(): ass.addLabel('pecking', 100, 200, 'non_existent_file.h5')\n",
    "with ExceptionExpected(ex=FileNotFoundError, regex=\"non_existent_file.h5\"): _missing_file()\n",
    "\n",
    "ass.addLabel('shaking', 10, 15, 'coordinates.h5')\n",
    "df = ass.to_df()\n",
    "\n",
    "df_expected = pd.DataFrame({'behavior': ['pecking', 'shaking'], 'start': [2, 10], 'end': [5, 15], 'file': ['coordinates.h5', 'coordinates.h5']})\n",
    "pd.testing.assert_frame_equal(df, df_expected)\n",
    "\n",
    "\n",
    "#ass.apply_labels(output_file)"
   ]
  },
  {
   "cell_type": "code",
   "execution_count": null,
   "metadata": {},
   "outputs": [],
   "source": []
  }
 ],
 "metadata": {
  "kernelspec": {
   "display_name": "Python 3",
   "language": "python",
   "name": "python3"
  }
 },
 "nbformat": 4,
 "nbformat_minor": 2
}
