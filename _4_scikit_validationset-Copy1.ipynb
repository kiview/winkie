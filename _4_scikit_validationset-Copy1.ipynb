{
 "cells": [
  {
   "cell_type": "markdown",
   "id": "regulation-relief",
   "metadata": {},
   "source": [
    "# RadmonForest classifier with validation set\n",
    "\n",
    "In order to more objectively assess the performance of our classifier, we will split-off a distinct validation set, consisting of 3 representative videos, that contain all behaviours to a useful degree. This also allows us to do a stratified train-test shuffle split, since we use the validation set to assess the actual performance."
   ]
  },
  {
   "cell_type": "code",
   "execution_count": null,
   "id": "planned-breathing",
   "metadata": {},
   "outputs": [],
   "source": [
    "from sklearn.ensemble import RandomForestClassifier\n",
    "import pandas as pd\n",
    "from sklearn.model_selection import train_test_split\n",
    "from sklearn import preprocessing, metrics\n",
    "import scikitplot as skplt\n",
    "from sklearn.metrics import classification_report\n",
    "import matplotlib.pyplot as plt\n",
    "from sklearn.metrics import roc_auc_score\n",
    "import pickle"
   ]
  },
  {
   "cell_type": "markdown",
   "id": "functional-offer",
   "metadata": {},
   "source": [
    "We import a labelled and norlazed frames. However, for now we removed all unlabelled frames, so that we don't end up with a huge imbalance on `not_defined` labels in our data set."
   ]
  },
  {
   "cell_type": "code",
   "execution_count": null,
   "id": "legendary-mounting",
   "metadata": {},
   "outputs": [
    {
     "data": {
      "text/html": [
       "<div>\n",
       "<style scoped>\n",
       "    .dataframe tbody tr th:only-of-type {\n",
       "        vertical-align: middle;\n",
       "    }\n",
       "\n",
       "    .dataframe tbody tr th {\n",
       "        vertical-align: top;\n",
       "    }\n",
       "\n",
       "    .dataframe thead tr th {\n",
       "        text-align: left;\n",
       "    }\n",
       "</style>\n",
       "<table border=\"1\" class=\"dataframe\">\n",
       "  <thead>\n",
       "    <tr>\n",
       "      <th>bodyparts</th>\n",
       "      <th colspan=\"3\" halign=\"left\">head</th>\n",
       "      <th colspan=\"3\" halign=\"left\">beak</th>\n",
       "      <th colspan=\"3\" halign=\"left\">left_neck</th>\n",
       "      <th>right_neck</th>\n",
       "      <th>...</th>\n",
       "      <th>body</th>\n",
       "      <th colspan=\"3\" halign=\"left\">tail</th>\n",
       "      <th colspan=\"2\" halign=\"left\">middle_neck</th>\n",
       "      <th>rotation_angle</th>\n",
       "      <th>file_name</th>\n",
       "      <th>frame</th>\n",
       "      <th>behavior</th>\n",
       "    </tr>\n",
       "    <tr>\n",
       "      <th>coords</th>\n",
       "      <th>x</th>\n",
       "      <th>y</th>\n",
       "      <th>likelihood</th>\n",
       "      <th>x</th>\n",
       "      <th>y</th>\n",
       "      <th>likelihood</th>\n",
       "      <th>x</th>\n",
       "      <th>y</th>\n",
       "      <th>likelihood</th>\n",
       "      <th>x</th>\n",
       "      <th>...</th>\n",
       "      <th>likelihood</th>\n",
       "      <th>x</th>\n",
       "      <th>y</th>\n",
       "      <th>likelihood</th>\n",
       "      <th>x</th>\n",
       "      <th>y</th>\n",
       "      <th></th>\n",
       "      <th></th>\n",
       "      <th></th>\n",
       "      <th></th>\n",
       "    </tr>\n",
       "  </thead>\n",
       "  <tbody>\n",
       "    <tr>\n",
       "      <th>34600</th>\n",
       "      <td>-6.256115</td>\n",
       "      <td>133.140698</td>\n",
       "      <td>0.998600</td>\n",
       "      <td>28.458820</td>\n",
       "      <td>157.263363</td>\n",
       "      <td>0.974056</td>\n",
       "      <td>39.766114</td>\n",
       "      <td>99.337532</td>\n",
       "      <td>1.000000</td>\n",
       "      <td>-39.766114</td>\n",
       "      <td>...</td>\n",
       "      <td>0.999989</td>\n",
       "      <td>16.614607</td>\n",
       "      <td>-106.037636</td>\n",
       "      <td>0.999988</td>\n",
       "      <td>-6.559721e-15</td>\n",
       "      <td>98.676032</td>\n",
       "      <td>-127.844964</td>\n",
       "      <td>233_1000ms_gopro_cut_day1DLC_resnet50_goprovrJ...</td>\n",
       "      <td>34600</td>\n",
       "      <td>head_shake</td>\n",
       "    </tr>\n",
       "    <tr>\n",
       "      <th>34601</th>\n",
       "      <td>3.769024</td>\n",
       "      <td>145.079564</td>\n",
       "      <td>0.992194</td>\n",
       "      <td>1.435601</td>\n",
       "      <td>168.635165</td>\n",
       "      <td>0.998704</td>\n",
       "      <td>39.091074</td>\n",
       "      <td>102.566764</td>\n",
       "      <td>0.999997</td>\n",
       "      <td>-39.091074</td>\n",
       "      <td>...</td>\n",
       "      <td>0.999955</td>\n",
       "      <td>17.690069</td>\n",
       "      <td>-106.504741</td>\n",
       "      <td>0.999975</td>\n",
       "      <td>6.983719e-15</td>\n",
       "      <td>101.558517</td>\n",
       "      <td>-127.805934</td>\n",
       "      <td>233_1000ms_gopro_cut_day1DLC_resnet50_goprovrJ...</td>\n",
       "      <td>34601</td>\n",
       "      <td>head_shake</td>\n",
       "    </tr>\n",
       "    <tr>\n",
       "      <th>34602</th>\n",
       "      <td>0.213448</td>\n",
       "      <td>148.213782</td>\n",
       "      <td>0.997358</td>\n",
       "      <td>-2.950560</td>\n",
       "      <td>176.568780</td>\n",
       "      <td>0.999940</td>\n",
       "      <td>39.161616</td>\n",
       "      <td>105.930661</td>\n",
       "      <td>0.999996</td>\n",
       "      <td>-39.161616</td>\n",
       "      <td>...</td>\n",
       "      <td>0.999971</td>\n",
       "      <td>19.303123</td>\n",
       "      <td>-104.565719</td>\n",
       "      <td>0.999963</td>\n",
       "      <td>1.584214e-14</td>\n",
       "      <td>104.192925</td>\n",
       "      <td>-128.614585</td>\n",
       "      <td>233_1000ms_gopro_cut_day1DLC_resnet50_goprovrJ...</td>\n",
       "      <td>34602</td>\n",
       "      <td>head_shake</td>\n",
       "    </tr>\n",
       "    <tr>\n",
       "      <th>34603</th>\n",
       "      <td>2.762456</td>\n",
       "      <td>147.657923</td>\n",
       "      <td>0.999761</td>\n",
       "      <td>525.309970</td>\n",
       "      <td>604.796841</td>\n",
       "      <td>0.860005</td>\n",
       "      <td>38.959007</td>\n",
       "      <td>106.304114</td>\n",
       "      <td>0.999999</td>\n",
       "      <td>-38.959007</td>\n",
       "      <td>...</td>\n",
       "      <td>0.999973</td>\n",
       "      <td>16.542397</td>\n",
       "      <td>-105.026859</td>\n",
       "      <td>0.999965</td>\n",
       "      <td>1.052610e-14</td>\n",
       "      <td>102.874054</td>\n",
       "      <td>-127.998885</td>\n",
       "      <td>233_1000ms_gopro_cut_day1DLC_resnet50_goprovrJ...</td>\n",
       "      <td>34603</td>\n",
       "      <td>head_shake</td>\n",
       "    </tr>\n",
       "    <tr>\n",
       "      <th>34604</th>\n",
       "      <td>2.196279</td>\n",
       "      <td>143.526230</td>\n",
       "      <td>0.997774</td>\n",
       "      <td>34.527160</td>\n",
       "      <td>149.529552</td>\n",
       "      <td>0.999838</td>\n",
       "      <td>39.876856</td>\n",
       "      <td>103.607613</td>\n",
       "      <td>1.000000</td>\n",
       "      <td>-39.876856</td>\n",
       "      <td>...</td>\n",
       "      <td>0.999987</td>\n",
       "      <td>19.000453</td>\n",
       "      <td>-110.547172</td>\n",
       "      <td>0.999992</td>\n",
       "      <td>-1.431422e-14</td>\n",
       "      <td>100.011360</td>\n",
       "      <td>-128.414942</td>\n",
       "      <td>233_1000ms_gopro_cut_day1DLC_resnet50_goprovrJ...</td>\n",
       "      <td>34604</td>\n",
       "      <td>head_shake</td>\n",
       "    </tr>\n",
       "    <tr>\n",
       "      <th>...</th>\n",
       "      <td>...</td>\n",
       "      <td>...</td>\n",
       "      <td>...</td>\n",
       "      <td>...</td>\n",
       "      <td>...</td>\n",
       "      <td>...</td>\n",
       "      <td>...</td>\n",
       "      <td>...</td>\n",
       "      <td>...</td>\n",
       "      <td>...</td>\n",
       "      <td>...</td>\n",
       "      <td>...</td>\n",
       "      <td>...</td>\n",
       "      <td>...</td>\n",
       "      <td>...</td>\n",
       "      <td>...</td>\n",
       "      <td>...</td>\n",
       "      <td>...</td>\n",
       "      <td>...</td>\n",
       "      <td>...</td>\n",
       "      <td>...</td>\n",
       "    </tr>\n",
       "    <tr>\n",
       "      <th>38031</th>\n",
       "      <td>4.897417</td>\n",
       "      <td>177.600705</td>\n",
       "      <td>0.999900</td>\n",
       "      <td>30.771665</td>\n",
       "      <td>203.767842</td>\n",
       "      <td>0.999990</td>\n",
       "      <td>40.332658</td>\n",
       "      <td>120.383899</td>\n",
       "      <td>0.999997</td>\n",
       "      <td>-40.332658</td>\n",
       "      <td>...</td>\n",
       "      <td>0.999998</td>\n",
       "      <td>30.366276</td>\n",
       "      <td>-111.999133</td>\n",
       "      <td>0.999990</td>\n",
       "      <td>2.690406e-14</td>\n",
       "      <td>125.305453</td>\n",
       "      <td>-133.738577</td>\n",
       "      <td>892_500ms_gopro_cut_day2DLC_resnet50_goprovrJu...</td>\n",
       "      <td>38031</td>\n",
       "      <td>head_shake</td>\n",
       "    </tr>\n",
       "    <tr>\n",
       "      <th>38032</th>\n",
       "      <td>1.005224</td>\n",
       "      <td>169.487090</td>\n",
       "      <td>0.999758</td>\n",
       "      <td>16.386927</td>\n",
       "      <td>209.473704</td>\n",
       "      <td>0.999982</td>\n",
       "      <td>40.241152</td>\n",
       "      <td>121.762393</td>\n",
       "      <td>0.999998</td>\n",
       "      <td>-40.241152</td>\n",
       "      <td>...</td>\n",
       "      <td>0.999998</td>\n",
       "      <td>26.714623</td>\n",
       "      <td>-110.071315</td>\n",
       "      <td>0.999994</td>\n",
       "      <td>2.121088e-14</td>\n",
       "      <td>125.353381</td>\n",
       "      <td>-132.919632</td>\n",
       "      <td>892_500ms_gopro_cut_day2DLC_resnet50_goprovrJu...</td>\n",
       "      <td>38032</td>\n",
       "      <td>head_shake</td>\n",
       "    </tr>\n",
       "    <tr>\n",
       "      <th>38033</th>\n",
       "      <td>1.033190</td>\n",
       "      <td>170.307134</td>\n",
       "      <td>0.999995</td>\n",
       "      <td>11.928434</td>\n",
       "      <td>205.935297</td>\n",
       "      <td>0.999999</td>\n",
       "      <td>41.282461</td>\n",
       "      <td>123.487411</td>\n",
       "      <td>1.000000</td>\n",
       "      <td>-41.282461</td>\n",
       "      <td>...</td>\n",
       "      <td>0.999998</td>\n",
       "      <td>29.245919</td>\n",
       "      <td>-108.853585</td>\n",
       "      <td>0.999989</td>\n",
       "      <td>3.990525e-15</td>\n",
       "      <td>128.161332</td>\n",
       "      <td>-133.700335</td>\n",
       "      <td>892_500ms_gopro_cut_day2DLC_resnet50_goprovrJu...</td>\n",
       "      <td>38033</td>\n",
       "      <td>head_shake</td>\n",
       "    </tr>\n",
       "    <tr>\n",
       "      <th>38034</th>\n",
       "      <td>-1.618751</td>\n",
       "      <td>173.363199</td>\n",
       "      <td>0.999999</td>\n",
       "      <td>16.374546</td>\n",
       "      <td>204.249601</td>\n",
       "      <td>1.000000</td>\n",
       "      <td>40.873566</td>\n",
       "      <td>124.888961</td>\n",
       "      <td>0.999999</td>\n",
       "      <td>-40.873566</td>\n",
       "      <td>...</td>\n",
       "      <td>0.999997</td>\n",
       "      <td>26.189131</td>\n",
       "      <td>-106.770526</td>\n",
       "      <td>0.999983</td>\n",
       "      <td>4.046852e-14</td>\n",
       "      <td>130.237987</td>\n",
       "      <td>-133.262292</td>\n",
       "      <td>892_500ms_gopro_cut_day2DLC_resnet50_goprovrJu...</td>\n",
       "      <td>38034</td>\n",
       "      <td>head_shake</td>\n",
       "    </tr>\n",
       "    <tr>\n",
       "      <th>38035</th>\n",
       "      <td>-3.469847</td>\n",
       "      <td>172.069851</td>\n",
       "      <td>1.000000</td>\n",
       "      <td>16.637790</td>\n",
       "      <td>200.859973</td>\n",
       "      <td>1.000000</td>\n",
       "      <td>41.394312</td>\n",
       "      <td>126.094337</td>\n",
       "      <td>0.999999</td>\n",
       "      <td>-41.394312</td>\n",
       "      <td>...</td>\n",
       "      <td>0.999999</td>\n",
       "      <td>25.777393</td>\n",
       "      <td>-109.251950</td>\n",
       "      <td>0.999992</td>\n",
       "      <td>-4.745602e-14</td>\n",
       "      <td>129.118538</td>\n",
       "      <td>-133.115777</td>\n",
       "      <td>892_500ms_gopro_cut_day2DLC_resnet50_goprovrJu...</td>\n",
       "      <td>38035</td>\n",
       "      <td>head_shake</td>\n",
       "    </tr>\n",
       "  </tbody>\n",
       "</table>\n",
       "<p>865548 rows × 42 columns</p>\n",
       "</div>"
      ],
      "text/plain": [
       "bodyparts      head                               beak                         \\\n",
       "coords            x           y likelihood           x           y likelihood   \n",
       "34600     -6.256115  133.140698   0.998600   28.458820  157.263363   0.974056   \n",
       "34601      3.769024  145.079564   0.992194    1.435601  168.635165   0.998704   \n",
       "34602      0.213448  148.213782   0.997358   -2.950560  176.568780   0.999940   \n",
       "34603      2.762456  147.657923   0.999761  525.309970  604.796841   0.860005   \n",
       "34604      2.196279  143.526230   0.997774   34.527160  149.529552   0.999838   \n",
       "...             ...         ...        ...         ...         ...        ...   \n",
       "38031      4.897417  177.600705   0.999900   30.771665  203.767842   0.999990   \n",
       "38032      1.005224  169.487090   0.999758   16.386927  209.473704   0.999982   \n",
       "38033      1.033190  170.307134   0.999995   11.928434  205.935297   0.999999   \n",
       "38034     -1.618751  173.363199   0.999999   16.374546  204.249601   1.000000   \n",
       "38035     -3.469847  172.069851   1.000000   16.637790  200.859973   1.000000   \n",
       "\n",
       "bodyparts  left_neck                        right_neck  ...       body  \\\n",
       "coords             x           y likelihood          x  ... likelihood   \n",
       "34600      39.766114   99.337532   1.000000 -39.766114  ...   0.999989   \n",
       "34601      39.091074  102.566764   0.999997 -39.091074  ...   0.999955   \n",
       "34602      39.161616  105.930661   0.999996 -39.161616  ...   0.999971   \n",
       "34603      38.959007  106.304114   0.999999 -38.959007  ...   0.999973   \n",
       "34604      39.876856  103.607613   1.000000 -39.876856  ...   0.999987   \n",
       "...              ...         ...        ...        ...  ...        ...   \n",
       "38031      40.332658  120.383899   0.999997 -40.332658  ...   0.999998   \n",
       "38032      40.241152  121.762393   0.999998 -40.241152  ...   0.999998   \n",
       "38033      41.282461  123.487411   1.000000 -41.282461  ...   0.999998   \n",
       "38034      40.873566  124.888961   0.999999 -40.873566  ...   0.999997   \n",
       "38035      41.394312  126.094337   0.999999 -41.394312  ...   0.999999   \n",
       "\n",
       "bodyparts       tail                          middle_neck              \\\n",
       "coords             x           y likelihood             x           y   \n",
       "34600      16.614607 -106.037636   0.999988 -6.559721e-15   98.676032   \n",
       "34601      17.690069 -106.504741   0.999975  6.983719e-15  101.558517   \n",
       "34602      19.303123 -104.565719   0.999963  1.584214e-14  104.192925   \n",
       "34603      16.542397 -105.026859   0.999965  1.052610e-14  102.874054   \n",
       "34604      19.000453 -110.547172   0.999992 -1.431422e-14  100.011360   \n",
       "...              ...         ...        ...           ...         ...   \n",
       "38031      30.366276 -111.999133   0.999990  2.690406e-14  125.305453   \n",
       "38032      26.714623 -110.071315   0.999994  2.121088e-14  125.353381   \n",
       "38033      29.245919 -108.853585   0.999989  3.990525e-15  128.161332   \n",
       "38034      26.189131 -106.770526   0.999983  4.046852e-14  130.237987   \n",
       "38035      25.777393 -109.251950   0.999992 -4.745602e-14  129.118538   \n",
       "\n",
       "bodyparts rotation_angle                                          file_name  \\\n",
       "coords                                                                        \n",
       "34600        -127.844964  233_1000ms_gopro_cut_day1DLC_resnet50_goprovrJ...   \n",
       "34601        -127.805934  233_1000ms_gopro_cut_day1DLC_resnet50_goprovrJ...   \n",
       "34602        -128.614585  233_1000ms_gopro_cut_day1DLC_resnet50_goprovrJ...   \n",
       "34603        -127.998885  233_1000ms_gopro_cut_day1DLC_resnet50_goprovrJ...   \n",
       "34604        -128.414942  233_1000ms_gopro_cut_day1DLC_resnet50_goprovrJ...   \n",
       "...                  ...                                                ...   \n",
       "38031        -133.738577  892_500ms_gopro_cut_day2DLC_resnet50_goprovrJu...   \n",
       "38032        -132.919632  892_500ms_gopro_cut_day2DLC_resnet50_goprovrJu...   \n",
       "38033        -133.700335  892_500ms_gopro_cut_day2DLC_resnet50_goprovrJu...   \n",
       "38034        -133.262292  892_500ms_gopro_cut_day2DLC_resnet50_goprovrJu...   \n",
       "38035        -133.115777  892_500ms_gopro_cut_day2DLC_resnet50_goprovrJu...   \n",
       "\n",
       "bodyparts  frame    behavior  \n",
       "coords                        \n",
       "34600      34600  head_shake  \n",
       "34601      34601  head_shake  \n",
       "34602      34602  head_shake  \n",
       "34603      34603  head_shake  \n",
       "34604      34604  head_shake  \n",
       "...          ...         ...  \n",
       "38031      38031  head_shake  \n",
       "38032      38032  head_shake  \n",
       "38033      38033  head_shake  \n",
       "38034      38034  head_shake  \n",
       "38035      38035  head_shake  \n",
       "\n",
       "[865548 rows x 42 columns]"
      ]
     },
     "execution_count": null,
     "metadata": {},
     "output_type": "execute_result"
    }
   ],
   "source": [
    "df = pd.read_hdf(\"merged_20210405.h5\")\n",
    "df = df[(df['behavior'] != \"not_defined\")]\n",
    "dfs"
   ]
  },
  {
   "cell_type": "markdown",
   "id": "extensive-monster",
   "metadata": {},
   "source": [
    "We have a set of files as distinct sessions results we hand-picked as our test-set, since they are representative of real worlds results and provide a good distribution of different behaviours."
   ]
  },
  {
   "cell_type": "code",
   "execution_count": null,
   "id": "lined-integral",
   "metadata": {},
   "outputs": [
    {
     "name": "stdout",
     "output_type": "stream",
     "text": [
      "Percentage of test frames of overall data set: 0.20230696785413652\n"
     ]
    }
   ],
   "source": [
    "test_files = [\n",
    "    \"233_monhab_gopro_cut_day1DLC_resnet50_goprovrJul24shuffle1_1030000.h5\",\n",
    "    \"877_100ms_gopro_cut_day3DLC_resnet50_goprovrJul24shuffle1_1030000.h5\",\n",
    "    \n",
    "    \"251_100ms_gopro_cut_day4DLC_resnet50_goprovrJul24shuffle1_1030000.h5\",\n",
    "    \"418_500ms_gopro_cut_day1DLC_resnet50_goprovrJul24shuffle1_1030000.h5\",\n",
    "]\n",
    "\n",
    "df_test = df[df['file_name'].isin(test_files)]\n",
    "df_train_valid = df[~df['file_name'].isin(test_files)]\n",
    "\n",
    "test_share = len(df_test) / len(df_train_valid)\n",
    "print(f\"Percentage of test frames of overall data set: {test_share}\")"
   ]
  },
  {
   "cell_type": "markdown",
   "id": "proper-judge",
   "metadata": {},
   "source": [
    "The 2D coordinates of all bodyparts are used as features. We specify them manually, since the data frame also contains other data and pre-aggregated data from pre-processing steps. \n",
    "\n",
    "Train- and validation-set are taken and split from the remaining data in a random fashion, excluding the frames taken for the test-set."
   ]
  },
  {
   "cell_type": "code",
   "execution_count": null,
   "id": "medieval-feeding",
   "metadata": {},
   "outputs": [],
   "source": [
    "features = [('head', 'x'), ('head', 'y'), \n",
    "            ('tail', 'x'), ('tail', 'y'),  \n",
    "            \n",
    "            ('left_neck', 'x'), ('left_neck', 'y'), \n",
    "            ('right_neck', 'x'), ('right_neck', 'y'), \n",
    "            \n",
    "            ('left_up_wing', 'x'), ('left_up_wing', 'y'),\n",
    "            ('left_middle_wing', 'x'), ('left_middle_wing', 'y'),\n",
    "            ('left_down_wing', 'x'), ('left_down_wing', 'y'),\n",
    "            \n",
    "            ('right_up_wing', 'x'), ('right_up_wing', 'y'),\n",
    "            ('right_middle_wing', 'x'), ('right_middle_wing', 'y'),\n",
    "            ('right_down_wing', 'x'), ('right_down_wing', 'y'),\n",
    "]\n",
    "\n",
    "y = df_train_valid['behavior']\n",
    "x = df_train_valid[features].values\n",
    "\n",
    "x_train, x_valid, y_train, y_valid = train_test_split(x, y, test_size = 0.2, random_state=13)\n",
    "\n",
    "x_test = df_test[features].values\n",
    "y_test = df_test['behavior']"
   ]
  },
  {
   "cell_type": "markdown",
   "id": "changed-switzerland",
   "metadata": {},
   "source": [
    "`RandomForestClassifier` is trained in its default configuration. This means e.g. 100 trees in the forest (which is the default) and same class weights for all classes."
   ]
  },
  {
   "cell_type": "code",
   "execution_count": null,
   "id": "ancient-campus",
   "metadata": {},
   "outputs": [
    {
     "name": "stderr",
     "output_type": "stream",
     "text": [
      "[Parallel(n_jobs=1)]: Using backend SequentialBackend with 1 concurrent workers.\n",
      "[Parallel(n_jobs=1)]: Done 100 out of 100 | elapsed: 17.6min finished\n"
     ]
    },
    {
     "data": {
      "text/plain": [
       "RandomForestClassifier(random_state=0, verbose=1)"
      ]
     },
     "execution_count": null,
     "metadata": {},
     "output_type": "execute_result"
    }
   ],
   "source": [
    "clf = RandomForestClassifier(random_state=0, verbose=1)\n",
    "clf.fit(x_train, y_train)"
   ]
  },
  {
   "cell_type": "code",
   "execution_count": null,
   "id": "interesting-assist",
   "metadata": {},
   "outputs": [],
   "source": [
    "filename = 'random_forest20210517.sav'\n",
    "pickle.dump(clf, open(filename, 'wb'))"
   ]
  },
  {
   "cell_type": "markdown",
   "id": "legal-lawsuit",
   "metadata": {},
   "source": [
    "## Performance on validation set"
   ]
  },
  {
   "cell_type": "code",
   "execution_count": null,
   "id": "corresponding-neutral",
   "metadata": {},
   "outputs": [
    {
     "name": "stderr",
     "output_type": "stream",
     "text": [
      "[Parallel(n_jobs=1)]: Using backend SequentialBackend with 1 concurrent workers.\n",
      "[Parallel(n_jobs=1)]: Done 100 out of 100 | elapsed:    3.9s finished\n"
     ]
    },
    {
     "name": "stdout",
     "output_type": "stream",
     "text": [
      "                   precision    recall  f1-score   support\n",
      "\n",
      "    back_preening       0.98      0.98      0.98      3960\n",
      "        body_pump       0.92      0.85      0.89      1209\n",
      "           eating       1.00      1.00      1.00     57342\n",
      " feather_clapping       0.93      0.97      0.95      3807\n",
      "   front_preening       0.98      0.99      0.98      7524\n",
      "       head_shake       0.99      0.81      0.89      1647\n",
      "scratch_with_feet       0.99      0.97      0.98       797\n",
      "         standing       0.99      1.00      0.99     61044\n",
      " standing_shaking       0.98      0.99      0.99      1713\n",
      "       tail_shake       0.98      0.78      0.87      1231\n",
      "          walking       0.96      0.95      0.95      3708\n",
      "\n",
      "         accuracy                           0.99    143982\n",
      "        macro avg       0.97      0.94      0.95    143982\n",
      "     weighted avg       0.99      0.99      0.99    143982\n",
      "\n"
     ]
    },
    {
     "name": "stderr",
     "output_type": "stream",
     "text": [
      "[Parallel(n_jobs=1)]: Using backend SequentialBackend with 1 concurrent workers.\n",
      "[Parallel(n_jobs=1)]: Done 100 out of 100 | elapsed:    3.9s finished\n"
     ]
    },
    {
     "name": "stdout",
     "output_type": "stream",
     "text": [
      "0.9984338658179677\n"
     ]
    }
   ],
   "source": [
    "predictions = clf.predict(x_valid)\n",
    "print(classification_report(y_valid, predictions))\n",
    "print(roc_auc_score(y_valid, clf.predict_proba(x_valid), multi_class='ovo', average='macro'))"
   ]
  },
  {
   "cell_type": "markdown",
   "id": "incorrect-photographer",
   "metadata": {},
   "source": [
    "## Performance on test set"
   ]
  },
  {
   "cell_type": "code",
   "execution_count": null,
   "id": "charming-beaver",
   "metadata": {},
   "outputs": [
    {
     "name": "stderr",
     "output_type": "stream",
     "text": [
      "[Parallel(n_jobs=1)]: Using backend SequentialBackend with 1 concurrent workers.\n",
      "[Parallel(n_jobs=1)]: Done 100 out of 100 | elapsed:    2.9s finished\n"
     ]
    },
    {
     "name": "stdout",
     "output_type": "stream",
     "text": [
      "                   precision    recall  f1-score   support\n",
      "\n",
      "    back_preening       0.55      0.77      0.64      2168\n",
      "        body_pump       0.25      0.35      0.29       355\n",
      "           eating       0.98      0.93      0.96     69125\n",
      " feather_clapping       0.55      0.63      0.59      2263\n",
      "   front_preening       0.29      0.51      0.37      4770\n",
      "       head_shake       0.11      0.21      0.14       537\n",
      "scratch_with_feet       0.23      0.01      0.02      1338\n",
      "         standing       0.86      0.88      0.87     54374\n",
      " standing_shaking       0.03      0.00      0.00       401\n",
      "       tail_shake       0.62      0.52      0.57       483\n",
      "          walking       0.53      0.44      0.48      9828\n",
      "\n",
      "         accuracy                           0.84    145642\n",
      "        macro avg       0.45      0.48      0.45    145642\n",
      "     weighted avg       0.85      0.84      0.84    145642\n",
      "\n"
     ]
    },
    {
     "name": "stderr",
     "output_type": "stream",
     "text": [
      "[Parallel(n_jobs=1)]: Using backend SequentialBackend with 1 concurrent workers.\n",
      "[Parallel(n_jobs=1)]: Done 100 out of 100 | elapsed:    2.9s finished\n"
     ]
    },
    {
     "name": "stdout",
     "output_type": "stream",
     "text": [
      "0.8605790078606032\n"
     ]
    }
   ],
   "source": [
    "predictions = clf.predict(x_test)\n",
    "print(classification_report(y_test, predictions))\n",
    "print(roc_auc_score(y_test, clf.predict_proba(x_test), multi_class='ovo', average='macro'))"
   ]
  },
  {
   "cell_type": "code",
   "execution_count": null,
   "id": "distributed-bacon",
   "metadata": {},
   "outputs": [
    {
     "data": {
      "text/plain": [
       "<AxesSubplot:title={'center':'Confusion Matrix'}, xlabel='Predicted label', ylabel='True label'>"
      ]
     },
     "execution_count": null,
     "metadata": {},
     "output_type": "execute_result"
    },
    {
     "data": {
      "image/png": "[encoded data removed]",
      "text/plain": [
       "<Figure size 1080x1080 with 2 Axes>"
      ]
     },
     "metadata": {
      "needs_background": "light"
     },
     "output_type": "display_data"
    }
   ],
   "source": [
    "skplt.metrics.plot_confusion_matrix(y_test, predictions, figsize=(15, 15))  "
   ]
  },
  {
   "cell_type": "code",
   "execution_count": null,
   "id": "departmental-concept",
   "metadata": {},
   "outputs": [
    {
     "data": {
      "text/plain": [
       "<AxesSubplot:title={'center':'Normalized Confusion Matrix'}, xlabel='Predicted label', ylabel='True label'>"
      ]
     },
     "execution_count": null,
     "metadata": {},
     "output_type": "execute_result"
    },
    {
     "data": {
      "image/png": "[encoded data removed]",
      "text/plain": [
       "<Figure size 1080x1080 with 2 Axes>"
      ]
     },
     "metadata": {
      "needs_background": "light"
     },
     "output_type": "display_data"
    }
   ],
   "source": [
    "skplt.metrics.plot_confusion_matrix(y_test, predictions, figsize=(15, 15), normalize=True)  "
   ]
  },
  {
   "cell_type": "markdown",
   "id": "major-updating",
   "metadata": {},
   "source": [
    "# Using class weights\n",
    "We use again random forest, but this use class weights to combat the unbalanced data."
   ]
  },
  {
   "cell_type": "code",
   "execution_count": null,
   "id": "accomplished-journal",
   "metadata": {},
   "outputs": [
    {
     "name": "stdout",
     "output_type": "stream",
     "text": [
      "                   precision    recall  f1-score   support\n",
      "\n",
      "    back_preening       0.98      0.98      0.98      3960\n",
      "        body_pump       0.93      0.84      0.89      1209\n",
      "           eating       1.00      1.00      1.00     57342\n",
      " feather_clapping       0.93      0.98      0.95      3807\n",
      "   front_preening       0.99      0.98      0.99      7524\n",
      "       head_shake       1.00      0.80      0.89      1647\n",
      "scratch_with_feet       1.00      0.97      0.99       797\n",
      "         standing       0.99      1.00      0.99     61044\n",
      " standing_shaking       0.98      0.98      0.98      1713\n",
      "       tail_shake       0.98      0.78      0.87      1231\n",
      "          walking       0.97      0.94      0.95      3708\n",
      "\n",
      "         accuracy                           0.99    143982\n",
      "        macro avg       0.98      0.93      0.95    143982\n",
      "     weighted avg       0.99      0.99      0.99    143982\n",
      "\n",
      "                   precision    recall  f1-score   support\n",
      "\n",
      "    back_preening       0.63      0.79      0.70      2168\n",
      "        body_pump       0.23      0.35      0.28       355\n",
      "           eating       0.98      0.93      0.96     69125\n",
      " feather_clapping       0.58      0.61      0.59      2263\n",
      "   front_preening       0.30      0.45      0.36      4770\n",
      "       head_shake       0.17      0.16      0.16       537\n",
      "scratch_with_feet       0.44      0.04      0.07      1338\n",
      "         standing       0.83      0.92      0.87     54374\n",
      " standing_shaking       0.00      0.00      0.00       401\n",
      "       tail_shake       0.60      0.45      0.51       483\n",
      "          walking       0.59      0.36      0.45      9828\n",
      "\n",
      "         accuracy                           0.85    145642\n",
      "        macro avg       0.49      0.46      0.45    145642\n",
      "     weighted avg       0.85      0.85      0.85    145642\n",
      "\n"
     ]
    }
   ],
   "source": [
    "clf_cw = RandomForestClassifier(random_state=0, class_weight='balanced')\n",
    "clf_cw.fit(x_train, y_train)\n",
    "\n",
    "predictions = clf_cw.predict(x_valid)\n",
    "print(classification_report(y_valid, predictions))\n",
    "\n",
    "predictions = clf_cw.predict(x_test)\n",
    "print(classification_report(y_test, predictions))"
   ]
  },
  {
   "cell_type": "code",
   "execution_count": null,
   "id": "governing-receptor",
   "metadata": {},
   "outputs": [
    {
     "name": "stdout",
     "output_type": "stream",
     "text": [
      "0.863026631069238\n"
     ]
    }
   ],
   "source": [
    "print(roc_auc_score(y_test, clf_cw.predict_proba(x_test), multi_class='ovo', average='macro'))"
   ]
  },
  {
   "cell_type": "markdown",
   "id": "front-conflict",
   "metadata": {},
   "source": [
    "# Multi-frame Classification (8 frames)\n",
    "\n",
    "This will use the same approach and models as the previous runs, but this time, transform multiple frames into feature dimensions (`noFrames * noFeatures = dim(inputVector)`). \n",
    "\n",
    "The modal of the multi-frame label vector is used to label the time slice (aka dominant behaviour in time slice)."
   ]
  },
  {
   "cell_type": "code",
   "execution_count": null,
   "id": "continued-marking",
   "metadata": {},
   "outputs": [],
   "source": [
    "from tsai.all import *"
   ]
  },
  {
   "cell_type": "code",
   "execution_count": null,
   "id": "corporate-carol",
   "metadata": {},
   "outputs": [],
   "source": [
    "def y_func(o): \n",
    "    return scipy.stats.mode(o, axis=1).mode.ravel()\n",
    "\n",
    "x_ts, y_ts = SlidingWindow(8, get_x=features, get_y='behavior', y_func=y_func)(df_train_valid)\n",
    "x_test_ts, y_test_ts = SlidingWindow(8, get_x=features, get_y='behavior', y_func=y_func)(df_test)"
   ]
  },
  {
   "cell_type": "code",
   "execution_count": null,
   "id": "funny-anniversary",
   "metadata": {},
   "outputs": [],
   "source": [
    "x_ts = x_ts.reshape((-1, x_ts.shape[1] * x_ts.shape[2]))"
   ]
  },
  {
   "cell_type": "code",
   "execution_count": null,
   "id": "liable-karma",
   "metadata": {},
   "outputs": [],
   "source": [
    "x_test_ts = x_test_ts.reshape((-1, x_test_ts.shape[1] * x_test_ts.shape[2]))"
   ]
  },
  {
   "cell_type": "code",
   "execution_count": null,
   "id": "exciting-billy",
   "metadata": {},
   "outputs": [],
   "source": [
    "x_ts_train, x_ts_valid, y_ts_train, y_ts_valid = train_test_split(x_ts, y_ts, test_size = 0.2, random_state=13)"
   ]
  },
  {
   "cell_type": "code",
   "execution_count": null,
   "id": "japanese-generic",
   "metadata": {},
   "outputs": [
    {
     "name": "stderr",
     "output_type": "stream",
     "text": [
      "[Parallel(n_jobs=1)]: Using backend SequentialBackend with 1 concurrent workers.\n",
      "[Parallel(n_jobs=1)]: Done 100 out of 100 | elapsed: 78.7min finished\n"
     ]
    },
    {
     "data": {
      "text/plain": [
       "RandomForestClassifier(random_state=0, verbose=1)"
      ]
     },
     "execution_count": null,
     "metadata": {},
     "output_type": "execute_result"
    }
   ],
   "source": [
    "clf_ts = RandomForestClassifier(random_state=0, verbose=1)\n",
    "clf_ts.fit(x_ts_train, y_ts_train)"
   ]
  },
  {
   "cell_type": "code",
   "execution_count": null,
   "id": "reliable-february",
   "metadata": {},
   "outputs": [
    {
     "name": "stderr",
     "output_type": "stream",
     "text": [
      "[Parallel(n_jobs=1)]: Using backend SequentialBackend with 1 concurrent workers.\n",
      "[Parallel(n_jobs=1)]: Done 100 out of 100 | elapsed:    5.5s finished\n"
     ]
    },
    {
     "name": "stdout",
     "output_type": "stream",
     "text": [
      "                   precision    recall  f1-score   support\n",
      "\n",
      "    back_preening       0.96      0.97      0.97      3826\n",
      "        body_pump       0.91      0.80      0.85      1191\n",
      "           eating       1.00      1.00      1.00     57408\n",
      " feather_clapping       0.88      0.97      0.92      3746\n",
      "   front_preening       0.98      0.98      0.98      7585\n",
      "       head_shake       0.95      0.75      0.84      1645\n",
      "scratch_with_feet       0.99      0.92      0.95       805\n",
      "         standing       0.99      1.00      0.99     61110\n",
      " standing_shaking       0.99      0.99      0.99      1711\n",
      "       tail_shake       0.96      0.72      0.82      1230\n",
      "          walking       0.96      0.94      0.95      3723\n",
      "\n",
      "         accuracy                           0.99    143980\n",
      "        macro avg       0.96      0.91      0.93    143980\n",
      "     weighted avg       0.99      0.99      0.99    143980\n",
      "\n"
     ]
    },
    {
     "name": "stderr",
     "output_type": "stream",
     "text": [
      "[Parallel(n_jobs=1)]: Using backend SequentialBackend with 1 concurrent workers.\n",
      "[Parallel(n_jobs=1)]: Done 100 out of 100 | elapsed:    4.0s finished\n"
     ]
    },
    {
     "name": "stdout",
     "output_type": "stream",
     "text": [
      "                   precision    recall  f1-score   support\n",
      "\n",
      "    back_preening       0.61      0.82      0.70      2168\n",
      "        body_pump       0.27      0.41      0.32       355\n",
      "           eating       0.98      0.93      0.96     69117\n",
      " feather_clapping       0.61      0.65      0.63      2263\n",
      "   front_preening       0.31      0.55      0.39      4770\n",
      "       head_shake       0.13      0.16      0.14       537\n",
      "scratch_with_feet       0.28      0.01      0.02      1338\n",
      "         standing       0.85      0.88      0.87     54374\n",
      " standing_shaking       0.00      0.00      0.00       401\n",
      "       tail_shake       0.80      0.52      0.63       483\n",
      "          walking       0.52      0.44      0.47      9828\n",
      "\n",
      "         accuracy                           0.84    145634\n",
      "        macro avg       0.49      0.49      0.47    145634\n",
      "     weighted avg       0.85      0.84      0.84    145634\n",
      "\n"
     ]
    }
   ],
   "source": [
    "predictions = clf_ts.predict(x_ts_valid)\n",
    "print(classification_report(y_ts_valid, predictions))\n",
    "\n",
    "predictions = clf_ts.predict(x_test_ts)\n",
    "print(classification_report(y_test_ts, predictions))"
   ]
  },
  {
   "cell_type": "code",
   "execution_count": null,
   "id": "received-visiting",
   "metadata": {},
   "outputs": [],
   "source": [
    "pickle.dump(clf_ts, open(\"random_forest_8\", 'wb'))"
   ]
  },
  {
   "cell_type": "code",
   "execution_count": null,
   "id": "sixth-significance",
   "metadata": {},
   "outputs": [
    {
     "name": "stderr",
     "output_type": "stream",
     "text": [
      "[Parallel(n_jobs=1)]: Using backend SequentialBackend with 1 concurrent workers.\n",
      "[Parallel(n_jobs=1)]: Done 100 out of 100 | elapsed:    3.7s finished\n"
     ]
    },
    {
     "name": "stdout",
     "output_type": "stream",
     "text": [
      "0.8619411580993238\n"
     ]
    }
   ],
   "source": [
    "print(roc_auc_score(y_test_ts, clf_ts.predict_proba(x_test_ts), multi_class='ovo', average='macro'))"
   ]
  },
  {
   "cell_type": "markdown",
   "id": "killing-makeup",
   "metadata": {},
   "source": [
    "## 16 Frames"
   ]
  },
  {
   "cell_type": "code",
   "execution_count": null,
   "id": "russian-adrian",
   "metadata": {},
   "outputs": [
    {
     "name": "stderr",
     "output_type": "stream",
     "text": [
      "[Parallel(n_jobs=1)]: Using backend SequentialBackend with 1 concurrent workers.\n",
      "[Parallel(n_jobs=1)]: Done 100 out of 100 | elapsed: 119.1min finished\n",
      "[Parallel(n_jobs=1)]: Using backend SequentialBackend with 1 concurrent workers.\n",
      "[Parallel(n_jobs=1)]: Done 100 out of 100 | elapsed:    6.8s finished\n"
     ]
    },
    {
     "name": "stdout",
     "output_type": "stream",
     "text": [
      "                   precision    recall  f1-score   support\n",
      "\n",
      "    back_preening       0.96      0.97      0.97      3840\n",
      "        body_pump       0.92      0.80      0.86      1144\n",
      "           eating       1.00      1.00      1.00     57550\n",
      " feather_clapping       0.89      0.97      0.93      3901\n",
      "   front_preening       0.98      0.98      0.98      7610\n",
      "       head_shake       0.97      0.77      0.86      1653\n",
      "scratch_with_feet       0.98      0.94      0.96       794\n",
      "         standing       0.99      1.00      0.99     60819\n",
      " standing_shaking       0.99      0.99      0.99      1676\n",
      "       tail_shake       0.98      0.74      0.84      1197\n",
      "          walking       0.97      0.96      0.97      3794\n",
      "\n",
      "         accuracy                           0.99    143978\n",
      "        macro avg       0.97      0.92      0.94    143978\n",
      "     weighted avg       0.99      0.99      0.99    143978\n",
      "\n"
     ]
    },
    {
     "name": "stderr",
     "output_type": "stream",
     "text": [
      "[Parallel(n_jobs=1)]: Using backend SequentialBackend with 1 concurrent workers.\n",
      "[Parallel(n_jobs=1)]: Done 100 out of 100 | elapsed:    4.6s finished\n"
     ]
    },
    {
     "name": "stdout",
     "output_type": "stream",
     "text": [
      "                   precision    recall  f1-score   support\n",
      "\n",
      "    back_preening       0.66      0.83      0.73      2168\n",
      "        body_pump       0.29      0.43      0.34       355\n",
      "           eating       0.98      0.93      0.95     69109\n",
      " feather_clapping       0.60      0.66      0.63      2263\n",
      "   front_preening       0.30      0.56      0.39      4770\n",
      "       head_shake       0.16      0.11      0.13       537\n",
      "scratch_with_feet       0.00      0.00      0.00      1338\n",
      "         standing       0.85      0.89      0.87     54374\n",
      " standing_shaking       0.00      0.00      0.00       401\n",
      "       tail_shake       0.80      0.43      0.56       483\n",
      "          walking       0.56      0.44      0.49      9828\n",
      "\n",
      "         accuracy                           0.85    145626\n",
      "        macro avg       0.47      0.48      0.46    145626\n",
      "     weighted avg       0.85      0.85      0.85    145626\n",
      "\n"
     ]
    },
    {
     "name": "stderr",
     "output_type": "stream",
     "text": [
      "[Parallel(n_jobs=1)]: Using backend SequentialBackend with 1 concurrent workers.\n",
      "[Parallel(n_jobs=1)]: Done 100 out of 100 | elapsed:    4.6s finished\n"
     ]
    },
    {
     "name": "stdout",
     "output_type": "stream",
     "text": [
      "0.8540550034252832\n"
     ]
    }
   ],
   "source": [
    "def y_func(o): \n",
    "    return scipy.stats.mode(o, axis=1).mode.ravel()\n",
    "\n",
    "x_ts, y_ts = SlidingWindow(16, get_x=features, get_y='behavior', y_func=y_func)(df_train_valid)\n",
    "x_test_ts, y_test_ts = SlidingWindow(16, get_x=features, get_y='behavior', y_func=y_func)(df_test)\n",
    "x_ts = x_ts.reshape((-1, x_ts.shape[1] * x_ts.shape[2]))\n",
    "x_test_ts = x_test_ts.reshape((-1, x_test_ts.shape[1] * x_test_ts.shape[2]))\n",
    "x_ts_train, x_ts_valid, y_ts_train, y_ts_valid = train_test_split(x_ts, y_ts, test_size = 0.2, random_state=13)\n",
    "\n",
    "clf_ts = RandomForestClassifier(random_state=0, verbose=1)\n",
    "clf_ts.fit(x_ts_train, y_ts_train)\n",
    "\n",
    "predictions = clf_ts.predict(x_ts_valid)\n",
    "print(classification_report(y_ts_valid, predictions))\n",
    "\n",
    "predictions = clf_ts.predict(x_test_ts)\n",
    "print(classification_report(y_test_ts, predictions))\n",
    "\n",
    "print(roc_auc_score(y_test_ts, clf_ts.predict_proba(x_test_ts), multi_class='ovo', average='macro'))\n",
    "\n",
    "pickle.dump(clf_ts, open(\"random_forest_16\", 'wb'))"
   ]
  },
  {
   "cell_type": "code",
   "execution_count": null,
   "id": "given-possibility",
   "metadata": {},
   "outputs": [
    {
     "name": "stdout",
     "output_type": "stream",
     "text": [
      "========================================\n",
      "233_monhab_gopro_cut_day1DLC_resnet50_goprovrJul24shuffle1_1030000.h5\n"
     ]
    },
    {
     "name": "stderr",
     "output_type": "stream",
     "text": [
      "[Parallel(n_jobs=1)]: Using backend SequentialBackend with 1 concurrent workers.\n",
      "[Parallel(n_jobs=1)]: Done 100 out of 100 | elapsed:    3.0s finished\n",
      "c:\\users\\kevin\\.virtualenvs\\winkie-tu0wptfo\\lib\\site-packages\\sklearn\\metrics\\_classification.py:1245: UndefinedMetricWarning: Recall and F-score are ill-defined and being set to 0.0 in labels with no true samples. Use `zero_division` parameter to control this behavior.\n",
      "  _warn_prf(average, modifier, msg_start, len(result))\n",
      "c:\\users\\kevin\\.virtualenvs\\winkie-tu0wptfo\\lib\\site-packages\\sklearn\\metrics\\_classification.py:1245: UndefinedMetricWarning: Recall and F-score are ill-defined and being set to 0.0 in labels with no true samples. Use `zero_division` parameter to control this behavior.\n",
      "  _warn_prf(average, modifier, msg_start, len(result))\n",
      "c:\\users\\kevin\\.virtualenvs\\winkie-tu0wptfo\\lib\\site-packages\\sklearn\\metrics\\_classification.py:1245: UndefinedMetricWarning: Recall and F-score are ill-defined and being set to 0.0 in labels with no true samples. Use `zero_division` parameter to control this behavior.\n",
      "  _warn_prf(average, modifier, msg_start, len(result))\n"
     ]
    },
    {
     "name": "stdout",
     "output_type": "stream",
     "text": [
      "                   precision    recall  f1-score   support\n",
      "\n",
      "    back_preening       0.00      0.00      0.00         0\n",
      "        body_pump       1.00      0.03      0.05       199\n",
      "           eating       0.98      0.89      0.94     43460\n",
      " feather_clapping       0.00      0.00      0.00         0\n",
      "   front_preening       0.11      0.20      0.14      1221\n",
      "       head_shake       0.00      0.00      0.00        80\n",
      "scratch_with_feet       0.00      0.00      0.00         0\n",
      "         standing       0.80      0.92      0.86     21866\n",
      " standing_shaking       0.00      0.00      0.00         0\n",
      "       tail_shake       0.00      0.00      0.00         0\n",
      "          walking       0.33      0.22      0.27      3741\n",
      "\n",
      "         accuracy                           0.85     70567\n",
      "        macro avg       0.29      0.21      0.20     70567\n",
      "     weighted avg       0.88      0.85      0.86     70567\n",
      "\n",
      "========================================\n",
      "========================================\n",
      "877_100ms_gopro_cut_day3DLC_resnet50_goprovrJul24shuffle1_1030000.h5\n"
     ]
    },
    {
     "name": "stderr",
     "output_type": "stream",
     "text": [
      "[Parallel(n_jobs=1)]: Using backend SequentialBackend with 1 concurrent workers.\n",
      "[Parallel(n_jobs=1)]: Done 100 out of 100 | elapsed:    2.7s finished\n",
      "c:\\users\\kevin\\.virtualenvs\\winkie-tu0wptfo\\lib\\site-packages\\sklearn\\metrics\\_classification.py:1245: UndefinedMetricWarning: Recall and F-score are ill-defined and being set to 0.0 in labels with no true samples. Use `zero_division` parameter to control this behavior.\n",
      "  _warn_prf(average, modifier, msg_start, len(result))\n",
      "c:\\users\\kevin\\.virtualenvs\\winkie-tu0wptfo\\lib\\site-packages\\sklearn\\metrics\\_classification.py:1245: UndefinedMetricWarning: Recall and F-score are ill-defined and being set to 0.0 in labels with no true samples. Use `zero_division` parameter to control this behavior.\n",
      "  _warn_prf(average, modifier, msg_start, len(result))\n",
      "c:\\users\\kevin\\.virtualenvs\\winkie-tu0wptfo\\lib\\site-packages\\sklearn\\metrics\\_classification.py:1245: UndefinedMetricWarning: Recall and F-score are ill-defined and being set to 0.0 in labels with no true samples. Use `zero_division` parameter to control this behavior.\n",
      "  _warn_prf(average, modifier, msg_start, len(result))\n",
      "[Parallel(n_jobs=1)]: Using backend SequentialBackend with 1 concurrent workers.\n"
     ]
    },
    {
     "name": "stdout",
     "output_type": "stream",
     "text": [
      "                   precision    recall  f1-score   support\n",
      "\n",
      "    back_preening       0.59      0.89      0.71       618\n",
      "        body_pump       0.30      0.95      0.45       156\n",
      "           eating       0.99      0.99      0.99     25633\n",
      " feather_clapping       0.84      0.65      0.73      2172\n",
      "   front_preening       0.22      0.60      0.32      1564\n",
      "       head_shake       0.09      0.09      0.09       296\n",
      "scratch_with_feet       0.00      0.00      0.00      1002\n",
      "         standing       0.89      0.87      0.88     32508\n",
      " standing_shaking       0.00      0.00      0.00         0\n",
      "       tail_shake       0.43      0.15      0.22       134\n",
      "          walking       0.69      0.58      0.63      6087\n",
      "\n",
      "         accuracy                           0.86     70170\n",
      "        macro avg       0.46      0.52      0.46     70170\n",
      "     weighted avg       0.87      0.86      0.86     70170\n",
      "\n",
      "========================================\n",
      "========================================\n",
      "251_100ms_gopro_cut_day4DLC_resnet50_goprovrJul24shuffle1_1030000.h5\n"
     ]
    },
    {
     "name": "stderr",
     "output_type": "stream",
     "text": [
      "[Parallel(n_jobs=1)]: Done 100 out of 100 | elapsed:    0.0s finished\n",
      "c:\\users\\kevin\\.virtualenvs\\winkie-tu0wptfo\\lib\\site-packages\\sklearn\\metrics\\_classification.py:1245: UndefinedMetricWarning: Precision and F-score are ill-defined and being set to 0.0 in labels with no predicted samples. Use `zero_division` parameter to control this behavior.\n",
      "  _warn_prf(average, modifier, msg_start, len(result))\n",
      "c:\\users\\kevin\\.virtualenvs\\winkie-tu0wptfo\\lib\\site-packages\\sklearn\\metrics\\_classification.py:1245: UndefinedMetricWarning: Recall and F-score are ill-defined and being set to 0.0 in labels with no true samples. Use `zero_division` parameter to control this behavior.\n",
      "  _warn_prf(average, modifier, msg_start, len(result))\n",
      "c:\\users\\kevin\\.virtualenvs\\winkie-tu0wptfo\\lib\\site-packages\\sklearn\\metrics\\_classification.py:1245: UndefinedMetricWarning: Precision and F-score are ill-defined and being set to 0.0 in labels with no predicted samples. Use `zero_division` parameter to control this behavior.\n",
      "  _warn_prf(average, modifier, msg_start, len(result))\n",
      "c:\\users\\kevin\\.virtualenvs\\winkie-tu0wptfo\\lib\\site-packages\\sklearn\\metrics\\_classification.py:1245: UndefinedMetricWarning: Recall and F-score are ill-defined and being set to 0.0 in labels with no true samples. Use `zero_division` parameter to control this behavior.\n",
      "  _warn_prf(average, modifier, msg_start, len(result))\n",
      "c:\\users\\kevin\\.virtualenvs\\winkie-tu0wptfo\\lib\\site-packages\\sklearn\\metrics\\_classification.py:1245: UndefinedMetricWarning: Precision and F-score are ill-defined and being set to 0.0 in labels with no predicted samples. Use `zero_division` parameter to control this behavior.\n",
      "  _warn_prf(average, modifier, msg_start, len(result))\n",
      "c:\\users\\kevin\\.virtualenvs\\winkie-tu0wptfo\\lib\\site-packages\\sklearn\\metrics\\_classification.py:1245: UndefinedMetricWarning: Recall and F-score are ill-defined and being set to 0.0 in labels with no true samples. Use `zero_division` parameter to control this behavior.\n",
      "  _warn_prf(average, modifier, msg_start, len(result))\n",
      "[Parallel(n_jobs=1)]: Using backend SequentialBackend with 1 concurrent workers.\n"
     ]
    },
    {
     "name": "stdout",
     "output_type": "stream",
     "text": [
      "                   precision    recall  f1-score   support\n",
      "\n",
      "    back_preening       0.33      0.42      0.37       112\n",
      "        body_pump       0.00      0.00      0.00         0\n",
      "           eating       0.00      0.00      0.00         0\n",
      " feather_clapping       0.36      0.96      0.52        91\n",
      "   front_preening       0.76      0.74      0.75      1753\n",
      "       head_shake       0.00      0.00      0.00        70\n",
      "scratch_with_feet       0.00      0.00      0.00       161\n",
      "         standing       0.00      0.00      0.00         0\n",
      " standing_shaking       0.00      0.00      0.00       401\n",
      "       tail_shake       0.89      0.31      0.46        77\n",
      "          walking       0.00      0.00      0.00         0\n",
      "\n",
      "         accuracy                           0.55      2665\n",
      "        macro avg       0.21      0.22      0.19      2665\n",
      "     weighted avg       0.55      0.55      0.54      2665\n",
      "\n",
      "========================================\n",
      "========================================\n",
      "418_500ms_gopro_cut_day1DLC_resnet50_goprovrJul24shuffle1_1030000.h5\n",
      "                   precision    recall  f1-score   support\n",
      "\n",
      "    back_preening       1.00      0.84      0.91      1438\n",
      "        body_pump       0.00      0.00      0.00         0\n",
      " feather_clapping       0.00      0.00      0.00         0\n",
      "   front_preening       0.28      0.77      0.42       232\n",
      "       head_shake       0.44      0.35      0.39        91\n",
      "scratch_with_feet       0.00      0.00      0.00       175\n",
      "         standing       0.00      0.00      0.00         0\n",
      "       tail_shake       0.96      0.63      0.76       240\n",
      "          walking       0.00      0.00      0.00         0\n",
      "\n",
      "         accuracy                           0.72      2176\n",
      "        macro avg       0.30      0.29      0.28      2176\n",
      "     weighted avg       0.81      0.72      0.74      2176\n",
      "\n",
      "========================================\n"
     ]
    },
    {
     "name": "stderr",
     "output_type": "stream",
     "text": [
      "[Parallel(n_jobs=1)]: Done 100 out of 100 | elapsed:    0.0s finished\n",
      "c:\\users\\kevin\\.virtualenvs\\winkie-tu0wptfo\\lib\\site-packages\\sklearn\\metrics\\_classification.py:1245: UndefinedMetricWarning: Recall and F-score are ill-defined and being set to 0.0 in labels with no true samples. Use `zero_division` parameter to control this behavior.\n",
      "  _warn_prf(average, modifier, msg_start, len(result))\n",
      "c:\\users\\kevin\\.virtualenvs\\winkie-tu0wptfo\\lib\\site-packages\\sklearn\\metrics\\_classification.py:1245: UndefinedMetricWarning: Recall and F-score are ill-defined and being set to 0.0 in labels with no true samples. Use `zero_division` parameter to control this behavior.\n",
      "  _warn_prf(average, modifier, msg_start, len(result))\n",
      "c:\\users\\kevin\\.virtualenvs\\winkie-tu0wptfo\\lib\\site-packages\\sklearn\\metrics\\_classification.py:1245: UndefinedMetricWarning: Recall and F-score are ill-defined and being set to 0.0 in labels with no true samples. Use `zero_division` parameter to control this behavior.\n",
      "  _warn_prf(average, modifier, msg_start, len(result))\n"
     ]
    }
   ],
   "source": [
    "test_files = [\n",
    "    \"233_monhab_gopro_cut_day1DLC_resnet50_goprovrJul24shuffle1_1030000.h5\",\n",
    "    \"877_100ms_gopro_cut_day3DLC_resnet50_goprovrJul24shuffle1_1030000.h5\",\n",
    "    \n",
    "    \"251_100ms_gopro_cut_day4DLC_resnet50_goprovrJul24shuffle1_1030000.h5\",\n",
    "    \"418_500ms_gopro_cut_day1DLC_resnet50_goprovrJul24shuffle1_1030000.h5\",\n",
    "]\n",
    "\n",
    "for test_file in test_files:\n",
    "    print(\"========================================\")\n",
    "    print(test_file)\n",
    "\n",
    "    df_233 = df[df['file_name'] == test_file]\n",
    "    x_233, y_233 = SlidingWindow(16, get_x=features, get_y='behavior', y_func=y_func)(df_233)\n",
    "    x_233 = x_233.reshape((-1, x_233.shape[1] * x_233.shape[2]))\n",
    "\n",
    "    predictions = clf_ts.predict(x_233)\n",
    "    print(classification_report(y_233, predictions))\n",
    "    print(\"========================================\")"
   ]
  },
  {
   "cell_type": "code",
   "execution_count": null,
   "id": "productive-hamburg",
   "metadata": {},
   "outputs": [
    {
     "data": {
      "text/plain": [
       "0.7811938956611022"
      ]
     },
     "execution_count": null,
     "metadata": {},
     "output_type": "execute_result"
    }
   ],
   "source": [
    "from sklearn.metrics import fbeta_score\n",
    "\n",
    "fbeta_score(y_233, predictions, average='weighted', beta=0.5)"
   ]
  },
  {
   "cell_type": "code",
   "execution_count": null,
   "id": "legislative-renewal",
   "metadata": {},
   "outputs": [],
   "source": []
  }
 ],
 "metadata": {
  "kernelspec": {
   "display_name": "Python 3",
   "language": "python",
   "name": "python3"
  }
 },
 "nbformat": 4,
 "nbformat_minor": 5
}
