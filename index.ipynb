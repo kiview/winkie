{
 "cells": [
  {
   "cell_type": "code",
   "execution_count": null,
   "metadata": {},
   "outputs": [],
   "source": [
    "#hide\n",
    "%load_ext autoreload\n",
    "%autoreload 2\n",
    "\n",
    "import winkie\n",
    "from winkie.dlc_importer import *"
   ]
  },
  {
   "cell_type": "markdown",
   "metadata": {},
   "source": [
    "# Winkie\n",
    "\n",
    "> AI/ML based behaviour classification of pigeon cooridnate data."
   ]
  },
  {
   "cell_type": "markdown",
   "metadata": {},
   "source": [
    "This file will become your README and also the index of your documentation."
   ]
  },
  {
   "cell_type": "markdown",
   "metadata": {},
   "source": [
    "## Install"
   ]
  },
  {
   "cell_type": "markdown",
   "metadata": {},
   "source": [
    "`pip install winkie`"
   ]
  },
  {
   "cell_type": "markdown",
   "metadata": {},
   "source": [
    "## How to use"
   ]
  },
  {
   "cell_type": "markdown",
   "metadata": {},
   "source": [
    "You can import stuff and transform it!"
   ]
  },
  {
   "cell_type": "code",
   "execution_count": null,
   "metadata": {},
   "outputs": [
    {
     "data": {
      "text/html": "<div>\n<style scoped>\n    .dataframe tbody tr th:only-of-type {\n        vertical-align: middle;\n    }\n\n    .dataframe tbody tr th {\n        vertical-align: top;\n    }\n\n    .dataframe thead tr th {\n        text-align: left;\n    }\n</style>\n<table border=\"1\" class=\"dataframe\">\n  <thead>\n    <tr>\n      <th>bodyparts</th>\n      <th colspan=\"3\" halign=\"left\">head</th>\n      <th colspan=\"3\" halign=\"left\">beak</th>\n      <th colspan=\"3\" halign=\"left\">left_neck</th>\n      <th>right_neck</th>\n      <th>...</th>\n      <th>b1</th>\n      <th colspan=\"3\" halign=\"left\">b2</th>\n      <th colspan=\"3\" halign=\"left\">b3</th>\n      <th colspan=\"3\" halign=\"left\">b4</th>\n    </tr>\n    <tr>\n      <th>coords</th>\n      <th>x</th>\n      <th>y</th>\n      <th>likelihood</th>\n      <th>x</th>\n      <th>y</th>\n      <th>likelihood</th>\n      <th>x</th>\n      <th>y</th>\n      <th>likelihood</th>\n      <th>x</th>\n      <th>...</th>\n      <th>likelihood</th>\n      <th>x</th>\n      <th>y</th>\n      <th>likelihood</th>\n      <th>x</th>\n      <th>y</th>\n      <th>likelihood</th>\n      <th>x</th>\n      <th>y</th>\n      <th>likelihood</th>\n    </tr>\n  </thead>\n  <tbody>\n    <tr>\n      <th>0</th>\n      <td>773.376465</td>\n      <td>231.518768</td>\n      <td>0.999999</td>\n      <td>726.495178</td>\n      <td>235.638046</td>\n      <td>0.999981</td>\n      <td>726.502014</td>\n      <td>277.634125</td>\n      <td>0.999998</td>\n      <td>803.271179</td>\n      <td>...</td>\n      <td>0.999986</td>\n      <td>731.942932</td>\n      <td>212.751831</td>\n      <td>0.999972</td>\n      <td>637.101440</td>\n      <td>275.546967</td>\n      <td>0.999044</td>\n      <td>720.761475</td>\n      <td>260.645416</td>\n      <td>0.004323</td>\n    </tr>\n    <tr>\n      <th>1</th>\n      <td>773.129822</td>\n      <td>231.487213</td>\n      <td>0.999999</td>\n      <td>725.662231</td>\n      <td>235.242844</td>\n      <td>0.999951</td>\n      <td>725.964478</td>\n      <td>278.003082</td>\n      <td>0.999999</td>\n      <td>803.197144</td>\n      <td>...</td>\n      <td>0.999984</td>\n      <td>732.492004</td>\n      <td>212.608414</td>\n      <td>0.999969</td>\n      <td>636.351440</td>\n      <td>274.908783</td>\n      <td>0.999068</td>\n      <td>720.861084</td>\n      <td>260.821045</td>\n      <td>0.003748</td>\n    </tr>\n    <tr>\n      <th>2</th>\n      <td>773.009827</td>\n      <td>231.793518</td>\n      <td>0.999999</td>\n      <td>726.025696</td>\n      <td>235.272522</td>\n      <td>0.999978</td>\n      <td>725.764893</td>\n      <td>278.884918</td>\n      <td>0.999998</td>\n      <td>802.567810</td>\n      <td>...</td>\n      <td>0.999989</td>\n      <td>732.367859</td>\n      <td>212.449570</td>\n      <td>0.999967</td>\n      <td>636.567993</td>\n      <td>275.915558</td>\n      <td>0.999465</td>\n      <td>721.077087</td>\n      <td>261.231415</td>\n      <td>0.003017</td>\n    </tr>\n    <tr>\n      <th>3</th>\n      <td>773.748779</td>\n      <td>231.791260</td>\n      <td>0.999999</td>\n      <td>726.288940</td>\n      <td>235.864319</td>\n      <td>0.999985</td>\n      <td>725.889465</td>\n      <td>279.045715</td>\n      <td>0.999998</td>\n      <td>803.356934</td>\n      <td>...</td>\n      <td>0.999988</td>\n      <td>732.378052</td>\n      <td>212.362946</td>\n      <td>0.999962</td>\n      <td>636.978821</td>\n      <td>276.222534</td>\n      <td>0.999626</td>\n      <td>721.093933</td>\n      <td>261.198242</td>\n      <td>0.004915</td>\n    </tr>\n    <tr>\n      <th>4</th>\n      <td>774.934326</td>\n      <td>231.623734</td>\n      <td>0.999999</td>\n      <td>726.298279</td>\n      <td>235.749908</td>\n      <td>0.999990</td>\n      <td>726.302551</td>\n      <td>278.388367</td>\n      <td>0.999999</td>\n      <td>802.530273</td>\n      <td>...</td>\n      <td>0.999991</td>\n      <td>732.364014</td>\n      <td>212.297073</td>\n      <td>0.999969</td>\n      <td>637.059021</td>\n      <td>276.169647</td>\n      <td>0.999717</td>\n      <td>720.964783</td>\n      <td>260.974213</td>\n      <td>0.003497</td>\n    </tr>\n    <tr>\n      <th>...</th>\n      <td>...</td>\n      <td>...</td>\n      <td>...</td>\n      <td>...</td>\n      <td>...</td>\n      <td>...</td>\n      <td>...</td>\n      <td>...</td>\n      <td>...</td>\n      <td>...</td>\n      <td>...</td>\n      <td>...</td>\n      <td>...</td>\n      <td>...</td>\n      <td>...</td>\n      <td>...</td>\n      <td>...</td>\n      <td>...</td>\n      <td>...</td>\n      <td>...</td>\n      <td>...</td>\n    </tr>\n    <tr>\n      <th>95</th>\n      <td>691.788513</td>\n      <td>232.490265</td>\n      <td>1.000000</td>\n      <td>673.796082</td>\n      <td>238.801743</td>\n      <td>0.018886</td>\n      <td>697.399841</td>\n      <td>282.134796</td>\n      <td>0.999998</td>\n      <td>737.725342</td>\n      <td>...</td>\n      <td>0.999981</td>\n      <td>729.320374</td>\n      <td>214.642715</td>\n      <td>0.999988</td>\n      <td>636.506165</td>\n      <td>275.310120</td>\n      <td>0.999486</td>\n      <td>742.268372</td>\n      <td>243.916214</td>\n      <td>0.001441</td>\n    </tr>\n    <tr>\n      <th>96</th>\n      <td>691.545410</td>\n      <td>232.707413</td>\n      <td>1.000000</td>\n      <td>673.634888</td>\n      <td>238.658234</td>\n      <td>0.016135</td>\n      <td>697.256165</td>\n      <td>283.058899</td>\n      <td>0.999999</td>\n      <td>736.505920</td>\n      <td>...</td>\n      <td>0.999983</td>\n      <td>729.624817</td>\n      <td>215.617279</td>\n      <td>0.999986</td>\n      <td>636.087585</td>\n      <td>275.022858</td>\n      <td>0.999226</td>\n      <td>741.823853</td>\n      <td>243.833771</td>\n      <td>0.001208</td>\n    </tr>\n    <tr>\n      <th>97</th>\n      <td>691.117371</td>\n      <td>232.242767</td>\n      <td>1.000000</td>\n      <td>673.748840</td>\n      <td>239.055954</td>\n      <td>0.007289</td>\n      <td>696.269043</td>\n      <td>282.351929</td>\n      <td>0.999999</td>\n      <td>735.976685</td>\n      <td>...</td>\n      <td>0.999982</td>\n      <td>729.727722</td>\n      <td>214.848831</td>\n      <td>0.999987</td>\n      <td>636.203613</td>\n      <td>275.289307</td>\n      <td>0.999269</td>\n      <td>741.812866</td>\n      <td>243.337326</td>\n      <td>0.000828</td>\n    </tr>\n    <tr>\n      <th>98</th>\n      <td>691.294067</td>\n      <td>232.225220</td>\n      <td>1.000000</td>\n      <td>673.927002</td>\n      <td>239.141891</td>\n      <td>0.004682</td>\n      <td>695.629456</td>\n      <td>282.407013</td>\n      <td>1.000000</td>\n      <td>735.639404</td>\n      <td>...</td>\n      <td>0.999983</td>\n      <td>729.409668</td>\n      <td>214.924347</td>\n      <td>0.999989</td>\n      <td>636.108765</td>\n      <td>274.952759</td>\n      <td>0.999238</td>\n      <td>987.140259</td>\n      <td>601.538696</td>\n      <td>0.000869</td>\n    </tr>\n    <tr>\n      <th>99</th>\n      <td>691.483643</td>\n      <td>232.269226</td>\n      <td>1.000000</td>\n      <td>673.797241</td>\n      <td>239.390625</td>\n      <td>0.010126</td>\n      <td>695.367371</td>\n      <td>281.720947</td>\n      <td>0.999999</td>\n      <td>735.199585</td>\n      <td>...</td>\n      <td>0.999981</td>\n      <td>729.390991</td>\n      <td>215.064926</td>\n      <td>0.999983</td>\n      <td>636.145447</td>\n      <td>274.386780</td>\n      <td>0.999225</td>\n      <td>742.091919</td>\n      <td>245.363281</td>\n      <td>0.000920</td>\n    </tr>\n  </tbody>\n</table>\n<p>100 rows × 60 columns</p>\n</div>",
      "text/plain": "bodyparts        head                               beak              \\\ncoords              x           y likelihood           x           y   \n0          773.376465  231.518768   0.999999  726.495178  235.638046   \n1          773.129822  231.487213   0.999999  725.662231  235.242844   \n2          773.009827  231.793518   0.999999  726.025696  235.272522   \n3          773.748779  231.791260   0.999999  726.288940  235.864319   \n4          774.934326  231.623734   0.999999  726.298279  235.749908   \n..                ...         ...        ...         ...         ...   \n95         691.788513  232.490265   1.000000  673.796082  238.801743   \n96         691.545410  232.707413   1.000000  673.634888  238.658234   \n97         691.117371  232.242767   1.000000  673.748840  239.055954   \n98         691.294067  232.225220   1.000000  673.927002  239.141891   \n99         691.483643  232.269226   1.000000  673.797241  239.390625   \n\nbodyparts              left_neck                         right_neck  ...  \\\ncoords    likelihood           x           y likelihood           x  ...   \n0           0.999981  726.502014  277.634125   0.999998  803.271179  ...   \n1           0.999951  725.964478  278.003082   0.999999  803.197144  ...   \n2           0.999978  725.764893  278.884918   0.999998  802.567810  ...   \n3           0.999985  725.889465  279.045715   0.999998  803.356934  ...   \n4           0.999990  726.302551  278.388367   0.999999  802.530273  ...   \n..               ...         ...         ...        ...         ...  ...   \n95          0.018886  697.399841  282.134796   0.999998  737.725342  ...   \n96          0.016135  697.256165  283.058899   0.999999  736.505920  ...   \n97          0.007289  696.269043  282.351929   0.999999  735.976685  ...   \n98          0.004682  695.629456  282.407013   1.000000  735.639404  ...   \n99          0.010126  695.367371  281.720947   0.999999  735.199585  ...   \n\nbodyparts         b1          b2                                 b3  \\\ncoords    likelihood           x           y likelihood           x   \n0           0.999986  731.942932  212.751831   0.999972  637.101440   \n1           0.999984  732.492004  212.608414   0.999969  636.351440   \n2           0.999989  732.367859  212.449570   0.999967  636.567993   \n3           0.999988  732.378052  212.362946   0.999962  636.978821   \n4           0.999991  732.364014  212.297073   0.999969  637.059021   \n..               ...         ...         ...        ...         ...   \n95          0.999981  729.320374  214.642715   0.999988  636.506165   \n96          0.999983  729.624817  215.617279   0.999986  636.087585   \n97          0.999982  729.727722  214.848831   0.999987  636.203613   \n98          0.999983  729.409668  214.924347   0.999989  636.108765   \n99          0.999981  729.390991  215.064926   0.999983  636.145447   \n\nbodyparts                                 b4                         \ncoords              y likelihood           x           y likelihood  \n0          275.546967   0.999044  720.761475  260.645416   0.004323  \n1          274.908783   0.999068  720.861084  260.821045   0.003748  \n2          275.915558   0.999465  721.077087  261.231415   0.003017  \n3          276.222534   0.999626  721.093933  261.198242   0.004915  \n4          276.169647   0.999717  720.964783  260.974213   0.003497  \n..                ...        ...         ...         ...        ...  \n95         275.310120   0.999486  742.268372  243.916214   0.001441  \n96         275.022858   0.999226  741.823853  243.833771   0.001208  \n97         275.289307   0.999269  741.812866  243.337326   0.000828  \n98         274.952759   0.999238  987.140259  601.538696   0.000869  \n99         274.386780   0.999225  742.091919  245.363281   0.000920  \n\n[100 rows x 60 columns]"
     },
     "metadata": {},
     "output_type": "display_data"
    },
    {
     "data": {
      "text/html": "<div>\n<style scoped>\n    .dataframe tbody tr th:only-of-type {\n        vertical-align: middle;\n    }\n\n    .dataframe tbody tr th {\n        vertical-align: top;\n    }\n\n    .dataframe thead tr th {\n        text-align: left;\n    }\n</style>\n<table border=\"1\" class=\"dataframe\">\n  <thead>\n    <tr>\n      <th>bodyparts</th>\n      <th colspan=\"3\" halign=\"left\">head</th>\n      <th colspan=\"3\" halign=\"left\">beak</th>\n      <th colspan=\"3\" halign=\"left\">left_neck</th>\n      <th>right_neck</th>\n      <th>...</th>\n      <th>b1</th>\n      <th colspan=\"3\" halign=\"left\">b2</th>\n      <th colspan=\"3\" halign=\"left\">b3</th>\n      <th colspan=\"3\" halign=\"left\">b4</th>\n    </tr>\n    <tr>\n      <th>coords</th>\n      <th>x</th>\n      <th>y</th>\n      <th>likelihood</th>\n      <th>x</th>\n      <th>y</th>\n      <th>likelihood</th>\n      <th>x</th>\n      <th>y</th>\n      <th>likelihood</th>\n      <th>x</th>\n      <th>...</th>\n      <th>likelihood</th>\n      <th>x</th>\n      <th>y</th>\n      <th>likelihood</th>\n      <th>x</th>\n      <th>y</th>\n      <th>likelihood</th>\n      <th>x</th>\n      <th>y</th>\n      <th>likelihood</th>\n    </tr>\n  </thead>\n  <tbody>\n    <tr>\n      <th>0</th>\n      <td>-30.632080</td>\n      <td>-119.150818</td>\n      <td>0.999999</td>\n      <td>-77.513367</td>\n      <td>-115.031540</td>\n      <td>0.999981</td>\n      <td>-77.506531</td>\n      <td>-73.035461</td>\n      <td>0.999998</td>\n      <td>-0.737366</td>\n      <td>...</td>\n      <td>0.999986</td>\n      <td>-72.065613</td>\n      <td>-137.917755</td>\n      <td>0.999972</td>\n      <td>-166.907104</td>\n      <td>-75.122620</td>\n      <td>0.999044</td>\n      <td>-83.247070</td>\n      <td>-90.024170</td>\n      <td>0.004323</td>\n    </tr>\n    <tr>\n      <th>1</th>\n      <td>-29.554443</td>\n      <td>-113.534241</td>\n      <td>0.999999</td>\n      <td>-77.022034</td>\n      <td>-109.778610</td>\n      <td>0.999951</td>\n      <td>-76.719788</td>\n      <td>-67.018372</td>\n      <td>0.999999</td>\n      <td>0.512878</td>\n      <td>...</td>\n      <td>0.999984</td>\n      <td>-70.192261</td>\n      <td>-132.413040</td>\n      <td>0.999969</td>\n      <td>-166.332825</td>\n      <td>-70.112671</td>\n      <td>0.999068</td>\n      <td>-81.823181</td>\n      <td>-84.200409</td>\n      <td>0.003748</td>\n    </tr>\n    <tr>\n      <th>2</th>\n      <td>-28.521240</td>\n      <td>-118.143829</td>\n      <td>0.999999</td>\n      <td>-75.505371</td>\n      <td>-114.664825</td>\n      <td>0.999978</td>\n      <td>-75.766174</td>\n      <td>-71.052429</td>\n      <td>0.999998</td>\n      <td>1.036743</td>\n      <td>...</td>\n      <td>0.999989</td>\n      <td>-69.163208</td>\n      <td>-137.487778</td>\n      <td>0.999967</td>\n      <td>-164.963074</td>\n      <td>-74.021790</td>\n      <td>0.999465</td>\n      <td>-80.453979</td>\n      <td>-88.705933</td>\n      <td>0.003017</td>\n    </tr>\n    <tr>\n      <th>3</th>\n      <td>-29.044128</td>\n      <td>-118.884583</td>\n      <td>0.999999</td>\n      <td>-76.503967</td>\n      <td>-114.811523</td>\n      <td>0.999985</td>\n      <td>-76.903442</td>\n      <td>-71.630127</td>\n      <td>0.999998</td>\n      <td>0.564026</td>\n      <td>...</td>\n      <td>0.999988</td>\n      <td>-70.414856</td>\n      <td>-138.312897</td>\n      <td>0.999962</td>\n      <td>-165.814087</td>\n      <td>-74.453308</td>\n      <td>0.999626</td>\n      <td>-81.698975</td>\n      <td>-89.477600</td>\n      <td>0.004915</td>\n    </tr>\n    <tr>\n      <th>4</th>\n      <td>-28.725647</td>\n      <td>-119.646011</td>\n      <td>0.999999</td>\n      <td>-77.361694</td>\n      <td>-115.519836</td>\n      <td>0.999990</td>\n      <td>-77.357422</td>\n      <td>-72.881378</td>\n      <td>0.999999</td>\n      <td>-1.129700</td>\n      <td>...</td>\n      <td>0.999991</td>\n      <td>-71.295959</td>\n      <td>-138.972672</td>\n      <td>0.999969</td>\n      <td>-166.600952</td>\n      <td>-75.100098</td>\n      <td>0.999717</td>\n      <td>-82.695190</td>\n      <td>-90.295532</td>\n      <td>0.003497</td>\n    </tr>\n    <tr>\n      <th>...</th>\n      <td>...</td>\n      <td>...</td>\n      <td>...</td>\n      <td>...</td>\n      <td>...</td>\n      <td>...</td>\n      <td>...</td>\n      <td>...</td>\n      <td>...</td>\n      <td>...</td>\n      <td>...</td>\n      <td>...</td>\n      <td>...</td>\n      <td>...</td>\n      <td>...</td>\n      <td>...</td>\n      <td>...</td>\n      <td>...</td>\n      <td>...</td>\n      <td>...</td>\n      <td>...</td>\n    </tr>\n    <tr>\n      <th>95</th>\n      <td>-96.228943</td>\n      <td>-105.422729</td>\n      <td>1.000000</td>\n      <td>-114.221375</td>\n      <td>-99.111252</td>\n      <td>0.018886</td>\n      <td>-90.617615</td>\n      <td>-55.778198</td>\n      <td>0.999998</td>\n      <td>-50.292114</td>\n      <td>...</td>\n      <td>0.999981</td>\n      <td>-58.697083</td>\n      <td>-123.270279</td>\n      <td>0.999988</td>\n      <td>-151.511292</td>\n      <td>-62.602875</td>\n      <td>0.999486</td>\n      <td>-45.749084</td>\n      <td>-93.996780</td>\n      <td>0.001441</td>\n    </tr>\n    <tr>\n      <th>96</th>\n      <td>-96.788635</td>\n      <td>-107.204330</td>\n      <td>1.000000</td>\n      <td>-114.699158</td>\n      <td>-101.253510</td>\n      <td>0.016135</td>\n      <td>-91.077881</td>\n      <td>-56.852844</td>\n      <td>0.999999</td>\n      <td>-51.828125</td>\n      <td>...</td>\n      <td>0.999983</td>\n      <td>-58.709229</td>\n      <td>-124.294464</td>\n      <td>0.999986</td>\n      <td>-152.246460</td>\n      <td>-64.888885</td>\n      <td>0.999226</td>\n      <td>-46.510193</td>\n      <td>-96.077972</td>\n      <td>0.001208</td>\n    </tr>\n    <tr>\n      <th>97</th>\n      <td>-94.509094</td>\n      <td>-106.319061</td>\n      <td>1.000000</td>\n      <td>-111.877625</td>\n      <td>-99.505875</td>\n      <td>0.007289</td>\n      <td>-89.357422</td>\n      <td>-56.209900</td>\n      <td>0.999999</td>\n      <td>-49.649780</td>\n      <td>...</td>\n      <td>0.999982</td>\n      <td>-55.898743</td>\n      <td>-123.712997</td>\n      <td>0.999987</td>\n      <td>-149.422852</td>\n      <td>-63.272522</td>\n      <td>0.999269</td>\n      <td>-43.813599</td>\n      <td>-95.224503</td>\n      <td>0.000828</td>\n    </tr>\n    <tr>\n      <th>98</th>\n      <td>-94.717896</td>\n      <td>-106.295471</td>\n      <td>1.000000</td>\n      <td>-112.084961</td>\n      <td>-99.378799</td>\n      <td>0.004682</td>\n      <td>-90.382507</td>\n      <td>-56.113678</td>\n      <td>1.000000</td>\n      <td>-50.372559</td>\n      <td>...</td>\n      <td>0.999983</td>\n      <td>-56.602295</td>\n      <td>-123.596344</td>\n      <td>0.999989</td>\n      <td>-149.903198</td>\n      <td>-63.567932</td>\n      <td>0.999238</td>\n      <td>201.128296</td>\n      <td>263.018005</td>\n      <td>0.000869</td>\n    </tr>\n    <tr>\n      <th>99</th>\n      <td>-93.799133</td>\n      <td>-105.807861</td>\n      <td>1.000000</td>\n      <td>-111.485535</td>\n      <td>-98.686462</td>\n      <td>0.010126</td>\n      <td>-89.915405</td>\n      <td>-56.356140</td>\n      <td>0.999999</td>\n      <td>-50.083191</td>\n      <td>...</td>\n      <td>0.999981</td>\n      <td>-55.891785</td>\n      <td>-123.012161</td>\n      <td>0.999983</td>\n      <td>-149.137329</td>\n      <td>-63.690308</td>\n      <td>0.999225</td>\n      <td>-43.190857</td>\n      <td>-92.713806</td>\n      <td>0.000920</td>\n    </tr>\n  </tbody>\n</table>\n<p>100 rows × 60 columns</p>\n</div>",
      "text/plain": "bodyparts       head                               beak              \\\ncoords             x           y likelihood           x           y   \n0         -30.632080 -119.150818   0.999999  -77.513367 -115.031540   \n1         -29.554443 -113.534241   0.999999  -77.022034 -109.778610   \n2         -28.521240 -118.143829   0.999999  -75.505371 -114.664825   \n3         -29.044128 -118.884583   0.999999  -76.503967 -114.811523   \n4         -28.725647 -119.646011   0.999999  -77.361694 -115.519836   \n..               ...         ...        ...         ...         ...   \n95        -96.228943 -105.422729   1.000000 -114.221375  -99.111252   \n96        -96.788635 -107.204330   1.000000 -114.699158 -101.253510   \n97        -94.509094 -106.319061   1.000000 -111.877625  -99.505875   \n98        -94.717896 -106.295471   1.000000 -112.084961  -99.378799   \n99        -93.799133 -105.807861   1.000000 -111.485535  -98.686462   \n\nbodyparts             left_neck                       right_neck  ...  \\\ncoords    likelihood          x          y likelihood          x  ...   \n0           0.999981 -77.506531 -73.035461   0.999998  -0.737366  ...   \n1           0.999951 -76.719788 -67.018372   0.999999   0.512878  ...   \n2           0.999978 -75.766174 -71.052429   0.999998   1.036743  ...   \n3           0.999985 -76.903442 -71.630127   0.999998   0.564026  ...   \n4           0.999990 -77.357422 -72.881378   0.999999  -1.129700  ...   \n..               ...        ...        ...        ...        ...  ...   \n95          0.018886 -90.617615 -55.778198   0.999998 -50.292114  ...   \n96          0.016135 -91.077881 -56.852844   0.999999 -51.828125  ...   \n97          0.007289 -89.357422 -56.209900   0.999999 -49.649780  ...   \n98          0.004682 -90.382507 -56.113678   1.000000 -50.372559  ...   \n99          0.010126 -89.915405 -56.356140   0.999999 -50.083191  ...   \n\nbodyparts         b1         b2                                 b3             \\\ncoords    likelihood          x           y likelihood           x          y   \n0           0.999986 -72.065613 -137.917755   0.999972 -166.907104 -75.122620   \n1           0.999984 -70.192261 -132.413040   0.999969 -166.332825 -70.112671   \n2           0.999989 -69.163208 -137.487778   0.999967 -164.963074 -74.021790   \n3           0.999988 -70.414856 -138.312897   0.999962 -165.814087 -74.453308   \n4           0.999991 -71.295959 -138.972672   0.999969 -166.600952 -75.100098   \n..               ...        ...         ...        ...         ...        ...   \n95          0.999981 -58.697083 -123.270279   0.999988 -151.511292 -62.602875   \n96          0.999983 -58.709229 -124.294464   0.999986 -152.246460 -64.888885   \n97          0.999982 -55.898743 -123.712997   0.999987 -149.422852 -63.272522   \n98          0.999983 -56.602295 -123.596344   0.999989 -149.903198 -63.567932   \n99          0.999981 -55.891785 -123.012161   0.999983 -149.137329 -63.690308   \n\nbodyparts                     b4                         \ncoords    likelihood           x           y likelihood  \n0           0.999044  -83.247070  -90.024170   0.004323  \n1           0.999068  -81.823181  -84.200409   0.003748  \n2           0.999465  -80.453979  -88.705933   0.003017  \n3           0.999626  -81.698975  -89.477600   0.004915  \n4           0.999717  -82.695190  -90.295532   0.003497  \n..               ...         ...         ...        ...  \n95          0.999486  -45.749084  -93.996780   0.001441  \n96          0.999226  -46.510193  -96.077972   0.001208  \n97          0.999269  -43.813599  -95.224503   0.000828  \n98          0.999238  201.128296  263.018005   0.000869  \n99          0.999225  -43.190857  -92.713806   0.000920  \n\n[100 rows x 60 columns]"
     },
     "metadata": {},
     "output_type": "display_data"
    }
   ],
   "source": [
    "imp = DLCImporter()\n",
    "df = imp.import_hdf('example_data/coordinates.h5')\n",
    "display(df)\n",
    "\n",
    "df_rel = winkie.dlc_importer.transform_to_relative(df, 'body')\n",
    "display(df_rel)"
   ]
  },
  {
   "cell_type": "markdown",
   "metadata": {},
   "source": [
    "## Development\n",
    "\n",
    "\n",
    "This project uses [nbdev](https://github.com/fastai/nbdev) for development.\n",
    "A regular workflow involves running the following commands in order:\n",
    "\n",
    "```bash\n",
    "nbdev_build_lib\n",
    "nbdev_test_nbs\n",
    "nbdev_build_docs\n",
    "```\n",
    "\n",
    "We also provide a convenient wrapper script:\n",
    "```\n",
    "./nbdev_build.sh\n",
    "```\n",
    "\n",
    "### Development Environment\n",
    "\n",
    "The development environment can be created using [pipenv](https://pypi.org/project/pipenv/).\n",
    "A corresponding `Pipfile` is provided, check the *Pipenv* documentation on how to use it.\n",
    "\n",
    "There are a couple of tools pre-installed, such as Jupyter, etc..\n",
    "\n",
    "Besides installing the development environment, the actual dependencies are managed by `nbdev` through Python's `setuptools` and defined in the `settings.ini` file, under the `requirements` key. \n",
    "In order to install them into your environment (ideally the environment created by *Pipenv*), just use the regular `setuptools` facilities:\n",
    "```\n",
    "pip install -e .\n",
    "```"
   ]
  },
  {
   "cell_type": "code",
   "execution_count": null,
   "metadata": {},
   "outputs": [],
   "source": []
  }
 ],
 "metadata": {
  "kernelspec": {
   "display_name": "Python 3",
   "language": "python",
   "name": "python3"
  }
 },
 "nbformat": 4,
 "nbformat_minor": 4
}
