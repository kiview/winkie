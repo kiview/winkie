{
 "cells": [
  {
   "cell_type": "code",
   "execution_count": 1,
   "id": "879aa345",
   "metadata": {},
   "outputs": [],
   "source": [
    "import pandas as pd"
   ]
  },
  {
   "cell_type": "code",
   "execution_count": 15,
   "id": "1e17c891",
   "metadata": {},
   "outputs": [
    {
     "name": "stdout",
     "output_type": "stream",
     "text": [
      "Number of frames: 10424241\n",
      "Number of frames after dropping non-labelled frames: 865548\n"
     ]
    }
   ],
   "source": [
    "# The data that were used in the model can be found here: https://osf.io/7mceh/\n",
    "\n",
    "df = pd.read_hdf(\"merged_20210405.h5\")\n",
    "print(f\"Number of frames: {len(df)}\")\n",
    "df = df[(df['behavior'] != \"not_defined\")] # not_defined are unlabelled majority classes\n",
    "print(f\"Number of frames after dropping non-labelled frames: {len(df)}\")\n",
    "\n",
    "df.loc[(df['behavior'] == \"back_preening\") | (df['behavior'] == \"front_preening\"), 'behavior'] = \"preening\"\n",
    "df.loc[(df['behavior'] == \"standing_shaking\") | (df['behavior'] == \"scratch_with_feet\"), 'behavior'] = \"standing\"\n",
    "df.loc[(df['behavior'] == \"body_pump\") | (df['behavior'] == \"feather_clapping\"), 'behavior'] = \"fluffing\""
   ]
  },
  {
   "cell_type": "markdown",
   "id": "ba4835ce",
   "metadata": {},
   "source": [
    "First 3 characters of the \"file_name\" column represents the pigeon number. We add on more columns to better represent pigeon ID in each fold"
   ]
  },
  {
   "cell_type": "code",
   "execution_count": 16,
   "id": "75153aaf",
   "metadata": {},
   "outputs": [],
   "source": [
    "df['pigeon_number'] = df.file_name.str.slice(0, 3)"
   ]
  },
  {
   "cell_type": "markdown",
   "id": "1fce9e54",
   "metadata": {},
   "source": [
    "In total 865548 frames were used. We used 5-fold non-shuffled cross validation. Therefore each fold had 173109 frames approximately.\n"
   ]
  },
  {
   "cell_type": "code",
   "execution_count": 17,
   "id": "718d3740",
   "metadata": {},
   "outputs": [
    {
     "data": {
      "text/plain": [
       "233    173109\n",
       "Name: pigeon_number, dtype: int64"
      ]
     },
     "execution_count": 17,
     "metadata": {},
     "output_type": "execute_result"
    }
   ],
   "source": [
    "# First fold: Pigeon 233\n",
    "df.iloc[0:173109]['pigeon_number'].value_counts()"
   ]
  },
  {
   "cell_type": "code",
   "execution_count": 18,
   "id": "b3c45f35",
   "metadata": {},
   "outputs": [
    {
     "data": {
      "text/plain": [
       "239    78976\n",
       "251    52017\n",
       "233    42116\n",
       "Name: pigeon_number, dtype: int64"
      ]
     },
     "execution_count": 18,
     "metadata": {},
     "output_type": "execute_result"
    }
   ],
   "source": [
    "# Second fold: Pigeon 233, Pigeon 239 and Pigeon 251\n",
    "df.iloc[173109:346218]['pigeon_number'].value_counts()"
   ]
  },
  {
   "cell_type": "code",
   "execution_count": 19,
   "id": "8a130841",
   "metadata": {},
   "outputs": [
    {
     "data": {
      "text/plain": [
       "251    101353\n",
       "877     43338\n",
       "876     15591\n",
       "418     12827\n",
       "Name: pigeon_number, dtype: int64"
      ]
     },
     "execution_count": 19,
     "metadata": {},
     "output_type": "execute_result"
    }
   ],
   "source": [
    "# Third fold: Pigeon 251, Pigeon 877, Pigeon 876, Pigeon 418\n",
    "df.iloc[346218:519327]['pigeon_number'].value_counts()"
   ]
  },
  {
   "cell_type": "code",
   "execution_count": 20,
   "id": "92421dbe",
   "metadata": {},
   "outputs": [
    {
     "data": {
      "text/plain": [
       "877    173109\n",
       "Name: pigeon_number, dtype: int64"
      ]
     },
     "execution_count": 20,
     "metadata": {},
     "output_type": "execute_result"
    }
   ],
   "source": [
    "# Fourth fold: Pigeon 877\n",
    "df.iloc[519327:692436]['pigeon_number'].value_counts()"
   ]
  },
  {
   "cell_type": "code",
   "execution_count": 21,
   "id": "46f9a1af",
   "metadata": {},
   "outputs": [
    {
     "data": {
      "text/plain": [
       "877    160589\n",
       "889     12042\n",
       "892       481\n",
       "Name: pigeon_number, dtype: int64"
      ]
     },
     "execution_count": 21,
     "metadata": {},
     "output_type": "execute_result"
    }
   ],
   "source": [
    "# Fifth fold: Pigeon 877, Pigeon 889, Pigeon 892\n",
    "df.iloc[692436:865548]['pigeon_number'].value_counts()"
   ]
  }
 ],
 "metadata": {
  "kernelspec": {
   "display_name": "Python 3 (ipykernel)",
   "language": "python",
   "name": "python3"
  },
  "language_info": {
   "codemirror_mode": {
    "name": "ipython",
    "version": 3
   },
   "file_extension": ".py",
   "mimetype": "text/x-python",
   "name": "python",
   "nbconvert_exporter": "python",
   "pygments_lexer": "ipython3",
   "version": "3.8.8"
  }
 },
 "nbformat": 4,
 "nbformat_minor": 5
}
